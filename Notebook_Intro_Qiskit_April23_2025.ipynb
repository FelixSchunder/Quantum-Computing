{
 "cells": [
  {
   "cell_type": "markdown",
   "id": "1f3fa8b1-6781-4649-b2bb-53ea4e055175",
   "metadata": {
    "tags": []
   },
   "source": [
    "# Getting Started with Qiskit\n",
    "\n",
    "\n",
    "A basic workflow in designing in a quantum program to solve a problem consists of four steps: \n",
    "\n",
    "1.  If applicable, map the problem you want to solve to a quantum-native format (qubits)\n",
    "\n",
    "2.  Build the circuit that solves the problem\n",
    "\n",
    "3.  Execute the circuit on a chosen backend\n",
    "\n",
    "4.  Analyze the results\n",
    "\n"
   ]
  },
  {
   "cell_type": "code",
   "execution_count": 1,
   "id": "4ecb8620-bfe8-4f6f-aa4f-7b2458c0ea00",
   "metadata": {
    "ExecuteTime": {
     "end_time": "2021-07-31T05:04:39.026081Z",
     "start_time": "2021-07-31T05:04:36.903090Z"
    }
   },
   "outputs": [],
   "source": [
    "import numpy as np\n",
    "from qiskit import *"
   ]
  },
  {
   "cell_type": "markdown",
   "id": "2ed548dc-8f71-40f8-bd61-3b2576def939",
   "metadata": {},
   "source": [
    "## Circuit Basics <a name='basics'></a>\n",
    "\n",
    "\n",
    "### Building the circuit\n",
    "\n",
    "The basic element needed for your first program is the QuantumCircuit.  We begin by creating a `QuantumCircuit` comprised of two qubits."
   ]
  },
  {
   "cell_type": "code",
   "execution_count": 18,
   "id": "9089129a-b6e6-4ef6-9b18-be88934a02f5",
   "metadata": {},
   "outputs": [],
   "source": [
    "# Create a Quantum Circuit with 2 qubits \n",
    "circuit = QuantumCircuit(4)"
   ]
  },
  {
   "cell_type": "markdown",
   "id": "0fb147ed-64d7-4663-9ab4-ac9c2d02226d",
   "metadata": {},
   "source": [
    "After you create the circuit with its registers, you can add gates (unitary operations) to manipulate the qubits. As you proceed through the tutorials you will find more gates and circuits; below is an example of a quantum circuit that makes a two-qubit Bell (EPR) state\n",
    "\n",
    "$$|\\psi\\rangle = \\left(|00\\rangle-|11\\rangle\\right)/\\sqrt{2}.$$\n",
    "\n",
    "To create such a state, we start with a two-qubit quantum register. By default, each qubit in the register is initialized to $|0\\rangle$. To make the Bell state, we apply the following gates:\n",
    "- A Hadamard gate $H$ on qubit 0, which puts it into the superposition state $\\left(|0\\rangle+|1\\rangle\\right)/\\sqrt{2}$.\n",
    "- A controlled-Not operation ($C{X}$ or $C{NOT}$) between qubit 0 and qubit 1.\n",
    "- A Z gate on qubit 1.\n",
    "\n",
    "On an ideal quantum computer, the state produced by running this circuit would be the Bell state above.\n",
    "\n",
    "In Qiskit, operations can be added to the circuit one by one, as shown below."
   ]
  },
  {
   "cell_type": "code",
   "execution_count": 25,
   "id": "ac61e7be-af7a-4d73-a29d-6c35f4c37dd4",
   "metadata": {},
   "outputs": [
    {
     "data": {
      "text/plain": [
       "<qiskit.circuit.instructionset.InstructionSet at 0x25a108e6ad0>"
      ]
     },
     "execution_count": 25,
     "metadata": {},
     "output_type": "execute_result"
    }
   ],
   "source": [
    "# Add a H gate on qubit #0\n",
    "circuit.h(0)\n",
    "\n",
    "# Add a CX (CNOT) gate with control qubit #0 and target qubit #1\n",
    "circuit.cx(0, 1)\n",
    "circuit.cx(0, 2)\n",
    "circuit.cx(0, 3)\n",
    "# Add a Z gate on qubit #1\n",
    "circuit.z(1)"
   ]
  },
  {
   "cell_type": "markdown",
   "id": "0c456230-20fa-48f1-8ea0-e72ddc765cec",
   "metadata": {},
   "source": [
    "## Visualize Circuit <a name='visualize'></a>\n",
    "\n",
    "You can visualize your circuit using Qiskit `\"circuit_name\".draw()`, which plots the circuit in the form found in many textbooks."
   ]
  },
  {
   "cell_type": "code",
   "execution_count": 26,
   "id": "afe51ac1-5dc1-4dda-b32b-c6ce8e2efc5c",
   "metadata": {},
   "outputs": [
    {
     "data": {
      "image/png": "[encoded data removed]",
      "text/plain": [
       "<Figure size 1541.66x367.889 with 1 Axes>"
      ]
     },
     "execution_count": 26,
     "metadata": {},
     "output_type": "execute_result"
    }
   ],
   "source": [
    "# Draw the circuit\n",
    "circuit.draw(output='mpl')"
   ]
  },
  {
   "cell_type": "markdown",
   "id": "f5659d27-f632-4f0b-b5ba-de1575ab13bb",
   "metadata": {},
   "source": [
    "<div class=\"alert alert-block alert-info\">\n",
    "\n",
    "Reminder: Qiskit SDK uses the \"LSb 0 bit numbering\" where the least significant bit (LSb) is on the right while the most significant bit is on the left.\n",
    "\n",
    "Consequence: when representing the state of a multi-qubit system, the tensor order used in Qiskit is different than that used in most physics textbooks. Suppose there are $n$ qubits, and qubit $j$ is labeled as $Q_{j}$. Qiskit uses an ordering in which the $n^{\\mathrm{th}}$ qubit is on the <em><strong>left</strong></em> side of the tensor product, so that the basis vectors are labeled as  $Q_{n-1}\\otimes \\cdots  \\otimes  Q_1\\otimes Q_0$.\n",
    "\n",
    "For example, if qubit zero is in state |0>, qubit 1 is in state |0>, and qubit 2 is in state |1>, Qiskit would represent this state as $|100\\rangle$, whereas many physics textbooks would represent it as $|001\\rangle$.\n",
    "\n",
    "This difference in labeling affects the way multi-qubit operations are represented as matrices. For example, Qiskit represents a controlled-X ($C_{X}$) operation with qubit 0 being the control and qubit 1 being the target as\n",
    "\n",
    "$$C_X = \\begin{pmatrix} 1 & 0 & 0 & 0 \\\\  0 & 0 & 0 & 1 \\\\ 0 & 0 & 1 & 0 \\\\ 0 & 1 & 0 & 0 \\\\\\end{pmatrix}.$$\n",
    "\n",
    " \n",
    "\n",
    "In the circuit representation, the 0-th qubit (left) is at the top and the n-th qubit (right) is at the bottom.\n",
    "</div>"
   ]
  },
  {
   "cell_type": "markdown",
   "id": "1eab59a8-4c61-45a6-ae8a-6bfbf556d666",
   "metadata": {},
   "source": [
    "In the circuit above, the qubits are put in order, with qubit #0 at the top and qubit #1 at the bottom. The circuit is read left to right (meaning that gates that are applied earlier in the circuit show up further to the left)."
   ]
  },
  {
   "cell_type": "markdown",
   "id": "b32cd226-e9cf-498d-b81d-6a7adf684ae6",
   "metadata": {},
   "source": [
    "## Simulating circuits using Qiskit Aer <a name='simulation'></a>\n",
    "\n",
    "Qiskit Aer is our package for simulating quantum circuits on classical computers. It provides many different backends for doing a simulation. \n",
    "\n",
    "For example:\n",
    "\n",
    "The`StatevectorSimulator()` backend returns the quantum state. \n",
    "\n",
    "The `UnitarySimulator()` backend returns matrix representing the succession of gates in the circuit (note that it is very memory-intensive!).\n",
    "\n",
    "The `QasmSimulator()` backend allows one to do measurements and simulates an actual quantum computation. Noise can also be included.\n",
    "\n",
    "The  `AerSimulator()` backend allows to do all of the above and the chosen purpose can be configured by setting (method='statevector' etc...)\n",
    "\n"
   ]
  },
  {
   "cell_type": "markdown",
   "id": "fb6273ce-0e44-4374-a75f-06c7a7cd3b0d",
   "metadata": {},
   "source": [
    "## Example: `StatevectorSimulator()` backend"
   ]
  },
  {
   "cell_type": "code",
   "execution_count": 5,
   "id": "38fcd1bf-5239-4e20-9d5d-3f894347b028",
   "metadata": {},
   "outputs": [],
   "source": [
    "# Note: you may need to first install qiskit-aer (e.g. with 'pip install qiskit-aer')\n",
    "\n",
    "from qiskit_aer import StatevectorSimulator\n",
    "backend = StatevectorSimulator()"
   ]
  },
  {
   "cell_type": "markdown",
   "id": "680946cd-31e4-4c2b-8ef3-3d5b0a4e6247",
   "metadata": {},
   "source": [
    "Now that we have chosen the backend, it's time to compile and run the quantum circuit. Qiskit provides the `run` function for this. ``run`` returns a ``job`` object that encapsulates information about the job submitted to the backend."
   ]
  },
  {
   "cell_type": "code",
   "execution_count": 6,
   "id": "f82d8e19-bf87-4c3c-b8f6-f5ab3508be68",
   "metadata": {
    "ExecuteTime": {
     "end_time": "2021-07-31T05:04:44.311305Z",
     "start_time": "2021-07-31T05:04:44.306416Z"
    }
   },
   "outputs": [],
   "source": [
    "# compile the circuit down to low-level StatevectorSimulator instructions supported by the backend (not needed for simple circuits)\n",
    "compiled_circuit = transpile(circuit, backend)\n",
    "\n",
    "# Execute the program \n",
    "job = backend.run(compiled_circuit)"
   ]
  },
  {
   "cell_type": "markdown",
   "id": "9206b234-602c-4b24-bdd3-ef67427a31ac",
   "metadata": {},
   "source": [
    "When you run a program, a job object is made that has the following two useful methods: \n",
    "`job.status()` and `job.result()`, which return the status of the job and a result object, respectively."
   ]
  },
  {
   "cell_type": "code",
   "execution_count": 7,
   "id": "61616be0-de66-464b-946b-6cf0f5a04d3d",
   "metadata": {
    "ExecuteTime": {
     "end_time": "2021-07-31T05:04:45.848031Z",
     "start_time": "2021-07-31T05:04:45.844758Z"
    }
   },
   "outputs": [
    {
     "data": {
      "text/plain": [
       "<JobStatus.DONE: 'job has successfully run'>"
      ]
     },
     "execution_count": 7,
     "metadata": {},
     "output_type": "execute_result"
    }
   ],
   "source": [
    "job.status()"
   ]
  },
  {
   "cell_type": "code",
   "execution_count": 8,
   "id": "5de39289-efaf-4455-b06f-5a5f8f5f7942",
   "metadata": {
    "ExecuteTime": {
     "end_time": "2021-07-31T05:04:45.848031Z",
     "start_time": "2021-07-31T05:04:45.844758Z"
    }
   },
   "outputs": [],
   "source": [
    "result = job.result()"
   ]
  },
  {
   "cell_type": "markdown",
   "id": "e7de845c-3a6c-4fcf-b110-7f931a33fa03",
   "metadata": {},
   "source": [
    "The result object contains the data and Qiskit provides the method \n",
    "`result.get_statevector(circuit)` to return the state vector for the quantum circuit."
   ]
  },
  {
   "cell_type": "code",
   "execution_count": 9,
   "id": "0179f7c3-e347-4cff-aff9-fc0dd8a975c7",
   "metadata": {
    "ExecuteTime": {
     "end_time": "2021-07-31T05:04:46.702758Z",
     "start_time": "2021-07-31T05:04:46.697846Z"
    }
   },
   "outputs": [
    {
     "name": "stdout",
     "output_type": "stream",
     "text": [
      "Statevector([ 0.70710678+0.j,  0.        +0.j, -0.        +0.j,\n",
      "             -0.70710678+0.j],\n",
      "            dims=(2, 2))\n"
     ]
    }
   ],
   "source": [
    "outputstate = result.get_statevector(compiled_circuit, decimals=8)\n",
    "print(outputstate)"
   ]
  },
  {
   "cell_type": "code",
   "execution_count": 10,
   "id": "10dcbde7-7e62-4228-b522-2602e203ae63",
   "metadata": {
    "ExecuteTime": {
     "end_time": "2021-07-31T05:04:46.702758Z",
     "start_time": "2021-07-31T05:04:46.697846Z"
    }
   },
   "outputs": [
    {
     "data": {
      "text/latex": [
       "$$\\frac{\\sqrt{2}}{2} |00\\rangle- \\frac{\\sqrt{2}}{2} |11\\rangle$$"
      ],
      "text/plain": [
       "<IPython.core.display.Latex object>"
      ]
     },
     "execution_count": 10,
     "metadata": {},
     "output_type": "execute_result"
    }
   ],
   "source": [
    "outputstate.draw(output='latex')"
   ]
  },
  {
   "cell_type": "markdown",
   "id": "3d5780a0-fc51-433a-91cd-44471a3bb5a1",
   "metadata": {},
   "source": [
    "## Example: `UnitarySimulator()` backend"
   ]
  },
  {
   "cell_type": "code",
   "execution_count": 11,
   "id": "eeb08461-b5e5-401b-9048-76d8d5834f5c",
   "metadata": {
    "ExecuteTime": {
     "end_time": "2021-07-31T05:04:46.702758Z",
     "start_time": "2021-07-31T05:04:46.697846Z"
    }
   },
   "outputs": [
    {
     "name": "stdout",
     "output_type": "stream",
     "text": [
      "Operator([[ 0.7071+0.j,  0.7071-0.j,  0.    +0.j,  0.    +0.j],\n",
      "          [ 0.    +0.j,  0.    +0.j,  0.7071+0.j, -0.7071+0.j],\n",
      "          [-0.    +0.j, -0.    +0.j, -0.7071+0.j, -0.7071+0.j],\n",
      "          [-0.7071+0.j,  0.7071-0.j, -0.    +0.j, -0.    +0.j]],\n",
      "         input_dims=(2, 2), output_dims=(2, 2))\n"
     ]
    }
   ],
   "source": [
    "from qiskit_aer import UnitarySimulator\n",
    "backend = UnitarySimulator()\n",
    "job = backend.run(circuit)\n",
    "result = job.result()\n",
    "unitary_mat = result.get_unitary(circuit,decimals=4)\n",
    "print(unitary_mat)"
   ]
  },
  {
   "cell_type": "markdown",
   "id": "3cbba766-2b44-4cd8-8e9d-bed4080fd95f",
   "metadata": {},
   "source": [
    "## Example: Measuring with ` QasmSimulator()` backend"
   ]
  },
  {
   "cell_type": "code",
   "execution_count": 12,
   "id": "4a2803cc-3ef2-47cb-8a27-c340bb2a9aca",
   "metadata": {},
   "outputs": [
    {
     "data": {
      "image/png": "[encoded data removed]",
      "text/plain": [
       "<Figure size 538.128x284.278 with 1 Axes>"
      ]
     },
     "execution_count": 12,
     "metadata": {},
     "output_type": "execute_result"
    }
   ],
   "source": [
    "# Create a Quantum Circuit with 2 qubits and 2 classical bits (to map the measurement results)\n",
    "circuitb = QuantumCircuit(2,2)\n",
    "\n",
    "#### ---\n",
    "\n",
    "# reconstruct the previous circuit creating the Bell state:\n",
    "# circuitb.h(0)\n",
    "# circuitb.cx(0, 1)\n",
    "# circuitb.z(1) \n",
    "\n",
    "# or, more compactly:\n",
    "circuitb = circuitb.compose(circuit, range(0, 2))\n",
    "\n",
    "#### --- \n",
    "\n",
    "# Measure and Map the quantum measurement to the classical bits\n",
    "circuitb.measure([0,1], [0,1])\n",
    "\n",
    "# Draw the circuit\n",
    "circuitb.draw(output='mpl')"
   ]
  },
  {
   "cell_type": "code",
   "execution_count": 13,
   "id": "87f32eae-ca42-4d3a-b189-f94693b8c34c",
   "metadata": {},
   "outputs": [],
   "source": [
    "# We'll run the program on the QasmSimulator\n",
    "\n",
    "from qiskit_aer import QasmSimulator\n",
    "backend = QasmSimulator()\n",
    "\n",
    "### You can also use the AerSimulator:\n",
    "# from qiskit_aer import AerSimulator\n",
    "# backend = AerSimulator(method='automatic')"
   ]
  },
  {
   "cell_type": "code",
   "execution_count": 14,
   "id": "91e4c803-4942-4424-8c8a-f83f5dc689ba",
   "metadata": {},
   "outputs": [],
   "source": [
    "# compile the circuit down to low-level QasmSimulator instructions supported by the backend \n",
    "compiled_circuit = transpile(circuitb, backend)\n",
    "\n",
    "# Execute the circuit on the QasmSimulator\n",
    "nshots = 1000\n",
    "job = backend.run(compiled_circuit, shots = nshots)\n",
    "\n",
    "# Grab measurement results from the job\n",
    "result = job.result()"
   ]
  },
  {
   "cell_type": "markdown",
   "id": "008d30f9-bd3e-4fbe-9e3f-2b4f2e831517",
   "metadata": {},
   "source": [
    "Once you have a result object, you can access the counts via the function `get_counts(circuit)`. This gives you the _aggregated_ binary outcomes of the circuit you submitted."
   ]
  },
  {
   "cell_type": "code",
   "execution_count": 15,
   "id": "9e48a569-5b86-4cd2-bee1-a4c9a2d8300c",
   "metadata": {},
   "outputs": [
    {
     "name": "stdout",
     "output_type": "stream",
     "text": [
      "\n",
      "Total count for 00 and 11 are: {'11': 481, '00': 519}\n"
     ]
    }
   ],
   "source": [
    "# Returns counts\n",
    "counts = result.get_counts(compiled_circuit)\n",
    "print(\"\\nTotal count for 00 and 11 are:\",counts)"
   ]
  },
  {
   "cell_type": "code",
   "execution_count": 16,
   "id": "3c56a6fa-08cc-4071-bbc3-d8ad72a6e7b1",
   "metadata": {},
   "outputs": [
    {
     "data": {
      "image/png": "[encoded data removed]",
      "text/plain": [
       "<Figure size 640x480 with 1 Axes>"
      ]
     },
     "execution_count": 16,
     "metadata": {},
     "output_type": "execute_result"
    }
   ],
   "source": [
    "from qiskit.visualization import plot_histogram\n",
    "# Plot a histogram\n",
    "plot_histogram(counts)"
   ]
  },
  {
   "cell_type": "markdown",
   "id": "137ac181-f9f5-4954-84dd-ffffeb5e3818",
   "metadata": {},
   "source": [
    "The estimated outcome probabilities $\\mathrm{Pr}(00)$ and  $\\mathrm{Pr}(11)$ are computed by taking the aggregate counts and dividing by the number of shots (times the circuit was repeated). Try changing the ``shots`` keyword in the ``run`` function and see how the estimated probabilities change."
   ]
  },
  {
   "cell_type": "code",
   "execution_count": 17,
   "id": "c7315f84-3d7b-4757-be7d-933331118d20",
   "metadata": {},
   "outputs": [
    {
     "name": "stdout",
     "output_type": "stream",
     "text": [
      "Probability of Result 00 = 51.9 %\n",
      "Probability of Result 11 = 48.1 %\n"
     ]
    }
   ],
   "source": [
    "Pr_00 = counts['00']/nshots\n",
    "Pr_11 = counts['11']/nshots\n",
    "\n",
    "print(\"Probability of Result 00 =\", Pr_00 * 100, '%')\n",
    "print(\"Probability of Result 11 =\", Pr_11 * 100, '%')"
   ]
  },
  {
   "cell_type": "markdown",
   "id": "54572597-ed59-4477-a892-b828278766b2",
   "metadata": {},
   "source": [
    "## Try it yourself: construct a circuit that creates a GHZ state and measures the qubits"
   ]
  },
  {
   "cell_type": "markdown",
   "id": "298ca4d9-e453-4d21-bd8e-39de60ff1afe",
   "metadata": {},
   "source": [
    "Construct the circuit that creates the following GHZ state:\n",
    "\n",
    "$$|GHZ\\rangle = \\left(|000\\rangle+|111\\rangle\\right)/\\sqrt{2} \\; ,$$\n",
    "\n",
    "and measures the three qubits.\n",
    "\n",
    "Execute it on the `QasmSimulator()` backend."
   ]
  }
 ],
 "metadata": {
  "kernelspec": {
   "display_name": "Python 3",
   "language": "python",
   "name": "python3"
  },
  "language_info": {
   "codemirror_mode": {
    "name": "ipython",
    "version": 3
   },
   "file_extension": ".py",
   "mimetype": "text/x-python",
   "name": "python",
   "nbconvert_exporter": "python",
   "pygments_lexer": "ipython3",
   "version": "3.12.10"
  },
  "widgets": {
   "application/vnd.jupyter.widget-state+json": {
    "state": {},
    "version_major": 2,
    "version_minor": 0
   }
  }
 },
 "nbformat": 4,
 "nbformat_minor": 5
}
