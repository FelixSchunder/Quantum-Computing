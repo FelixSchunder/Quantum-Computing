{
 "cells": [
  {
   "cell_type": "markdown",
   "metadata": {
    "tags": [
     "remove_cell"
    ]
   },
   "source": [
    "<h1 style=\"font-size:35px;\n",
    "        color:black;\n",
    "        \">Tutorial #2: Quantum Circuits Lab</h1>"
   ]
  },
  {
   "cell_type": "markdown",
   "metadata": {},
   "source": [
    "Prerequisite\n",
    "- [Qiskit basics](https://qiskit.org/documentation/tutorials/circuits/1_getting_started_with_qiskit.html)\n",
    "- [Ch.1.2 The Atoms of Computation](https://qiskit.org/textbook/ch-states/atoms-computation.html)\n",
    "\n",
    "Other relevant materials\n",
    "- [Access IBM Quantum Systems](https://qiskit.org/documentation/install.html#access-ibm-quantum-systems)\n",
    "- [IBM Quantum Systems Configuration](https://docs.quantum.ibm.com/guides/setup-channel)\n",
    "- [Transpile](https://qiskit.org/documentation/apidoc/transpiler.html)\n",
    "- [IBM Quantum account](https://login.ibm.com)\n",
    "- [Quantum Circuits](https://qiskit.org/documentation/apidoc/circuit.html)  "
   ]
  },
  {
   "cell_type": "code",
   "execution_count": null,
   "metadata": {},
   "outputs": [],
   "source": [
    "from qiskit import *\n",
    "from qiskit_aer import Aer\n",
    "import numpy as np"
   ]
  },
  {
   "cell_type": "markdown",
   "metadata": {},
   "source": [
    "<h2 style=\"font-size:24px;\">Part 1: Classical logic gates with quantum circuits</h2>\n",
    "\n",
    "<br>\n",
    "<div style=\"background: #E8E7EB; border-radius: 5px;\n",
    "-moz-border-radius: 5px;\">\n",
    "  <p style=\"background: #800080;\n",
    "            border-radius: 5px 5px 0px 0px;\n",
    "            padding: 10px 0px 10px 10px;\n",
    "            font-size:18px;\n",
    "            color:white;\n",
    "            \"><b>Goal</b></p>\n",
    "    <p style=\" padding: 0px 0px 10px 10px;\n",
    "              font-size:16px;\">Create quantum circuit functions that can compute the XOR, AND, NAND and OR gates using the NOT gate (expressed as x in Qiskit), the CNOT gate (expressed as cx in Qiskit) and the Toffoli gate (expressed as ccx in Qiskit) .</p>\n",
    "</div>\n",
    "\n",
    "An implementation of the `NOT` gate is provided as an example."
   ]
  },
  {
   "cell_type": "code",
   "execution_count": null,
   "metadata": {},
   "outputs": [],
   "source": [
    "def NOT(inp):\n",
    "    \"\"\"An NOT gate.\n",
    "    \n",
    "    Parameters:\n",
    "        inp (str): Input, encoded in qubit 0.\n",
    "        \n",
    "    Returns:\n",
    "        QuantumCircuit: Output NOT circuit.\n",
    "        str: Output value measured from qubit 0.\n",
    "    \"\"\"\n",
    "\n",
    "    qc = QuantumCircuit(1, 1) # A quantum circuit with a single qubit and a single classical bit\n",
    "    qc.reset(0)\n",
    "    \n",
    "    # We encode '0' as the qubit state |0⟩, and '1' as |1⟩\n",
    "    # Since the qubit is initially |0⟩, we don't need to do anything for an input of '0'\n",
    "    # For an input of '1', we do an x to rotate the |0⟩ to |1⟩\n",
    "    if inp=='1':\n",
    "        qc.x(0)\n",
    "        \n",
    "    # barrier between input state and gate operation \n",
    "    qc.barrier()\n",
    "    \n",
    "    # Now we've encoded the input, we can do a NOT on it using x\n",
    "    qc.x(0)\n",
    "    \n",
    "    #barrier between gate operation and measurement\n",
    "    qc.barrier()\n",
    "    \n",
    "    # Finally, we extract the |0⟩/|1⟩ output of the qubit and encode it in the bit c[0]\n",
    "    qc.measure(0,0)\n",
    "    qc.draw('mpl')\n",
    "    \n",
    "    # We'll run the program on a simulator\n",
    "    backend = Aer.get_backend('aer_simulator')\n",
    "    # Since the output will be deterministic, we can use just a single shot to get it\n",
    "    job = backend.run(qc, shots=1, memory=True)\n",
    "    output = job.result().get_memory()[0]\n",
    "    \n",
    "    return qc, output"
   ]
  },
  {
   "cell_type": "code",
   "execution_count": null,
   "metadata": {},
   "outputs": [],
   "source": [
    "## Test the function\n",
    "for inp in ['0', '1']:\n",
    "    qc, out = NOT(inp)\n",
    "    print('NOT with input',inp,'gives output',out)\n",
    "    display(qc.draw(output='mpl'))\n",
    "    print('\\n')"
   ]
  },
  {
   "cell_type": "markdown",
   "metadata": {},
   "source": [
    "<h3 style=\"font-size: 20px\">&#128211; XOR gate</h3>\n",
    "\n",
    "Takes two binary strings as input and gives one as output.\n",
    "\n",
    "The output is '0' when the inputs are equal and  '1' otherwise."
   ]
  },
  {
   "cell_type": "code",
   "execution_count": null,
   "metadata": {},
   "outputs": [],
   "source": [
    "def XOR(inp1,inp2):\n",
    "    \"\"\"An XOR gate.\n",
    "    \n",
    "    Parameters:\n",
    "        inpt1 (str): Input 1, encoded in qubit 0.\n",
    "        inpt2 (str): Input 2, encoded in qubit 1.\n",
    "        \n",
    "    Returns:\n",
    "        QuantumCircuit: Output XOR circuit.\n",
    "        str: Output value measured from qubit 1.\n",
    "    \"\"\"\n",
    "  \n",
    "    qc = QuantumCircuit(2, 1) \n",
    "    qc.reset(range(2))\n",
    "    \n",
    "    if inp1=='1':\n",
    "        qc.x(0)\n",
    "    if inp2=='1':\n",
    "        qc.x(1)\n",
    "    \n",
    "    # barrier between input state and gate operation \n",
    "    qc.barrier()\n",
    "    \n",
    "    # this is where your program for quantum XOR gate goes\n",
    "    \n",
    "    \n",
    "    \n",
    "    \n",
    "    \n",
    "    \n",
    "    \n",
    "    \n",
    "    # barrier between input state and gate operation \n",
    "    qc.barrier()\n",
    "    \n",
    "    qc.measure(1,0) # output from qubit 1 is measured\n",
    "  \n",
    "    #We'll run the program on a simulator\n",
    "    backend = Aer.get_backend('aer_simulator')\n",
    "    #Since the output will be deterministic, we can use just a single shot to get it\n",
    "    job = backend.run(qc, shots=1, memory=True)\n",
    "    output = job.result().get_memory()[0]\n",
    "  \n",
    "    return qc, output"
   ]
  },
  {
   "cell_type": "code",
   "execution_count": null,
   "metadata": {},
   "outputs": [],
   "source": [
    "## Test the function\n",
    "for inp1 in ['0', '1']:\n",
    "    for inp2 in ['0', '1']:\n",
    "        qc, output = XOR(inp1, inp2)\n",
    "        print('XOR with inputs',inp1,inp2,'gives output',output)\n",
    "        display(qc.draw('mpl'))\n",
    "        print('\\n')"
   ]
  },
  {
   "cell_type": "markdown",
   "metadata": {},
   "source": [
    "<h3 style=\"font-size: 20px\">&#128211; AND gate</h3>\n",
    "\n",
    "Takes two binary strings as input and gives one as output.\n",
    "\n",
    "The output is `'1'` only when both the inputs are `'1'`."
   ]
  },
  {
   "cell_type": "code",
   "execution_count": null,
   "metadata": {},
   "outputs": [],
   "source": [
    "def AND(inp1,inp2):\n",
    "    \"\"\"An AND gate.\n",
    "    \n",
    "    Parameters:\n",
    "        inpt1 (str): Input 1, encoded in qubit 0.\n",
    "        inpt2 (str): Input 2, encoded in qubit 1.\n",
    "        \n",
    "    Returns:\n",
    "        QuantumCircuit: Output XOR circuit.\n",
    "        str: Output value measured from qubit 2.\n",
    "    \"\"\"\n",
    "    qc = QuantumCircuit(3, 1) \n",
    "    qc.reset(range(2))\n",
    "  \n",
    "    if inp1=='1':\n",
    "        qc.x(0)\n",
    "    if inp2=='1':\n",
    "        qc.x(1)\n",
    "        \n",
    "    qc.barrier()\n",
    "\n",
    "    # this is where your program for quantum AND gate goes\n",
    "    \n",
    "    \n",
    "    \n",
    "    \n",
    "    \n",
    "    \n",
    "\n",
    "    qc.barrier()\n",
    "    qc.measure(2, 0) # output from qubit 2 is measured\n",
    "  \n",
    "    # We'll run the program on a simulator\n",
    "    backend = Aer.get_backend('aer_simulator')\n",
    "    # Since the output will be deterministic, we can use just a single shot to get it\n",
    "    job = backend.run(qc, shots=1, memory=True)\n",
    "    output = job.result().get_memory()[0]\n",
    "  \n",
    "    return qc, output"
   ]
  },
  {
   "cell_type": "code",
   "execution_count": null,
   "metadata": {},
   "outputs": [],
   "source": [
    "## Test the function\n",
    "for inp1 in ['0', '1']:\n",
    "    for inp2 in ['0', '1']:\n",
    "        qc, output = AND(inp1, inp2)\n",
    "        print('AND with inputs',inp1,inp2,'gives output',output)\n",
    "        display(qc.draw('mpl'))\n",
    "        print('\\n')"
   ]
  },
  {
   "cell_type": "markdown",
   "metadata": {},
   "source": [
    "<h3 style=\"font-size: 20px\">&#128211; NAND gate</h3>\n",
    "\n",
    "Takes two binary strings as input and gives one as output.\n",
    "\n",
    "The output is `'0'` only when both the inputs are `'1'`."
   ]
  },
  {
   "cell_type": "code",
   "execution_count": null,
   "metadata": {},
   "outputs": [],
   "source": [
    "def NAND(inp1,inp2):\n",
    "    \"\"\"An NAND gate.\n",
    "    \n",
    "    Parameters:\n",
    "        inpt1 (str): Input 1, encoded in qubit 0.\n",
    "        inpt2 (str): Input 2, encoded in qubit 1.\n",
    "        \n",
    "    Returns:\n",
    "        QuantumCircuit: Output NAND circuit.\n",
    "        str: Output value measured from qubit 2.\n",
    "    \"\"\"\n",
    "    \n",
    "    # this is where your program for quantum NAND gate goes\n",
    "    \n",
    "\n",
    "    \n",
    "    \n",
    "    \n",
    "    \n",
    "    \n",
    "    \n",
    "  \n",
    "    return qc, output"
   ]
  },
  {
   "cell_type": "code",
   "execution_count": null,
   "metadata": {},
   "outputs": [],
   "source": [
    "## Test the function\n",
    "for inp1 in ['0', '1']:\n",
    "    for inp2 in ['0', '1']:\n",
    "        qc, output = NAND(inp1, inp2)\n",
    "        print('NAND with inputs',inp1,inp2,'gives output',output)\n",
    "        display(qc.draw('mpl'))\n",
    "        print('\\n')"
   ]
  },
  {
   "cell_type": "markdown",
   "metadata": {},
   "source": [
    "<h3 style=\"font-size: 20px\">&#128211; OR gate</h3>\n",
    "\n",
    "Takes two binary strings as input and gives one as output.\n",
    "\n",
    "The output is '1' if either input is '1'."
   ]
  },
  {
   "cell_type": "code",
   "execution_count": null,
   "metadata": {},
   "outputs": [],
   "source": [
    "def OR(inp1,inp2):\n",
    "    \"\"\"An OR gate.\n",
    "    \n",
    "    Parameters:\n",
    "        inpt1 (str): Input 1, encoded in qubit 0.\n",
    "        inpt2 (str): Input 2, encoded in qubit 1.\n",
    "        \n",
    "    Returns:\n",
    "        QuantumCircuit: Output XOR circuit.\n",
    "        str: Output value measured from qubit 2.\n",
    "    \"\"\"\n",
    "   \n",
    "    # this is where your program for quantum OR gate goes\n",
    "   \n",
    "   \n",
    "   \n",
    "   \n",
    "   \n",
    "    return qc, output"
   ]
  },
  {
   "cell_type": "code",
   "execution_count": null,
   "metadata": {},
   "outputs": [],
   "source": [
    "## Test the function\n",
    "for inp1 in ['0', '1']:\n",
    "    for inp2 in ['0', '1']:\n",
    "        qc, output = OR(inp1, inp2)\n",
    "        print('OR with inputs',inp1,inp2,'gives output',output)\n",
    "        display(qc.draw('mpl'))\n",
    "        print('\\n')"
   ]
  },
  {
   "cell_type": "markdown",
   "metadata": {},
   "source": [
    "<h2 style=\"font-size:24px;\">Part 2: AND gate on Quantum Computer</h2>\n",
    "<br>\n",
    "<div style=\"background: #E8E7EB; border-radius: 5px;\n",
    "-moz-border-radius: 5px;\">\n",
    "  <p style=\"background: #800080;\n",
    "            border-radius: 5px 5px 0px 0px;\n",
    "            padding: 10px 0px 10px 10px;\n",
    "            font-size:18px;\n",
    "            color:white;\n",
    "            \"><b>Goal</b></p>\n",
    "    <p style=\" padding: 0px 0px 10px 10px;\n",
    "              font-size:16px;\">Execute AND gate on a real quantum system and learn how the noise properties affect the result.</p>\n",
    "</div>\n",
    "\n",
    "In Part 1 you made an `AND` gate from quantum gates, and executed it on the simulator.  Here in Part 2 we will do it again, but instead run the circuits on a real quantum computer.  When using a real quantum system, one thing you should keep in mind is that present day quantum computers are noisy.\n",
    "\n",
    "The 'noise' in a quantum system is the collective effects of all the things that should not happen, but nevertheless do (due to e.g. interaction with the environment). Noise results in errors in the output. There is noise associated with all processes in a quantum circuit: preparing the initial state, applying gates, and measuring qubits.  For the gates, noise levels can vary between different gates and between different qubits. `cx` gates are typically more noisy than any single qubit gate.\n",
    "\n",
    "Here we will use the quantum systems from the IBM Quantum Experience.  \n",
    "\n"
   ]
  },
  {
   "cell_type": "markdown",
   "metadata": {},
   "source": [
    "<h3 style=\"font-size: 20px\">Step 1. Choosing a device</h3>"
   ]
  },
  {
   "cell_type": "markdown",
   "metadata": {},
   "source": [
    "First load the account from the credentials saved on disk by running the following cell:"
   ]
  },
  {
   "cell_type": "code",
   "execution_count": null,
   "metadata": {
    "tags": [
     "uses-hardware"
    ]
   },
   "outputs": [],
   "source": [
    "from qiskit_ibm_runtime import QiskitRuntimeService\n",
    "service = QiskitRuntimeService()"
   ]
  },
  {
   "cell_type": "markdown",
   "metadata": {},
   "source": [
    "After your account is loaded, you can see the list of providers that you have access to by running the cell below. Each provider offers different systems for use. For open users, there is typically only one provider `ibm-q/open/main`:"
   ]
  },
  {
   "cell_type": "code",
   "execution_count": null,
   "metadata": {
    "tags": [
     "uses-hardware"
    ]
   },
   "outputs": [],
   "source": [
    "service.instances()"
   ]
  },
  {
   "cell_type": "markdown",
   "metadata": {},
   "source": [
    "The command, `service.backends( )` shows you the list of backends that are available to you."
   ]
  },
  {
   "cell_type": "code",
   "execution_count": null,
   "metadata": {
    "tags": [
     "uses-hardware"
    ]
   },
   "outputs": [],
   "source": [
    "service.backends()"
   ]
  },
  {
   "cell_type": "markdown",
   "metadata": {},
   "source": [
    "Among these options, you may pick one of the systems to run your circuits on.  All those labeled 'IBMBackend' are real quantum computers that you can use.  The differences among these systems resides in the number of qubits, their connectivity, and the system error rates.  \n",
    "\n",
    "Upon executing the following cell you will be presented with a widget that displays all of the information about your choice of the backend.  You can obtain information that you need by clicking on the tabs. For example, backend status, number of qubits and the connectivity are under `configuration` tab, where as the `Error Map` tab will reveal the latest noise information for the system. "
   ]
  },
  {
   "cell_type": "markdown",
   "metadata": {},
   "source": [
    "For our AND gate circuit, we need a backend with three or more qubits, which is true for all the real systems (in 2025 they all have at least 127 qubits).  Below is an example of how to filter backends, where we filter for number of qubits:"
   ]
  },
  {
   "cell_type": "code",
   "execution_count": null,
   "metadata": {
    "tags": [
     "uses-hardware"
    ]
   },
   "outputs": [],
   "source": [
    "backends = service.backends(min_num_qubits=3)\n",
    "\n",
    "backends"
   ]
  },
  {
   "cell_type": "markdown",
   "metadata": {},
   "source": [
    "One convenient way to choose a system is using the `least_busy` function to get the backend with the lowest number of jobs in queue.  The downside is that the result might have relatively poor accuracy because, not surprisingly, the lowest error rate systems are the most popular."
   ]
  },
  {
   "cell_type": "code",
   "execution_count": null,
   "metadata": {
    "tags": [
     "uses-hardware"
    ]
   },
   "outputs": [],
   "source": [
    "backend = service.least_busy(min_num_qubits=3)\n",
    "\n",
    "backend"
   ]
  },
  {
   "cell_type": "markdown",
   "metadata": {},
   "source": [
    "Real quantum computers need to be recalibrated regularly, and the fidelity of a specific qubit or gate can change over time. Therefore, which system would produce results with less error can vary. "
   ]
  },
  {
   "cell_type": "code",
   "execution_count": null,
   "metadata": {
    "tags": [
     "uses-hardware"
    ]
   },
   "outputs": [],
   "source": [
    "backend = service.backend('ibm_sherbrooke')"
   ]
  },
  {
   "cell_type": "markdown",
   "metadata": {},
   "source": [
    "<h3 style=\"font-size: 20px\">Step 2. Define AND function for a real device</h3>"
   ]
  },
  {
   "cell_type": "markdown",
   "metadata": {},
   "source": [
    "<h4 style=\"font-size: 16px\">Qiskit Transpiler</h4>"
   ]
  },
  {
   "cell_type": "markdown",
   "metadata": {},
   "source": [
    "It is important to know that when running a circuit on a real quantum computer, circuits typically need to be transpiled for the backend that you select so that the circuit contains only those gates that the quantum computer can actually perform. Primarily this involves the addition of swap gates so that two-qubit gates in the circuit map to those pairs of qubits on the device that can actually perform these gates. The following cell shows the AND gate represented as a Toffoli gate decomposed into single- and two-qubit gates, which are the only types of gate that can be run on IBM hardware."
   ]
  },
  {
   "cell_type": "code",
   "execution_count": null,
   "metadata": {},
   "outputs": [],
   "source": [
    "qc_and = QuantumCircuit(3)\n",
    "qc_and.ccx(0,1,2)\n",
    "print('AND gate')\n",
    "display(qc_and.draw('mpl'))\n",
    "print('\\n\\nTranspiled AND gate with all the required connectiviy')\n",
    "qc_and.decompose().draw('mpl')"
   ]
  },
  {
   "cell_type": "markdown",
   "metadata": {},
   "source": [
    "In addition, there are often optimizations that the transpiler can perform that reduce the overall gate count, and thus total length of the input circuits.  Note that the addition of swaps to match the device topology, and optimizations for reducing the length of a circuit are at odds with each other. In what follows we will make use of `initial_layout` that allows us to pick the qubits on a device used for the computation and `optimization_level`, an argument that allows selecting from internal defaults for circuit swap mapping and optimization methods to perform.\n",
    "\n",
    "You can learn more about transpile function in depth [here](https://qiskit.org/documentation/apidoc/transpiler.html)."
   ]
  },
  {
   "cell_type": "markdown",
   "metadata": {},
   "source": [
    "Let's modify AND function in Part1 properly for the real system with the transpile step included."
   ]
  },
  {
   "cell_type": "code",
   "execution_count": null,
   "metadata": {
    "tags": [
     "uses-hardware"
    ]
   },
   "outputs": [],
   "source": [
    "from qiskit_ibm_runtime import SamplerV2\n",
    "from qiskit_ibm_runtime import RuntimeJobV2"
   ]
  },
  {
   "cell_type": "code",
   "execution_count": null,
   "metadata": {
    "tags": [
     "uses-hardware"
    ]
   },
   "outputs": [],
   "source": [
    "# run the cell to define AND gate for real quantum system\n",
    "\n",
    "def AND(inp1, inp2, backend, layout, nshots):\n",
    "    \n",
    "    qc = QuantumCircuit(3, 1) \n",
    "    qc.reset(range(3))\n",
    "    \n",
    "    if inp1=='1':\n",
    "        qc.x(0)\n",
    "    if inp2=='1':\n",
    "        qc.x(1)\n",
    "        \n",
    "    qc.barrier()\n",
    "    qc.ccx(0, 1, 2) \n",
    "    qc.barrier()\n",
    "    qc.measure(2, 0) \n",
    "  \n",
    "    qc_trans = transpile(qc, backend, initial_layout=layout, optimization_level=3)\n",
    "    sampler = SamplerV2(mode=backend)\n",
    "    job = sampler.run([qc_trans], shots = nshots)\n",
    "\n",
    "    print(job.job_id())\n",
    "    \n",
    "    # check the status of the job ‘INITIALIZING’, ‘QUEUED’, ‘RUNNING’, ‘CANCELLED’, ‘DONE’, ‘ERROR’\n",
    "    print(job.status())\n",
    "    \n",
    "    result = job.result()\n",
    "\n",
    "    pub_result = result[0]\n",
    "\n",
    "    output = pub_result.join_data().get_counts()\n",
    "    \n",
    "    return qc_trans, output"
   ]
  },
  {
   "cell_type": "markdown",
   "metadata": {},
   "source": [
    "When you submit jobs to quantum systems, `status` will track where your submitted job is in the pipeline."
   ]
  },
  {
   "cell_type": "markdown",
   "metadata": {},
   "source": [
    "First, examine the chosen device through the widget by running the cell below."
   ]
  },
  {
   "cell_type": "code",
   "execution_count": null,
   "metadata": {
    "scrolled": true,
    "tags": []
   },
   "outputs": [],
   "source": [
    "backend"
   ]
  },
  {
   "cell_type": "markdown",
   "metadata": {},
   "source": [
    "<p>&#128211; Determine three qubit initial layout considering the error map and assign it to the list variable layout2.</p>"
   ]
  },
  {
   "cell_type": "code",
   "execution_count": null,
   "metadata": {},
   "outputs": [],
   "source": [
    "layout =[,,]"
   ]
  },
  {
   "cell_type": "markdown",
   "metadata": {},
   "source": [
    "<p>&#128211; Describe the reason for your choice of initial layout.</p>\n",
    "\n",
    "**your answer:**              "
   ]
  },
  {
   "cell_type": "markdown",
   "metadata": {},
   "source": [
    "<h3 style=\"font-size: 20px\">Step 3. Execute the AND gate on the real quantum computer</h3>"
   ]
  },
  {
   "cell_type": "markdown",
   "metadata": {},
   "source": [
    "Execute `AND` gate on the chosen backend (device) by running the cell below."
   ]
  },
  {
   "cell_type": "code",
   "execution_count": null,
   "metadata": {},
   "outputs": [],
   "source": [
    "output_all = []\n",
    "qc_trans_all = []\n",
    "prob_all = []\n",
    "nshots = 8000\n",
    "\n",
    "worst = 1\n",
    "best = 0\n",
    "for input1 in ['0','1']:\n",
    "    for input2 in ['0','1']:\n",
    "        qc_trans, output = AND(input1, input2, backend, layout, nshots)\n",
    "        \n",
    "        output_all.append(output)\n",
    "        qc_trans_all.append(qc_trans)\n",
    "        \n",
    "        prob = output[str(int( input1=='1' and input2=='1' ))]/nshots\n",
    "        prob_all.append(prob)\n",
    "        \n",
    "        print('\\nProbability of correct answer for inputs',input1,input2)\n",
    "        print('{:.2f}'.format(prob) )\n",
    "        print('---------------------------------')\n",
    "        \n",
    "        worst = min(worst,prob)\n",
    "        best = max(best, prob)\n",
    "        \n",
    "print('')\n",
    "print('\\nThe highest of these probabilities was {:.2f}'.format(best))\n",
    "print('The lowest of these probabilities was {:.2f}'.format(worst))"
   ]
  },
  {
   "cell_type": "code",
   "execution_count": null,
   "metadata": {},
   "outputs": [],
   "source": [
    "## To retrieve the results of the completed job (needed only if you disconnect from the server)\n",
    "#results = backend.retrieve_job('job_id').result()"
   ]
  },
  {
   "cell_type": "markdown",
   "metadata": {},
   "source": [
    "<h3 style=\"font-size: 20px\">Step 4. Interpret the result</h3>"
   ]
  },
  {
   "cell_type": "markdown",
   "metadata": {},
   "source": [
    "There are several quantities that distinguish the circuits.  Chief among them is the  **circuit depth**.  Circuit depth is defined in detail [here](https://qiskit.org/documentation/apidoc/circuit.html) (See the Supplementray Information and click the Quantum Circuit Properties tab). Circuit depth is proportional to the number of gates in a circuit, and loosly corresponds to the runtime of the circuit on hardware.   Therefore, circuit depth is an easy to compute metric that can be used to estimate the fidelity of an executed circuit.\n",
    "\n",
    "A second important value is the number of **multi-qubit gates** in a circuit.  On IBM Quantum systems, the only multi-qubit gate that can physically be performed is the CNOT gate.  Recall that CNOT gates are the most expensive gates to perform, and thus the total number of these gates also serves as a good benchmark for the accuracy of the final output."
   ]
  },
  {
   "cell_type": "markdown",
   "metadata": {},
   "source": [
    "<h4 style=\"font-size: 16px\"> Circuit depth and result accuracy</h4>"
   ]
  },
  {
   "cell_type": "markdown",
   "metadata": {},
   "source": [
    "Running the cells below will display the four transpiled AND gate circuit diagrams with the corresponding inputs that executed on the chosen backend and their circuit depths with the success probability for producing correct answer."
   ]
  },
  {
   "cell_type": "code",
   "execution_count": null,
   "metadata": {},
   "outputs": [],
   "source": [
    "print('Transpiled AND gate circuit for ibm_sherbrooke with input 0 0')\n",
    "print('\\nThe circuit depth : {}'.format (qc_trans_all[0].depth()))\n",
    "print('# of nonlocal gates : {}'.format (qc_trans_all[0].num_nonlocal_gates()))\n",
    "print('Probability of correct answer : {:.2f}'.format(prob_all[0]) )\n",
    "qc_trans_all[0].draw('mpl')"
   ]
  },
  {
   "cell_type": "code",
   "execution_count": null,
   "metadata": {},
   "outputs": [],
   "source": [
    "print('Transpiled AND gate circuit for ibm_sherbrooke with input 0 1')\n",
    "print('\\nThe circuit depth : {}'.format (qc_trans_all[1].depth()))\n",
    "print('# of nonlocal gates : {}'.format (qc_trans_all[1].num_nonlocal_gates()))\n",
    "print('Probability of correct answer : {:.2f}'.format(prob_all[1]) )\n",
    "qc_trans_all[1].draw('mpl')"
   ]
  },
  {
   "cell_type": "code",
   "execution_count": null,
   "metadata": {},
   "outputs": [],
   "source": [
    "print('Transpiled AND gate circuit for ibm_sherbrooke with input 1 0')\n",
    "print('\\nThe circuit depth : {}'.format (qc_trans_all[2].depth()))\n",
    "print('# of nonlocal gates : {}'.format (qc_trans_all[2].num_nonlocal_gates()))\n",
    "print('Probability of correct answer : {:.2f}'.format(prob_all[2]) )\n",
    "qc_trans_all[2].draw('mpl')"
   ]
  },
  {
   "cell_type": "code",
   "execution_count": null,
   "metadata": {},
   "outputs": [],
   "source": [
    "print('Transpiled AND gate circuit for ibm_sherbrooke with input 1 1')\n",
    "print('\\nThe circuit depth : {}'.format (qc_trans_all[3].depth()))\n",
    "print('# of nonlocal gates : {}'.format (qc_trans_all[3].num_nonlocal_gates()))\n",
    "print('Probability of correct answer : {:.2f}'.format(prob_all[3]) )\n",
    "qc_trans_all[3].draw('mpl')"
   ]
  },
  {
   "cell_type": "markdown",
   "metadata": {},
   "source": [
    "<p>&#128211; Explain reason for the disimmilarity of the circuits.  Descibe the relations between the property of the circuit and the accuracy of the outcomes.</p>"
   ]
  },
  {
   "cell_type": "markdown",
   "metadata": {},
   "source": [
    "**your answer:**"
   ]
  }
 ],
 "metadata": {
  "kernelspec": {
   "display_name": ".venv_tut",
   "language": "python",
   "name": "python3"
  },
  "language_info": {
   "codemirror_mode": {
    "name": "ipython",
    "version": 3
   },
   "file_extension": ".py",
   "mimetype": "text/x-python",
   "name": "python",
   "nbconvert_exporter": "python",
   "pygments_lexer": "ipython3",
   "version": "3.13.0"
  },
  "widgets": {
   "application/vnd.jupyter.widget-state+json": {
    "state": {
     "0001f38387f74156a6071009ca59f0cf": {
      "model_module": "@jupyter-widgets/base",
      "model_module_version": "2.0.0",
      "model_name": "LayoutModel",
      "state": {
       "grid_area": "right"
      }
     },
     "005a7d8704a34972882226ee39137f57": {
      "model_module": "@jupyter-widgets/base",
      "model_module_version": "2.0.0",
      "model_name": "LayoutModel",
      "state": {
       "max_width": "700px",
       "min_width": "700px"
      }
     },
     "00cf8012eed94dadb49a2128efd39356": {
      "model_module": "@jupyter-widgets/base",
      "model_module_version": "2.0.0",
      "model_name": "LayoutModel",
      "state": {
       "width": "145px"
      }
     },
     "00dc7540cb184435be872dbb0a94e334": {
      "model_module": "@jupyter-widgets/base",
      "model_module_version": "2.0.0",
      "model_name": "LayoutModel",
      "state": {
       "margin": "0px 0px 0px 0px"
      }
     },
     "02261a5edaa44b7d8275123524ad4afd": {
      "model_module": "@jupyter-widgets/controls",
      "model_module_version": "2.0.0",
      "model_name": "HTMLModel",
      "state": {
       "layout": "IPY_MODEL_257c210ff0d94114a61c0de8df24e7c6",
       "style": "IPY_MODEL_e6f778a6e45640709f420f294f05ea99",
       "value": "-"
      }
     },
     "031eb1870bc445d7b233ae041bb9e3ff": {
      "model_module": "@jupyter-widgets/controls",
      "model_module_version": "2.0.0",
      "model_name": "HTMLStyleModel",
      "state": {
       "description_width": "",
       "font_size": null,
       "text_color": null
      }
     },
     "04813dea47e74ca38290e9094df19475": {
      "model_module": "@jupyter-widgets/base",
      "model_module_version": "2.0.0",
      "model_name": "LayoutModel",
      "state": {
       "grid_gap": "0px 0px",
       "grid_template_areas": "\n                               \"left right right right\"\n                               \"bottom bottom bottom bottom\"\n                               ",
       "grid_template_columns": "31% 23% 23% 23%",
       "grid_template_rows": "auto auto"
      }
     },
     "04a63e500afe4c3c940e49926c234e11": {
      "model_module": "@jupyter-widgets/controls",
      "model_module_version": "2.0.0",
      "model_name": "TabModel",
      "state": {
       "children": [
        "IPY_MODEL_185e4e64075d4223b631e576be78743b",
        "IPY_MODEL_feac185d6df84e04a91f982a3bc5d3c2",
        "IPY_MODEL_f44227ae80b14577a0cf19e5e8f15f94",
        "IPY_MODEL_7026e2fde4c645858efa59d86715dfe2",
        "IPY_MODEL_ca0556a8d09f4bc4ab787bb833e4d184"
       ],
       "layout": "IPY_MODEL_8a87094b7804495da34bb6a04a371c29",
       "selected_index": 0,
       "titles": [
        "Configuration",
        "Qubit Properties",
        "Multi-Qubit Gates",
        "Error Map",
        "Job History"
       ]
      }
     },
     "04f8cb21ca7d495c866a0b7054f94a78": {
      "model_module": "@jupyter-widgets/controls",
      "model_module_version": "2.0.0",
      "model_name": "HTMLStyleModel",
      "state": {
       "description_width": "",
       "font_size": null,
       "text_color": null
      }
     },
     "051a1e38face4f399f46bb7d6a90607d": {
      "model_module": "@jupyter-widgets/controls",
      "model_module_version": "2.0.0",
      "model_name": "HTMLStyleModel",
      "state": {
       "description_width": "",
       "font_size": null,
       "text_color": null
      }
     },
     "05475c05fc3a4250bb08cf000da286f9": {
      "model_module": "@jupyter-widgets/controls",
      "model_module_version": "2.0.0",
      "model_name": "HTMLModel",
      "state": {
       "layout": "IPY_MODEL_c83936dcbc024da0b8df49743be38438",
       "style": "IPY_MODEL_f5c9c7dbaaf74b94a50dac59d665440e",
       "value": "<div><font style='font-weight:bold'>last_update_date</font>: Fri 21 April 2023 at 05:17 UTC</div>"
      }
     },
     "05659c26666b4afb92a3cbd16de98ddb": {
      "model_module": "@jupyter-widgets/controls",
      "model_module_version": "2.0.0",
      "model_name": "HTMLModel",
      "state": {
       "layout": "IPY_MODEL_eb57a3fa9d894b4196047925a7ec457b",
       "style": "IPY_MODEL_ab72b72c10844d53930f3ede3f39cb74",
       "value": "ibmq_quito"
      }
     },
     "063458681280449fbb1f09eb6a90e652": {
      "model_module": "@jupyter-widgets/controls",
      "model_module_version": "2.0.0",
      "model_name": "HTMLModel",
      "state": {
       "layout": "IPY_MODEL_b21bdc66ba16439d9a9c0d12b795a181",
       "style": "IPY_MODEL_eaa0301261ba430ebe156e88126de4a3",
       "value": "<table><style>\ntable {\n    border-collapse: collapse;\n    width: auto;\n}\n\nth, td {\n    text-align: left;\n    padding: 8px;\n}\n\ntr:nth-child(even) {background-color: #f6f6f6;};\n</style><tr><th></th><th>Type</th><th>Gate error</th></tr><tr><td><font style='font-weight:bold'>cx1_0</font></td><td>cx</td><td>0.01081</td></tr><tr><td><font style='font-weight:bold'>cx0_1</font></td><td>cx</td><td>0.01081</td></tr></table>"
      }
     },
     "06d211f10c1a4ba08060dcd2cce30c84": {
      "model_module": "@jupyter-widgets/controls",
      "model_module_version": "2.0.0",
      "model_name": "HTMLStyleModel",
      "state": {
       "description_width": "",
       "font_size": null,
       "text_color": null
      }
     },
     "072831138caa40d4bd6456cdd3dbcddb": {
      "model_module": "@jupyter-widgets/controls",
      "model_module_version": "2.0.0",
      "model_name": "HTMLStyleModel",
      "state": {
       "description_width": "",
       "font_size": null,
       "text_color": null
      }
     },
     "0739c0c589ba4e36a91f4b4ca8569662": {
      "model_module": "@jupyter-widgets/base",
      "model_module_version": "2.0.0",
      "model_name": "LayoutModel",
      "state": {
       "margin": "0px 5px 0px 0px",
       "width": "32px"
      }
     },
     "0772127db2ed451e82a0482f1005eff5": {
      "model_module": "@jupyter-widgets/controls",
      "model_module_version": "2.0.0",
      "model_name": "TabModel",
      "state": {
       "children": [
        "IPY_MODEL_fbc84dce1f024e10b064912d3640bbd5",
        "IPY_MODEL_e2ddd1b068b94593813aebe22982bff7",
        "IPY_MODEL_5fd114ac1f6744b7b3c1f91d6af69100",
        "IPY_MODEL_715e673af3204a909be02353ed7c201c",
        "IPY_MODEL_328bb2a554004146bd59e7f5f13edda0"
       ],
       "layout": "IPY_MODEL_a8b1adaf8f304a669d9da29132075692",
       "selected_index": 0,
       "titles": [
        "Configuration",
        "Qubit Properties",
        "Multi-Qubit Gates",
        "Error Map",
        "Job History"
       ]
      }
     },
     "07dcdfcd5bd84e99a660a0ae7700bfac": {
      "model_module": "@jupyter-widgets/controls",
      "model_module_version": "2.0.0",
      "model_name": "GridBoxModel",
      "state": {
       "children": [
        "IPY_MODEL_9b5d9cf450ac4f25925119bda54b878f",
        "IPY_MODEL_930f17b33275411ebfc186b00166684c",
        "IPY_MODEL_1ec6d8cac1bb4f60884874d189da2c5d"
       ],
       "layout": "IPY_MODEL_350d23fadade4dbe9a6520f6043ebfc6"
      }
     },
     "0801e12def8c40508d187b11418bcda6": {
      "model_module": "@jupyter-widgets/controls",
      "model_module_version": "2.0.0",
      "model_name": "HTMLModel",
      "state": {
       "layout": "IPY_MODEL_563ed321fba7405296a956bd3959ae17",
       "style": "IPY_MODEL_8e4f9ac68b994955ae6aacd12afce07c",
       "value": "<table><style>\ntable {\n    border-collapse: collapse;\n    width: auto;\n}\n\nth, td {\n    text-align: left;\n    padding: 8px;\n}\n\ntr:nth-child(even) {background-color: #f6f6f6;};\n</style><tr><th></th><th>Type</th><th>Gate error</th></tr><tr><td><font style='font-weight:bold'>cx1_0</font></td><td>cx</td><td>0.00736</td></tr><tr><td><font style='font-weight:bold'>cx3_1</font></td><td>cx</td><td>0.01588</td></tr><tr><td><font style='font-weight:bold'>cx1_3</font></td><td>cx</td><td>0.01588</td></tr></table>"
      }
     },
     "083cac9a662c4dc281804043e43fb05b": {
      "model_module": "@jupyter-widgets/controls",
      "model_module_version": "2.0.0",
      "model_name": "HTMLModel",
      "state": {
       "layout": "IPY_MODEL_a10ae58d46ed4deeb360d8fda50386df",
       "style": "IPY_MODEL_9cb8134181a14a3499e2c4ec69f1ad00",
       "value": "<font style='color:#34BC6E'>DONE</font>"
      }
     },
     "0892df37b7dc433ea21d5413ed7089c6": {
      "model_module": "@jupyter-widgets/controls",
      "model_module_version": "2.0.0",
      "model_name": "TabModel",
      "state": {
       "children": [
        "IPY_MODEL_07dcdfcd5bd84e99a660a0ae7700bfac",
        "IPY_MODEL_d7d32fc9352941a28d2b50661890ca47",
        "IPY_MODEL_6591218a36644dfb903b329036f37b84",
        "IPY_MODEL_23e854738f7a4524abd167b29cecde1d",
        "IPY_MODEL_29222e88cd344015a4cb9ab6dc281e21"
       ],
       "layout": "IPY_MODEL_6a1cd12f2edb462f8de832dcc1fa2d9c",
       "selected_index": 0,
       "titles": [
        "Configuration",
        "Qubit Properties",
        "Multi-Qubit Gates",
        "Error Map",
        "Job History"
       ]
      }
     },
     "08de7f99b6ac4cc7a9787554205b450d": {
      "model_module": "@jupyter-widgets/base",
      "model_module_version": "2.0.0",
      "model_name": "LayoutModel",
      "state": {
       "grid_gap": "0px 0px",
       "grid_template_areas": "\n                                                   \"top top top\"\n                                                   \"left middle right\"\n                                                   ",
       "grid_template_columns": "33% 33% 33%",
       "grid_template_rows": "auto auto"
      }
     },
     "0b6a4219c18a4ab39977d32a8ff7329d": {
      "model_module": "@jupyter-widgets/base",
      "model_module_version": "2.0.0",
      "model_name": "LayoutModel",
      "state": {
       "grid_area": "right",
       "padding": "0px 0px 0px 0px",
       "width": "70px"
      }
     },
     "0c81d06736f0428c8a697857e92b556f": {
      "model_module": "@jupyter-widgets/base",
      "model_module_version": "2.0.0",
      "model_name": "LayoutModel",
      "state": {}
     },
     "0ce81f96de4d4ab2afb4b308340a10c6": {
      "model_module": "@jupyter-widgets/base",
      "model_module_version": "2.0.0",
      "model_name": "LayoutModel",
      "state": {
       "border_bottom": "4px solid #000000",
       "border_left": "4px solid #000000",
       "border_right": "4px solid #000000",
       "border_top": "4px solid #000000",
       "max_height": "650px",
       "min_height": "650px"
      }
     },
     "0dc07ae664ec4d469e929055db034a3c": {
      "model_module": "@jupyter-widgets/controls",
      "model_module_version": "2.0.0",
      "model_name": "ButtonModel",
      "state": {
       "icon": "close",
       "layout": "IPY_MODEL_42a6f16a0ecf41138632e18d281334a5",
       "style": "IPY_MODEL_f1b7d0771eaf47a3ac22a0e1dc6f873c",
       "tooltip": null
      }
     },
     "0e4b8c3adbb747c985ece7eb2456279e": {
      "model_module": "@jupyter-widgets/base",
      "model_module_version": "2.0.0",
      "model_name": "LayoutModel",
      "state": {}
     },
     "0ef79fef0b9844a890fb02f3a9b9c87b": {
      "model_module": "@jupyter-widgets/controls",
      "model_module_version": "2.0.0",
      "model_name": "VBoxModel",
      "state": {
       "children": [
        "IPY_MODEL_557f8104e776421da6c51402745093a2",
        "IPY_MODEL_f3a998bd14e245c0b81f089d8866cc34"
       ],
       "layout": "IPY_MODEL_90feb994e45945f8bb1987969c0e8f3e"
      }
     },
     "0f2930b9eeea4bd3b9e3a08b57c88381": {
      "model_module": "@jupyter-widgets/base",
      "model_module_version": "2.0.0",
      "model_name": "LayoutModel",
      "state": {
       "margin": "0px 0px 0px 0px"
      }
     },
     "0f5c72f300ae42d3955a6eeb67c7d53e": {
      "model_module": "@jupyter-widgets/controls",
      "model_module_version": "2.0.0",
      "model_name": "VBoxModel",
      "state": {
       "children": [
        "IPY_MODEL_dc6305cd05ce4b4280f4dc44a932e26b",
        "IPY_MODEL_cf52dac784be45be8f80a6ef4a07c98f"
       ],
       "layout": "IPY_MODEL_c4690350bdb64fb1ad3a28b141f3078a"
      }
     },
     "0fdb0e07485a48cf98e82018ba75b35b": {
      "model_module": "@jupyter-widgets/controls",
      "model_module_version": "2.0.0",
      "model_name": "HTMLStyleModel",
      "state": {
       "description_width": "",
       "font_size": null,
       "text_color": null
      }
     },
     "1015cf6f6302409a8c216f593f053154": {
      "model_module": "@jupyter-widgets/base",
      "model_module_version": "2.0.0",
      "model_name": "LayoutModel",
      "state": {
       "grid_area": "left"
      }
     },
     "10bce838e799445a856824a705d79dc6": {
      "model_module": "@jupyter-widgets/controls",
      "model_module_version": "2.0.0",
      "model_name": "HTMLModel",
      "state": {
       "layout": "IPY_MODEL_1c240b4400f345a699eecf40ba14d926",
       "style": "IPY_MODEL_98fbc65ee419452d8aa654c91c203ef8",
       "value": "<p style=white-space:nowrap;>job is queued</p>"
      }
     },
     "114ce697ca284dda8f737b43148150ee": {
      "model_module": "@jupyter-widgets/base",
      "model_module_version": "2.0.0",
      "model_name": "LayoutModel",
      "state": {
       "border_bottom": "4px solid #000000",
       "border_left": "4px solid #000000",
       "border_right": "4px solid #000000",
       "border_top": "4px solid #000000",
       "max_height": "650px",
       "min_height": "650px"
      }
     },
     "118954b66d154795b4a92006898cd58c": {
      "model_module": "@jupyter-widgets/controls",
      "model_module_version": "2.0.0",
      "model_name": "HTMLMathModel",
      "state": {
       "layout": "IPY_MODEL_f728bffd7f1148a19bd3ce72163cdcbb",
       "style": "IPY_MODEL_bc76d48f48564a698f900021f3ac3a58",
       "value": "<table><style>\ntable {\n    border-collapse: collapse;\n    width: auto;\n}\n\nth, td {\n    text-align: left;\n    padding: 8px;\n}\n\ntr:nth-child(even) {background-color: #f6f6f6;}\n</style><tr><th>Property</th><th>Value</th></tr><tr><td><font style='font-weight:bold'>n_qubits</font></td><td>5</td></tr><tr><td><font style='font-weight:bold'>quantum_volume</font></td><td>16</td></tr><tr><td><font style='font-weight:bold'>operational</font></td><td>True</td></tr><tr><td><font style='font-weight:bold'>status_msg</font></td><td>active</td></tr><tr><td><font style='font-weight:bold'>pending_jobs</font></td><td>12</td></tr><tr><td><font style='font-weight:bold'>backend_version</font></td><td>1.2.7</td></tr><tr><td><font style='font-weight:bold'>basis_gates</font></td><td>['id', 'rz', 'sx', 'x', 'cx', 'reset']</td></tr><tr><td><font style='font-weight:bold'>max_shots</font></td><td>20000</td></tr><tr><td><font style='font-weight:bold'>max_experiments</font></td><td>100</td></tr></table>"
      }
     },
     "1220012440804ad29a5afe898b4f4e9c": {
      "model_module": "@jupyter-widgets/controls",
      "model_module_version": "2.0.0",
      "model_name": "GridBoxModel",
      "state": {
       "children": [
        "IPY_MODEL_a12b6456e57a4ab496eb7124f09d3022",
        "IPY_MODEL_d0ec1bd25e8e489b957318242e6bacf9",
        "IPY_MODEL_392357ed1e034d179b184a6d1d48c2ef",
        "IPY_MODEL_20070720ff4542b7ad28b5e168cbf1cf"
       ],
       "layout": "IPY_MODEL_bbddf5f962ef494c869af4f5205c8362"
      }
     },
     "128ae93a8caf42dbb500a61c747a8e2f": {
      "model_module": "@jupyter-widgets/base",
      "model_module_version": "2.0.0",
      "model_name": "LayoutModel",
      "state": {
       "margin": "0px 5px 0px 0px",
       "width": "32px"
      }
     },
     "133104ef15aa41a9a0db1a1537392b8d": {
      "model_module": "@jupyter-widgets/base",
      "model_module_version": "2.0.0",
      "model_name": "LayoutModel",
      "state": {
       "grid_area": "middle"
      }
     },
     "1366267519744169ac9d2a04f855ef93": {
      "model_module": "@jupyter-widgets/controls",
      "model_module_version": "2.0.0",
      "model_name": "HTMLMathModel",
      "state": {
       "layout": "IPY_MODEL_4465a4ee323d41cfa4cb8044583c18ad",
       "style": "IPY_MODEL_74ffdeb633774c74bc8a6e371531c148",
       "value": "<table><style>\ntable {\n    border-collapse: collapse;\n    width: auto;\n}\n\nth, td {\n    text-align: left;\n    padding: 8px;\n}\n\ntr:nth-child(even) {background-color: #f6f6f6;}\n</style><tr><th>Property</th><th>Value</th></tr><tr><td><font style='font-weight:bold'>n_qubits</font></td><td>5</td></tr><tr><td><font style='font-weight:bold'>quantum_volume</font></td><td>16</td></tr><tr><td><font style='font-weight:bold'>operational</font></td><td>True</td></tr><tr><td><font style='font-weight:bold'>status_msg</font></td><td>active</td></tr><tr><td><font style='font-weight:bold'>pending_jobs</font></td><td>42</td></tr><tr><td><font style='font-weight:bold'>backend_version</font></td><td>1.1.40</td></tr><tr><td><font style='font-weight:bold'>basis_gates</font></td><td>['id', 'rz', 'sx', 'x', 'cx', 'reset']</td></tr><tr><td><font style='font-weight:bold'>max_shots</font></td><td>20000</td></tr><tr><td><font style='font-weight:bold'>max_experiments</font></td><td>100</td></tr></table>"
      }
     },
     "1373ab767a5e46ba8771ad9bb33bea0a": {
      "model_module": "@jupyter-widgets/controls",
      "model_module_version": "2.0.0",
      "model_name": "HTMLModel",
      "state": {
       "layout": "IPY_MODEL_b47951ce115c48208b2e94de7e4512c8",
       "style": "IPY_MODEL_6c40a017f66849659ae919208d28e23f",
       "value": "<table><style>\ntable {\n    border-collapse: collapse;\n    width: auto;\n}\n\nth, td {\n    text-align: left;\n    padding: 8px;\n}\n\ntr:nth-child(even) {background-color: #f6f6f6;};\n</style><tr><th></th><th>Type</th><th>Gate error</th></tr><tr><td><font style='font-weight:bold'>cx2_1</font></td><td>cx</td><td>0.00904</td></tr><tr><td><font style='font-weight:bold'>cx1_2</font></td><td>cx</td><td>0.00904</td></tr></table>"
      }
     },
     "1416fbbc44104d94bd9c092256a0e554": {
      "model_module": "@jupyter-widgets/controls",
      "model_module_version": "2.0.0",
      "model_name": "VBoxModel",
      "state": {
       "children": [
        "IPY_MODEL_1b18294dcec04575af4bae0ec24bf448",
        "IPY_MODEL_52ccb297da2643cea70fcfcc093f7617"
       ],
       "layout": "IPY_MODEL_d4cfb6276de14336a94d2191345699c6"
      }
     },
     "1433ca73b85b443aa2ed9e9c28e3e79d": {
      "model_module": "@jupyter-widgets/controls",
      "model_module_version": "2.0.0",
      "model_name": "HTMLModel",
      "state": {
       "layout": "IPY_MODEL_a2b04d9dbc724fcd8fda41d1b3adb17b",
       "style": "IPY_MODEL_de4e48571d164fbf9a88fd4f5fa7f6ca",
       "value": "QUEUED"
      }
     },
     "145349df51dd4743b7f437ae2f45b412": {
      "model_module": "@jupyter-widgets/base",
      "model_module_version": "2.0.0",
      "model_name": "LayoutModel",
      "state": {
       "grid_area": "bottom",
       "width": "auto"
      }
     },
     "151d6a1910304fa79ac98bcf558b70f3": {
      "model_module": "@jupyter-widgets/base",
      "model_module_version": "2.0.0",
      "model_name": "LayoutModel",
      "state": {
       "align_items": "center",
       "display": "flex-inline",
       "grid_area": "right",
       "max_height": "325px",
       "padding": "10px 10px 10px 10px",
       "width": "auto"
      }
     },
     "156e0f424df84344931c441e8209f518": {
      "model_module": "@jupyter-widgets/controls",
      "model_module_version": "2.0.0",
      "model_name": "HTMLStyleModel",
      "state": {
       "description_width": "",
       "font_size": null,
       "text_color": null
      }
     },
     "1599f0589b0947b98007807bdb2d1db1": {
      "model_module": "@jupyter-widgets/base",
      "model_module_version": "2.0.0",
      "model_name": "LayoutModel",
      "state": {
       "grid_area": "left"
      }
     },
     "15a5bb0dc4974f2988f0d1c35cdf326b": {
      "model_module": "@jupyter-widgets/controls",
      "model_module_version": "2.0.0",
      "model_name": "TabModel",
      "state": {
       "layout": "IPY_MODEL_619c5d5738e04f9f83d7e6a8ffdd0eae"
      }
     },
     "166a811d72b44be6bc0d0c253f44acbb": {
      "model_module": "@jupyter-widgets/controls",
      "model_module_version": "2.0.0",
      "model_name": "HTMLStyleModel",
      "state": {
       "description_width": "",
       "font_size": null,
       "text_color": null
      }
     },
     "16fc39af1feb422fbaeee7071ea4bfdd": {
      "model_module": "@jupyter-widgets/base",
      "model_module_version": "2.0.0",
      "model_name": "LayoutModel",
      "state": {
       "width": "190px"
      }
     },
     "16fd9c532c3b4167a3e627ceae5e1dcf": {
      "model_module": "@jupyter-widgets/controls",
      "model_module_version": "2.0.0",
      "model_name": "HTMLStyleModel",
      "state": {
       "description_width": "",
       "font_size": null,
       "text_color": null
      }
     },
     "17aec4b7f44845d388fd2cf574fe6b6e": {
      "model_module": "@jupyter-widgets/controls",
      "model_module_version": "2.0.0",
      "model_name": "HTMLMathModel",
      "state": {
       "layout": "IPY_MODEL_6cdcc4c4d6ba4c0b9e7ed18b40cbff01",
       "style": "IPY_MODEL_d633651499fa4d0f944c7f7e351f7f05",
       "value": "<table><style>\ntable {\n    border-collapse: collapse;\n    width: auto;\n}\n\nth, td {\n    text-align: left;\n    padding: 8px;\n}\n\ntr:nth-child(even) {background-color: #f6f6f6;}\n</style><tr><th></th><th></th></tr><tr><td>qubit_channel_mapping</td><td>[['u1', 'd0', 'm0', 'u0'], ['u4', 'u5', 'd1', 'u3', 'm1', 'u0', 'u1', 'u2'], ['m2', 'd2', 'u2', 'u4'], ['u7', 'u5', 'u3', 'u6', 'd3', 'm3'], ['m4', 'u7', 'u6', 'd4']]</td></tr><tr><td>allow_q_object</td><td>True</td></tr><tr><td>dt</td><td>0.2222222222222222</td></tr><tr><td>description</td><td>5 qubit device Belem</td></tr><tr><td>open_pulse</td><td>False</td></tr><tr><td>rep_delay_range</td><td>[0.0, 500.0]</td></tr><tr><td>supported_instructions</td><td>['cx', 'id', 'delay', 'measure', 'reset', 'rz', 'sx', 'x']</td></tr><tr><td>meas_levels</td><td>[1, 2]</td></tr><tr><td>meas_lo_range</td><td>[[6.801574705, 7.801574705], [6.8934333720000005, 7.8934333720000005], [6.860104974, 7.860104974], [6.8033823270000005, 7.8033823270000005], [6.926223338000001, 7.926223338000001]]</td></tr><tr><td>rep_times</td><td>[1000.0]</td></tr><tr><td>memory</td><td>True</td></tr><tr><td>multi_meas_enabled</td><td>True</td></tr><tr><td>backend_name</td><td>ibmq_belem</td></tr><tr><td>n_registers</td><td>1</td></tr><tr><td>channels</td><td>{'acquire0': {'operates': {'qubits': [0]}, 'purpose': 'acquire', 'type': 'acquire'}, 'acquire1': {'operates': {'qubits': [1]}, 'purpose': 'acquire', 'type': 'acquire'}, 'acquire2': {'operates': {'qubits': [2]}, 'purpose': 'acquire', 'type': 'acquire'}, 'acquire3': {'operates': {'qubits': [3]}, 'purpose': 'acquire', 'type': 'acquire'}, 'acquire4': {'operates': {'qubits': [4]}, 'purpose': 'acquire', 'type': 'acquire'}, 'd0': {'operates': {'qubits': [0]}, 'purpose': 'drive', 'type': 'drive'}, 'd1': {'operates': {'qubits': [1]}, 'purpose': 'drive', 'type': 'drive'}, 'd2': {'operates': {'qubits': [2]}, 'purpose': 'drive', 'type': 'drive'}, 'd3': {'operates': {'qubits': [3]}, 'purpose': 'drive', 'type': 'drive'}, 'd4': {'operates': {'qubits': [4]}, 'purpose': 'drive', 'type': 'drive'}, 'm0': {'operates': {'qubits': [0]}, 'purpose': 'measure', 'type': 'measure'}, 'm1': {'operates': {'qubits': [1]}, 'purpose': 'measure', 'type': 'measure'}, 'm2': {'operates': {'qubits': [2]}, 'purpose': 'measure', 'type': 'measure'}, 'm3': {'operates': {'qubits': [3]}, 'purpose': 'measure', 'type': 'measure'}, 'm4': {'operates': {'qubits': [4]}, 'purpose': 'measure', 'type': 'measure'}, 'u0': {'operates': {'qubits': [0, 1]}, 'purpose': 'cross-resonance', 'type': 'control'}, 'u1': {'operates': {'qubits': [1, 0]}, 'purpose': 'cross-resonance', 'type': 'control'}, 'u2': {'operates': {'qubits': [1, 2]}, 'purpose': 'cross-resonance', 'type': 'control'}, 'u3': {'operates': {'qubits': [1, 3]}, 'purpose': 'cross-resonance', 'type': 'control'}, 'u4': {'operates': {'qubits': [2, 1]}, 'purpose': 'cross-resonance', 'type': 'control'}, 'u5': {'operates': {'qubits': [3, 1]}, 'purpose': 'cross-resonance', 'type': 'control'}, 'u6': {'operates': {'qubits': [3, 4]}, 'purpose': 'cross-resonance', 'type': 'control'}, 'u7': {'operates': {'qubits': [4, 3]}, 'purpose': 'cross-resonance', 'type': 'control'}}</td></tr><tr><td>conditional</td><td>False</td></tr><tr><td>hamiltonian</td><td>$$\\begin{align} \\mathcal{H}/\\hbar = & \\sum_{i=0}^{4}\\left(\\frac{\\omega_{q,i}}{2}(\\mathbb{I}-\\sigma_i^{z})+\\frac{\\Delta_{i}}{2}(O_i^2-O_i)+\\Omega_{d,i}D_i(t)\\sigma_i^{X}\\right) \\\\ & + J_{0,1}(\\sigma_{0}^{+}\\sigma_{1}^{-}+\\sigma_{0}^{-}\\sigma_{1}^{+}) + J_{1,2}(\\sigma_{1}^{+}\\sigma_{2}^{-}+\\sigma_{1}^{-}\\sigma_{2}^{+}) + J_{1,3}(\\sigma_{1}^{+}\\sigma_{3}^{-}+\\sigma_{1}^{-}\\sigma_{3}^{+}) + J_{3,4}(\\sigma_{3}^{+}\\sigma_{4}^{-}+\\sigma_{3}^{-}\\sigma_{4}^{+}) \\\\ & + \\Omega_{d,0}(U_{0}^{(0,1)}(t))\\sigma_{0}^{X} + \\Omega_{d,1}(U_{1}^{(1,0)}(t)+U_{3}^{(1,3)}(t)+U_{2}^{(1,2)}(t))\\sigma_{1}^{X} \\\\ & + \\Omega_{d,2}(U_{4}^{(2,1)}(t))\\sigma_{2}^{X} + \\Omega_{d,3}(U_{6}^{(3,4)}(t)+U_{5}^{(3,1)}(t))\\sigma_{3}^{X} \\\\ & + \\Omega_{d,4}(U_{7}^{(4,3)}(t))\\sigma_{4}^{X} \\\\ \\end{align}$$</td></tr><tr><td>clops</td><td>2454</td></tr><tr><td>discriminators</td><td>['hw_centroid', 'quadratic_discriminator', 'linear_discriminator']</td></tr><tr><td>dynamic_reprate_enabled</td><td>True</td></tr><tr><td>qubit_lo_range</td><td>[[4.590219625198416, 5.590219625198416], [4.745529252965143, 5.745529252965143], [4.8614956985409155, 5.8614956985409155], [4.670317213011911, 5.670317213011911], [4.758463477378146, 5.758463477378146]]</td></tr><tr><td>simulator</td><td>False</td></tr><tr><td>supported_features</td><td>['qobj']</td></tr><tr><td>pulse_num_qubits</td><td>3</td></tr><tr><td>conditional_latency</td><td>[]</td></tr><tr><td>n_uchannels</td><td>8</td></tr><tr><td>local</td><td>False</td></tr><tr><td>pulse_num_channels</td><td>9</td></tr><tr><td>parallel_compilation</td><td>False</td></tr><tr><td>coupling_map</td><td>[[0, 1], [1, 0], [1, 2], [1, 3], [2, 1], [3, 1], [3, 4], [4, 3]]</td></tr><tr><td>processor_type</td><td>{'family': 'Falcon', 'revision': 4, 'segment': 'T'}</td></tr><tr><td>parametric_pulses</td><td>['gaussian', 'gaussian_square', 'gaussian_square_drag', 'drag', 'constant']</td></tr><tr><td>uchannels_enabled</td><td>True</td></tr><tr><td>live_data</td><td>False</td></tr><tr><td>acquisition_latency</td><td>[]</td></tr><tr><td>dtm</td><td>0.2222222222222222</td></tr><tr><td>input_allowed</td><td>['job', 'runtime']</td></tr><tr><td>sample_name</td><td>family: Falcon, revision: 4, segment: T</td></tr><tr><td>timing_constraints</td><td>{'acquire_alignment': 16, 'granularity': 16, 'min_length': 64, 'pulse_alignment': 1}</td></tr><tr><td>url</td><td>None</td></tr><tr><td>online_date</td><td>2021-01-08 05:00:00+00:00</td></tr><tr><td>default_rep_delay</td><td>250.0</td></tr><tr><td>measure_esp_enabled</td><td>False</td></tr><tr><td>allow_object_storage</td><td>True</td></tr><tr><td>meas_kernels</td><td>['hw_boxcar']</td></tr><tr><td>credits_required</td><td>True</td></tr><tr><td>meas_map</td><td>[[0, 1, 2, 3, 4]]</td></tr><tr><td>u_channel_lo</td><td>[[{'q': 1, 'scale': (1+0j)}], [{'q': 0, 'scale': (1+0j)}], [{'q': 2, 'scale': (1+0j)}], [{'q': 3, 'scale': (1+0j)}], [{'q': 1, 'scale': (1+0j)}], [{'q': 1, 'scale': (1+0j)}], [{'q': 4, 'scale': (1+0j)}], [{'q': 3, 'scale': (1+0j)}]]</td></tr></table>"
      }
     },
     "180deced8af2457c835c376cf122e2b8": {
      "model_module": "@jupyter-widgets/base",
      "model_module_version": "2.0.0",
      "model_name": "LayoutModel",
      "state": {
       "width": "70px"
      }
     },
     "185e4e64075d4223b631e576be78743b": {
      "model_module": "@jupyter-widgets/controls",
      "model_module_version": "2.0.0",
      "model_name": "GridBoxModel",
      "state": {
       "children": [
        "IPY_MODEL_4981dfbb6f5e4b5281431aa5f64c83e9",
        "IPY_MODEL_a31eca05c2e645509bd6faea63bac912",
        "IPY_MODEL_7e8c81de3ab54a7abe5d6c0883599397"
       ],
       "layout": "IPY_MODEL_b9f66426df684749b4d5c6420273f6ee"
      }
     },
     "18c04f4cf2cf4a99a45f2e6a7682388a": {
      "model_module": "@jupyter-widgets/controls",
      "model_module_version": "2.0.0",
      "model_name": "HBoxModel",
      "state": {
       "children": [
        "IPY_MODEL_5697d20499294cb5ac1c40789dde48b2",
        "IPY_MODEL_d1c4cd591ade477ebbfdd33f9dfdc431",
        "IPY_MODEL_270914cb8fd94644a70e3f94c5f94e1b",
        "IPY_MODEL_d4accf00c29048cda58f1c801612dc08",
        "IPY_MODEL_99a0c713fd9548e7b77980fba1a85168",
        "IPY_MODEL_45f0a90e42df4695b052c67a78a85e73"
       ],
       "layout": "IPY_MODEL_e7f99fd0869c427d8f3258ba59eb9a92"
      }
     },
     "1a6c5a8a4ecd458d94143e4085fc9ab6": {
      "model_module": "@jupyter-widgets/controls",
      "model_module_version": "2.0.0",
      "model_name": "HTMLStyleModel",
      "state": {
       "description_width": "",
       "font_size": null,
       "text_color": null
      }
     },
     "1ade01271acd4ed1a771b338cad30459": {
      "model_module": "@jupyter-widgets/controls",
      "model_module_version": "2.0.0",
      "model_name": "HTMLStyleModel",
      "state": {
       "description_width": "",
       "font_size": null,
       "text_color": null
      }
     },
     "1b17aa3e842e4d198224a0634788c478": {
      "model_module": "@jupyter-widgets/base",
      "model_module_version": "2.0.0",
      "model_name": "LayoutModel",
      "state": {
       "grid_gap": "0px 0px",
       "grid_template_areas": "\n                               \"left right right right\"\n                               \"bottom bottom bottom bottom\"\n                               ",
       "grid_template_columns": "31% 23% 23% 23%",
       "grid_template_rows": "auto auto"
      }
     },
     "1b18294dcec04575af4bae0ec24bf448": {
      "model_module": "@jupyter-widgets/controls",
      "model_module_version": "2.0.0",
      "model_name": "HTMLModel",
      "state": {
       "layout": "IPY_MODEL_de1eb63050054452944e4f8028e50196",
       "style": "IPY_MODEL_6636b1fbcc6f4c4687d70020c2bbb6e2",
       "value": "<div><font style='font-weight:bold'>last_update_date</font>: Fri 21 April 2023 at 05:26 UTC</div>"
      }
     },
     "1b273de8526a4e8c98c2ec9e68f1d038": {
      "model_module": "@jupyter-widgets/base",
      "model_module_version": "2.0.0",
      "model_name": "LayoutModel",
      "state": {
       "grid_gap": "0px 0px",
       "grid_template_areas": "\n                                                   \"top top top\"\n                                                   \"left middle right\"\n                                                   ",
       "grid_template_columns": "33% 33% 33%",
       "grid_template_rows": "auto auto"
      }
     },
     "1c240b4400f345a699eecf40ba14d926": {
      "model_module": "@jupyter-widgets/base",
      "model_module_version": "2.0.0",
      "model_name": "LayoutModel",
      "state": {}
     },
     "1c3400921d9f4b238ab39fde608083dc": {
      "model_module": "@jupyter-widgets/controls",
      "model_module_version": "2.0.0",
      "model_name": "HTMLStyleModel",
      "state": {
       "description_width": "",
       "font_size": null,
       "text_color": null
      }
     },
     "1c52ec2da9e748a19c348b58f1a9e580": {
      "model_module": "@jupyter-widgets/controls",
      "model_module_version": "2.0.0",
      "model_name": "HTMLModel",
      "state": {
       "layout": "IPY_MODEL_49102067e64248ba8ca80aaa1c3f68f1",
       "style": "IPY_MODEL_bb88a8e5292545aba6e30aea74d02ef6",
       "value": "<font style='color:#34BC6E'>DONE</font>"
      }
     },
     "1c91b4b061214ea89a5e6281b703b409": {
      "model_module": "@jupyter-widgets/controls",
      "model_module_version": "2.0.0",
      "model_name": "ButtonStyleModel",
      "state": {
       "font_family": null,
       "font_size": null,
       "font_style": null,
       "font_variant": null,
       "font_weight": null,
       "text_color": null,
       "text_decoration": null
      }
     },
     "1cdb2475599044b9825ac6008d9bc05c": {
      "model_module": "@jupyter-widgets/base",
      "model_module_version": "2.0.0",
      "model_name": "LayoutModel",
      "state": {
       "max_height": "620px"
      }
     },
     "1cf5655a8aa6411cbd0639b1dc25e5e1": {
      "model_module": "@jupyter-widgets/controls",
      "model_module_version": "2.0.0",
      "model_name": "HTMLStyleModel",
      "state": {
       "description_width": "",
       "font_size": null,
       "text_color": null
      }
     },
     "1d73ee2ec70646cdb6074358f37efb45": {
      "model_module": "@jupyter-widgets/controls",
      "model_module_version": "2.0.0",
      "model_name": "HTMLMathModel",
      "state": {
       "layout": "IPY_MODEL_d3bbbc657f834b03a44d94bb573bedcd",
       "style": "IPY_MODEL_34f65067cb83463391b012b5d0531f54",
       "value": "<table><style>\ntable {\n    border-collapse: collapse;\n    width: auto;\n}\n\nth, td {\n    text-align: left;\n    padding: 8px;\n}\n\ntr:nth-child(even) {background-color: #f6f6f6;}\n</style><tr><th></th><th></th></tr><tr><td>qubit_channel_mapping</td><td>[['u0', 'u1', 'm0', 'd0'], ['u0', 'd1', 'u5', 'u1', 'u4', 'u2', 'm1', 'u3'], ['m2', 'u2', 'd2', 'u4'], ['u5', 'u6', 'm3', 'd3', 'u7', 'u3'], ['d4', 'u6', 'm4', 'u7']]</td></tr><tr><td>allow_q_object</td><td>True</td></tr><tr><td>dt</td><td>0.2222222222222222</td></tr><tr><td>description</td><td>5 qubit device Quito</td></tr><tr><td>open_pulse</td><td>False</td></tr><tr><td>rep_delay_range</td><td>[0.0, 500.0]</td></tr><tr><td>supported_instructions</td><td>['cx', 'id', 'delay', 'measure', 'reset', 'rz', 'sx', 'x']</td></tr><tr><td>meas_levels</td><td>[1, 2]</td></tr><tr><td>meas_lo_range</td><td>[[6.807868157000001, 7.807868157000001], [6.7292695270000005, 7.7292695270000005], [6.991060108, 7.991060108], [6.8547510460000005, 7.8547510460000005], [6.904365522000001, 7.904365522000001]]</td></tr><tr><td>rep_times</td><td>[1000.0]</td></tr><tr><td>memory</td><td>True</td></tr><tr><td>multi_meas_enabled</td><td>True</td></tr><tr><td>backend_name</td><td>ibmq_quito</td></tr><tr><td>n_registers</td><td>1</td></tr><tr><td>channels</td><td>{'acquire0': {'operates': {'qubits': [0]}, 'purpose': 'acquire', 'type': 'acquire'}, 'acquire1': {'operates': {'qubits': [1]}, 'purpose': 'acquire', 'type': 'acquire'}, 'acquire2': {'operates': {'qubits': [2]}, 'purpose': 'acquire', 'type': 'acquire'}, 'acquire3': {'operates': {'qubits': [3]}, 'purpose': 'acquire', 'type': 'acquire'}, 'acquire4': {'operates': {'qubits': [4]}, 'purpose': 'acquire', 'type': 'acquire'}, 'd0': {'operates': {'qubits': [0]}, 'purpose': 'drive', 'type': 'drive'}, 'd1': {'operates': {'qubits': [1]}, 'purpose': 'drive', 'type': 'drive'}, 'd2': {'operates': {'qubits': [2]}, 'purpose': 'drive', 'type': 'drive'}, 'd3': {'operates': {'qubits': [3]}, 'purpose': 'drive', 'type': 'drive'}, 'd4': {'operates': {'qubits': [4]}, 'purpose': 'drive', 'type': 'drive'}, 'm0': {'operates': {'qubits': [0]}, 'purpose': 'measure', 'type': 'measure'}, 'm1': {'operates': {'qubits': [1]}, 'purpose': 'measure', 'type': 'measure'}, 'm2': {'operates': {'qubits': [2]}, 'purpose': 'measure', 'type': 'measure'}, 'm3': {'operates': {'qubits': [3]}, 'purpose': 'measure', 'type': 'measure'}, 'm4': {'operates': {'qubits': [4]}, 'purpose': 'measure', 'type': 'measure'}, 'u0': {'operates': {'qubits': [0, 1]}, 'purpose': 'cross-resonance', 'type': 'control'}, 'u1': {'operates': {'qubits': [1, 0]}, 'purpose': 'cross-resonance', 'type': 'control'}, 'u2': {'operates': {'qubits': [1, 2]}, 'purpose': 'cross-resonance', 'type': 'control'}, 'u3': {'operates': {'qubits': [1, 3]}, 'purpose': 'cross-resonance', 'type': 'control'}, 'u4': {'operates': {'qubits': [2, 1]}, 'purpose': 'cross-resonance', 'type': 'control'}, 'u5': {'operates': {'qubits': [3, 1]}, 'purpose': 'cross-resonance', 'type': 'control'}, 'u6': {'operates': {'qubits': [3, 4]}, 'purpose': 'cross-resonance', 'type': 'control'}, 'u7': {'operates': {'qubits': [4, 3]}, 'purpose': 'cross-resonance', 'type': 'control'}}</td></tr><tr><td>conditional</td><td>False</td></tr><tr><td>hamiltonian</td><td>$$\\begin{align} \\mathcal{H}/\\hbar = & \\sum_{i=0}^{4}\\left(\\frac{\\omega_{q,i}}{2}(\\mathbb{I}-\\sigma_i^{z})+\\frac{\\Delta_{i}}{2}(O_i^2-O_i)+\\Omega_{d,i}D_i(t)\\sigma_i^{X}\\right) \\\\ & + J_{0,1}(\\sigma_{0}^{+}\\sigma_{1}^{-}+\\sigma_{0}^{-}\\sigma_{1}^{+}) + J_{1,2}(\\sigma_{1}^{+}\\sigma_{2}^{-}+\\sigma_{1}^{-}\\sigma_{2}^{+}) + J_{1,3}(\\sigma_{1}^{+}\\sigma_{3}^{-}+\\sigma_{1}^{-}\\sigma_{3}^{+}) + J_{3,4}(\\sigma_{3}^{+}\\sigma_{4}^{-}+\\sigma_{3}^{-}\\sigma_{4}^{+}) \\\\ & + \\Omega_{d,0}(U_{0}^{(0,1)}(t))\\sigma_{0}^{X} + \\Omega_{d,1}(U_{1}^{(1,0)}(t)+U_{3}^{(1,3)}(t)+U_{2}^{(1,2)}(t))\\sigma_{1}^{X} \\\\ & + \\Omega_{d,2}(U_{4}^{(2,1)}(t))\\sigma_{2}^{X} + \\Omega_{d,3}(U_{6}^{(3,4)}(t)+U_{5}^{(3,1)}(t))\\sigma_{3}^{X} \\\\ & + \\Omega_{d,4}(U_{7}^{(4,3)}(t))\\sigma_{4}^{X} \\\\ \\end{align}$$</td></tr><tr><td>clops</td><td>2506</td></tr><tr><td>discriminators</td><td>['quadratic_discriminator', 'hw_centroid', 'linear_discriminator']</td></tr><tr><td>dynamic_reprate_enabled</td><td>True</td></tr><tr><td>qubit_lo_range</td><td>[[4.800687093152551, 5.800687093152551], [4.580583210471726, 5.580583210471726], [4.822186436385297, 5.822186436385297], [4.663616562911523, 5.663616562911523], [4.552327635948928, 5.552327635948928]]</td></tr><tr><td>simulator</td><td>False</td></tr><tr><td>supported_features</td><td>['qobj']</td></tr><tr><td>pulse_num_qubits</td><td>3</td></tr><tr><td>conditional_latency</td><td>[]</td></tr><tr><td>n_uchannels</td><td>8</td></tr><tr><td>local</td><td>False</td></tr><tr><td>pulse_num_channels</td><td>9</td></tr><tr><td>parallel_compilation</td><td>False</td></tr><tr><td>coupling_map</td><td>[[0, 1], [1, 0], [1, 2], [1, 3], [2, 1], [3, 1], [3, 4], [4, 3]]</td></tr><tr><td>processor_type</td><td>{'family': 'Falcon', 'revision': 4, 'segment': 'T'}</td></tr><tr><td>parametric_pulses</td><td>['gaussian', 'gaussian_square', 'gaussian_square_drag', 'drag', 'constant']</td></tr><tr><td>uchannels_enabled</td><td>True</td></tr><tr><td>live_data</td><td>False</td></tr><tr><td>acquisition_latency</td><td>[]</td></tr><tr><td>dtm</td><td>0.2222222222222222</td></tr><tr><td>input_allowed</td><td>['job', 'runtime']</td></tr><tr><td>sample_name</td><td>family: Falcon, revision: 4, segment: T</td></tr><tr><td>timing_constraints</td><td>{'acquire_alignment': 16, 'granularity': 16, 'min_length': 64, 'pulse_alignment': 1}</td></tr><tr><td>url</td><td>None</td></tr><tr><td>online_date</td><td>2021-01-08 05:00:00+00:00</td></tr><tr><td>default_rep_delay</td><td>250.0</td></tr><tr><td>measure_esp_enabled</td><td>False</td></tr><tr><td>allow_object_storage</td><td>True</td></tr><tr><td>meas_kernels</td><td>['hw_boxcar']</td></tr><tr><td>credits_required</td><td>True</td></tr><tr><td>meas_map</td><td>[[0, 1, 2, 3, 4]]</td></tr><tr><td>u_channel_lo</td><td>[[{'q': 1, 'scale': (1+0j)}], [{'q': 0, 'scale': (1+0j)}], [{'q': 2, 'scale': (1+0j)}], [{'q': 3, 'scale': (1+0j)}], [{'q': 1, 'scale': (1+0j)}], [{'q': 1, 'scale': (1+0j)}], [{'q': 4, 'scale': (1+0j)}], [{'q': 3, 'scale': (1+0j)}]]</td></tr></table>"
      }
     },
     "1d76714c43bc455897ec093602f3acbb": {
      "model_module": "@jupyter-widgets/controls",
      "model_module_version": "2.0.0",
      "model_name": "HTMLStyleModel",
      "state": {
       "description_width": "",
       "font_size": null,
       "text_color": null
      }
     },
     "1de95158e2444ba5a91aaadb65d8c20e": {
      "model_module": "@jupyter-widgets/controls",
      "model_module_version": "2.0.0",
      "model_name": "HTMLModel",
      "state": {
       "layout": "IPY_MODEL_f4f9c419f150448e921b010f7b5a73b4",
       "style": "IPY_MODEL_f609c46d908f4fc3ac253a308271b89b",
       "value": "<div><font style='font-weight:bold'>last_update_date</font>: 2023-04-21 05:17:55+00:00</div>"
      }
     },
     "1eb4b1109de2416a853cf192f9f73996": {
      "model_module": "@jupyter-widgets/base",
      "model_module_version": "2.0.0",
      "model_name": "LayoutModel",
      "state": {
       "width": "190px"
      }
     },
     "1ec6d8cac1bb4f60884874d189da2c5d": {
      "model_module": "@jupyter-widgets/controls",
      "model_module_version": "2.0.0",
      "model_name": "HTMLMathModel",
      "state": {
       "layout": "IPY_MODEL_7626aac4e27c4a1ba11d2777d5d9e366",
       "style": "IPY_MODEL_b982b5b4b4cf4699a6ffe080381a2c87",
       "value": "<table><style>\ntable {\n    border-collapse: collapse;\n    width: auto;\n}\n\nth, td {\n    text-align: left;\n    padding: 8px;\n}\n\ntr:nth-child(even) {background-color: #f6f6f6;}\n</style><tr><th></th><th></th></tr><tr><td>qubit_channel_mapping</td><td>[['u1', 'd0', 'm0', 'u0'], ['u4', 'u5', 'd1', 'u3', 'm1', 'u0', 'u1', 'u2'], ['m2', 'd2', 'u2', 'u4'], ['u7', 'u5', 'u3', 'u6', 'd3', 'm3'], ['m4', 'u7', 'u6', 'd4']]</td></tr><tr><td>allow_q_object</td><td>True</td></tr><tr><td>dt</td><td>0.2222222222222222</td></tr><tr><td>description</td><td>5 qubit device Belem</td></tr><tr><td>open_pulse</td><td>False</td></tr><tr><td>rep_delay_range</td><td>[0.0, 500.0]</td></tr><tr><td>supported_instructions</td><td>['cx', 'id', 'delay', 'measure', 'reset', 'rz', 'sx', 'x']</td></tr><tr><td>meas_levels</td><td>[1, 2]</td></tr><tr><td>meas_lo_range</td><td>[[6.801574705, 7.801574705], [6.8934333720000005, 7.8934333720000005], [6.860104974, 7.860104974], [6.8033823270000005, 7.8033823270000005], [6.926223338000001, 7.926223338000001]]</td></tr><tr><td>rep_times</td><td>[1000.0]</td></tr><tr><td>memory</td><td>True</td></tr><tr><td>multi_meas_enabled</td><td>True</td></tr><tr><td>backend_name</td><td>ibmq_belem</td></tr><tr><td>n_registers</td><td>1</td></tr><tr><td>channels</td><td>{'acquire0': {'operates': {'qubits': [0]}, 'purpose': 'acquire', 'type': 'acquire'}, 'acquire1': {'operates': {'qubits': [1]}, 'purpose': 'acquire', 'type': 'acquire'}, 'acquire2': {'operates': {'qubits': [2]}, 'purpose': 'acquire', 'type': 'acquire'}, 'acquire3': {'operates': {'qubits': [3]}, 'purpose': 'acquire', 'type': 'acquire'}, 'acquire4': {'operates': {'qubits': [4]}, 'purpose': 'acquire', 'type': 'acquire'}, 'd0': {'operates': {'qubits': [0]}, 'purpose': 'drive', 'type': 'drive'}, 'd1': {'operates': {'qubits': [1]}, 'purpose': 'drive', 'type': 'drive'}, 'd2': {'operates': {'qubits': [2]}, 'purpose': 'drive', 'type': 'drive'}, 'd3': {'operates': {'qubits': [3]}, 'purpose': 'drive', 'type': 'drive'}, 'd4': {'operates': {'qubits': [4]}, 'purpose': 'drive', 'type': 'drive'}, 'm0': {'operates': {'qubits': [0]}, 'purpose': 'measure', 'type': 'measure'}, 'm1': {'operates': {'qubits': [1]}, 'purpose': 'measure', 'type': 'measure'}, 'm2': {'operates': {'qubits': [2]}, 'purpose': 'measure', 'type': 'measure'}, 'm3': {'operates': {'qubits': [3]}, 'purpose': 'measure', 'type': 'measure'}, 'm4': {'operates': {'qubits': [4]}, 'purpose': 'measure', 'type': 'measure'}, 'u0': {'operates': {'qubits': [0, 1]}, 'purpose': 'cross-resonance', 'type': 'control'}, 'u1': {'operates': {'qubits': [1, 0]}, 'purpose': 'cross-resonance', 'type': 'control'}, 'u2': {'operates': {'qubits': [1, 2]}, 'purpose': 'cross-resonance', 'type': 'control'}, 'u3': {'operates': {'qubits': [1, 3]}, 'purpose': 'cross-resonance', 'type': 'control'}, 'u4': {'operates': {'qubits': [2, 1]}, 'purpose': 'cross-resonance', 'type': 'control'}, 'u5': {'operates': {'qubits': [3, 1]}, 'purpose': 'cross-resonance', 'type': 'control'}, 'u6': {'operates': {'qubits': [3, 4]}, 'purpose': 'cross-resonance', 'type': 'control'}, 'u7': {'operates': {'qubits': [4, 3]}, 'purpose': 'cross-resonance', 'type': 'control'}}</td></tr><tr><td>conditional</td><td>False</td></tr><tr><td>hamiltonian</td><td>$$\\begin{align} \\mathcal{H}/\\hbar = & \\sum_{i=0}^{4}\\left(\\frac{\\omega_{q,i}}{2}(\\mathbb{I}-\\sigma_i^{z})+\\frac{\\Delta_{i}}{2}(O_i^2-O_i)+\\Omega_{d,i}D_i(t)\\sigma_i^{X}\\right) \\\\ & + J_{0,1}(\\sigma_{0}^{+}\\sigma_{1}^{-}+\\sigma_{0}^{-}\\sigma_{1}^{+}) + J_{1,2}(\\sigma_{1}^{+}\\sigma_{2}^{-}+\\sigma_{1}^{-}\\sigma_{2}^{+}) + J_{1,3}(\\sigma_{1}^{+}\\sigma_{3}^{-}+\\sigma_{1}^{-}\\sigma_{3}^{+}) + J_{3,4}(\\sigma_{3}^{+}\\sigma_{4}^{-}+\\sigma_{3}^{-}\\sigma_{4}^{+}) \\\\ & + \\Omega_{d,0}(U_{0}^{(0,1)}(t))\\sigma_{0}^{X} + \\Omega_{d,1}(U_{1}^{(1,0)}(t)+U_{3}^{(1,3)}(t)+U_{2}^{(1,2)}(t))\\sigma_{1}^{X} \\\\ & + \\Omega_{d,2}(U_{4}^{(2,1)}(t))\\sigma_{2}^{X} + \\Omega_{d,3}(U_{6}^{(3,4)}(t)+U_{5}^{(3,1)}(t))\\sigma_{3}^{X} \\\\ & + \\Omega_{d,4}(U_{7}^{(4,3)}(t))\\sigma_{4}^{X} \\\\ \\end{align}$$</td></tr><tr><td>clops</td><td>2454</td></tr><tr><td>discriminators</td><td>['hw_centroid', 'quadratic_discriminator', 'linear_discriminator']</td></tr><tr><td>dynamic_reprate_enabled</td><td>True</td></tr><tr><td>qubit_lo_range</td><td>[[4.590219625198416, 5.590219625198416], [4.745529252965143, 5.745529252965143], [4.8614956985409155, 5.8614956985409155], [4.670317213011911, 5.670317213011911], [4.758463477378146, 5.758463477378146]]</td></tr><tr><td>simulator</td><td>False</td></tr><tr><td>supported_features</td><td>['qobj']</td></tr><tr><td>pulse_num_qubits</td><td>3</td></tr><tr><td>conditional_latency</td><td>[]</td></tr><tr><td>n_uchannels</td><td>8</td></tr><tr><td>local</td><td>False</td></tr><tr><td>pulse_num_channels</td><td>9</td></tr><tr><td>parallel_compilation</td><td>False</td></tr><tr><td>coupling_map</td><td>[[0, 1], [1, 0], [1, 2], [1, 3], [2, 1], [3, 1], [3, 4], [4, 3]]</td></tr><tr><td>processor_type</td><td>{'family': 'Falcon', 'revision': 4, 'segment': 'T'}</td></tr><tr><td>parametric_pulses</td><td>['gaussian', 'gaussian_square', 'gaussian_square_drag', 'drag', 'constant']</td></tr><tr><td>uchannels_enabled</td><td>True</td></tr><tr><td>live_data</td><td>False</td></tr><tr><td>acquisition_latency</td><td>[]</td></tr><tr><td>dtm</td><td>0.2222222222222222</td></tr><tr><td>input_allowed</td><td>['job', 'runtime']</td></tr><tr><td>sample_name</td><td>family: Falcon, revision: 4, segment: T</td></tr><tr><td>timing_constraints</td><td>{'acquire_alignment': 16, 'granularity': 16, 'min_length': 64, 'pulse_alignment': 1}</td></tr><tr><td>url</td><td>None</td></tr><tr><td>online_date</td><td>2021-01-08 05:00:00+00:00</td></tr><tr><td>default_rep_delay</td><td>250.0</td></tr><tr><td>measure_esp_enabled</td><td>False</td></tr><tr><td>allow_object_storage</td><td>True</td></tr><tr><td>meas_kernels</td><td>['hw_boxcar']</td></tr><tr><td>credits_required</td><td>True</td></tr><tr><td>meas_map</td><td>[[0, 1, 2, 3, 4]]</td></tr><tr><td>u_channel_lo</td><td>[[{'q': 1, 'scale': (1+0j)}], [{'q': 0, 'scale': (1+0j)}], [{'q': 2, 'scale': (1+0j)}], [{'q': 3, 'scale': (1+0j)}], [{'q': 1, 'scale': (1+0j)}], [{'q': 1, 'scale': (1+0j)}], [{'q': 4, 'scale': (1+0j)}], [{'q': 3, 'scale': (1+0j)}]]</td></tr></table>"
      }
     },
     "20070720ff4542b7ad28b5e168cbf1cf": {
      "model_module": "@jupyter-widgets/controls",
      "model_module_version": "2.0.0",
      "model_name": "HTMLModel",
      "state": {
       "layout": "IPY_MODEL_bf02a7d818ed41698b1093d2ba86f7ad",
       "style": "IPY_MODEL_e9c593c6edbd47a1b1c36178ee05f8b4",
       "value": "<table><style>\ntable {\n    border-collapse: collapse;\n    width: auto;\n}\n\nth, td {\n    text-align: left;\n    padding: 8px;\n}\n\ntr:nth-child(even) {background-color: #f6f6f6;};\n</style><tr><th></th><th>Type</th><th>Gate error</th></tr><tr><td><font style='font-weight:bold'>cx0_1</font></td><td>cx</td><td>0.00703</td></tr><tr><td><font style='font-weight:bold'>cx1_0</font></td><td>cx</td><td>0.00703</td></tr></table>"
      }
     },
     "20132632c06c4a2fadab8911ae8fc256": {
      "model_module": "@jupyter-widgets/controls",
      "model_module_version": "2.0.0",
      "model_name": "HTMLStyleModel",
      "state": {
       "description_width": "",
       "font_size": null,
       "text_color": null
      }
     },
     "20963d267bda4b8f8216b8265fa5961f": {
      "model_module": "@jupyter-widgets/base",
      "model_module_version": "2.0.0",
      "model_name": "LayoutModel",
      "state": {}
     },
     "230dfc59b0254734b0ac712acdbeb8c9": {
      "model_module": "@jupyter-widgets/base",
      "model_module_version": "2.0.0",
      "model_name": "LayoutModel",
      "state": {
       "margin": "0px 0px 0px 0px"
      }
     },
     "23e854738f7a4524abd167b29cecde1d": {
      "model_module": "@jupyter-widgets/output",
      "model_module_version": "1.0.0",
      "model_name": "OutputModel",
      "state": {
       "layout": "IPY_MODEL_872e82170ace41a2acf932317ce98fc3",
       "outputs": [
        {
         "data": {
          "image/png": "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\n",
          "text/plain": "<Figure size 1100x900 with 5 Axes>"
         },
         "metadata": {},
         "output_type": "display_data"
        }
       ]
      }
     },
     "23fab640a2194b37b8c21d58652aa20e": {
      "model_module": "@jupyter-widgets/output",
      "model_module_version": "1.0.0",
      "model_name": "OutputModel",
      "state": {
       "layout": "IPY_MODEL_4d4801a29e9748f79eb88c2a2ca3e6c1",
       "outputs": [
        {
         "data": {
          "image/png": "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\n",
          "text/plain": "<Figure size 500x500 with 1 Axes>"
         },
         "metadata": {},
         "output_type": "display_data"
        }
       ]
      }
     },
     "2467c195f6e74780b435f5feaaa8ffe5": {
      "model_module": "@jupyter-widgets/controls",
      "model_module_version": "2.0.0",
      "model_name": "ButtonStyleModel",
      "state": {
       "button_color": "white",
       "font_family": null,
       "font_size": null,
       "font_style": null,
       "font_variant": null,
       "font_weight": null,
       "text_color": null,
       "text_decoration": null
      }
     },
     "247739d809a644d4b22f15d76249eff9": {
      "model_module": "@jupyter-widgets/base",
      "model_module_version": "2.0.0",
      "model_name": "LayoutModel",
      "state": {
       "grid_area": "left",
       "width": "100%"
      }
     },
     "248939048aa54094aaf90c7a5396a2a1": {
      "model_module": "@jupyter-widgets/base",
      "model_module_version": "2.0.0",
      "model_name": "LayoutModel",
      "state": {
       "width": "145px"
      }
     },
     "25469352fc4147f99d14c02e7aa22d79": {
      "model_module": "@jupyter-widgets/base",
      "model_module_version": "2.0.0",
      "model_name": "LayoutModel",
      "state": {
       "grid_area": "bottom",
       "width": "auto"
      }
     },
     "2547f5c0dd664cdfb7a14f486f39df85": {
      "model_module": "@jupyter-widgets/base",
      "model_module_version": "2.0.0",
      "model_name": "LayoutModel",
      "state": {}
     },
     "255b9f6a0130445d915d354f7f6e4677": {
      "model_module": "@jupyter-widgets/controls",
      "model_module_version": "2.0.0",
      "model_name": "HTMLMathStyleModel",
      "state": {
       "description_width": "",
       "font_size": null,
       "text_color": null
      }
     },
     "257c210ff0d94114a61c0de8df24e7c6": {
      "model_module": "@jupyter-widgets/base",
      "model_module_version": "2.0.0",
      "model_name": "LayoutModel",
      "state": {
       "width": "70px"
      }
     },
     "25cd6c15027b461b996d2bae39664891": {
      "model_module": "@jupyter-widgets/controls",
      "model_module_version": "2.0.0",
      "model_name": "ButtonStyleModel",
      "state": {
       "button_color": "white",
       "font_family": null,
       "font_size": null,
       "font_style": null,
       "font_variant": null,
       "font_weight": null,
       "text_color": null,
       "text_decoration": null
      }
     },
     "265e33a10c574e9ab80959de9f9beabc": {
      "model_module": "@jupyter-widgets/controls",
      "model_module_version": "2.0.0",
      "model_name": "HTMLStyleModel",
      "state": {
       "description_width": "",
       "font_size": null,
       "text_color": null
      }
     },
     "26892d6786d94e749721146865d33cf8": {
      "model_module": "@jupyter-widgets/base",
      "model_module_version": "2.0.0",
      "model_name": "LayoutModel",
      "state": {
       "grid_area": "left",
       "width": "100%"
      }
     },
     "26d5bb7cd0b14466a4d2d966aba1102d": {
      "model_module": "@jupyter-widgets/base",
      "model_module_version": "2.0.0",
      "model_name": "LayoutModel",
      "state": {
       "margin": "0px 0px 0px 0px"
      }
     },
     "270914cb8fd94644a70e3f94c5f94e1b": {
      "model_module": "@jupyter-widgets/controls",
      "model_module_version": "2.0.0",
      "model_name": "HTMLModel",
      "state": {
       "layout": "IPY_MODEL_bc17304a684d4bfdb2032b559f49c6a8",
       "style": "IPY_MODEL_265e33a10c574e9ab80959de9f9beabc",
       "value": "ibmq_belem"
      }
     },
     "271f879ccdc24058a6f61963b16e871d": {
      "model_module": "@jupyter-widgets/controls",
      "model_module_version": "2.0.0",
      "model_name": "HTMLModel",
      "state": {
       "layout": "IPY_MODEL_cddeaed51f934b048a9a0e4b54ddd01a",
       "style": "IPY_MODEL_4a5f3dc726b24c3c81d3605dca14e489",
       "value": "<table><style>\ntable {\n    border-collapse: collapse;\n    width: auto;\n}\n\nth, td {\n    text-align: left;\n    padding: 8px;\n}\n\ntr:nth-child(even) {background-color: #f6f6f6;};\n</style><tr><th></th><th>Type</th><th>Gate error</th></tr><tr><td><font style='font-weight:bold'>cx1_0</font></td><td>cx</td><td>0.00736</td></tr><tr><td><font style='font-weight:bold'>cx3_1</font></td><td>cx</td><td>0.01588</td></tr><tr><td><font style='font-weight:bold'>cx1_3</font></td><td>cx</td><td>0.01588</td></tr></table>"
      }
     },
     "286f859ccbac402ea20a180d72796a9f": {
      "model_module": "@jupyter-widgets/base",
      "model_module_version": "2.0.0",
      "model_name": "LayoutModel",
      "state": {}
     },
     "28bae68397504ceabc1cdb952063b716": {
      "model_module": "@jupyter-widgets/controls",
      "model_module_version": "2.0.0",
      "model_name": "HTMLModel",
      "state": {
       "layout": "IPY_MODEL_ab9d3e1a874f48e6a13526d5ce3af66f",
       "style": "IPY_MODEL_e0acc2cdcf6b4f0f93742aef11736fdf",
       "value": "<table><style>\ntable {\n    border-collapse: collapse;\n    width: auto;\n}\n\nth, td {\n    text-align: left;\n    padding: 8px;\n}\n\ntr:nth-child(even) {background-color: #f6f6f6;};\n</style><tr><th></th><th>Type</th><th>Gate error</th></tr><tr><td><font style='font-weight:bold'>cx4_3</font></td><td>cx</td><td>0.01241</td></tr><tr><td><font style='font-weight:bold'>cx3_4</font></td><td>cx</td><td>0.01241</td></tr><tr><td><font style='font-weight:bold'>cx3_1</font></td><td>cx</td><td>0.0072</td></tr></table>"
      }
     },
     "28ec76056a2140768ab05c329c9ab35c": {
      "model_module": "@jupyter-widgets/controls",
      "model_module_version": "2.0.0",
      "model_name": "HTMLStyleModel",
      "state": {
       "description_width": "",
       "font_size": null,
       "text_color": null
      }
     },
     "2903406eb3f941ee8ba1498486baa8ad": {
      "model_module": "@jupyter-widgets/controls",
      "model_module_version": "2.0.0",
      "model_name": "HTMLModel",
      "state": {
       "layout": "IPY_MODEL_874a5e3d3dae43f6a766114f0b36a3c1",
       "style": "IPY_MODEL_b022789c7bde473d99bdea16f2e9e411",
       "value": "<table><style>\ntable {\n    border-collapse: collapse;\n    width: auto;\n}\n\nth, td {\n    text-align: left;\n    padding: 8px;\n}\n\ntr:nth-child(even) {background-color: #f6f6f6;};\n</style><tr><th></th><th>Type</th><th>Gate error</th></tr><tr><td><font style='font-weight:bold'>cx1_0</font></td><td>cx</td><td>0.00736</td></tr><tr><td><font style='font-weight:bold'>cx3_1</font></td><td>cx</td><td>0.01588</td></tr><tr><td><font style='font-weight:bold'>cx1_3</font></td><td>cx</td><td>0.01588</td></tr></table>"
      }
     },
     "29222e88cd344015a4cb9ab6dc281e21": {
      "model_module": "@jupyter-widgets/controls",
      "model_module_version": "2.0.0",
      "model_name": "TabModel",
      "state": {
       "layout": "IPY_MODEL_5c301d070278406f88fa3d432877484c"
      }
     },
     "29407ce4249c4ff991e8a7613d8cb395": {
      "model_module": "@jupyter-widgets/base",
      "model_module_version": "2.0.0",
      "model_name": "LayoutModel",
      "state": {
       "grid_area": "top"
      }
     },
     "29d7a55bc2664af5abc48c072907c49d": {
      "model_module": "@jupyter-widgets/base",
      "model_module_version": "2.0.0",
      "model_name": "LayoutModel",
      "state": {
       "align_items": "center",
       "display": "flex-inline",
       "grid_area": "right",
       "max_height": "325px",
       "padding": "10px 10px 10px 10px",
       "width": "auto"
      }
     },
     "2a9742d600d64860901ee88ebea15228": {
      "model_module": "@jupyter-widgets/controls",
      "model_module_version": "2.0.0",
      "model_name": "ButtonStyleModel",
      "state": {
       "button_color": "white",
       "font_family": null,
       "font_size": null,
       "font_style": null,
       "font_variant": null,
       "font_weight": null,
       "text_color": null,
       "text_decoration": null
      }
     },
     "2abfea9492bb45919b6842cff7d053ce": {
      "model_module": "@jupyter-widgets/controls",
      "model_module_version": "2.0.0",
      "model_name": "TabModel",
      "state": {
       "children": [
        "IPY_MODEL_a72441ce8e33488481815ee53bc1e3bc",
        "IPY_MODEL_b7ec308f95c540a8960bfcb5448c1ab7",
        "IPY_MODEL_e054a48dcc7942598fdb910d4f366994",
        "IPY_MODEL_f990f79251ea46999a522e5dda20b080",
        "IPY_MODEL_d4d29689724b499a87292301b8311f32"
       ],
       "layout": "IPY_MODEL_2547f5c0dd664cdfb7a14f486f39df85",
       "selected_index": 0,
       "titles": [
        "Configuration",
        "Qubit Properties",
        "Multi-Qubit Gates",
        "Error Map",
        "Job History"
       ]
      }
     },
     "2acb848654994977a666b35348e0b521": {
      "model_module": "@jupyter-widgets/base",
      "model_module_version": "2.0.0",
      "model_name": "LayoutModel",
      "state": {}
     },
     "2c23138ca22440dc98fdef0d296cbab2": {
      "model_module": "@jupyter-widgets/controls",
      "model_module_version": "2.0.0",
      "model_name": "HTMLStyleModel",
      "state": {
       "description_width": "",
       "font_size": null,
       "text_color": null
      }
     },
     "2d319621805647f297bf024ff1112b86": {
      "model_module": "@jupyter-widgets/controls",
      "model_module_version": "2.0.0",
      "model_name": "HTMLStyleModel",
      "state": {
       "description_width": "",
       "font_size": null,
       "text_color": null
      }
     },
     "2d5a5d7486914a3581f3098291b2d452": {
      "model_module": "@jupyter-widgets/controls",
      "model_module_version": "2.0.0",
      "model_name": "HTMLMathStyleModel",
      "state": {
       "description_width": "",
       "font_size": null,
       "text_color": null
      }
     },
     "2d6663bd4c054ebd94f15bce704fc1dd": {
      "model_module": "@jupyter-widgets/controls",
      "model_module_version": "2.0.0",
      "model_name": "HTMLStyleModel",
      "state": {
       "description_width": "",
       "font_size": null,
       "text_color": null
      }
     },
     "2d6d5ff417b54e91bd13aa582f98c6c9": {
      "model_module": "@jupyter-widgets/controls",
      "model_module_version": "2.0.0",
      "model_name": "HTMLStyleModel",
      "state": {
       "description_width": "",
       "font_size": null,
       "text_color": null
      }
     },
     "2e4c83956da846bd84c059a4dc4ad97e": {
      "model_module": "@jupyter-widgets/controls",
      "model_module_version": "2.0.0",
      "model_name": "HTMLModel",
      "state": {
       "layout": "IPY_MODEL_aac2647f93874928b3ef4bbf9d194601",
       "style": "IPY_MODEL_16fd9c532c3b4167a3e627ceae5e1dcf",
       "value": "job has successfully run"
      }
     },
     "2e6325382797426f8e4b2ad4baf58184": {
      "model_module": "@jupyter-widgets/controls",
      "model_module_version": "2.0.0",
      "model_name": "HBoxModel",
      "state": {
       "children": [
        "IPY_MODEL_8f14271ea3b74aa585bf416a3149be43",
        "IPY_MODEL_7801cea0bac34d9282a28438047d754c",
        "IPY_MODEL_05659c26666b4afb92a3cbd16de98ddb",
        "IPY_MODEL_917e5e24d7e24505a6d1a38e03df718f",
        "IPY_MODEL_ca64476d27bc4747bbdce5460824ad59",
        "IPY_MODEL_4219bd720fd946138996a10fab67a0d0"
       ],
       "layout": "IPY_MODEL_a45789d84fd84a0392496bb125e95b26"
      }
     },
     "2e868a6750214c5e8dde34365c9dc211": {
      "model_module": "@jupyter-widgets/controls",
      "model_module_version": "2.0.0",
      "model_name": "HTMLStyleModel",
      "state": {
       "description_width": "",
       "font_size": null,
       "text_color": null
      }
     },
     "2e8db130b4ea418a837814e39cbcb11d": {
      "model_module": "@jupyter-widgets/controls",
      "model_module_version": "2.0.0",
      "model_name": "HBoxModel",
      "state": {
       "children": [
        "IPY_MODEL_0dc07ae664ec4d469e929055db034a3c",
        "IPY_MODEL_67561a7eb6064bcda799e7c31eadba39",
        "IPY_MODEL_5a1f7460466a4728ac5aab9cf583efe1",
        "IPY_MODEL_9ec24fa89ccf431daae4780264fdccb3",
        "IPY_MODEL_02261a5edaa44b7d8275123524ad4afd",
        "IPY_MODEL_34aa84c06a424d189c95bc6cdd25f056"
       ],
       "layout": "IPY_MODEL_88530df7c7ff40e5b0c7169a0bd23160"
      }
     },
     "2eec50f3468a4a738ce9774c92799893": {
      "model_module": "@jupyter-widgets/controls",
      "model_module_version": "2.0.0",
      "model_name": "HBoxModel",
      "state": {
       "children": [
        "IPY_MODEL_d2be8a22ed9f48478dce383e78896d9c",
        "IPY_MODEL_b52439240c4a45c09bd4b7a106152d9b",
        "IPY_MODEL_c101ef65e111478e9abbb30f9ea5719b",
        "IPY_MODEL_1433ca73b85b443aa2ed9e9c28e3e79d",
        "IPY_MODEL_942a5153784c4f90ae5499e112805761",
        "IPY_MODEL_10bce838e799445a856824a705d79dc6"
       ],
       "layout": "IPY_MODEL_e723ac3ae0a7458ca7d210b74b1432cb"
      }
     },
     "3090aead9a7f4900bf17782f75d38210": {
      "model_module": "@jupyter-widgets/controls",
      "model_module_version": "2.0.0",
      "model_name": "HTMLStyleModel",
      "state": {
       "description_width": "",
       "font_size": null,
       "text_color": null
      }
     },
     "31f2194d7f5f46e8aecbdd83a673a4ce": {
      "model_module": "@jupyter-widgets/base",
      "model_module_version": "2.0.0",
      "model_name": "LayoutModel",
      "state": {
       "max_height": "620px"
      }
     },
     "328bb2a554004146bd59e7f5f13edda0": {
      "model_module": "@jupyter-widgets/controls",
      "model_module_version": "2.0.0",
      "model_name": "TabModel",
      "state": {
       "layout": "IPY_MODEL_7f73eebda52f4266ae43942a13170a9c"
      }
     },
     "32c2a96595cd448ca8a24c2ee414e8ef": {
      "model_module": "@jupyter-widgets/base",
      "model_module_version": "2.0.0",
      "model_name": "LayoutModel",
      "state": {}
     },
     "334cd44b97d74a89b08f6e320dfabe89": {
      "model_module": "@jupyter-widgets/base",
      "model_module_version": "2.0.0",
      "model_name": "LayoutModel",
      "state": {
       "max_width": "700px",
       "min_width": "700px"
      }
     },
     "33dbde72d2284d1f925f8c27da49d8cc": {
      "model_module": "@jupyter-widgets/controls",
      "model_module_version": "2.0.0",
      "model_name": "HTMLStyleModel",
      "state": {
       "description_width": "",
       "font_size": null,
       "text_color": null
      }
     },
     "34347da126b14dab833fc171289e83b5": {
      "model_module": "@jupyter-widgets/base",
      "model_module_version": "2.0.0",
      "model_name": "LayoutModel",
      "state": {
       "grid_area": "top"
      }
     },
     "34aa84c06a424d189c95bc6cdd25f056": {
      "model_module": "@jupyter-widgets/controls",
      "model_module_version": "2.0.0",
      "model_name": "HTMLModel",
      "state": {
       "layout": "IPY_MODEL_4307f935a13d4dc283b1d4a538df5761",
       "style": "IPY_MODEL_5ee70c898bad448f8c1fb9173680f8e9",
       "value": "job has successfully run"
      }
     },
     "34c9590da57a4eedb497d2ec439e3457": {
      "model_module": "@jupyter-widgets/controls",
      "model_module_version": "2.0.0",
      "model_name": "HTMLStyleModel",
      "state": {
       "description_width": "",
       "font_size": null,
       "text_color": null
      }
     },
     "34f5e0fc7fea4bcb869e1d6f2cf6c08e": {
      "model_module": "@jupyter-widgets/output",
      "model_module_version": "1.0.0",
      "model_name": "OutputModel",
      "state": {
       "layout": "IPY_MODEL_763ee7214bc84c919924ea884dfbbca2",
       "outputs": [
        {
         "data": {
          "image/png": "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\n",
          "text/plain": "<Figure size 1100x900 with 5 Axes>"
         },
         "metadata": {},
         "output_type": "display_data"
        }
       ]
      }
     },
     "34f65067cb83463391b012b5d0531f54": {
      "model_module": "@jupyter-widgets/controls",
      "model_module_version": "2.0.0",
      "model_name": "HTMLMathStyleModel",
      "state": {
       "description_width": "",
       "font_size": null,
       "text_color": null
      }
     },
     "350d23fadade4dbe9a6520f6043ebfc6": {
      "model_module": "@jupyter-widgets/base",
      "model_module_version": "2.0.0",
      "model_name": "LayoutModel",
      "state": {
       "grid_gap": "0px 0px",
       "grid_template_areas": "\n                               \"left right right right\"\n                               \"bottom bottom bottom bottom\"\n                               ",
       "grid_template_columns": "31% 23% 23% 23%",
       "grid_template_rows": "auto auto"
      }
     },
     "36657ffdb3b44edf9ab3469f4927b4c2": {
      "model_module": "@jupyter-widgets/controls",
      "model_module_version": "2.0.0",
      "model_name": "HTMLModel",
      "state": {
       "layout": "IPY_MODEL_286f859ccbac402ea20a180d72796a9f",
       "style": "IPY_MODEL_5ed92c52fd3e49668c244c99f0907c8c",
       "value": "<table><style>\ntable {\n    border-collapse: collapse;\n    width: auto;\n}\n\nth, td {\n    text-align: left;\n    padding: 8px;\n}\n\ntr:nth-child(even) {background-color: #f6f6f6;}\n</style><tr><th></th><th>Frequency</th><th>T1</th><th>T2</th><th>RZ</th><th>SX</th><th>X</th><th>Readout error</th></tr><tr><td><font style='font-weight:bold'>Q0</font></td><td>5.30069 GHz</td><td>103.87482 us</td><td>111.05864 us</td><td>0</td><td>0.00062</td><td>0.00062</td><td>0.0441 </td><tr><td><font style='font-weight:bold'>Q1</font></td><td>5.08058 GHz</td><td>131.47474 us</td><td>124.72989 us</td><td>0</td><td>0.00032</td><td>0.00032</td><td>0.0312 </td><tr><td><font style='font-weight:bold'>Q2</font></td><td>5.32219 GHz</td><td>99.43253 us</td><td>83.30093 us</td><td>0</td><td>0.00028</td><td>0.00028</td><td>0.0771 </td><tr><td><font style='font-weight:bold'>Q3</font></td><td>5.16362 GHz</td><td>86.04235 us</td><td>19.20968 us</td><td>0</td><td>0.00031</td><td>0.00031</td><td>0.0361 </td><tr><td><font style='font-weight:bold'>Q4</font></td><td>5.05233 GHz</td><td>88.79684 us</td><td>117.00068 us</td><td>0</td><td>0.00052</td><td>0.00052</td><td>0.0619 </td></table>"
      }
     },
     "36b0af1443e844fdb706f23ff7d2155a": {
      "model_module": "@jupyter-widgets/controls",
      "model_module_version": "2.0.0",
      "model_name": "HTMLModel",
      "state": {
       "layout": "IPY_MODEL_248939048aa54094aaf90c7a5396a2a1",
       "style": "IPY_MODEL_34c9590da57a4eedb497d2ec439e3457",
       "value": "ibmq_lima"
      }
     },
     "3711b24e332541ad9f28347f96389cd0": {
      "model_module": "@jupyter-widgets/base",
      "model_module_version": "2.0.0",
      "model_name": "LayoutModel",
      "state": {
       "margin": "0px 0px 0px 37px",
       "width": "600px"
      }
     },
     "3774ea4cdedb4e2395c2fe9dfb9a1ee9": {
      "model_module": "@jupyter-widgets/base",
      "model_module_version": "2.0.0",
      "model_name": "LayoutModel",
      "state": {}
     },
     "37b87c2236d244d28dd38c0edef86d56": {
      "model_module": "@jupyter-widgets/base",
      "model_module_version": "2.0.0",
      "model_name": "LayoutModel",
      "state": {
       "grid_gap": "0px 0px",
       "grid_template_areas": "\n                                                   \"top top top\"\n                                                   \"left middle right\"\n                                                   ",
       "grid_template_columns": "33% 33% 33%",
       "grid_template_rows": "auto auto"
      }
     },
     "3876c705b5c449129e6390f0b49fb565": {
      "model_module": "@jupyter-widgets/controls",
      "model_module_version": "2.0.0",
      "model_name": "HTMLStyleModel",
      "state": {
       "description_width": "",
       "font_size": null,
       "text_color": null
      }
     },
     "38d63d50fbdc4da0b0603a7ee4a5bac1": {
      "model_module": "@jupyter-widgets/controls",
      "model_module_version": "2.0.0",
      "model_name": "HTMLStyleModel",
      "state": {
       "description_width": "",
       "font_size": null,
       "text_color": null
      }
     },
     "392357ed1e034d179b184a6d1d48c2ef": {
      "model_module": "@jupyter-widgets/controls",
      "model_module_version": "2.0.0",
      "model_name": "HTMLModel",
      "state": {
       "layout": "IPY_MODEL_133104ef15aa41a9a0db1a1537392b8d",
       "style": "IPY_MODEL_91318d1608b242ce9f2af795e2f5378c",
       "value": "<table><style>\ntable {\n    border-collapse: collapse;\n    width: auto;\n}\n\nth, td {\n    text-align: left;\n    padding: 8px;\n}\n\ntr:nth-child(even) {background-color: #f6f6f6;};\n</style><tr><th></th><th>Type</th><th>Gate error</th></tr><tr><td><font style='font-weight:bold'>cx3_1</font></td><td>cx</td><td>0.01455</td></tr><tr><td><font style='font-weight:bold'>cx2_1</font></td><td>cx</td><td>0.00651</td></tr><tr><td><font style='font-weight:bold'>cx1_2</font></td><td>cx</td><td>0.00651</td></tr></table>"
      }
     },
     "3aa89002727e44a488b15eaf15e013a2": {
      "model_module": "@jupyter-widgets/base",
      "model_module_version": "2.0.0",
      "model_name": "LayoutModel",
      "state": {
       "width": "70px"
      }
     },
     "3ab23d07a7ae4406a4c7a590f170ddce": {
      "model_module": "@jupyter-widgets/base",
      "model_module_version": "2.0.0",
      "model_name": "LayoutModel",
      "state": {
       "width": "145px"
      }
     },
     "3b1de8563f394d9380c128d8bdb479ea": {
      "model_module": "@jupyter-widgets/base",
      "model_module_version": "2.0.0",
      "model_name": "LayoutModel",
      "state": {
       "margin": "0px 0px 0px 0px"
      }
     },
     "3bde0e510c6f4408b6e30b6e27f890b9": {
      "model_module": "@jupyter-widgets/controls",
      "model_module_version": "2.0.0",
      "model_name": "HTMLModel",
      "state": {
       "layout": "IPY_MODEL_4bbd488f2ae941fab678fff87ec1046d",
       "style": "IPY_MODEL_d331619e338843ee8542021bbeaa0441",
       "value": "<table><style>\ntable {\n    border-collapse: collapse;\n    width: auto;\n}\n\nth, td {\n    text-align: left;\n    padding: 8px;\n}\n\ntr:nth-child(even) {background-color: #f6f6f6;};\n</style><tr><th></th><th>Type</th><th>Gate error</th></tr><tr><td><font style='font-weight:bold'>cx2_1</font></td><td>cx</td><td>0.00904</td></tr><tr><td><font style='font-weight:bold'>cx1_2</font></td><td>cx</td><td>0.00904</td></tr></table>"
      }
     },
     "3c5126b97257466e8dc6285e6df1ebc6": {
      "model_module": "@jupyter-widgets/controls",
      "model_module_version": "2.0.0",
      "model_name": "HTMLModel",
      "state": {
       "layout": "IPY_MODEL_6263082d9dfd49509b8632cbb1722c7d",
       "style": "IPY_MODEL_a9acac2253a8476699eebf482cae4a4b",
       "value": "<div><font style='font-weight:bold'>last_update_date</font>: 2023-04-21 05:26:45+00:00</div>"
      }
     },
     "3c89d09faab84383a1caaa1d1d94c8ba": {
      "model_module": "@jupyter-widgets/controls",
      "model_module_version": "2.0.0",
      "model_name": "HTMLModel",
      "state": {
       "layout": "IPY_MODEL_d2f8e4749f3e4d8fadd35cd55b44d207",
       "style": "IPY_MODEL_60d225487b9c464191e4fa78187d470f",
       "value": "<table><style>\ntable {\n    border-collapse: collapse;\n    width: auto;\n}\n\nth, td {\n    text-align: left;\n    padding: 8px;\n}\n\ntr:nth-child(even) {background-color: #f6f6f6;};\n</style><tr><th></th><th>Type</th><th>Gate error</th></tr><tr><td><font style='font-weight:bold'>cx4_3</font></td><td>cx</td><td>0.0173</td></tr><tr><td><font style='font-weight:bold'>cx3_4</font></td><td>cx</td><td>0.0173</td></tr><tr><td><font style='font-weight:bold'>cx0_1</font></td><td>cx</td><td>0.00736</td></tr></table>"
      }
     },
     "3cc89fb8edc54f959c45c4fa1a1858ee": {
      "model_module": "@jupyter-widgets/controls",
      "model_module_version": "2.0.0",
      "model_name": "HTMLModel",
      "state": {
       "layout": "IPY_MODEL_41da8f8bad4548dba1decdde8bb4bbf5",
       "style": "IPY_MODEL_2c23138ca22440dc98fdef0d296cbab2",
       "value": "<div><font style='font-weight:bold'>last_update_date</font>: Fri 21 April 2023 at 05:26 UTC</div>"
      }
     },
     "3d53e95137cd427f929f095960ebacd7": {
      "model_module": "@jupyter-widgets/base",
      "model_module_version": "2.0.0",
      "model_name": "LayoutModel",
      "state": {
       "align_items": "center",
       "display": "flex-inline"
      }
     },
     "3e1505892ab84df28edd924244ec0888": {
      "model_module": "@jupyter-widgets/controls",
      "model_module_version": "2.0.0",
      "model_name": "VBoxModel",
      "state": {
       "children": [
        "IPY_MODEL_83f4814cbd1042a9b13706a9443ac95e",
        "IPY_MODEL_89f1ad8a12d2484e811eac3b3e391fe0"
       ],
       "layout": "IPY_MODEL_de5a74d260fd4a97ba1822e1cc2a9295"
      }
     },
     "3ec81425b4894375bb022938f4d2a3a4": {
      "model_module": "@jupyter-widgets/base",
      "model_module_version": "2.0.0",
      "model_name": "LayoutModel",
      "state": {}
     },
     "3ef944603f3e486389f4ea18b3bdf7e6": {
      "model_module": "@jupyter-widgets/controls",
      "model_module_version": "2.0.0",
      "model_name": "HTMLModel",
      "state": {
       "layout": "IPY_MODEL_d4cdfd85b60d468fb243507c4930cab0",
       "style": "IPY_MODEL_9309813d8fad42a2ae64d736c0fa9c64",
       "value": "<table><style>\ntable {\n    border-collapse: collapse;\n    width: auto;\n}\n\nth, td {\n    text-align: left;\n    padding: 8px;\n}\n\ntr:nth-child(even) {background-color: #f6f6f6;};\n</style><tr><th></th><th>Type</th><th>Gate error</th></tr><tr><td><font style='font-weight:bold'>cx3_4</font></td><td>cx</td><td>0.01762</td></tr><tr><td><font style='font-weight:bold'>cx4_3</font></td><td>cx</td><td>0.01762</td></tr><tr><td><font style='font-weight:bold'>cx1_3</font></td><td>cx</td><td>0.01455</td></tr></table>"
      }
     },
     "3fd8eb78a10a4ca58418e5d070a02086": {
      "model_module": "@jupyter-widgets/base",
      "model_module_version": "2.0.0",
      "model_name": "LayoutModel",
      "state": {}
     },
     "40262d5d2897446a80659d5061473f0d": {
      "model_module": "@jupyter-widgets/controls",
      "model_module_version": "2.0.0",
      "model_name": "HTMLModel",
      "state": {
       "layout": "IPY_MODEL_1eb4b1109de2416a853cf192f9f73996",
       "style": "IPY_MODEL_575541b17ab84e128a20243f7daa75f3",
       "value": "<h5>Job ID</h5>"
      }
     },
     "40579465692f40cd8f5db6c942c62c33": {
      "model_module": "@jupyter-widgets/base",
      "model_module_version": "2.0.0",
      "model_name": "LayoutModel",
      "state": {
       "width": "190px"
      }
     },
     "4082f35a810149e18fb6681d0f04af56": {
      "model_module": "@jupyter-widgets/base",
      "model_module_version": "2.0.0",
      "model_name": "LayoutModel",
      "state": {
       "grid_gap": "0px 0px",
       "grid_template_areas": "\n                               \"left right right right\"\n                               \"bottom bottom bottom bottom\"\n                               ",
       "grid_template_columns": "31% 23% 23% 23%",
       "grid_template_rows": "auto auto"
      }
     },
     "40fe0c6eda5740689991a5747ea89522": {
      "model_module": "@jupyter-widgets/controls",
      "model_module_version": "2.0.0",
      "model_name": "HTMLMathModel",
      "state": {
       "layout": "IPY_MODEL_8e111114a05a43f6bb12bb9fb99d1137",
       "style": "IPY_MODEL_f77da1a9730449928e3f19579e51963b",
       "value": "<table><style>\ntable {\n    border-collapse: collapse;\n    width: auto;\n}\n\nth, td {\n    text-align: left;\n    padding: 8px;\n}\n\ntr:nth-child(even) {background-color: #f6f6f6;}\n</style><tr><th></th><th></th></tr><tr><td>qubit_channel_mapping</td><td>[['u0', 'u1', 'm0', 'd0'], ['u0', 'd1', 'u5', 'u1', 'u4', 'u2', 'm1', 'u3'], ['m2', 'u2', 'd2', 'u4'], ['u5', 'u6', 'm3', 'd3', 'u7', 'u3'], ['d4', 'u6', 'm4', 'u7']]</td></tr><tr><td>allow_q_object</td><td>True</td></tr><tr><td>dt</td><td>0.2222222222222222</td></tr><tr><td>description</td><td>5 qubit device Quito</td></tr><tr><td>open_pulse</td><td>False</td></tr><tr><td>rep_delay_range</td><td>[0.0, 500.0]</td></tr><tr><td>supported_instructions</td><td>['cx', 'id', 'delay', 'measure', 'reset', 'rz', 'sx', 'x']</td></tr><tr><td>meas_levels</td><td>[1, 2]</td></tr><tr><td>meas_lo_range</td><td>[[6.807868157000001, 7.807868157000001], [6.7292695270000005, 7.7292695270000005], [6.991060108, 7.991060108], [6.8547510460000005, 7.8547510460000005], [6.904365522000001, 7.904365522000001]]</td></tr><tr><td>rep_times</td><td>[1000.0]</td></tr><tr><td>memory</td><td>True</td></tr><tr><td>multi_meas_enabled</td><td>True</td></tr><tr><td>backend_name</td><td>ibmq_quito</td></tr><tr><td>n_registers</td><td>1</td></tr><tr><td>channels</td><td>{'acquire0': {'operates': {'qubits': [0]}, 'purpose': 'acquire', 'type': 'acquire'}, 'acquire1': {'operates': {'qubits': [1]}, 'purpose': 'acquire', 'type': 'acquire'}, 'acquire2': {'operates': {'qubits': [2]}, 'purpose': 'acquire', 'type': 'acquire'}, 'acquire3': {'operates': {'qubits': [3]}, 'purpose': 'acquire', 'type': 'acquire'}, 'acquire4': {'operates': {'qubits': [4]}, 'purpose': 'acquire', 'type': 'acquire'}, 'd0': {'operates': {'qubits': [0]}, 'purpose': 'drive', 'type': 'drive'}, 'd1': {'operates': {'qubits': [1]}, 'purpose': 'drive', 'type': 'drive'}, 'd2': {'operates': {'qubits': [2]}, 'purpose': 'drive', 'type': 'drive'}, 'd3': {'operates': {'qubits': [3]}, 'purpose': 'drive', 'type': 'drive'}, 'd4': {'operates': {'qubits': [4]}, 'purpose': 'drive', 'type': 'drive'}, 'm0': {'operates': {'qubits': [0]}, 'purpose': 'measure', 'type': 'measure'}, 'm1': {'operates': {'qubits': [1]}, 'purpose': 'measure', 'type': 'measure'}, 'm2': {'operates': {'qubits': [2]}, 'purpose': 'measure', 'type': 'measure'}, 'm3': {'operates': {'qubits': [3]}, 'purpose': 'measure', 'type': 'measure'}, 'm4': {'operates': {'qubits': [4]}, 'purpose': 'measure', 'type': 'measure'}, 'u0': {'operates': {'qubits': [0, 1]}, 'purpose': 'cross-resonance', 'type': 'control'}, 'u1': {'operates': {'qubits': [1, 0]}, 'purpose': 'cross-resonance', 'type': 'control'}, 'u2': {'operates': {'qubits': [1, 2]}, 'purpose': 'cross-resonance', 'type': 'control'}, 'u3': {'operates': {'qubits': [1, 3]}, 'purpose': 'cross-resonance', 'type': 'control'}, 'u4': {'operates': {'qubits': [2, 1]}, 'purpose': 'cross-resonance', 'type': 'control'}, 'u5': {'operates': {'qubits': [3, 1]}, 'purpose': 'cross-resonance', 'type': 'control'}, 'u6': {'operates': {'qubits': [3, 4]}, 'purpose': 'cross-resonance', 'type': 'control'}, 'u7': {'operates': {'qubits': [4, 3]}, 'purpose': 'cross-resonance', 'type': 'control'}}</td></tr><tr><td>conditional</td><td>False</td></tr><tr><td>hamiltonian</td><td>$$\\begin{align} \\mathcal{H}/\\hbar = & \\sum_{i=0}^{4}\\left(\\frac{\\omega_{q,i}}{2}(\\mathbb{I}-\\sigma_i^{z})+\\frac{\\Delta_{i}}{2}(O_i^2-O_i)+\\Omega_{d,i}D_i(t)\\sigma_i^{X}\\right) \\\\ & + J_{0,1}(\\sigma_{0}^{+}\\sigma_{1}^{-}+\\sigma_{0}^{-}\\sigma_{1}^{+}) + J_{1,2}(\\sigma_{1}^{+}\\sigma_{2}^{-}+\\sigma_{1}^{-}\\sigma_{2}^{+}) + J_{1,3}(\\sigma_{1}^{+}\\sigma_{3}^{-}+\\sigma_{1}^{-}\\sigma_{3}^{+}) + J_{3,4}(\\sigma_{3}^{+}\\sigma_{4}^{-}+\\sigma_{3}^{-}\\sigma_{4}^{+}) \\\\ & + \\Omega_{d,0}(U_{0}^{(0,1)}(t))\\sigma_{0}^{X} + \\Omega_{d,1}(U_{1}^{(1,0)}(t)+U_{3}^{(1,3)}(t)+U_{2}^{(1,2)}(t))\\sigma_{1}^{X} \\\\ & + \\Omega_{d,2}(U_{4}^{(2,1)}(t))\\sigma_{2}^{X} + \\Omega_{d,3}(U_{6}^{(3,4)}(t)+U_{5}^{(3,1)}(t))\\sigma_{3}^{X} \\\\ & + \\Omega_{d,4}(U_{7}^{(4,3)}(t))\\sigma_{4}^{X} \\\\ \\end{align}$$</td></tr><tr><td>clops</td><td>2506</td></tr><tr><td>discriminators</td><td>['quadratic_discriminator', 'hw_centroid', 'linear_discriminator']</td></tr><tr><td>dynamic_reprate_enabled</td><td>True</td></tr><tr><td>qubit_lo_range</td><td>[[4.800687093152551, 5.800687093152551], [4.580583210471726, 5.580583210471726], [4.822186436385297, 5.822186436385297], [4.663616562911523, 5.663616562911523], [4.552327635948928, 5.552327635948928]]</td></tr><tr><td>simulator</td><td>False</td></tr><tr><td>supported_features</td><td>['qobj']</td></tr><tr><td>pulse_num_qubits</td><td>3</td></tr><tr><td>conditional_latency</td><td>[]</td></tr><tr><td>n_uchannels</td><td>8</td></tr><tr><td>local</td><td>False</td></tr><tr><td>pulse_num_channels</td><td>9</td></tr><tr><td>parallel_compilation</td><td>False</td></tr><tr><td>coupling_map</td><td>[[0, 1], [1, 0], [1, 2], [1, 3], [2, 1], [3, 1], [3, 4], [4, 3]]</td></tr><tr><td>processor_type</td><td>{'family': 'Falcon', 'revision': 4, 'segment': 'T'}</td></tr><tr><td>parametric_pulses</td><td>['gaussian', 'gaussian_square', 'gaussian_square_drag', 'drag', 'constant']</td></tr><tr><td>uchannels_enabled</td><td>True</td></tr><tr><td>live_data</td><td>False</td></tr><tr><td>acquisition_latency</td><td>[]</td></tr><tr><td>dtm</td><td>0.2222222222222222</td></tr><tr><td>input_allowed</td><td>['job', 'runtime']</td></tr><tr><td>sample_name</td><td>family: Falcon, revision: 4, segment: T</td></tr><tr><td>timing_constraints</td><td>{'acquire_alignment': 16, 'granularity': 16, 'min_length': 64, 'pulse_alignment': 1}</td></tr><tr><td>url</td><td>None</td></tr><tr><td>online_date</td><td>2021-01-08 05:00:00+00:00</td></tr><tr><td>default_rep_delay</td><td>250.0</td></tr><tr><td>measure_esp_enabled</td><td>False</td></tr><tr><td>allow_object_storage</td><td>True</td></tr><tr><td>meas_kernels</td><td>['hw_boxcar']</td></tr><tr><td>credits_required</td><td>True</td></tr><tr><td>meas_map</td><td>[[0, 1, 2, 3, 4]]</td></tr><tr><td>u_channel_lo</td><td>[[{'q': 1, 'scale': (1+0j)}], [{'q': 0, 'scale': (1+0j)}], [{'q': 2, 'scale': (1+0j)}], [{'q': 3, 'scale': (1+0j)}], [{'q': 1, 'scale': (1+0j)}], [{'q': 1, 'scale': (1+0j)}], [{'q': 4, 'scale': (1+0j)}], [{'q': 3, 'scale': (1+0j)}]]</td></tr></table>"
      }
     },
     "41da8f8bad4548dba1decdde8bb4bbf5": {
      "model_module": "@jupyter-widgets/base",
      "model_module_version": "2.0.0",
      "model_name": "LayoutModel",
      "state": {}
     },
     "4219bd720fd946138996a10fab67a0d0": {
      "model_module": "@jupyter-widgets/controls",
      "model_module_version": "2.0.0",
      "model_name": "HTMLModel",
      "state": {
       "layout": "IPY_MODEL_8c6ff23d721445f3b963afdf965ac9ab",
       "style": "IPY_MODEL_bce5be07c78449b78733d4956287dd4c",
       "value": "<p style=white-space:nowrap;>job is queued</p>"
      }
     },
     "42420226caef4737946e8f4f02a6e80c": {
      "model_module": "@jupyter-widgets/controls",
      "model_module_version": "2.0.0",
      "model_name": "HTMLStyleModel",
      "state": {
       "description_width": "",
       "font_size": null,
       "text_color": null
      }
     },
     "42a6f16a0ecf41138632e18d281334a5": {
      "model_module": "@jupyter-widgets/base",
      "model_module_version": "2.0.0",
      "model_name": "LayoutModel",
      "state": {
       "margin": "0px 5px 0px 0px",
       "width": "32px"
      }
     },
     "4307f935a13d4dc283b1d4a538df5761": {
      "model_module": "@jupyter-widgets/base",
      "model_module_version": "2.0.0",
      "model_name": "LayoutModel",
      "state": {}
     },
     "43d5b19472314153bd9a093d0302300b": {
      "model_module": "@jupyter-widgets/base",
      "model_module_version": "2.0.0",
      "model_name": "LayoutModel",
      "state": {}
     },
     "4434aa97a59a464fb891316ab7e8382a": {
      "model_module": "@jupyter-widgets/controls",
      "model_module_version": "2.0.0",
      "model_name": "HTMLModel",
      "state": {
       "layout": "IPY_MODEL_16fc39af1feb422fbaeee7071ea4bfdd",
       "style": "IPY_MODEL_67663aeac0c54aad94115cec49301743",
       "value": "ch168uije75ehat311i0"
      }
     },
     "4443bb0a127442f8986796d5d876f01b": {
      "model_module": "@jupyter-widgets/base",
      "model_module_version": "2.0.0",
      "model_name": "LayoutModel",
      "state": {}
     },
     "4465a4ee323d41cfa4cb8044583c18ad": {
      "model_module": "@jupyter-widgets/base",
      "model_module_version": "2.0.0",
      "model_name": "LayoutModel",
      "state": {
       "grid_area": "left",
       "width": "100%"
      }
     },
     "44c8435cc6ef406397a966c230d8a37d": {
      "model_module": "@jupyter-widgets/controls",
      "model_module_version": "2.0.0",
      "model_name": "VBoxModel",
      "state": {
       "children": [
        "IPY_MODEL_e6342db66b86482ba426c33826eda77e",
        "IPY_MODEL_c71ae7d563d84644bcc5f98b03248cf6"
       ],
       "layout": "IPY_MODEL_e72ab9456c544d7bb0bdef55b4d2c67f"
      }
     },
     "45f0a90e42df4695b052c67a78a85e73": {
      "model_module": "@jupyter-widgets/controls",
      "model_module_version": "2.0.0",
      "model_name": "HTMLModel",
      "state": {
       "layout": "IPY_MODEL_b0fafe333dd941b0aed7e907388ee107",
       "style": "IPY_MODEL_837f58244ca64c61a2835250b6744d6b",
       "value": "job has successfully run"
      }
     },
     "484a39c6f75b4b709dae39f024a00c75": {
      "model_module": "@jupyter-widgets/controls",
      "model_module_version": "2.0.0",
      "model_name": "HTMLModel",
      "state": {
       "layout": "IPY_MODEL_6af4d0c8dd304de7a882827af006d89a",
       "style": "IPY_MODEL_b2c11c01ac144ca69c0bd6a382ae55ac",
       "value": "<div><font style='font-weight:bold'>last_update_date</font>: Fri 21 April 2023 at 05:26 UTC</div>"
      }
     },
     "49102067e64248ba8ca80aaa1c3f68f1": {
      "model_module": "@jupyter-widgets/base",
      "model_module_version": "2.0.0",
      "model_name": "LayoutModel",
      "state": {
       "width": "95px"
      }
     },
     "4981dfbb6f5e4b5281431aa5f64c83e9": {
      "model_module": "@jupyter-widgets/controls",
      "model_module_version": "2.0.0",
      "model_name": "HTMLMathModel",
      "state": {
       "layout": "IPY_MODEL_c3c625d5dfc64a03b6875ce978f37ff5",
       "style": "IPY_MODEL_800c66e754a34069804acb3be61fde78",
       "value": "<table><style>\ntable {\n    border-collapse: collapse;\n    width: auto;\n}\n\nth, td {\n    text-align: left;\n    padding: 8px;\n}\n\ntr:nth-child(even) {background-color: #f6f6f6;}\n</style><tr><th>Property</th><th>Value</th></tr><tr><td><font style='font-weight:bold'>n_qubits</font></td><td>5</td></tr><tr><td><font style='font-weight:bold'>quantum_volume</font></td><td>16</td></tr><tr><td><font style='font-weight:bold'>operational</font></td><td>True</td></tr><tr><td><font style='font-weight:bold'>status_msg</font></td><td>active</td></tr><tr><td><font style='font-weight:bold'>pending_jobs</font></td><td>42</td></tr><tr><td><font style='font-weight:bold'>backend_version</font></td><td>1.1.40</td></tr><tr><td><font style='font-weight:bold'>basis_gates</font></td><td>['id', 'rz', 'sx', 'x', 'cx', 'reset']</td></tr><tr><td><font style='font-weight:bold'>max_shots</font></td><td>20000</td></tr><tr><td><font style='font-weight:bold'>max_experiments</font></td><td>100</td></tr></table>"
      }
     },
     "4a5379cafb9c4f54975d93e43e5b9d2e": {
      "model_module": "@jupyter-widgets/base",
      "model_module_version": "2.0.0",
      "model_name": "LayoutModel",
      "state": {
       "width": "95px"
      }
     },
     "4a5f3dc726b24c3c81d3605dca14e489": {
      "model_module": "@jupyter-widgets/controls",
      "model_module_version": "2.0.0",
      "model_name": "HTMLStyleModel",
      "state": {
       "description_width": "",
       "font_size": null,
       "text_color": null
      }
     },
     "4a6d6c063fde47c2beaef2ad0c27363d": {
      "model_module": "@jupyter-widgets/controls",
      "model_module_version": "2.0.0",
      "model_name": "HTMLModel",
      "state": {
       "layout": "IPY_MODEL_40579465692f40cd8f5db6c942c62c33",
       "style": "IPY_MODEL_1a6c5a8a4ecd458d94143e4085fc9ab6",
       "value": "ch16973ubrsheer0k6gg"
      }
     },
     "4b7a8cd41c4643ea882c6be153652a4f": {
      "model_module": "@jupyter-widgets/controls",
      "model_module_version": "2.0.0",
      "model_name": "HTMLMathModel",
      "state": {
       "layout": "IPY_MODEL_d4460d5c412946e5b27da5f6931fed21",
       "style": "IPY_MODEL_255b9f6a0130445d915d354f7f6e4677",
       "value": "<table><style>\ntable {\n    border-collapse: collapse;\n    width: auto;\n}\n\nth, td {\n    text-align: left;\n    padding: 8px;\n}\n\ntr:nth-child(even) {background-color: #f6f6f6;}\n</style><tr><th></th><th></th></tr><tr><td>qubit_channel_mapping</td><td>[['u0', 'd0', 'm0', 'u1'], ['u1', 'm1', 'u0', 'd1', 'u4', 'u2', 'u3', 'u5'], ['u2', 'u4', 'm2', 'd2'], ['m3', 'u7', 'd3', 'u6', 'u3', 'u5'], ['m4', 'd4', 'u7', 'u6']]</td></tr><tr><td>allow_q_object</td><td>True</td></tr><tr><td>dt</td><td>0.2222222222222222</td></tr><tr><td>description</td><td>5 qubit device Lima</td></tr><tr><td>open_pulse</td><td>False</td></tr><tr><td>rep_delay_range</td><td>[0.0, 500.0]</td></tr><tr><td>supported_instructions</td><td>['cx', 'id', 'delay', 'measure', 'reset', 'rz', 'sx', 'x']</td></tr><tr><td>meas_levels</td><td>[1, 2]</td></tr><tr><td>meas_lo_range</td><td>[[6.925143125000001, 7.925143125000001], [6.721646720000001, 7.721646720000001], [6.971842939, 7.971842939], [6.865317232000001, 7.865317232000001], [6.919067567000001, 7.919067567000001]]</td></tr><tr><td>rep_times</td><td>[1000.0]</td></tr><tr><td>memory</td><td>True</td></tr><tr><td>multi_meas_enabled</td><td>True</td></tr><tr><td>backend_name</td><td>ibmq_lima</td></tr><tr><td>n_registers</td><td>1</td></tr><tr><td>channels</td><td>{'acquire0': {'operates': {'qubits': [0]}, 'purpose': 'acquire', 'type': 'acquire'}, 'acquire1': {'operates': {'qubits': [1]}, 'purpose': 'acquire', 'type': 'acquire'}, 'acquire2': {'operates': {'qubits': [2]}, 'purpose': 'acquire', 'type': 'acquire'}, 'acquire3': {'operates': {'qubits': [3]}, 'purpose': 'acquire', 'type': 'acquire'}, 'acquire4': {'operates': {'qubits': [4]}, 'purpose': 'acquire', 'type': 'acquire'}, 'd0': {'operates': {'qubits': [0]}, 'purpose': 'drive', 'type': 'drive'}, 'd1': {'operates': {'qubits': [1]}, 'purpose': 'drive', 'type': 'drive'}, 'd2': {'operates': {'qubits': [2]}, 'purpose': 'drive', 'type': 'drive'}, 'd3': {'operates': {'qubits': [3]}, 'purpose': 'drive', 'type': 'drive'}, 'd4': {'operates': {'qubits': [4]}, 'purpose': 'drive', 'type': 'drive'}, 'm0': {'operates': {'qubits': [0]}, 'purpose': 'measure', 'type': 'measure'}, 'm1': {'operates': {'qubits': [1]}, 'purpose': 'measure', 'type': 'measure'}, 'm2': {'operates': {'qubits': [2]}, 'purpose': 'measure', 'type': 'measure'}, 'm3': {'operates': {'qubits': [3]}, 'purpose': 'measure', 'type': 'measure'}, 'm4': {'operates': {'qubits': [4]}, 'purpose': 'measure', 'type': 'measure'}, 'u0': {'operates': {'qubits': [0, 1]}, 'purpose': 'cross-resonance', 'type': 'control'}, 'u1': {'operates': {'qubits': [1, 0]}, 'purpose': 'cross-resonance', 'type': 'control'}, 'u2': {'operates': {'qubits': [1, 2]}, 'purpose': 'cross-resonance', 'type': 'control'}, 'u3': {'operates': {'qubits': [1, 3]}, 'purpose': 'cross-resonance', 'type': 'control'}, 'u4': {'operates': {'qubits': [2, 1]}, 'purpose': 'cross-resonance', 'type': 'control'}, 'u5': {'operates': {'qubits': [3, 1]}, 'purpose': 'cross-resonance', 'type': 'control'}, 'u6': {'operates': {'qubits': [3, 4]}, 'purpose': 'cross-resonance', 'type': 'control'}, 'u7': {'operates': {'qubits': [4, 3]}, 'purpose': 'cross-resonance', 'type': 'control'}}</td></tr><tr><td>conditional</td><td>False</td></tr><tr><td>hamiltonian</td><td>$$\\begin{align} \\mathcal{H}/\\hbar = & \\sum_{i=0}^{4}\\left(\\frac{\\omega_{q,i}}{2}(\\mathbb{I}-\\sigma_i^{z})+\\frac{\\Delta_{i}}{2}(O_i^2-O_i)+\\Omega_{d,i}D_i(t)\\sigma_i^{X}\\right) \\\\ & + J_{0,1}(\\sigma_{0}^{+}\\sigma_{1}^{-}+\\sigma_{0}^{-}\\sigma_{1}^{+}) + J_{1,2}(\\sigma_{1}^{+}\\sigma_{2}^{-}+\\sigma_{1}^{-}\\sigma_{2}^{+}) + J_{1,3}(\\sigma_{1}^{+}\\sigma_{3}^{-}+\\sigma_{1}^{-}\\sigma_{3}^{+}) + J_{3,4}(\\sigma_{3}^{+}\\sigma_{4}^{-}+\\sigma_{3}^{-}\\sigma_{4}^{+}) \\\\ & + \\Omega_{d,0}(U_{0}^{(0,1)}(t))\\sigma_{0}^{X} + \\Omega_{d,1}(U_{1}^{(1,0)}(t)+U_{3}^{(1,3)}(t)+U_{2}^{(1,2)}(t))\\sigma_{1}^{X} \\\\ & + \\Omega_{d,2}(U_{4}^{(2,1)}(t))\\sigma_{2}^{X} + \\Omega_{d,3}(U_{6}^{(3,4)}(t)+U_{5}^{(3,1)}(t))\\sigma_{3}^{X} \\\\ & + \\Omega_{d,4}(U_{7}^{(4,3)}(t))\\sigma_{4}^{X} \\\\ \\end{align}$$</td></tr><tr><td>clops</td><td>2673</td></tr><tr><td>discriminators</td><td>['hw_centroid', 'linear_discriminator', 'quadratic_discriminator']</td></tr><tr><td>dynamic_reprate_enabled</td><td>True</td></tr><tr><td>qubit_lo_range</td><td>[[4.529757407582503, 5.529757407582503], [4.627738582553157, 5.627738582553158], [4.747352102631919, 5.747352102631919], [4.80255503352921, 5.80255503352921], [4.592083651746325, 5.592083651746325]]</td></tr><tr><td>simulator</td><td>False</td></tr><tr><td>supported_features</td><td>['qobj']</td></tr><tr><td>pulse_num_qubits</td><td>3</td></tr><tr><td>conditional_latency</td><td>[]</td></tr><tr><td>n_uchannels</td><td>8</td></tr><tr><td>local</td><td>False</td></tr><tr><td>pulse_num_channels</td><td>9</td></tr><tr><td>parallel_compilation</td><td>False</td></tr><tr><td>coupling_map</td><td>[[0, 1], [1, 0], [1, 2], [1, 3], [2, 1], [3, 1], [3, 4], [4, 3]]</td></tr><tr><td>processor_type</td><td>{'family': 'Falcon', 'revision': 4, 'segment': 'T'}</td></tr><tr><td>parametric_pulses</td><td>['gaussian', 'gaussian_square', 'gaussian_square_drag', 'drag', 'constant']</td></tr><tr><td>uchannels_enabled</td><td>True</td></tr><tr><td>live_data</td><td>False</td></tr><tr><td>acquisition_latency</td><td>[]</td></tr><tr><td>dtm</td><td>0.2222222222222222</td></tr><tr><td>input_allowed</td><td>['job', 'runtime']</td></tr><tr><td>sample_name</td><td>family: Falcon, revision: 4, segment: T</td></tr><tr><td>timing_constraints</td><td>{'acquire_alignment': 16, 'granularity': 16, 'min_length': 64, 'pulse_alignment': 1}</td></tr><tr><td>url</td><td>None</td></tr><tr><td>online_date</td><td>2021-01-08 05:00:00+00:00</td></tr><tr><td>default_rep_delay</td><td>250.0</td></tr><tr><td>measure_esp_enabled</td><td>False</td></tr><tr><td>allow_object_storage</td><td>True</td></tr><tr><td>meas_kernels</td><td>['hw_boxcar']</td></tr><tr><td>credits_required</td><td>True</td></tr><tr><td>meas_map</td><td>[[0, 1, 2, 3, 4]]</td></tr><tr><td>u_channel_lo</td><td>[[{'q': 1, 'scale': (1+0j)}], [{'q': 0, 'scale': (1+0j)}], [{'q': 2, 'scale': (1+0j)}], [{'q': 3, 'scale': (1+0j)}], [{'q': 1, 'scale': (1+0j)}], [{'q': 1, 'scale': (1+0j)}], [{'q': 4, 'scale': (1+0j)}], [{'q': 3, 'scale': (1+0j)}]]</td></tr></table>"
      }
     },
     "4b9d6b7280094744afd55f67d460a6c3": {
      "model_module": "@jupyter-widgets/controls",
      "model_module_version": "2.0.0",
      "model_name": "HTMLStyleModel",
      "state": {
       "description_width": "",
       "font_size": null,
       "text_color": null
      }
     },
     "4bbd488f2ae941fab678fff87ec1046d": {
      "model_module": "@jupyter-widgets/base",
      "model_module_version": "2.0.0",
      "model_name": "LayoutModel",
      "state": {
       "grid_area": "right"
      }
     },
     "4cbd6cece32b4198bfedced1cc94f992": {
      "model_module": "@jupyter-widgets/controls",
      "model_module_version": "2.0.0",
      "model_name": "HTMLModel",
      "state": {
       "layout": "IPY_MODEL_687ae2a0f8bb49aba3aa8a6b57235ec4",
       "style": "IPY_MODEL_64a42cdd3ac145db91527ca2e6c422b7",
       "value": "<table><style>\ntable {\n    border-collapse: collapse;\n    width: auto;\n}\n\nth, td {\n    text-align: left;\n    padding: 8px;\n}\n\ntr:nth-child(even) {background-color: #f6f6f6;};\n</style><tr><th></th><th>Type</th><th>Gate error</th></tr><tr><td><font style='font-weight:bold'>cx3_4</font></td><td>cx</td><td>0.01762</td></tr><tr><td><font style='font-weight:bold'>cx4_3</font></td><td>cx</td><td>0.01762</td></tr><tr><td><font style='font-weight:bold'>cx1_3</font></td><td>cx</td><td>0.01455</td></tr></table>"
      }
     },
     "4d0f73882a7d476d8eb517ab588ff308": {
      "model_module": "@jupyter-widgets/controls",
      "model_module_version": "2.0.0",
      "model_name": "HTMLModel",
      "state": {
       "layout": "IPY_MODEL_3b1de8563f394d9380c128d8bdb479ea",
       "style": "IPY_MODEL_6edb477e88e04561920f9dcf01aa2752",
       "value": "<h1 style='color:#ffffff;background-color:#000000;padding-top: 1%;padding-bottom: 1%;padding-left: 1%; margin-top: 0px'>ibmq_lima</h1>"
      }
     },
     "4d4801a29e9748f79eb88c2a2ca3e6c1": {
      "model_module": "@jupyter-widgets/base",
      "model_module_version": "2.0.0",
      "model_name": "LayoutModel",
      "state": {
       "align_items": "center",
       "display": "flex-inline",
       "grid_area": "right",
       "max_height": "325px",
       "padding": "10px 10px 10px 10px",
       "width": "auto"
      }
     },
     "4dbf5d069a944850820d51b47dff14e6": {
      "model_module": "@jupyter-widgets/controls",
      "model_module_version": "2.0.0",
      "model_name": "HTMLModel",
      "state": {
       "layout": "IPY_MODEL_32c2a96595cd448ca8a24c2ee414e8ef",
       "style": "IPY_MODEL_9c4feff0e5aa4ee9abe959631286c7ff",
       "value": "<div><font style='font-weight:bold'>last_update_date</font>: Fri 21 April 2023 at 05:17 UTC</div>"
      }
     },
     "4e7811e299484b518c68fa19fb3e36ba": {
      "model_module": "@jupyter-widgets/base",
      "model_module_version": "2.0.0",
      "model_name": "LayoutModel",
      "state": {}
     },
     "4e8f1c1c1f294b5daedc0ea4dedb8ef4": {
      "model_module": "@jupyter-widgets/base",
      "model_module_version": "2.0.0",
      "model_name": "LayoutModel",
      "state": {
       "grid_gap": "0px 0px",
       "grid_template_areas": "\n                               \"left right right right\"\n                               \"bottom bottom bottom bottom\"\n                               ",
       "grid_template_columns": "31% 23% 23% 23%",
       "grid_template_rows": "auto auto"
      }
     },
     "4ef189c1941a492e997fbd01785e3675": {
      "model_module": "@jupyter-widgets/controls",
      "model_module_version": "2.0.0",
      "model_name": "HTMLStyleModel",
      "state": {
       "description_width": "",
       "font_size": null,
       "text_color": null
      }
     },
     "508c68f4e8b14a0689d7aa80950a441d": {
      "model_module": "@jupyter-widgets/base",
      "model_module_version": "2.0.0",
      "model_name": "LayoutModel",
      "state": {}
     },
     "50ea334295db4c3592243320d24aac54": {
      "model_module": "@jupyter-widgets/controls",
      "model_module_version": "2.0.0",
      "model_name": "HTMLMathModel",
      "state": {
       "layout": "IPY_MODEL_fe36d8495ad34812957fe1c0867918d8",
       "style": "IPY_MODEL_a497b73eea044633a2d045ca379b09ae",
       "value": "<table><style>\ntable {\n    border-collapse: collapse;\n    width: auto;\n}\n\nth, td {\n    text-align: left;\n    padding: 8px;\n}\n\ntr:nth-child(even) {background-color: #f6f6f6;}\n</style><tr><th>Property</th><th>Value</th></tr><tr><td><font style='font-weight:bold'>n_qubits</font></td><td>5</td></tr><tr><td><font style='font-weight:bold'>quantum_volume</font></td><td>16</td></tr><tr><td><font style='font-weight:bold'>operational</font></td><td>True</td></tr><tr><td><font style='font-weight:bold'>status_msg</font></td><td>active</td></tr><tr><td><font style='font-weight:bold'>pending_jobs</font></td><td>42</td></tr><tr><td><font style='font-weight:bold'>backend_version</font></td><td>1.1.40</td></tr><tr><td><font style='font-weight:bold'>basis_gates</font></td><td>['id', 'rz', 'sx', 'x', 'cx', 'reset']</td></tr><tr><td><font style='font-weight:bold'>max_shots</font></td><td>20000</td></tr><tr><td><font style='font-weight:bold'>max_experiments</font></td><td>100</td></tr></table>"
      }
     },
     "51bc82a12fc24dfe92bede0991cf0542": {
      "model_module": "@jupyter-widgets/base",
      "model_module_version": "2.0.0",
      "model_name": "LayoutModel",
      "state": {
       "max_width": "700px",
       "min_width": "700px"
      }
     },
     "522f665bced24d3ab6c1c4495b39f901": {
      "model_module": "@jupyter-widgets/controls",
      "model_module_version": "2.0.0",
      "model_name": "HTMLMathModel",
      "state": {
       "layout": "IPY_MODEL_145349df51dd4743b7f437ae2f45b412",
       "style": "IPY_MODEL_c410dff96ddd45e4b88a800d55b301d5",
       "value": "<table><style>\ntable {\n    border-collapse: collapse;\n    width: auto;\n}\n\nth, td {\n    text-align: left;\n    padding: 8px;\n}\n\ntr:nth-child(even) {background-color: #f6f6f6;}\n</style><tr><th></th><th></th></tr><tr><td>qubit_channel_mapping</td><td>[['u1', 'd0', 'm0', 'u0'], ['u4', 'u5', 'd1', 'u3', 'm1', 'u0', 'u1', 'u2'], ['m2', 'd2', 'u2', 'u4'], ['u7', 'u5', 'u3', 'u6', 'd3', 'm3'], ['m4', 'u7', 'u6', 'd4']]</td></tr><tr><td>allow_q_object</td><td>True</td></tr><tr><td>dt</td><td>0.2222222222222222</td></tr><tr><td>description</td><td>5 qubit device Belem</td></tr><tr><td>open_pulse</td><td>False</td></tr><tr><td>rep_delay_range</td><td>[0.0, 500.0]</td></tr><tr><td>supported_instructions</td><td>['cx', 'id', 'delay', 'measure', 'reset', 'rz', 'sx', 'x']</td></tr><tr><td>meas_levels</td><td>[1, 2]</td></tr><tr><td>meas_lo_range</td><td>[[6.801574705, 7.801574705], [6.8934333720000005, 7.8934333720000005], [6.860104974, 7.860104974], [6.8033823270000005, 7.8033823270000005], [6.926223338000001, 7.926223338000001]]</td></tr><tr><td>rep_times</td><td>[1000.0]</td></tr><tr><td>memory</td><td>True</td></tr><tr><td>multi_meas_enabled</td><td>True</td></tr><tr><td>backend_name</td><td>ibmq_belem</td></tr><tr><td>n_registers</td><td>1</td></tr><tr><td>channels</td><td>{'acquire0': {'operates': {'qubits': [0]}, 'purpose': 'acquire', 'type': 'acquire'}, 'acquire1': {'operates': {'qubits': [1]}, 'purpose': 'acquire', 'type': 'acquire'}, 'acquire2': {'operates': {'qubits': [2]}, 'purpose': 'acquire', 'type': 'acquire'}, 'acquire3': {'operates': {'qubits': [3]}, 'purpose': 'acquire', 'type': 'acquire'}, 'acquire4': {'operates': {'qubits': [4]}, 'purpose': 'acquire', 'type': 'acquire'}, 'd0': {'operates': {'qubits': [0]}, 'purpose': 'drive', 'type': 'drive'}, 'd1': {'operates': {'qubits': [1]}, 'purpose': 'drive', 'type': 'drive'}, 'd2': {'operates': {'qubits': [2]}, 'purpose': 'drive', 'type': 'drive'}, 'd3': {'operates': {'qubits': [3]}, 'purpose': 'drive', 'type': 'drive'}, 'd4': {'operates': {'qubits': [4]}, 'purpose': 'drive', 'type': 'drive'}, 'm0': {'operates': {'qubits': [0]}, 'purpose': 'measure', 'type': 'measure'}, 'm1': {'operates': {'qubits': [1]}, 'purpose': 'measure', 'type': 'measure'}, 'm2': {'operates': {'qubits': [2]}, 'purpose': 'measure', 'type': 'measure'}, 'm3': {'operates': {'qubits': [3]}, 'purpose': 'measure', 'type': 'measure'}, 'm4': {'operates': {'qubits': [4]}, 'purpose': 'measure', 'type': 'measure'}, 'u0': {'operates': {'qubits': [0, 1]}, 'purpose': 'cross-resonance', 'type': 'control'}, 'u1': {'operates': {'qubits': [1, 0]}, 'purpose': 'cross-resonance', 'type': 'control'}, 'u2': {'operates': {'qubits': [1, 2]}, 'purpose': 'cross-resonance', 'type': 'control'}, 'u3': {'operates': {'qubits': [1, 3]}, 'purpose': 'cross-resonance', 'type': 'control'}, 'u4': {'operates': {'qubits': [2, 1]}, 'purpose': 'cross-resonance', 'type': 'control'}, 'u5': {'operates': {'qubits': [3, 1]}, 'purpose': 'cross-resonance', 'type': 'control'}, 'u6': {'operates': {'qubits': [3, 4]}, 'purpose': 'cross-resonance', 'type': 'control'}, 'u7': {'operates': {'qubits': [4, 3]}, 'purpose': 'cross-resonance', 'type': 'control'}}</td></tr><tr><td>conditional</td><td>False</td></tr><tr><td>hamiltonian</td><td>$$\\begin{align} \\mathcal{H}/\\hbar = & \\sum_{i=0}^{4}\\left(\\frac{\\omega_{q,i}}{2}(\\mathbb{I}-\\sigma_i^{z})+\\frac{\\Delta_{i}}{2}(O_i^2-O_i)+\\Omega_{d,i}D_i(t)\\sigma_i^{X}\\right) \\\\ & + J_{0,1}(\\sigma_{0}^{+}\\sigma_{1}^{-}+\\sigma_{0}^{-}\\sigma_{1}^{+}) + J_{1,2}(\\sigma_{1}^{+}\\sigma_{2}^{-}+\\sigma_{1}^{-}\\sigma_{2}^{+}) + J_{1,3}(\\sigma_{1}^{+}\\sigma_{3}^{-}+\\sigma_{1}^{-}\\sigma_{3}^{+}) + J_{3,4}(\\sigma_{3}^{+}\\sigma_{4}^{-}+\\sigma_{3}^{-}\\sigma_{4}^{+}) \\\\ & + \\Omega_{d,0}(U_{0}^{(0,1)}(t))\\sigma_{0}^{X} + \\Omega_{d,1}(U_{1}^{(1,0)}(t)+U_{3}^{(1,3)}(t)+U_{2}^{(1,2)}(t))\\sigma_{1}^{X} \\\\ & + \\Omega_{d,2}(U_{4}^{(2,1)}(t))\\sigma_{2}^{X} + \\Omega_{d,3}(U_{6}^{(3,4)}(t)+U_{5}^{(3,1)}(t))\\sigma_{3}^{X} \\\\ & + \\Omega_{d,4}(U_{7}^{(4,3)}(t))\\sigma_{4}^{X} \\\\ \\end{align}$$</td></tr><tr><td>clops</td><td>2454</td></tr><tr><td>discriminators</td><td>['hw_centroid', 'quadratic_discriminator', 'linear_discriminator']</td></tr><tr><td>dynamic_reprate_enabled</td><td>True</td></tr><tr><td>qubit_lo_range</td><td>[[4.590219625198416, 5.590219625198416], [4.745529252965143, 5.745529252965143], [4.8614956985409155, 5.8614956985409155], [4.670317213011911, 5.670317213011911], [4.758463477378146, 5.758463477378146]]</td></tr><tr><td>simulator</td><td>False</td></tr><tr><td>supported_features</td><td>['qobj']</td></tr><tr><td>pulse_num_qubits</td><td>3</td></tr><tr><td>conditional_latency</td><td>[]</td></tr><tr><td>n_uchannels</td><td>8</td></tr><tr><td>local</td><td>False</td></tr><tr><td>pulse_num_channels</td><td>9</td></tr><tr><td>parallel_compilation</td><td>False</td></tr><tr><td>coupling_map</td><td>[[0, 1], [1, 0], [1, 2], [1, 3], [2, 1], [3, 1], [3, 4], [4, 3]]</td></tr><tr><td>processor_type</td><td>{'family': 'Falcon', 'revision': 4, 'segment': 'T'}</td></tr><tr><td>parametric_pulses</td><td>['gaussian', 'gaussian_square', 'gaussian_square_drag', 'drag', 'constant']</td></tr><tr><td>uchannels_enabled</td><td>True</td></tr><tr><td>live_data</td><td>False</td></tr><tr><td>acquisition_latency</td><td>[]</td></tr><tr><td>dtm</td><td>0.2222222222222222</td></tr><tr><td>input_allowed</td><td>['job', 'runtime']</td></tr><tr><td>sample_name</td><td>family: Falcon, revision: 4, segment: T</td></tr><tr><td>timing_constraints</td><td>{'acquire_alignment': 16, 'granularity': 16, 'min_length': 64, 'pulse_alignment': 1}</td></tr><tr><td>url</td><td>None</td></tr><tr><td>online_date</td><td>2021-01-08 05:00:00+00:00</td></tr><tr><td>default_rep_delay</td><td>250.0</td></tr><tr><td>measure_esp_enabled</td><td>False</td></tr><tr><td>allow_object_storage</td><td>True</td></tr><tr><td>meas_kernels</td><td>['hw_boxcar']</td></tr><tr><td>credits_required</td><td>True</td></tr><tr><td>meas_map</td><td>[[0, 1, 2, 3, 4]]</td></tr><tr><td>u_channel_lo</td><td>[[{'q': 1, 'scale': (1+0j)}], [{'q': 0, 'scale': (1+0j)}], [{'q': 2, 'scale': (1+0j)}], [{'q': 3, 'scale': (1+0j)}], [{'q': 1, 'scale': (1+0j)}], [{'q': 1, 'scale': (1+0j)}], [{'q': 4, 'scale': (1+0j)}], [{'q': 3, 'scale': (1+0j)}]]</td></tr></table>"
      }
     },
     "524a73dd5dcc453596f789d1b656d68f": {
      "model_module": "@jupyter-widgets/output",
      "model_module_version": "1.0.0",
      "model_name": "OutputModel",
      "state": {
       "layout": "IPY_MODEL_3d53e95137cd427f929f095960ebacd7",
       "outputs": [
        {
         "data": {
          "image/png": "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\n",
          "text/plain": "<Figure size 1100x900 with 5 Axes>"
         },
         "metadata": {},
         "output_type": "display_data"
        }
       ]
      }
     },
     "52890dc4d1af45efb01c5e8608c93643": {
      "model_module": "@jupyter-widgets/base",
      "model_module_version": "2.0.0",
      "model_name": "LayoutModel",
      "state": {
       "align_items": "center",
       "display": "flex-inline",
       "grid_area": "right",
       "max_height": "325px",
       "padding": "10px 10px 10px 10px",
       "width": "auto"
      }
     },
     "52ccb297da2643cea70fcfcc093f7617": {
      "model_module": "@jupyter-widgets/controls",
      "model_module_version": "2.0.0",
      "model_name": "HTMLModel",
      "state": {
       "layout": "IPY_MODEL_bcbd8c15311349829bfb5f7b20385677",
       "style": "IPY_MODEL_5834a8e260ba4f34953791b61a1277ac",
       "value": "<table><style>\ntable {\n    border-collapse: collapse;\n    width: auto;\n}\n\nth, td {\n    text-align: left;\n    padding: 8px;\n}\n\ntr:nth-child(even) {background-color: #f6f6f6;}\n</style><tr><th></th><th>Frequency</th><th>T1</th><th>T2</th><th>RZ</th><th>SX</th><th>X</th><th>Readout error</th></tr><tr><td><font style='font-weight:bold'>Q0</font></td><td>5.09022 GHz</td><td>97.63736 us</td><td>124.68298 us</td><td>0</td><td>0.00019</td><td>0.00019</td><td>0.022 </td><tr><td><font style='font-weight:bold'>Q1</font></td><td>5.24553 GHz</td><td>102.36121 us</td><td>124.92609 us</td><td>0</td><td>0.00023</td><td>0.00023</td><td>0.0197 </td><tr><td><font style='font-weight:bold'>Q2</font></td><td>5.3615 GHz</td><td>95.69288 us</td><td>66.37103 us</td><td>0</td><td>0.00029</td><td>0.00029</td><td>0.0358 </td><tr><td><font style='font-weight:bold'>Q3</font></td><td>5.17032 GHz</td><td>106.46553 us</td><td>118.81208 us</td><td>0</td><td>0.00057</td><td>0.00057</td><td>0.0274 </td><tr><td><font style='font-weight:bold'>Q4</font></td><td>5.25846 GHz</td><td>87.87528 us</td><td>164.55961 us</td><td>0</td><td>0.00097</td><td>0.00097</td><td>0.026 </td></table>"
      }
     },
     "5323206959604f25be82dd2d47b8edca": {
      "model_module": "@jupyter-widgets/controls",
      "model_module_version": "2.0.0",
      "model_name": "HTMLStyleModel",
      "state": {
       "description_width": "",
       "font_size": null,
       "text_color": null
      }
     },
     "53f50a89d7ec4507b58ac4ce43d39e9e": {
      "model_module": "@jupyter-widgets/base",
      "model_module_version": "2.0.0",
      "model_name": "LayoutModel",
      "state": {
       "width": "145px"
      }
     },
     "54b318db29354930b639bdb0fc1f0c76": {
      "model_module": "@jupyter-widgets/base",
      "model_module_version": "2.0.0",
      "model_name": "LayoutModel",
      "state": {
       "margin": "0px 5px 0px 0px",
       "width": "32px"
      }
     },
     "54edda318f3c4e1f99a1ff40cd532760": {
      "model_module": "@jupyter-widgets/base",
      "model_module_version": "2.0.0",
      "model_name": "LayoutModel",
      "state": {
       "grid_area": "right"
      }
     },
     "55265add4ec244549fca47a138723e42": {
      "model_module": "@jupyter-widgets/base",
      "model_module_version": "2.0.0",
      "model_name": "LayoutModel",
      "state": {
       "grid_area": "middle"
      }
     },
     "557f8104e776421da6c51402745093a2": {
      "model_module": "@jupyter-widgets/controls",
      "model_module_version": "2.0.0",
      "model_name": "HTMLModel",
      "state": {
       "layout": "IPY_MODEL_00dc7540cb184435be872dbb0a94e334",
       "style": "IPY_MODEL_8d62c935656c483bb56b55783b99aa12",
       "value": "<h1 style='color:#ffffff;background-color:#000000;padding-top: 1%;padding-bottom: 1%;padding-left: 1%; margin-top: 0px'>ibmq_lima</h1>"
      }
     },
     "563ed321fba7405296a956bd3959ae17": {
      "model_module": "@jupyter-widgets/base",
      "model_module_version": "2.0.0",
      "model_name": "LayoutModel",
      "state": {
       "grid_area": "middle"
      }
     },
     "5697d20499294cb5ac1c40789dde48b2": {
      "model_module": "@jupyter-widgets/controls",
      "model_module_version": "2.0.0",
      "model_name": "ButtonModel",
      "state": {
       "icon": "close",
       "layout": "IPY_MODEL_54b318db29354930b639bdb0fc1f0c76",
       "style": "IPY_MODEL_2a9742d600d64860901ee88ebea15228",
       "tooltip": null
      }
     },
     "575541b17ab84e128a20243f7daa75f3": {
      "model_module": "@jupyter-widgets/controls",
      "model_module_version": "2.0.0",
      "model_name": "HTMLStyleModel",
      "state": {
       "description_width": "",
       "font_size": null,
       "text_color": null
      }
     },
     "5834a8e260ba4f34953791b61a1277ac": {
      "model_module": "@jupyter-widgets/controls",
      "model_module_version": "2.0.0",
      "model_name": "HTMLStyleModel",
      "state": {
       "description_width": "",
       "font_size": null,
       "text_color": null
      }
     },
     "5868a73fec56483b85c091f05bc6f567": {
      "model_module": "@jupyter-widgets/controls",
      "model_module_version": "2.0.0",
      "model_name": "TabModel",
      "state": {
       "children": [
        "IPY_MODEL_7615837203164a5ab5a04db3c4e22bab",
        "IPY_MODEL_d82c037f62a74a06960f1668bafbbb9e",
        "IPY_MODEL_1220012440804ad29a5afe898b4f4e9c",
        "IPY_MODEL_ec6fdf662e574758a8f0425f11b5f62f",
        "IPY_MODEL_a29f8b4efb5544cda5f2b52206b6c931"
       ],
       "layout": "IPY_MODEL_e397380ba25a442d83d06476457d169d",
       "selected_index": 0,
       "titles": [
        "Configuration",
        "Qubit Properties",
        "Multi-Qubit Gates",
        "Error Map",
        "Job History"
       ]
      }
     },
     "5895e80107164ce8b9605e98af20c39d": {
      "model_module": "@jupyter-widgets/controls",
      "model_module_version": "2.0.0",
      "model_name": "HTMLModel",
      "state": {
       "layout": "IPY_MODEL_da7cc1da349a46698ddcffd68e30e4c3",
       "style": "IPY_MODEL_dc54417f65864ba282bcfdb9c71af37c",
       "value": "<h5>Status</h5>"
      }
     },
     "592dfdc1bebe451dbb3d1e145c621a36": {
      "model_module": "@jupyter-widgets/base",
      "model_module_version": "2.0.0",
      "model_name": "LayoutModel",
      "state": {
       "margin": "0px 0px 0px 0px"
      }
     },
     "59ec94ab02d44a2f989f9db61e581c85": {
      "model_module": "@jupyter-widgets/controls",
      "model_module_version": "2.0.0",
      "model_name": "HTMLStyleModel",
      "state": {
       "description_width": "",
       "font_size": null,
       "text_color": null
      }
     },
     "5a1f7460466a4728ac5aab9cf583efe1": {
      "model_module": "@jupyter-widgets/controls",
      "model_module_version": "2.0.0",
      "model_name": "HTMLModel",
      "state": {
       "layout": "IPY_MODEL_aca7b4c0a64a4ba1a75cb49b01a6be5a",
       "style": "IPY_MODEL_6a549e3557a246f5a32363413098137a",
       "value": "ibmq_lima"
      }
     },
     "5aa8c53c300d4e5fa036934b6f9c1203": {
      "model_module": "@jupyter-widgets/controls",
      "model_module_version": "2.0.0",
      "model_name": "HTMLMathStyleModel",
      "state": {
       "description_width": "",
       "font_size": null,
       "text_color": null
      }
     },
     "5b59716c2b0c41b8a1ef75f2597d018d": {
      "model_module": "@jupyter-widgets/base",
      "model_module_version": "2.0.0",
      "model_name": "LayoutModel",
      "state": {
       "grid_area": "bottom",
       "width": "auto"
      }
     },
     "5ba06724dd324bb589fbebcdad35cdf9": {
      "model_module": "@jupyter-widgets/output",
      "model_module_version": "1.0.0",
      "model_name": "OutputModel",
      "state": {
       "layout": "IPY_MODEL_a12c1f6cd8514bbf888ec8cce02a0d08",
       "outputs": [
        {
         "data": {
          "image/png": "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\n",
          "text/plain": "<Figure size 500x500 with 1 Axes>"
         },
         "metadata": {},
         "output_type": "display_data"
        }
       ]
      }
     },
     "5c22d2c0a4e64cd2a1ea61d5a3ad67dc": {
      "model_module": "@jupyter-widgets/controls",
      "model_module_version": "2.0.0",
      "model_name": "HTMLStyleModel",
      "state": {
       "description_width": "",
       "font_size": null,
       "text_color": null
      }
     },
     "5c301d070278406f88fa3d432877484c": {
      "model_module": "@jupyter-widgets/base",
      "model_module_version": "2.0.0",
      "model_name": "LayoutModel",
      "state": {
       "max_height": "620px"
      }
     },
     "5d42c2bbe98844e5b7c4af02108ee722": {
      "model_module": "@jupyter-widgets/controls",
      "model_module_version": "2.0.0",
      "model_name": "VBoxModel",
      "state": {
       "children": [
        "IPY_MODEL_ac76090263944dbcbe73d8e5eec9bdaa",
        "IPY_MODEL_c425562f14aa4b049c8ebe22b4970285"
       ],
       "layout": "IPY_MODEL_e26e908baed2404ca90eade695a58579"
      }
     },
     "5ec62cdd195b4e7ca5d1ac0175783b67": {
      "model_module": "@jupyter-widgets/controls",
      "model_module_version": "2.0.0",
      "model_name": "HTMLModel",
      "state": {
       "layout": "IPY_MODEL_f89074579b4a4f80a281db596f5c53ed",
       "style": "IPY_MODEL_2e868a6750214c5e8dde34365c9dc211",
       "value": "<div><font style='font-weight:bold'>last_update_date</font>: Fri 21 April 2023 at 05:15 UTC</div>"
      }
     },
     "5ed92c52fd3e49668c244c99f0907c8c": {
      "model_module": "@jupyter-widgets/controls",
      "model_module_version": "2.0.0",
      "model_name": "HTMLStyleModel",
      "state": {
       "description_width": "",
       "font_size": null,
       "text_color": null
      }
     },
     "5ee70c898bad448f8c1fb9173680f8e9": {
      "model_module": "@jupyter-widgets/controls",
      "model_module_version": "2.0.0",
      "model_name": "HTMLStyleModel",
      "state": {
       "description_width": "",
       "font_size": null,
       "text_color": null
      }
     },
     "5fd114ac1f6744b7b3c1f91d6af69100": {
      "model_module": "@jupyter-widgets/controls",
      "model_module_version": "2.0.0",
      "model_name": "GridBoxModel",
      "state": {
       "children": [
        "IPY_MODEL_edaa2aa3d6de449c94573e524dd867e4",
        "IPY_MODEL_a9b5928265884a2cba5554e7622bea12",
        "IPY_MODEL_271f879ccdc24058a6f61963b16e871d",
        "IPY_MODEL_ef4b33064c3943b4b2adcd699069c641"
       ],
       "layout": "IPY_MODEL_37b87c2236d244d28dd38c0edef86d56"
      }
     },
     "60d225487b9c464191e4fa78187d470f": {
      "model_module": "@jupyter-widgets/controls",
      "model_module_version": "2.0.0",
      "model_name": "HTMLStyleModel",
      "state": {
       "description_width": "",
       "font_size": null,
       "text_color": null
      }
     },
     "610063ca05af43f5a0c680bb83b5a41b": {
      "model_module": "@jupyter-widgets/controls",
      "model_module_version": "2.0.0",
      "model_name": "TabModel",
      "state": {
       "layout": "IPY_MODEL_7ac5f1b754ae40389586435c07bffcbf"
      }
     },
     "619c5d5738e04f9f83d7e6a8ffdd0eae": {
      "model_module": "@jupyter-widgets/base",
      "model_module_version": "2.0.0",
      "model_name": "LayoutModel",
      "state": {
       "max_height": "620px"
      }
     },
     "6256a48cb7e640408dff5592a4a8c394": {
      "model_module": "@jupyter-widgets/base",
      "model_module_version": "2.0.0",
      "model_name": "LayoutModel",
      "state": {
       "grid_area": "left",
       "width": "100%"
      }
     },
     "6263082d9dfd49509b8632cbb1722c7d": {
      "model_module": "@jupyter-widgets/base",
      "model_module_version": "2.0.0",
      "model_name": "LayoutModel",
      "state": {
       "grid_area": "top"
      }
     },
     "62c3b51750484914be83873542c4d779": {
      "model_module": "@jupyter-widgets/controls",
      "model_module_version": "2.0.0",
      "model_name": "VBoxModel",
      "state": {
       "children": [
        "IPY_MODEL_8b6cbb8764b0491d83f7db9aa94e7c1a",
        "IPY_MODEL_36657ffdb3b44edf9ab3469f4927b4c2"
       ],
       "layout": "IPY_MODEL_811c29cab59b4e6ba4dff47886621680"
      }
     },
     "62ce2afd9b08460790794288f21cbfe4": {
      "model_module": "@jupyter-widgets/controls",
      "model_module_version": "2.0.0",
      "model_name": "ButtonModel",
      "state": {
       "icon": "close",
       "layout": "IPY_MODEL_128ae93a8caf42dbb500a61c747a8e2f",
       "style": "IPY_MODEL_c253fae892214fd0b01a8d978898d794",
       "tooltip": null
      }
     },
     "63fe4c90148c4da2b6bf80b7d9dfba49": {
      "model_module": "@jupyter-widgets/base",
      "model_module_version": "2.0.0",
      "model_name": "LayoutModel",
      "state": {
       "width": "190px"
      }
     },
     "64473bbaa8da4c3782d4f4230638a00c": {
      "model_module": "@jupyter-widgets/base",
      "model_module_version": "2.0.0",
      "model_name": "LayoutModel",
      "state": {}
     },
     "64608918b0594a33878461e76d5e5f1a": {
      "model_module": "@jupyter-widgets/controls",
      "model_module_version": "2.0.0",
      "model_name": "TabModel",
      "state": {
       "layout": "IPY_MODEL_9625215cea324099b6e93c65423f1439"
      }
     },
     "64a42cdd3ac145db91527ca2e6c422b7": {
      "model_module": "@jupyter-widgets/controls",
      "model_module_version": "2.0.0",
      "model_name": "HTMLStyleModel",
      "state": {
       "description_width": "",
       "font_size": null,
       "text_color": null
      }
     },
     "64e239055fae4c9a82c45ea5e57ac9fe": {
      "model_module": "@jupyter-widgets/base",
      "model_module_version": "2.0.0",
      "model_name": "LayoutModel",
      "state": {}
     },
     "650b8cd014d54e58bc4d21c2c450dd30": {
      "model_module": "@jupyter-widgets/base",
      "model_module_version": "2.0.0",
      "model_name": "LayoutModel",
      "state": {
       "grid_gap": "0px 0px",
       "grid_template_areas": "\n                               \"left right right right\"\n                               \"bottom bottom bottom bottom\"\n                               ",
       "grid_template_columns": "31% 23% 23% 23%",
       "grid_template_rows": "auto auto"
      }
     },
     "6557c2a0de984e4b863c1deaa07a5d0a": {
      "model_module": "@jupyter-widgets/controls",
      "model_module_version": "2.0.0",
      "model_name": "HTMLMathModel",
      "state": {
       "layout": "IPY_MODEL_756dc2545eee4b8e91bbb0263a32fa5b",
       "style": "IPY_MODEL_d4b16195c20e4054881bf7bffad04ef6",
       "value": "<table><style>\ntable {\n    border-collapse: collapse;\n    width: auto;\n}\n\nth, td {\n    text-align: left;\n    padding: 8px;\n}\n\ntr:nth-child(even) {background-color: #f6f6f6;}\n</style><tr><th>Property</th><th>Value</th></tr><tr><td><font style='font-weight:bold'>n_qubits</font></td><td>5</td></tr><tr><td><font style='font-weight:bold'>quantum_volume</font></td><td>8</td></tr><tr><td><font style='font-weight:bold'>operational</font></td><td>True</td></tr><tr><td><font style='font-weight:bold'>status_msg</font></td><td>active</td></tr><tr><td><font style='font-weight:bold'>pending_jobs</font></td><td>12</td></tr><tr><td><font style='font-weight:bold'>backend_version</font></td><td>1.0.47</td></tr><tr><td><font style='font-weight:bold'>basis_gates</font></td><td>['id', 'rz', 'sx', 'x', 'cx', 'reset']</td></tr><tr><td><font style='font-weight:bold'>max_shots</font></td><td>20000</td></tr><tr><td><font style='font-weight:bold'>max_experiments</font></td><td>100</td></tr></table>"
      }
     },
     "6591218a36644dfb903b329036f37b84": {
      "model_module": "@jupyter-widgets/controls",
      "model_module_version": "2.0.0",
      "model_name": "GridBoxModel",
      "state": {
       "children": [
        "IPY_MODEL_867d3b52c2674e62ab1bfa6da8675416",
        "IPY_MODEL_a30b494a9cea469a81ebde2d1ea871b5",
        "IPY_MODEL_d0f666e59677421b8e3849fb38704ddc",
        "IPY_MODEL_063458681280449fbb1f09eb6a90e652"
       ],
       "layout": "IPY_MODEL_65cc81ad39a64efb89b7e8a3aa5e31e3"
      }
     },
     "65cc81ad39a64efb89b7e8a3aa5e31e3": {
      "model_module": "@jupyter-widgets/base",
      "model_module_version": "2.0.0",
      "model_name": "LayoutModel",
      "state": {
       "grid_gap": "0px 0px",
       "grid_template_areas": "\n                                                   \"top top top\"\n                                                   \"left middle right\"\n                                                   ",
       "grid_template_columns": "33% 33% 33%",
       "grid_template_rows": "auto auto"
      }
     },
     "66236ac595154c3b93f136f5e85d819c": {
      "model_module": "@jupyter-widgets/base",
      "model_module_version": "2.0.0",
      "model_name": "LayoutModel",
      "state": {
       "grid_area": "left"
      }
     },
     "6636b1fbcc6f4c4687d70020c2bbb6e2": {
      "model_module": "@jupyter-widgets/controls",
      "model_module_version": "2.0.0",
      "model_name": "HTMLStyleModel",
      "state": {
       "description_width": "",
       "font_size": null,
       "text_color": null
      }
     },
     "67561a7eb6064bcda799e7c31eadba39": {
      "model_module": "@jupyter-widgets/controls",
      "model_module_version": "2.0.0",
      "model_name": "HTMLModel",
      "state": {
       "layout": "IPY_MODEL_79dbb7c822c248e4bbdcec0a928428f4",
       "style": "IPY_MODEL_970f98eae11c456f885595b4cc792544",
       "value": "ch167vhpiqvdaaj1mbjg"
      }
     },
     "67663aeac0c54aad94115cec49301743": {
      "model_module": "@jupyter-widgets/controls",
      "model_module_version": "2.0.0",
      "model_name": "HTMLStyleModel",
      "state": {
       "description_width": "",
       "font_size": null,
       "text_color": null
      }
     },
     "67bc1ae3da204083b219b3334f233a4c": {
      "model_module": "@jupyter-widgets/base",
      "model_module_version": "2.0.0",
      "model_name": "LayoutModel",
      "state": {
       "grid_area": "top"
      }
     },
     "685231ce855a4691b82a099558e05c37": {
      "model_module": "@jupyter-widgets/base",
      "model_module_version": "2.0.0",
      "model_name": "LayoutModel",
      "state": {
       "align_items": "center",
       "display": "flex-inline"
      }
     },
     "687ae2a0f8bb49aba3aa8a6b57235ec4": {
      "model_module": "@jupyter-widgets/base",
      "model_module_version": "2.0.0",
      "model_name": "LayoutModel",
      "state": {
       "grid_area": "left"
      }
     },
     "68a2cde769324d808d52db2052cce24a": {
      "model_module": "@jupyter-widgets/controls",
      "model_module_version": "2.0.0",
      "model_name": "HTMLMathModel",
      "state": {
       "layout": "IPY_MODEL_26892d6786d94e749721146865d33cf8",
       "style": "IPY_MODEL_e8f319d549774809a8485383a4345448",
       "value": "<table><style>\ntable {\n    border-collapse: collapse;\n    width: auto;\n}\n\nth, td {\n    text-align: left;\n    padding: 8px;\n}\n\ntr:nth-child(even) {background-color: #f6f6f6;}\n</style><tr><th>Property</th><th>Value</th></tr><tr><td><font style='font-weight:bold'>n_qubits</font></td><td>5</td></tr><tr><td><font style='font-weight:bold'>quantum_volume</font></td><td>8</td></tr><tr><td><font style='font-weight:bold'>operational</font></td><td>True</td></tr><tr><td><font style='font-weight:bold'>status_msg</font></td><td>active</td></tr><tr><td><font style='font-weight:bold'>pending_jobs</font></td><td>6</td></tr><tr><td><font style='font-weight:bold'>backend_version</font></td><td>1.0.47</td></tr><tr><td><font style='font-weight:bold'>basis_gates</font></td><td>['id', 'rz', 'sx', 'x', 'cx', 'reset']</td></tr><tr><td><font style='font-weight:bold'>max_shots</font></td><td>20000</td></tr><tr><td><font style='font-weight:bold'>max_experiments</font></td><td>100</td></tr></table>"
      }
     },
     "697d84c12f724a91bef9b9e32d3e375e": {
      "model_module": "@jupyter-widgets/output",
      "model_module_version": "1.0.0",
      "model_name": "OutputModel",
      "state": {
       "layout": "IPY_MODEL_52890dc4d1af45efb01c5e8608c93643",
       "outputs": [
        {
         "data": {
          "image/png": "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\n",
          "text/plain": "<Figure size 500x500 with 1 Axes>"
         },
         "metadata": {},
         "output_type": "display_data"
        }
       ]
      }
     },
     "6a1cd12f2edb462f8de832dcc1fa2d9c": {
      "model_module": "@jupyter-widgets/base",
      "model_module_version": "2.0.0",
      "model_name": "LayoutModel",
      "state": {}
     },
     "6a549e3557a246f5a32363413098137a": {
      "model_module": "@jupyter-widgets/controls",
      "model_module_version": "2.0.0",
      "model_name": "HTMLStyleModel",
      "state": {
       "description_width": "",
       "font_size": null,
       "text_color": null
      }
     },
     "6ae699dc8f67485b94d1f528e05bbdde": {
      "model_module": "@jupyter-widgets/base",
      "model_module_version": "2.0.0",
      "model_name": "LayoutModel",
      "state": {
       "border_bottom": "4px solid #000000",
       "border_left": "4px solid #000000",
       "border_right": "4px solid #000000",
       "border_top": "4px solid #000000",
       "max_height": "650px",
       "min_height": "650px"
      }
     },
     "6af4d0c8dd304de7a882827af006d89a": {
      "model_module": "@jupyter-widgets/base",
      "model_module_version": "2.0.0",
      "model_name": "LayoutModel",
      "state": {}
     },
     "6b4366960e404c1a8c481ff2eaf0cf0b": {
      "model_module": "@jupyter-widgets/controls",
      "model_module_version": "2.0.0",
      "model_name": "HTMLMathModel",
      "state": {
       "layout": "IPY_MODEL_5b59716c2b0c41b8a1ef75f2597d018d",
       "style": "IPY_MODEL_2d5a5d7486914a3581f3098291b2d452",
       "value": "<table><style>\ntable {\n    border-collapse: collapse;\n    width: auto;\n}\n\nth, td {\n    text-align: left;\n    padding: 8px;\n}\n\ntr:nth-child(even) {background-color: #f6f6f6;}\n</style><tr><th></th><th></th></tr><tr><td>qubit_channel_mapping</td><td>[['u0', 'd0', 'm0', 'u1'], ['u1', 'm1', 'u0', 'd1', 'u4', 'u2', 'u3', 'u5'], ['u2', 'u4', 'm2', 'd2'], ['m3', 'u7', 'd3', 'u6', 'u3', 'u5'], ['m4', 'd4', 'u7', 'u6']]</td></tr><tr><td>allow_q_object</td><td>True</td></tr><tr><td>dt</td><td>0.2222222222222222</td></tr><tr><td>description</td><td>5 qubit device Lima</td></tr><tr><td>open_pulse</td><td>False</td></tr><tr><td>rep_delay_range</td><td>[0.0, 500.0]</td></tr><tr><td>supported_instructions</td><td>['cx', 'id', 'delay', 'measure', 'reset', 'rz', 'sx', 'x']</td></tr><tr><td>meas_levels</td><td>[1, 2]</td></tr><tr><td>meas_lo_range</td><td>[[6.925143125000001, 7.925143125000001], [6.721646720000001, 7.721646720000001], [6.971842939, 7.971842939], [6.865317232000001, 7.865317232000001], [6.919067567000001, 7.919067567000001]]</td></tr><tr><td>rep_times</td><td>[1000.0]</td></tr><tr><td>memory</td><td>True</td></tr><tr><td>multi_meas_enabled</td><td>True</td></tr><tr><td>backend_name</td><td>ibmq_lima</td></tr><tr><td>n_registers</td><td>1</td></tr><tr><td>channels</td><td>{'acquire0': {'operates': {'qubits': [0]}, 'purpose': 'acquire', 'type': 'acquire'}, 'acquire1': {'operates': {'qubits': [1]}, 'purpose': 'acquire', 'type': 'acquire'}, 'acquire2': {'operates': {'qubits': [2]}, 'purpose': 'acquire', 'type': 'acquire'}, 'acquire3': {'operates': {'qubits': [3]}, 'purpose': 'acquire', 'type': 'acquire'}, 'acquire4': {'operates': {'qubits': [4]}, 'purpose': 'acquire', 'type': 'acquire'}, 'd0': {'operates': {'qubits': [0]}, 'purpose': 'drive', 'type': 'drive'}, 'd1': {'operates': {'qubits': [1]}, 'purpose': 'drive', 'type': 'drive'}, 'd2': {'operates': {'qubits': [2]}, 'purpose': 'drive', 'type': 'drive'}, 'd3': {'operates': {'qubits': [3]}, 'purpose': 'drive', 'type': 'drive'}, 'd4': {'operates': {'qubits': [4]}, 'purpose': 'drive', 'type': 'drive'}, 'm0': {'operates': {'qubits': [0]}, 'purpose': 'measure', 'type': 'measure'}, 'm1': {'operates': {'qubits': [1]}, 'purpose': 'measure', 'type': 'measure'}, 'm2': {'operates': {'qubits': [2]}, 'purpose': 'measure', 'type': 'measure'}, 'm3': {'operates': {'qubits': [3]}, 'purpose': 'measure', 'type': 'measure'}, 'm4': {'operates': {'qubits': [4]}, 'purpose': 'measure', 'type': 'measure'}, 'u0': {'operates': {'qubits': [0, 1]}, 'purpose': 'cross-resonance', 'type': 'control'}, 'u1': {'operates': {'qubits': [1, 0]}, 'purpose': 'cross-resonance', 'type': 'control'}, 'u2': {'operates': {'qubits': [1, 2]}, 'purpose': 'cross-resonance', 'type': 'control'}, 'u3': {'operates': {'qubits': [1, 3]}, 'purpose': 'cross-resonance', 'type': 'control'}, 'u4': {'operates': {'qubits': [2, 1]}, 'purpose': 'cross-resonance', 'type': 'control'}, 'u5': {'operates': {'qubits': [3, 1]}, 'purpose': 'cross-resonance', 'type': 'control'}, 'u6': {'operates': {'qubits': [3, 4]}, 'purpose': 'cross-resonance', 'type': 'control'}, 'u7': {'operates': {'qubits': [4, 3]}, 'purpose': 'cross-resonance', 'type': 'control'}}</td></tr><tr><td>conditional</td><td>False</td></tr><tr><td>hamiltonian</td><td>$$\\begin{align} \\mathcal{H}/\\hbar = & \\sum_{i=0}^{4}\\left(\\frac{\\omega_{q,i}}{2}(\\mathbb{I}-\\sigma_i^{z})+\\frac{\\Delta_{i}}{2}(O_i^2-O_i)+\\Omega_{d,i}D_i(t)\\sigma_i^{X}\\right) \\\\ & + J_{0,1}(\\sigma_{0}^{+}\\sigma_{1}^{-}+\\sigma_{0}^{-}\\sigma_{1}^{+}) + J_{1,2}(\\sigma_{1}^{+}\\sigma_{2}^{-}+\\sigma_{1}^{-}\\sigma_{2}^{+}) + J_{1,3}(\\sigma_{1}^{+}\\sigma_{3}^{-}+\\sigma_{1}^{-}\\sigma_{3}^{+}) + J_{3,4}(\\sigma_{3}^{+}\\sigma_{4}^{-}+\\sigma_{3}^{-}\\sigma_{4}^{+}) \\\\ & + \\Omega_{d,0}(U_{0}^{(0,1)}(t))\\sigma_{0}^{X} + \\Omega_{d,1}(U_{1}^{(1,0)}(t)+U_{3}^{(1,3)}(t)+U_{2}^{(1,2)}(t))\\sigma_{1}^{X} \\\\ & + \\Omega_{d,2}(U_{4}^{(2,1)}(t))\\sigma_{2}^{X} + \\Omega_{d,3}(U_{6}^{(3,4)}(t)+U_{5}^{(3,1)}(t))\\sigma_{3}^{X} \\\\ & + \\Omega_{d,4}(U_{7}^{(4,3)}(t))\\sigma_{4}^{X} \\\\ \\end{align}$$</td></tr><tr><td>clops</td><td>2673</td></tr><tr><td>discriminators</td><td>['hw_centroid', 'linear_discriminator', 'quadratic_discriminator']</td></tr><tr><td>dynamic_reprate_enabled</td><td>True</td></tr><tr><td>qubit_lo_range</td><td>[[4.529757407582503, 5.529757407582503], [4.627738582553157, 5.627738582553158], [4.747352102631919, 5.747352102631919], [4.80255503352921, 5.80255503352921], [4.592083651746325, 5.592083651746325]]</td></tr><tr><td>simulator</td><td>False</td></tr><tr><td>supported_features</td><td>['qobj']</td></tr><tr><td>pulse_num_qubits</td><td>3</td></tr><tr><td>conditional_latency</td><td>[]</td></tr><tr><td>n_uchannels</td><td>8</td></tr><tr><td>local</td><td>False</td></tr><tr><td>pulse_num_channels</td><td>9</td></tr><tr><td>parallel_compilation</td><td>False</td></tr><tr><td>coupling_map</td><td>[[0, 1], [1, 0], [1, 2], [1, 3], [2, 1], [3, 1], [3, 4], [4, 3]]</td></tr><tr><td>processor_type</td><td>{'family': 'Falcon', 'revision': 4, 'segment': 'T'}</td></tr><tr><td>parametric_pulses</td><td>['gaussian', 'gaussian_square', 'gaussian_square_drag', 'drag', 'constant']</td></tr><tr><td>uchannels_enabled</td><td>True</td></tr><tr><td>live_data</td><td>False</td></tr><tr><td>acquisition_latency</td><td>[]</td></tr><tr><td>dtm</td><td>0.2222222222222222</td></tr><tr><td>input_allowed</td><td>['job', 'runtime']</td></tr><tr><td>sample_name</td><td>family: Falcon, revision: 4, segment: T</td></tr><tr><td>timing_constraints</td><td>{'acquire_alignment': 16, 'granularity': 16, 'min_length': 64, 'pulse_alignment': 1}</td></tr><tr><td>url</td><td>None</td></tr><tr><td>online_date</td><td>2021-01-08 05:00:00+00:00</td></tr><tr><td>default_rep_delay</td><td>250.0</td></tr><tr><td>measure_esp_enabled</td><td>False</td></tr><tr><td>allow_object_storage</td><td>True</td></tr><tr><td>meas_kernels</td><td>['hw_boxcar']</td></tr><tr><td>credits_required</td><td>True</td></tr><tr><td>meas_map</td><td>[[0, 1, 2, 3, 4]]</td></tr><tr><td>u_channel_lo</td><td>[[{'q': 1, 'scale': (1+0j)}], [{'q': 0, 'scale': (1+0j)}], [{'q': 2, 'scale': (1+0j)}], [{'q': 3, 'scale': (1+0j)}], [{'q': 1, 'scale': (1+0j)}], [{'q': 1, 'scale': (1+0j)}], [{'q': 4, 'scale': (1+0j)}], [{'q': 3, 'scale': (1+0j)}]]</td></tr></table>"
      }
     },
     "6b98dda88b084b05b90a3b7a568de7b3": {
      "model_module": "@jupyter-widgets/base",
      "model_module_version": "2.0.0",
      "model_name": "LayoutModel",
      "state": {
       "align_items": "center",
       "display": "flex-inline"
      }
     },
     "6c0876d1e12145e7b4ad0d94e88a9c09": {
      "model_module": "@jupyter-widgets/controls",
      "model_module_version": "2.0.0",
      "model_name": "HTMLMathModel",
      "state": {
       "layout": "IPY_MODEL_247739d809a644d4b22f15d76249eff9",
       "style": "IPY_MODEL_7f99e2f3383346ad9de4cfd311553e44",
       "value": "<table><style>\ntable {\n    border-collapse: collapse;\n    width: auto;\n}\n\nth, td {\n    text-align: left;\n    padding: 8px;\n}\n\ntr:nth-child(even) {background-color: #f6f6f6;}\n</style><tr><th>Property</th><th>Value</th></tr><tr><td><font style='font-weight:bold'>n_qubits</font></td><td>5</td></tr><tr><td><font style='font-weight:bold'>quantum_volume</font></td><td>16</td></tr><tr><td><font style='font-weight:bold'>operational</font></td><td>True</td></tr><tr><td><font style='font-weight:bold'>status_msg</font></td><td>active</td></tr><tr><td><font style='font-weight:bold'>pending_jobs</font></td><td>13</td></tr><tr><td><font style='font-weight:bold'>backend_version</font></td><td>1.2.7</td></tr><tr><td><font style='font-weight:bold'>basis_gates</font></td><td>['id', 'rz', 'sx', 'x', 'cx', 'reset']</td></tr><tr><td><font style='font-weight:bold'>max_shots</font></td><td>20000</td></tr><tr><td><font style='font-weight:bold'>max_experiments</font></td><td>100</td></tr></table>"
      }
     },
     "6c40a017f66849659ae919208d28e23f": {
      "model_module": "@jupyter-widgets/controls",
      "model_module_version": "2.0.0",
      "model_name": "HTMLStyleModel",
      "state": {
       "description_width": "",
       "font_size": null,
       "text_color": null
      }
     },
     "6c428cdd88b04339b83d8b13bc91f01f": {
      "model_module": "@jupyter-widgets/controls",
      "model_module_version": "2.0.0",
      "model_name": "HTMLModel",
      "state": {
       "layout": "IPY_MODEL_180deced8af2457c835c376cf122e2b8",
       "style": "IPY_MODEL_deef97b6bb67466eb236171944b0cad1",
       "value": "-"
      }
     },
     "6cdcc4c4d6ba4c0b9e7ed18b40cbff01": {
      "model_module": "@jupyter-widgets/base",
      "model_module_version": "2.0.0",
      "model_name": "LayoutModel",
      "state": {
       "grid_area": "bottom",
       "width": "auto"
      }
     },
     "6cfa8f8b5f754ad4b12bd36e6f8b6e8f": {
      "model_module": "@jupyter-widgets/controls",
      "model_module_version": "2.0.0",
      "model_name": "HTMLModel",
      "state": {
       "layout": "IPY_MODEL_b1000abc6cd7447388a58448c183f109",
       "style": "IPY_MODEL_8aa9287d7978415dbd5cc0d53b00a2e0",
       "value": "<table><style>\ntable {\n    border-collapse: collapse;\n    width: auto;\n}\n\nth, td {\n    text-align: left;\n    padding: 8px;\n}\n\ntr:nth-child(even) {background-color: #f6f6f6;};\n</style><tr><th></th><th>Type</th><th>Gate error</th></tr><tr><td><font style='font-weight:bold'>cx4_3</font></td><td>cx</td><td>0.0173</td></tr><tr><td><font style='font-weight:bold'>cx3_4</font></td><td>cx</td><td>0.0173</td></tr><tr><td><font style='font-weight:bold'>cx0_1</font></td><td>cx</td><td>0.00736</td></tr></table>"
      }
     },
     "6df92de3c85a463ba10385e98ba99406": {
      "model_module": "@jupyter-widgets/controls",
      "model_module_version": "2.0.0",
      "model_name": "HTMLStyleModel",
      "state": {
       "description_width": "",
       "font_size": null,
       "text_color": null
      }
     },
     "6e3eb3ae65584f859f1ff525276cd01f": {
      "model_module": "@jupyter-widgets/controls",
      "model_module_version": "2.0.0",
      "model_name": "HTMLStyleModel",
      "state": {
       "description_width": "",
       "font_size": null,
       "text_color": null
      }
     },
     "6e4c330a464d4d2783abf9e9721cf8a8": {
      "model_module": "@jupyter-widgets/controls",
      "model_module_version": "2.0.0",
      "model_name": "HTMLModel",
      "state": {
       "layout": "IPY_MODEL_8c951fd62e52476480c13bf1fca9c849",
       "style": "IPY_MODEL_95c9da92ba63474ca9bd1ec130f61e2d",
       "value": "-"
      }
     },
     "6edb477e88e04561920f9dcf01aa2752": {
      "model_module": "@jupyter-widgets/controls",
      "model_module_version": "2.0.0",
      "model_name": "HTMLStyleModel",
      "state": {
       "description_width": "",
       "font_size": null,
       "text_color": null
      }
     },
     "6f1c0066db0c4597b81f99609ee5549d": {
      "model_module": "@jupyter-widgets/base",
      "model_module_version": "2.0.0",
      "model_name": "LayoutModel",
      "state": {
       "grid_area": "left",
       "width": "100%"
      }
     },
     "6fd62dd5af07462390204eb2e890c358": {
      "model_module": "@jupyter-widgets/controls",
      "model_module_version": "2.0.0",
      "model_name": "HTMLStyleModel",
      "state": {
       "description_width": "",
       "font_size": null,
       "text_color": null
      }
     },
     "702377c35bce47bbb450960cd981f40e": {
      "model_module": "@jupyter-widgets/controls",
      "model_module_version": "2.0.0",
      "model_name": "HTMLModel",
      "state": {
       "layout": "IPY_MODEL_3ab23d07a7ae4406a4c7a590f170ddce",
       "style": "IPY_MODEL_051a1e38face4f399f46bb7d6a90607d",
       "value": "ibmq_lima"
      }
     },
     "7026e2fde4c645858efa59d86715dfe2": {
      "model_module": "@jupyter-widgets/output",
      "model_module_version": "1.0.0",
      "model_name": "OutputModel",
      "state": {
       "layout": "IPY_MODEL_93c234827f0d412da4cd706a6781c60c",
       "outputs": [
        {
         "data": {
          "image/png": "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\n",
          "text/plain": "<Figure size 1100x900 with 5 Axes>"
         },
         "metadata": {},
         "output_type": "display_data"
        }
       ]
      }
     },
     "70598319351547b9ab8254dcdeedbfa7": {
      "model_module": "@jupyter-widgets/controls",
      "model_module_version": "2.0.0",
      "model_name": "HTMLStyleModel",
      "state": {
       "description_width": "",
       "font_size": null,
       "text_color": null
      }
     },
     "70cb2d13d28d46e09e995d4d190efba0": {
      "model_module": "@jupyter-widgets/output",
      "model_module_version": "1.0.0",
      "model_name": "OutputModel",
      "state": {
       "layout": "IPY_MODEL_de6934fa3dda46588ff1465d34f73794",
       "outputs": [
        {
         "data": {
          "image/png": "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\n",
          "text/plain": "<Figure size 500x500 with 1 Axes>"
         },
         "metadata": {},
         "output_type": "display_data"
        }
       ]
      }
     },
     "715e673af3204a909be02353ed7c201c": {
      "model_module": "@jupyter-widgets/output",
      "model_module_version": "1.0.0",
      "model_name": "OutputModel",
      "state": {
       "layout": "IPY_MODEL_9e3f67b774dd43039e17323ec6f66541",
       "outputs": [
        {
         "data": {
          "image/png": "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\n",
          "text/plain": "<Figure size 1100x900 with 5 Axes>"
         },
         "metadata": {},
         "output_type": "display_data"
        }
       ]
      }
     },
     "7184d6ba22df426690147bfee929d3fb": {
      "model_module": "@jupyter-widgets/controls",
      "model_module_version": "2.0.0",
      "model_name": "HTMLModel",
      "state": {
       "layout": "IPY_MODEL_f4c5fa9622024477a19bd1e1dcc507dc",
       "style": "IPY_MODEL_5c22d2c0a4e64cd2a1ea61d5a3ad67dc",
       "value": "<table><style>\ntable {\n    border-collapse: collapse;\n    width: auto;\n}\n\nth, td {\n    text-align: left;\n    padding: 8px;\n}\n\ntr:nth-child(even) {background-color: #f6f6f6;};\n</style><tr><th></th><th>Type</th><th>Gate error</th></tr><tr><td><font style='font-weight:bold'>cx3_1</font></td><td>cx</td><td>0.01455</td></tr><tr><td><font style='font-weight:bold'>cx2_1</font></td><td>cx</td><td>0.00651</td></tr><tr><td><font style='font-weight:bold'>cx1_2</font></td><td>cx</td><td>0.00651</td></tr></table>"
      }
     },
     "71e1c2ea5d304db09784f6e9fe45288d": {
      "model_module": "@jupyter-widgets/controls",
      "model_module_version": "2.0.0",
      "model_name": "HTMLMathModel",
      "state": {
       "layout": "IPY_MODEL_6256a48cb7e640408dff5592a4a8c394",
       "style": "IPY_MODEL_d8008e771aba4beb87bb2abbce142074",
       "value": "<table><style>\ntable {\n    border-collapse: collapse;\n    width: auto;\n}\n\nth, td {\n    text-align: left;\n    padding: 8px;\n}\n\ntr:nth-child(even) {background-color: #f6f6f6;}\n</style><tr><th>Property</th><th>Value</th></tr><tr><td><font style='font-weight:bold'>n_qubits</font></td><td>5</td></tr><tr><td><font style='font-weight:bold'>quantum_volume</font></td><td>8</td></tr><tr><td><font style='font-weight:bold'>operational</font></td><td>True</td></tr><tr><td><font style='font-weight:bold'>status_msg</font></td><td>active</td></tr><tr><td><font style='font-weight:bold'>pending_jobs</font></td><td>16</td></tr><tr><td><font style='font-weight:bold'>backend_version</font></td><td>1.0.47</td></tr><tr><td><font style='font-weight:bold'>basis_gates</font></td><td>['id', 'rz', 'sx', 'x', 'cx', 'reset']</td></tr><tr><td><font style='font-weight:bold'>max_shots</font></td><td>20000</td></tr><tr><td><font style='font-weight:bold'>max_experiments</font></td><td>100</td></tr></table>"
      }
     },
     "72f1b64ab0a34d0996c45e151108493d": {
      "model_module": "@jupyter-widgets/controls",
      "model_module_version": "2.0.0",
      "model_name": "HTMLStyleModel",
      "state": {
       "description_width": "",
       "font_size": null,
       "text_color": null
      }
     },
     "73ad78b0d4a140e8ae58e840440f1084": {
      "model_module": "@jupyter-widgets/controls",
      "model_module_version": "2.0.0",
      "model_name": "ButtonStyleModel",
      "state": {
       "button_color": "white",
       "font_family": null,
       "font_size": null,
       "font_style": null,
       "font_variant": null,
       "font_weight": null,
       "text_color": null,
       "text_decoration": null
      }
     },
     "74046d4e7c1642238f0e68b9b55dc9dd": {
      "model_module": "@jupyter-widgets/base",
      "model_module_version": "2.0.0",
      "model_name": "LayoutModel",
      "state": {
       "border_bottom": "4px solid #000000",
       "border_left": "4px solid #000000",
       "border_right": "4px solid #000000",
       "border_top": "4px solid #000000",
       "max_height": "650px",
       "min_height": "650px"
      }
     },
     "74ffdeb633774c74bc8a6e371531c148": {
      "model_module": "@jupyter-widgets/controls",
      "model_module_version": "2.0.0",
      "model_name": "HTMLMathStyleModel",
      "state": {
       "description_width": "",
       "font_size": null,
       "text_color": null
      }
     },
     "7541640e42da451295a2aab5364078c6": {
      "model_module": "@jupyter-widgets/base",
      "model_module_version": "2.0.0",
      "model_name": "LayoutModel",
      "state": {
       "width": "70px"
      }
     },
     "7561f6dd229647dd82bd4f7efa7b9e59": {
      "model_module": "@jupyter-widgets/base",
      "model_module_version": "2.0.0",
      "model_name": "LayoutModel",
      "state": {
       "grid_gap": "0px 0px",
       "grid_template_areas": "\n                                                   \"top top top\"\n                                                   \"left middle right\"\n                                                   ",
       "grid_template_columns": "33% 33% 33%",
       "grid_template_rows": "auto auto"
      }
     },
     "756dc2545eee4b8e91bbb0263a32fa5b": {
      "model_module": "@jupyter-widgets/base",
      "model_module_version": "2.0.0",
      "model_name": "LayoutModel",
      "state": {
       "grid_area": "left",
       "width": "100%"
      }
     },
     "75b4ae58f95e42b09083e9857ab2dacf": {
      "model_module": "@jupyter-widgets/controls",
      "model_module_version": "2.0.0",
      "model_name": "HTMLStyleModel",
      "state": {
       "description_width": "",
       "font_size": null,
       "text_color": null
      }
     },
     "75fecc8b9d1343fd8c5aeb5f0f82a113": {
      "model_module": "@jupyter-widgets/controls",
      "model_module_version": "2.0.0",
      "model_name": "HTMLModel",
      "state": {
       "layout": "IPY_MODEL_64e239055fae4c9a82c45ea5e57ac9fe",
       "style": "IPY_MODEL_072831138caa40d4bd6456cdd3dbcddb",
       "value": "job has successfully run"
      }
     },
     "7615837203164a5ab5a04db3c4e22bab": {
      "model_module": "@jupyter-widgets/controls",
      "model_module_version": "2.0.0",
      "model_name": "GridBoxModel",
      "state": {
       "children": [
        "IPY_MODEL_1366267519744169ac9d2a04f855ef93",
        "IPY_MODEL_5ba06724dd324bb589fbebcdad35cdf9",
        "IPY_MODEL_40fe0c6eda5740689991a5747ea89522"
       ],
       "layout": "IPY_MODEL_1b17aa3e842e4d198224a0634788c478"
      }
     },
     "7626aac4e27c4a1ba11d2777d5d9e366": {
      "model_module": "@jupyter-widgets/base",
      "model_module_version": "2.0.0",
      "model_name": "LayoutModel",
      "state": {
       "grid_area": "bottom",
       "width": "auto"
      }
     },
     "763ee7214bc84c919924ea884dfbbca2": {
      "model_module": "@jupyter-widgets/base",
      "model_module_version": "2.0.0",
      "model_name": "LayoutModel",
      "state": {
       "align_items": "center",
       "display": "flex-inline"
      }
     },
     "77080e28d5e84c94977da1454f920e67": {
      "model_module": "@jupyter-widgets/controls",
      "model_module_version": "2.0.0",
      "model_name": "HTMLStyleModel",
      "state": {
       "description_width": "",
       "font_size": null,
       "text_color": null
      }
     },
     "773b883d222340c49fd8e187b90c8d49": {
      "model_module": "@jupyter-widgets/base",
      "model_module_version": "2.0.0",
      "model_name": "LayoutModel",
      "state": {
       "grid_gap": "0px 0px",
       "grid_template_areas": "\n                                                   \"top top top\"\n                                                   \"left middle right\"\n                                                   ",
       "grid_template_columns": "33% 33% 33%",
       "grid_template_rows": "auto auto"
      }
     },
     "7801cea0bac34d9282a28438047d754c": {
      "model_module": "@jupyter-widgets/controls",
      "model_module_version": "2.0.0",
      "model_name": "HTMLModel",
      "state": {
       "layout": "IPY_MODEL_b67af1d7831741fda6d7dc1678297449",
       "style": "IPY_MODEL_b0914c642bb64719b204864b4bd74f64",
       "value": "ch160j8i9j4rob5smur0"
      }
     },
     "7870a1938c854e4ca5538d268b82e1fa": {
      "model_module": "@jupyter-widgets/controls",
      "model_module_version": "2.0.0",
      "model_name": "GridBoxModel",
      "state": {
       "children": [
        "IPY_MODEL_3c5126b97257466e8dc6285e6df1ebc6",
        "IPY_MODEL_28bae68397504ceabc1cdb952063b716",
        "IPY_MODEL_7a32ad83acc9495789c831a122d51358",
        "IPY_MODEL_d4486b9c8c764de1928f8c8d1ce5e789"
       ],
       "layout": "IPY_MODEL_1b273de8526a4e8c98c2ec9e68f1d038"
      }
     },
     "78a648367ee54e3e9f538048f9b9c4a3": {
      "model_module": "@jupyter-widgets/controls",
      "model_module_version": "2.0.0",
      "model_name": "HTMLModel",
      "state": {
       "layout": "IPY_MODEL_ac273f62364745238d34c4d2dbc54379",
       "style": "IPY_MODEL_4ef189c1941a492e997fbd01785e3675",
       "value": "<table><style>\ntable {\n    border-collapse: collapse;\n    width: auto;\n}\n\nth, td {\n    text-align: left;\n    padding: 8px;\n}\n\ntr:nth-child(even) {background-color: #f6f6f6;}\n</style><tr><th></th><th>Frequency</th><th>T1</th><th>T2</th><th>RZ</th><th>SX</th><th>X</th><th>Readout error</th></tr><tr><td><font style='font-weight:bold'>Q0</font></td><td>5.02976 GHz</td><td>139.04158 us</td><td>256.38557 us</td><td>0</td><td>0.00043</td><td>0.00043</td><td>0.0167 </td><tr><td><font style='font-weight:bold'>Q1</font></td><td>5.12774 GHz</td><td>115.92117 us</td><td>75.83268 us</td><td>0</td><td>0.00057</td><td>0.00057</td><td>0.0207 </td><tr><td><font style='font-weight:bold'>Q2</font></td><td>5.24735 GHz</td><td>58.82784 us</td><td>85.32893 us</td><td>0</td><td>0.00037</td><td>0.00037</td><td>0.02 </td><tr><td><font style='font-weight:bold'>Q3</font></td><td>5.30256 GHz</td><td>79.53999 us</td><td>82.99205 us</td><td>0</td><td>0.00027</td><td>0.00027</td><td>0.0327 </td><tr><td><font style='font-weight:bold'>Q4</font></td><td>5.09208 GHz</td><td>14.92111 us</td><td>17.98448 us</td><td>0</td><td>0.00069</td><td>0.00069</td><td>0.0472 </td></table>"
      }
     },
     "78b67cd2e93e4556abb13403320f6434": {
      "model_module": "@jupyter-widgets/base",
      "model_module_version": "2.0.0",
      "model_name": "LayoutModel",
      "state": {
       "grid_template_areas": "\n                                       \". . . . right \"\n                                        ",
       "grid_template_columns": "20% 20% 20% 20% 20%",
       "width": "100%"
      }
     },
     "78e9b10805b84473b2339efce2abdbff": {
      "model_module": "@jupyter-widgets/base",
      "model_module_version": "2.0.0",
      "model_name": "LayoutModel",
      "state": {
       "margin": "0px 5px 0px 0px",
       "width": "32px"
      }
     },
     "79dbb7c822c248e4bbdcec0a928428f4": {
      "model_module": "@jupyter-widgets/base",
      "model_module_version": "2.0.0",
      "model_name": "LayoutModel",
      "state": {
       "width": "190px"
      }
     },
     "7a32ad83acc9495789c831a122d51358": {
      "model_module": "@jupyter-widgets/controls",
      "model_module_version": "2.0.0",
      "model_name": "HTMLModel",
      "state": {
       "layout": "IPY_MODEL_d8a1408009b14f1bab347fd9412dd768",
       "style": "IPY_MODEL_cce2e062a50e4a758e3ef996ab6e6aea",
       "value": "<table><style>\ntable {\n    border-collapse: collapse;\n    width: auto;\n}\n\nth, td {\n    text-align: left;\n    padding: 8px;\n}\n\ntr:nth-child(even) {background-color: #f6f6f6;};\n</style><tr><th></th><th>Type</th><th>Gate error</th></tr><tr><td><font style='font-weight:bold'>cx1_3</font></td><td>cx</td><td>0.0072</td></tr><tr><td><font style='font-weight:bold'>cx2_1</font></td><td>cx</td><td>0.00611</td></tr><tr><td><font style='font-weight:bold'>cx1_2</font></td><td>cx</td><td>0.00611</td></tr></table>"
      }
     },
     "7a52b6abb2724608820c31bb702a16f6": {
      "model_module": "@jupyter-widgets/base",
      "model_module_version": "2.0.0",
      "model_name": "LayoutModel",
      "state": {
       "align_items": "center",
       "display": "flex-inline"
      }
     },
     "7ab84c2c697b46fa9ccab21e109831c2": {
      "model_module": "@jupyter-widgets/base",
      "model_module_version": "2.0.0",
      "model_name": "LayoutModel",
      "state": {
       "width": "70px"
      }
     },
     "7ac5f1b754ae40389586435c07bffcbf": {
      "model_module": "@jupyter-widgets/base",
      "model_module_version": "2.0.0",
      "model_name": "LayoutModel",
      "state": {
       "max_height": "620px"
      }
     },
     "7c42fc59c5f54201a112613a26bd830e": {
      "model_module": "@jupyter-widgets/base",
      "model_module_version": "2.0.0",
      "model_name": "LayoutModel",
      "state": {
       "max_height": "620px"
      }
     },
     "7cc60ff213394e11a700687bb6f17d84": {
      "model_module": "@jupyter-widgets/base",
      "model_module_version": "2.0.0",
      "model_name": "LayoutModel",
      "state": {}
     },
     "7e8c81de3ab54a7abe5d6c0883599397": {
      "model_module": "@jupyter-widgets/controls",
      "model_module_version": "2.0.0",
      "model_name": "HTMLMathModel",
      "state": {
       "layout": "IPY_MODEL_25469352fc4147f99d14c02e7aa22d79",
       "style": "IPY_MODEL_9a5ef84f87774d9ca7f50db941d34094",
       "value": "<table><style>\ntable {\n    border-collapse: collapse;\n    width: auto;\n}\n\nth, td {\n    text-align: left;\n    padding: 8px;\n}\n\ntr:nth-child(even) {background-color: #f6f6f6;}\n</style><tr><th></th><th></th></tr><tr><td>qubit_channel_mapping</td><td>[['u0', 'u1', 'm0', 'd0'], ['u0', 'd1', 'u5', 'u1', 'u4', 'u2', 'm1', 'u3'], ['m2', 'u2', 'd2', 'u4'], ['u5', 'u6', 'm3', 'd3', 'u7', 'u3'], ['d4', 'u6', 'm4', 'u7']]</td></tr><tr><td>allow_q_object</td><td>True</td></tr><tr><td>dt</td><td>0.2222222222222222</td></tr><tr><td>description</td><td>5 qubit device Quito</td></tr><tr><td>open_pulse</td><td>False</td></tr><tr><td>rep_delay_range</td><td>[0.0, 500.0]</td></tr><tr><td>supported_instructions</td><td>['cx', 'id', 'delay', 'measure', 'reset', 'rz', 'sx', 'x']</td></tr><tr><td>meas_levels</td><td>[1, 2]</td></tr><tr><td>meas_lo_range</td><td>[[6.807868157000001, 7.807868157000001], [6.7292695270000005, 7.7292695270000005], [6.991060108, 7.991060108], [6.8547510460000005, 7.8547510460000005], [6.904365522000001, 7.904365522000001]]</td></tr><tr><td>rep_times</td><td>[1000.0]</td></tr><tr><td>memory</td><td>True</td></tr><tr><td>multi_meas_enabled</td><td>True</td></tr><tr><td>backend_name</td><td>ibmq_quito</td></tr><tr><td>n_registers</td><td>1</td></tr><tr><td>channels</td><td>{'acquire0': {'operates': {'qubits': [0]}, 'purpose': 'acquire', 'type': 'acquire'}, 'acquire1': {'operates': {'qubits': [1]}, 'purpose': 'acquire', 'type': 'acquire'}, 'acquire2': {'operates': {'qubits': [2]}, 'purpose': 'acquire', 'type': 'acquire'}, 'acquire3': {'operates': {'qubits': [3]}, 'purpose': 'acquire', 'type': 'acquire'}, 'acquire4': {'operates': {'qubits': [4]}, 'purpose': 'acquire', 'type': 'acquire'}, 'd0': {'operates': {'qubits': [0]}, 'purpose': 'drive', 'type': 'drive'}, 'd1': {'operates': {'qubits': [1]}, 'purpose': 'drive', 'type': 'drive'}, 'd2': {'operates': {'qubits': [2]}, 'purpose': 'drive', 'type': 'drive'}, 'd3': {'operates': {'qubits': [3]}, 'purpose': 'drive', 'type': 'drive'}, 'd4': {'operates': {'qubits': [4]}, 'purpose': 'drive', 'type': 'drive'}, 'm0': {'operates': {'qubits': [0]}, 'purpose': 'measure', 'type': 'measure'}, 'm1': {'operates': {'qubits': [1]}, 'purpose': 'measure', 'type': 'measure'}, 'm2': {'operates': {'qubits': [2]}, 'purpose': 'measure', 'type': 'measure'}, 'm3': {'operates': {'qubits': [3]}, 'purpose': 'measure', 'type': 'measure'}, 'm4': {'operates': {'qubits': [4]}, 'purpose': 'measure', 'type': 'measure'}, 'u0': {'operates': {'qubits': [0, 1]}, 'purpose': 'cross-resonance', 'type': 'control'}, 'u1': {'operates': {'qubits': [1, 0]}, 'purpose': 'cross-resonance', 'type': 'control'}, 'u2': {'operates': {'qubits': [1, 2]}, 'purpose': 'cross-resonance', 'type': 'control'}, 'u3': {'operates': {'qubits': [1, 3]}, 'purpose': 'cross-resonance', 'type': 'control'}, 'u4': {'operates': {'qubits': [2, 1]}, 'purpose': 'cross-resonance', 'type': 'control'}, 'u5': {'operates': {'qubits': [3, 1]}, 'purpose': 'cross-resonance', 'type': 'control'}, 'u6': {'operates': {'qubits': [3, 4]}, 'purpose': 'cross-resonance', 'type': 'control'}, 'u7': {'operates': {'qubits': [4, 3]}, 'purpose': 'cross-resonance', 'type': 'control'}}</td></tr><tr><td>conditional</td><td>False</td></tr><tr><td>hamiltonian</td><td>$$\\begin{align} \\mathcal{H}/\\hbar = & \\sum_{i=0}^{4}\\left(\\frac{\\omega_{q,i}}{2}(\\mathbb{I}-\\sigma_i^{z})+\\frac{\\Delta_{i}}{2}(O_i^2-O_i)+\\Omega_{d,i}D_i(t)\\sigma_i^{X}\\right) \\\\ & + J_{0,1}(\\sigma_{0}^{+}\\sigma_{1}^{-}+\\sigma_{0}^{-}\\sigma_{1}^{+}) + J_{1,2}(\\sigma_{1}^{+}\\sigma_{2}^{-}+\\sigma_{1}^{-}\\sigma_{2}^{+}) + J_{1,3}(\\sigma_{1}^{+}\\sigma_{3}^{-}+\\sigma_{1}^{-}\\sigma_{3}^{+}) + J_{3,4}(\\sigma_{3}^{+}\\sigma_{4}^{-}+\\sigma_{3}^{-}\\sigma_{4}^{+}) \\\\ & + \\Omega_{d,0}(U_{0}^{(0,1)}(t))\\sigma_{0}^{X} + \\Omega_{d,1}(U_{1}^{(1,0)}(t)+U_{3}^{(1,3)}(t)+U_{2}^{(1,2)}(t))\\sigma_{1}^{X} \\\\ & + \\Omega_{d,2}(U_{4}^{(2,1)}(t))\\sigma_{2}^{X} + \\Omega_{d,3}(U_{6}^{(3,4)}(t)+U_{5}^{(3,1)}(t))\\sigma_{3}^{X} \\\\ & + \\Omega_{d,4}(U_{7}^{(4,3)}(t))\\sigma_{4}^{X} \\\\ \\end{align}$$</td></tr><tr><td>clops</td><td>2506</td></tr><tr><td>discriminators</td><td>['quadratic_discriminator', 'hw_centroid', 'linear_discriminator']</td></tr><tr><td>dynamic_reprate_enabled</td><td>True</td></tr><tr><td>qubit_lo_range</td><td>[[4.800687093152551, 5.800687093152551], [4.580583210471726, 5.580583210471726], [4.822186436385297, 5.822186436385297], [4.663616562911523, 5.663616562911523], [4.552327635948928, 5.552327635948928]]</td></tr><tr><td>simulator</td><td>False</td></tr><tr><td>supported_features</td><td>['qobj']</td></tr><tr><td>pulse_num_qubits</td><td>3</td></tr><tr><td>conditional_latency</td><td>[]</td></tr><tr><td>n_uchannels</td><td>8</td></tr><tr><td>local</td><td>False</td></tr><tr><td>pulse_num_channels</td><td>9</td></tr><tr><td>parallel_compilation</td><td>False</td></tr><tr><td>coupling_map</td><td>[[0, 1], [1, 0], [1, 2], [1, 3], [2, 1], [3, 1], [3, 4], [4, 3]]</td></tr><tr><td>processor_type</td><td>{'family': 'Falcon', 'revision': 4, 'segment': 'T'}</td></tr><tr><td>parametric_pulses</td><td>['gaussian', 'gaussian_square', 'gaussian_square_drag', 'drag', 'constant']</td></tr><tr><td>uchannels_enabled</td><td>True</td></tr><tr><td>live_data</td><td>False</td></tr><tr><td>acquisition_latency</td><td>[]</td></tr><tr><td>dtm</td><td>0.2222222222222222</td></tr><tr><td>input_allowed</td><td>['job', 'runtime']</td></tr><tr><td>sample_name</td><td>family: Falcon, revision: 4, segment: T</td></tr><tr><td>timing_constraints</td><td>{'acquire_alignment': 16, 'granularity': 16, 'min_length': 64, 'pulse_alignment': 1}</td></tr><tr><td>url</td><td>None</td></tr><tr><td>online_date</td><td>2021-01-08 05:00:00+00:00</td></tr><tr><td>default_rep_delay</td><td>250.0</td></tr><tr><td>measure_esp_enabled</td><td>False</td></tr><tr><td>allow_object_storage</td><td>True</td></tr><tr><td>meas_kernels</td><td>['hw_boxcar']</td></tr><tr><td>credits_required</td><td>True</td></tr><tr><td>meas_map</td><td>[[0, 1, 2, 3, 4]]</td></tr><tr><td>u_channel_lo</td><td>[[{'q': 1, 'scale': (1+0j)}], [{'q': 0, 'scale': (1+0j)}], [{'q': 2, 'scale': (1+0j)}], [{'q': 3, 'scale': (1+0j)}], [{'q': 1, 'scale': (1+0j)}], [{'q': 1, 'scale': (1+0j)}], [{'q': 4, 'scale': (1+0j)}], [{'q': 3, 'scale': (1+0j)}]]</td></tr></table>"
      }
     },
     "7e95ccc942e246a690fbb2d98c0fe942": {
      "model_module": "@jupyter-widgets/controls",
      "model_module_version": "2.0.0",
      "model_name": "HTMLStyleModel",
      "state": {
       "description_width": "",
       "font_size": null,
       "text_color": null
      }
     },
     "7ed7db57fd5a4777ae576c27b56a89fd": {
      "model_module": "@jupyter-widgets/controls",
      "model_module_version": "2.0.0",
      "model_name": "HTMLStyleModel",
      "state": {
       "description_width": "",
       "font_size": null,
       "text_color": null
      }
     },
     "7f73eebda52f4266ae43942a13170a9c": {
      "model_module": "@jupyter-widgets/base",
      "model_module_version": "2.0.0",
      "model_name": "LayoutModel",
      "state": {
       "max_height": "620px"
      }
     },
     "7f99e2f3383346ad9de4cfd311553e44": {
      "model_module": "@jupyter-widgets/controls",
      "model_module_version": "2.0.0",
      "model_name": "HTMLMathStyleModel",
      "state": {
       "description_width": "",
       "font_size": null,
       "text_color": null
      }
     },
     "7fa72344dd2a45b08dcce2fa385e7da7": {
      "model_module": "@jupyter-widgets/base",
      "model_module_version": "2.0.0",
      "model_name": "LayoutModel",
      "state": {}
     },
     "800c66e754a34069804acb3be61fde78": {
      "model_module": "@jupyter-widgets/controls",
      "model_module_version": "2.0.0",
      "model_name": "HTMLMathStyleModel",
      "state": {
       "description_width": "",
       "font_size": null,
       "text_color": null
      }
     },
     "811c29cab59b4e6ba4dff47886621680": {
      "model_module": "@jupyter-widgets/base",
      "model_module_version": "2.0.0",
      "model_name": "LayoutModel",
      "state": {}
     },
     "81cd7af23e5d4e93b647363d6b8db75a": {
      "model_module": "@jupyter-widgets/controls",
      "model_module_version": "2.0.0",
      "model_name": "GridBoxModel",
      "state": {
       "children": [
        "IPY_MODEL_b896cf59d7124f999738a256753a944a",
        "IPY_MODEL_6cfa8f8b5f754ad4b12bd36e6f8b6e8f",
        "IPY_MODEL_2903406eb3f941ee8ba1498486baa8ad",
        "IPY_MODEL_9aecfe92ea584373828e345ab510d17f"
       ],
       "layout": "IPY_MODEL_773b883d222340c49fd8e187b90c8d49"
      }
     },
     "837f58244ca64c61a2835250b6744d6b": {
      "model_module": "@jupyter-widgets/controls",
      "model_module_version": "2.0.0",
      "model_name": "HTMLStyleModel",
      "state": {
       "description_width": "",
       "font_size": null,
       "text_color": null
      }
     },
     "83f4814cbd1042a9b13706a9443ac95e": {
      "model_module": "@jupyter-widgets/controls",
      "model_module_version": "2.0.0",
      "model_name": "HTMLModel",
      "state": {
       "layout": "IPY_MODEL_230dfc59b0254734b0ac712acdbeb8c9",
       "style": "IPY_MODEL_2d6d5ff417b54e91bd13aa582f98c6c9",
       "value": "<h1 style='color:#ffffff;background-color:#000000;padding-top: 1%;padding-bottom: 1%;padding-left: 1%; margin-top: 0px'>ibmq_quito</h1>"
      }
     },
     "84214bebd3a84639bdc2376790405fa6": {
      "model_module": "@jupyter-widgets/controls",
      "model_module_version": "2.0.0",
      "model_name": "HTMLModel",
      "state": {
       "layout": "IPY_MODEL_a70c8512dd5743a981d77ad95947cc10",
       "style": "IPY_MODEL_42420226caef4737946e8f4f02a6e80c",
       "value": "<font style='color:#34BC6E'>DONE</font>"
      }
     },
     "85f7b95d7c5147f59bf242ac952d1acd": {
      "model_module": "@jupyter-widgets/output",
      "model_module_version": "1.0.0",
      "model_name": "OutputModel",
      "state": {
       "layout": "IPY_MODEL_862665f37e644b00a349d64cadb04bc3",
       "outputs": [
        {
         "data": {
          "image/png": "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\n",
          "text/plain": "<Figure size 500x500 with 1 Axes>"
         },
         "metadata": {},
         "output_type": "display_data"
        }
       ]
      }
     },
     "862665f37e644b00a349d64cadb04bc3": {
      "model_module": "@jupyter-widgets/base",
      "model_module_version": "2.0.0",
      "model_name": "LayoutModel",
      "state": {
       "align_items": "center",
       "display": "flex-inline",
       "grid_area": "right",
       "max_height": "325px",
       "padding": "10px 10px 10px 10px",
       "width": "auto"
      }
     },
     "863586469d884d77b579afbbef769bac": {
      "model_module": "@jupyter-widgets/base",
      "model_module_version": "2.0.0",
      "model_name": "LayoutModel",
      "state": {
       "grid_area": "right"
      }
     },
     "864667204d6c45d9a8275be0f21e3120": {
      "model_module": "@jupyter-widgets/controls",
      "model_module_version": "2.0.0",
      "model_name": "HTMLStyleModel",
      "state": {
       "description_width": "",
       "font_size": null,
       "text_color": null
      }
     },
     "867d3b52c2674e62ab1bfa6da8675416": {
      "model_module": "@jupyter-widgets/controls",
      "model_module_version": "2.0.0",
      "model_name": "HTMLModel",
      "state": {
       "layout": "IPY_MODEL_c0548f63f5a8407bb2fcbe881e8a8ca2",
       "style": "IPY_MODEL_e0ae69f8ea58437ea55c0af6ba2400c0",
       "value": "<div><font style='font-weight:bold'>last_update_date</font>: 2023-04-21 05:26:45+00:00</div>"
      }
     },
     "872e82170ace41a2acf932317ce98fc3": {
      "model_module": "@jupyter-widgets/base",
      "model_module_version": "2.0.0",
      "model_name": "LayoutModel",
      "state": {
       "align_items": "center",
       "display": "flex-inline"
      }
     },
     "874a5e3d3dae43f6a766114f0b36a3c1": {
      "model_module": "@jupyter-widgets/base",
      "model_module_version": "2.0.0",
      "model_name": "LayoutModel",
      "state": {
       "grid_area": "middle"
      }
     },
     "879f8a134d6a4cd5ad17ee7436f1ec05": {
      "model_module": "@jupyter-widgets/controls",
      "model_module_version": "2.0.0",
      "model_name": "HTMLModel",
      "state": {
       "layout": "IPY_MODEL_923cd58a35fc4397adf7495be1420e5c",
       "style": "IPY_MODEL_1c3400921d9f4b238ab39fde608083dc",
       "value": "<h5>Message</h5>"
      }
     },
     "8803ba6e7b634e6f98de5a2dc539dd91": {
      "model_module": "@jupyter-widgets/base",
      "model_module_version": "2.0.0",
      "model_name": "LayoutModel",
      "state": {
       "align_items": "center",
       "display": "flex-inline",
       "grid_area": "right",
       "max_height": "325px",
       "padding": "10px 10px 10px 10px",
       "width": "auto"
      }
     },
     "880c819bac954366863aa2dbba488eeb": {
      "model_module": "@jupyter-widgets/controls",
      "model_module_version": "2.0.0",
      "model_name": "HTMLStyleModel",
      "state": {
       "description_width": "",
       "font_size": null,
       "text_color": null
      }
     },
     "88530df7c7ff40e5b0c7169a0bd23160": {
      "model_module": "@jupyter-widgets/base",
      "model_module_version": "2.0.0",
      "model_name": "LayoutModel",
      "state": {
       "max_width": "700px",
       "min_width": "700px"
      }
     },
     "8936eeabbd39421ba7fb195f31ef6f0f": {
      "model_module": "@jupyter-widgets/controls",
      "model_module_version": "2.0.0",
      "model_name": "HTMLStyleModel",
      "state": {
       "description_width": "",
       "font_size": null,
       "text_color": null
      }
     },
     "89f1ad8a12d2484e811eac3b3e391fe0": {
      "model_module": "@jupyter-widgets/controls",
      "model_module_version": "2.0.0",
      "model_name": "TabModel",
      "state": {
       "children": [
        "IPY_MODEL_c6c388cdef1d48b198a668ef2549d032",
        "IPY_MODEL_62c3b51750484914be83873542c4d779",
        "IPY_MODEL_e378dba903404b78b887cc3f34042475",
        "IPY_MODEL_8a76e0fa5cf5478488a47f5d90890287",
        "IPY_MODEL_610063ca05af43f5a0c680bb83b5a41b"
       ],
       "layout": "IPY_MODEL_0e4b8c3adbb747c985ece7eb2456279e",
       "selected_index": 0,
       "titles": [
        "Configuration",
        "Qubit Properties",
        "Multi-Qubit Gates",
        "Error Map",
        "Job History"
       ]
      }
     },
     "8a76e0fa5cf5478488a47f5d90890287": {
      "model_module": "@jupyter-widgets/output",
      "model_module_version": "1.0.0",
      "model_name": "OutputModel",
      "state": {
       "layout": "IPY_MODEL_8bc3c6c46b084c80a0e4e669cc6a66a4",
       "outputs": [
        {
         "data": {
          "image/png": "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\n",
          "text/plain": "<Figure size 1100x900 with 5 Axes>"
         },
         "metadata": {},
         "output_type": "display_data"
        }
       ]
      }
     },
     "8a87094b7804495da34bb6a04a371c29": {
      "model_module": "@jupyter-widgets/base",
      "model_module_version": "2.0.0",
      "model_name": "LayoutModel",
      "state": {}
     },
     "8aa9287d7978415dbd5cc0d53b00a2e0": {
      "model_module": "@jupyter-widgets/controls",
      "model_module_version": "2.0.0",
      "model_name": "HTMLStyleModel",
      "state": {
       "description_width": "",
       "font_size": null,
       "text_color": null
      }
     },
     "8ae274d656d94b24a83f768cf8b8e3ba": {
      "model_module": "@jupyter-widgets/controls",
      "model_module_version": "2.0.0",
      "model_name": "HTMLStyleModel",
      "state": {
       "description_width": "",
       "font_size": null,
       "text_color": null
      }
     },
     "8b6b171a33b54c54b91d01c409bef8bb": {
      "model_module": "@jupyter-widgets/controls",
      "model_module_version": "2.0.0",
      "model_name": "GridBoxModel",
      "state": {
       "children": [
        "IPY_MODEL_f2b446be624e4e31b7567a1537e28201",
        "IPY_MODEL_3c89d09faab84383a1caaa1d1d94c8ba",
        "IPY_MODEL_0801e12def8c40508d187b11418bcda6",
        "IPY_MODEL_1373ab767a5e46ba8771ad9bb33bea0a"
       ],
       "layout": "IPY_MODEL_ca316fa57aee4803afefee8e1ddb3bcf"
      }
     },
     "8b6cbb8764b0491d83f7db9aa94e7c1a": {
      "model_module": "@jupyter-widgets/controls",
      "model_module_version": "2.0.0",
      "model_name": "HTMLModel",
      "state": {
       "layout": "IPY_MODEL_e10d096557f84f6a887cd3ce8e2ff698",
       "style": "IPY_MODEL_28ec76056a2140768ab05c329c9ab35c",
       "value": "<div><font style='font-weight:bold'>last_update_date</font>: Fri 21 April 2023 at 05:17 UTC</div>"
      }
     },
     "8bc3c6c46b084c80a0e4e669cc6a66a4": {
      "model_module": "@jupyter-widgets/base",
      "model_module_version": "2.0.0",
      "model_name": "LayoutModel",
      "state": {
       "align_items": "center",
       "display": "flex-inline"
      }
     },
     "8bc68bff83d54568ac4ad931b2a71eb9": {
      "model_module": "@jupyter-widgets/controls",
      "model_module_version": "2.0.0",
      "model_name": "VBoxModel",
      "state": {
       "children": [
        "IPY_MODEL_4d0f73882a7d476d8eb517ab588ff308",
        "IPY_MODEL_0772127db2ed451e82a0482f1005eff5"
       ],
       "layout": "IPY_MODEL_0ce81f96de4d4ab2afb4b308340a10c6"
      }
     },
     "8c6ff23d721445f3b963afdf965ac9ab": {
      "model_module": "@jupyter-widgets/base",
      "model_module_version": "2.0.0",
      "model_name": "LayoutModel",
      "state": {}
     },
     "8c951fd62e52476480c13bf1fca9c849": {
      "model_module": "@jupyter-widgets/base",
      "model_module_version": "2.0.0",
      "model_name": "LayoutModel",
      "state": {
       "width": "70px"
      }
     },
     "8c99a69bb0004ee9ad4759259712fb6a": {
      "model_module": "@jupyter-widgets/controls",
      "model_module_version": "2.0.0",
      "model_name": "VBoxModel",
      "state": {
       "children": [
        "IPY_MODEL_a4b247fed341490b82106024fd9fd14e",
        "IPY_MODEL_5868a73fec56483b85c091f05bc6f567"
       ],
       "layout": "IPY_MODEL_74046d4e7c1642238f0e68b9b55dc9dd"
      }
     },
     "8c9e741fa44c455f94d5e7b1fc7b7306": {
      "model_module": "@jupyter-widgets/controls",
      "model_module_version": "2.0.0",
      "model_name": "HTMLModel",
      "state": {
       "layout": "IPY_MODEL_91e80787eb194b3d84f0a981cbebff6d",
       "style": "IPY_MODEL_b643aab803e94101aa8d5abd80169ed7",
       "value": "<table><style>\ntable {\n    border-collapse: collapse;\n    width: auto;\n}\n\nth, td {\n    text-align: left;\n    padding: 8px;\n}\n\ntr:nth-child(even) {background-color: #f6f6f6;};\n</style><tr><th></th><th>Type</th><th>Gate error</th></tr><tr><td><font style='font-weight:bold'>cx0_1</font></td><td>cx</td><td>0.00703</td></tr><tr><td><font style='font-weight:bold'>cx1_0</font></td><td>cx</td><td>0.00703</td></tr></table>"
      }
     },
     "8d59e16bda2444bb88a85eae76dd204c": {
      "model_module": "@jupyter-widgets/base",
      "model_module_version": "2.0.0",
      "model_name": "LayoutModel",
      "state": {
       "align_items": "center",
       "display": "flex-inline",
       "grid_area": "right",
       "max_height": "325px",
       "padding": "10px 10px 10px 10px",
       "width": "auto"
      }
     },
     "8d62c935656c483bb56b55783b99aa12": {
      "model_module": "@jupyter-widgets/controls",
      "model_module_version": "2.0.0",
      "model_name": "HTMLStyleModel",
      "state": {
       "description_width": "",
       "font_size": null,
       "text_color": null
      }
     },
     "8d7125b60b154f0c81ccbb5366b98dcb": {
      "model_module": "@jupyter-widgets/controls",
      "model_module_version": "2.0.0",
      "model_name": "HTMLModel",
      "state": {
       "layout": "IPY_MODEL_f360ce559c09429e8b1c111117a684d0",
       "style": "IPY_MODEL_864667204d6c45d9a8275be0f21e3120",
       "value": "<h1 style='color:#ffffff;background-color:#000000;padding-top: 1%;padding-bottom: 1%;padding-left: 1%; margin-top: 0px'>ibmq_belem</h1>"
      }
     },
     "8e111114a05a43f6bb12bb9fb99d1137": {
      "model_module": "@jupyter-widgets/base",
      "model_module_version": "2.0.0",
      "model_name": "LayoutModel",
      "state": {
       "grid_area": "bottom",
       "width": "auto"
      }
     },
     "8e4f9ac68b994955ae6aacd12afce07c": {
      "model_module": "@jupyter-widgets/controls",
      "model_module_version": "2.0.0",
      "model_name": "HTMLStyleModel",
      "state": {
       "description_width": "",
       "font_size": null,
       "text_color": null
      }
     },
     "8f14271ea3b74aa585bf416a3149be43": {
      "model_module": "@jupyter-widgets/controls",
      "model_module_version": "2.0.0",
      "model_name": "ButtonModel",
      "state": {
       "icon": "close",
       "layout": "IPY_MODEL_a015a139ce484d73a5014196f5a5be7e",
       "style": "IPY_MODEL_73ad78b0d4a140e8ae58e840440f1084",
       "tooltip": null
      }
     },
     "8f3d2ffc356c498aa44bf621d35b0db8": {
      "model_module": "@jupyter-widgets/controls",
      "model_module_version": "2.0.0",
      "model_name": "VBoxModel",
      "state": {
       "children": [
        "IPY_MODEL_5ec62cdd195b4e7ca5d1ac0175783b67",
        "IPY_MODEL_a7bbe99efdac41d8bedd90a2234ed9aa"
       ],
       "layout": "IPY_MODEL_0c81d06736f0428c8a697857e92b556f"
      }
     },
     "8fe174fd69a6474585494f7ee43a58dd": {
      "model_module": "@jupyter-widgets/controls",
      "model_module_version": "2.0.0",
      "model_name": "HTMLModel",
      "state": {
       "layout": "IPY_MODEL_54edda318f3c4e1f99a1ff40cd532760",
       "style": "IPY_MODEL_9079953e5cef4479a00c356bbd83ee4a",
       "value": "<table><style>\ntable {\n    border-collapse: collapse;\n    width: auto;\n}\n\nth, td {\n    text-align: left;\n    padding: 8px;\n}\n\ntr:nth-child(even) {background-color: #f6f6f6;};\n</style><tr><th></th><th>Type</th><th>Gate error</th></tr><tr><td><font style='font-weight:bold'>cx0_1</font></td><td>cx</td><td>0.00703</td></tr><tr><td><font style='font-weight:bold'>cx1_0</font></td><td>cx</td><td>0.00703</td></tr></table>"
      }
     },
     "8ff0ac5d9481414e8e580e909c9699ac": {
      "model_module": "@jupyter-widgets/controls",
      "model_module_version": "2.0.0",
      "model_name": "GridBoxModel",
      "state": {
       "children": [
        "IPY_MODEL_118954b66d154795b4a92006898cd58c",
        "IPY_MODEL_23fab640a2194b37b8c21d58652aa20e",
        "IPY_MODEL_17aec4b7f44845d388fd2cf574fe6b6e"
       ],
       "layout": "IPY_MODEL_4e8f1c1c1f294b5daedc0ea4dedb8ef4"
      }
     },
     "9079953e5cef4479a00c356bbd83ee4a": {
      "model_module": "@jupyter-widgets/controls",
      "model_module_version": "2.0.0",
      "model_name": "HTMLStyleModel",
      "state": {
       "description_width": "",
       "font_size": null,
       "text_color": null
      }
     },
     "90feb994e45945f8bb1987969c0e8f3e": {
      "model_module": "@jupyter-widgets/base",
      "model_module_version": "2.0.0",
      "model_name": "LayoutModel",
      "state": {
       "border_bottom": "4px solid #000000",
       "border_left": "4px solid #000000",
       "border_right": "4px solid #000000",
       "border_top": "4px solid #000000",
       "max_height": "650px",
       "min_height": "650px"
      }
     },
     "91318d1608b242ce9f2af795e2f5378c": {
      "model_module": "@jupyter-widgets/controls",
      "model_module_version": "2.0.0",
      "model_name": "HTMLStyleModel",
      "state": {
       "description_width": "",
       "font_size": null,
       "text_color": null
      }
     },
     "91475a3361ce49fa82214dbcc1ca07d7": {
      "model_module": "@jupyter-widgets/base",
      "model_module_version": "2.0.0",
      "model_name": "LayoutModel",
      "state": {
       "grid_area": "right"
      }
     },
     "9154d8e35c8f4990b1f24537a0a0a713": {
      "model_module": "@jupyter-widgets/base",
      "model_module_version": "2.0.0",
      "model_name": "LayoutModel",
      "state": {
       "grid_area": "left"
      }
     },
     "917e5e24d7e24505a6d1a38e03df718f": {
      "model_module": "@jupyter-widgets/controls",
      "model_module_version": "2.0.0",
      "model_name": "HTMLModel",
      "state": {
       "layout": "IPY_MODEL_4a5379cafb9c4f54975d93e43e5b9d2e",
       "style": "IPY_MODEL_a873e28d63b4420989d102c43653c4e3",
       "value": "QUEUED"
      }
     },
     "91a3003e013a45718a08edfedcf55938": {
      "model_module": "@jupyter-widgets/controls",
      "model_module_version": "2.0.0",
      "model_name": "HTMLModel",
      "state": {
       "layout": "IPY_MODEL_c6e03313c28d41908cdd91f20114dbb0",
       "style": "IPY_MODEL_72f1b64ab0a34d0996c45e151108493d",
       "value": "ibmq_lima"
      }
     },
     "91e80787eb194b3d84f0a981cbebff6d": {
      "model_module": "@jupyter-widgets/base",
      "model_module_version": "2.0.0",
      "model_name": "LayoutModel",
      "state": {
       "grid_area": "right"
      }
     },
     "923cd58a35fc4397adf7495be1420e5c": {
      "model_module": "@jupyter-widgets/base",
      "model_module_version": "2.0.0",
      "model_name": "LayoutModel",
      "state": {}
     },
     "9309813d8fad42a2ae64d736c0fa9c64": {
      "model_module": "@jupyter-widgets/controls",
      "model_module_version": "2.0.0",
      "model_name": "HTMLStyleModel",
      "state": {
       "description_width": "",
       "font_size": null,
       "text_color": null
      }
     },
     "930f17b33275411ebfc186b00166684c": {
      "model_module": "@jupyter-widgets/output",
      "model_module_version": "1.0.0",
      "model_name": "OutputModel",
      "state": {
       "layout": "IPY_MODEL_b4a0bd779680463dba4e35a7690dedc1",
       "outputs": [
        {
         "data": {
          "image/png": "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\n",
          "text/plain": "<Figure size 500x500 with 1 Axes>"
         },
         "metadata": {},
         "output_type": "display_data"
        }
       ]
      }
     },
     "93188084b9ce4b92804cf8ad16c93b05": {
      "model_module": "@jupyter-widgets/base",
      "model_module_version": "2.0.0",
      "model_name": "LayoutModel",
      "state": {
       "grid_gap": "0px 0px",
       "grid_template_areas": "\n                               \"left right right right\"\n                               \"bottom bottom bottom bottom\"\n                               ",
       "grid_template_columns": "31% 23% 23% 23%",
       "grid_template_rows": "auto auto"
      }
     },
     "93c234827f0d412da4cd706a6781c60c": {
      "model_module": "@jupyter-widgets/base",
      "model_module_version": "2.0.0",
      "model_name": "LayoutModel",
      "state": {
       "align_items": "center",
       "display": "flex-inline"
      }
     },
     "942a5153784c4f90ae5499e112805761": {
      "model_module": "@jupyter-widgets/controls",
      "model_module_version": "2.0.0",
      "model_name": "HTMLModel",
      "state": {
       "layout": "IPY_MODEL_bf740ae61791450bae2bfd0e74b11ed0",
       "style": "IPY_MODEL_1ade01271acd4ed1a771b338cad30459",
       "value": "-"
      }
     },
     "94ee285c90c54399ac951a4c279b40d2": {
      "model_module": "@jupyter-widgets/base",
      "model_module_version": "2.0.0",
      "model_name": "LayoutModel",
      "state": {
       "border_bottom": "4px solid #000000",
       "border_left": "4px solid #000000",
       "border_right": "4px solid #000000",
       "border_top": "4px solid #000000",
       "max_height": "650px",
       "min_height": "650px"
      }
     },
     "95c9da92ba63474ca9bd1ec130f61e2d": {
      "model_module": "@jupyter-widgets/controls",
      "model_module_version": "2.0.0",
      "model_name": "HTMLStyleModel",
      "state": {
       "description_width": "",
       "font_size": null,
       "text_color": null
      }
     },
     "9625215cea324099b6e93c65423f1439": {
      "model_module": "@jupyter-widgets/base",
      "model_module_version": "2.0.0",
      "model_name": "LayoutModel",
      "state": {
       "max_height": "620px"
      }
     },
     "9653d9e42c8d495197e205f95917073f": {
      "model_module": "@jupyter-widgets/controls",
      "model_module_version": "2.0.0",
      "model_name": "HTMLStyleModel",
      "state": {
       "description_width": "",
       "font_size": null,
       "text_color": null
      }
     },
     "96671e286ed346b6ae3adc6b7fdc13f4": {
      "model_module": "@jupyter-widgets/base",
      "model_module_version": "2.0.0",
      "model_name": "LayoutModel",
      "state": {
       "margin": "0px 0px 0px 0px"
      }
     },
     "970f98eae11c456f885595b4cc792544": {
      "model_module": "@jupyter-widgets/controls",
      "model_module_version": "2.0.0",
      "model_name": "HTMLStyleModel",
      "state": {
       "description_width": "",
       "font_size": null,
       "text_color": null
      }
     },
     "9781892b503543c3bb76701005cc97b2": {
      "model_module": "@jupyter-widgets/controls",
      "model_module_version": "2.0.0",
      "model_name": "HTMLModel",
      "state": {
       "layout": "IPY_MODEL_d7622158ce5049ba84234b3a7dade793",
       "style": "IPY_MODEL_59ec94ab02d44a2f989f9db61e581c85",
       "value": "<div><font style='font-weight:bold'>last_update_date</font>: 2023-04-21 05:17:55+00:00</div>"
      }
     },
     "97a9dbeb349048b4820525fc9bd7c288": {
      "model_module": "@jupyter-widgets/controls",
      "model_module_version": "2.0.0",
      "model_name": "HBoxModel",
      "state": {
       "children": [
        "IPY_MODEL_d820261e65414b608e696788d560240f",
        "IPY_MODEL_4a6d6c063fde47c2beaef2ad0c27363d",
        "IPY_MODEL_702377c35bce47bbb450960cd981f40e",
        "IPY_MODEL_84214bebd3a84639bdc2376790405fa6",
        "IPY_MODEL_6c428cdd88b04339b83d8b13bc91f01f",
        "IPY_MODEL_75fecc8b9d1343fd8c5aeb5f0f82a113"
       ],
       "layout": "IPY_MODEL_51bc82a12fc24dfe92bede0991cf0542"
      }
     },
     "98fbc65ee419452d8aa654c91c203ef8": {
      "model_module": "@jupyter-widgets/controls",
      "model_module_version": "2.0.0",
      "model_name": "HTMLStyleModel",
      "state": {
       "description_width": "",
       "font_size": null,
       "text_color": null
      }
     },
     "9993e67fe9634babaece2ee58d7f0508": {
      "model_module": "@jupyter-widgets/controls",
      "model_module_version": "2.0.0",
      "model_name": "HTMLModel",
      "state": {
       "layout": "IPY_MODEL_ede2188fae4e4dffa1833ac9e7651168",
       "style": "IPY_MODEL_0fdb0e07485a48cf98e82018ba75b35b",
       "value": "<table><style>\ntable {\n    border-collapse: collapse;\n    width: auto;\n}\n\nth, td {\n    text-align: left;\n    padding: 8px;\n}\n\ntr:nth-child(even) {background-color: #f6f6f6;}\n</style><tr><th></th><th>Frequency</th><th>T1</th><th>T2</th><th>RZ</th><th>SX</th><th>X</th><th>Readout error</th></tr><tr><td><font style='font-weight:bold'>Q0</font></td><td>5.09022 GHz</td><td>97.63736 us</td><td>124.68298 us</td><td>0</td><td>0.00019</td><td>0.00019</td><td>0.022 </td><tr><td><font style='font-weight:bold'>Q1</font></td><td>5.24553 GHz</td><td>102.36121 us</td><td>124.92609 us</td><td>0</td><td>0.00023</td><td>0.00023</td><td>0.0197 </td><tr><td><font style='font-weight:bold'>Q2</font></td><td>5.3615 GHz</td><td>95.69288 us</td><td>66.37103 us</td><td>0</td><td>0.00029</td><td>0.00029</td><td>0.0358 </td><tr><td><font style='font-weight:bold'>Q3</font></td><td>5.17032 GHz</td><td>106.46553 us</td><td>118.81208 us</td><td>0</td><td>0.00057</td><td>0.00057</td><td>0.0274 </td><tr><td><font style='font-weight:bold'>Q4</font></td><td>5.25846 GHz</td><td>87.87528 us</td><td>164.55961 us</td><td>0</td><td>0.00097</td><td>0.00097</td><td>0.026 </td></table>"
      }
     },
     "99a0c713fd9548e7b77980fba1a85168": {
      "model_module": "@jupyter-widgets/controls",
      "model_module_version": "2.0.0",
      "model_name": "HTMLModel",
      "state": {
       "layout": "IPY_MODEL_a401f30c5ada41cfa7cf21585d6a3e21",
       "style": "IPY_MODEL_33dbde72d2284d1f925f8c27da49d8cc",
       "value": "-"
      }
     },
     "99a1b3f78867489dab163acf4fcb64aa": {
      "model_module": "@jupyter-widgets/controls",
      "model_module_version": "2.0.0",
      "model_name": "HTMLStyleModel",
      "state": {
       "description_width": "",
       "font_size": null,
       "text_color": null
      }
     },
     "99b52c9381454587bd029ba1c204bbce": {
      "model_module": "@jupyter-widgets/output",
      "model_module_version": "1.0.0",
      "model_name": "OutputModel",
      "state": {
       "layout": "IPY_MODEL_7a52b6abb2724608820c31bb702a16f6",
       "outputs": [
        {
         "data": {
          "image/png": "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\n",
          "text/plain": "<Figure size 1100x900 with 5 Axes>"
         },
         "metadata": {},
         "output_type": "display_data"
        }
       ]
      }
     },
     "9a5ef84f87774d9ca7f50db941d34094": {
      "model_module": "@jupyter-widgets/controls",
      "model_module_version": "2.0.0",
      "model_name": "HTMLMathStyleModel",
      "state": {
       "description_width": "",
       "font_size": null,
       "text_color": null
      }
     },
     "9aab50a1f34d4e499c75f2cbb62c03d4": {
      "model_module": "@jupyter-widgets/base",
      "model_module_version": "2.0.0",
      "model_name": "LayoutModel",
      "state": {
       "grid_area": "bottom",
       "width": "auto"
      }
     },
     "9aecfe92ea584373828e345ab510d17f": {
      "model_module": "@jupyter-widgets/controls",
      "model_module_version": "2.0.0",
      "model_name": "HTMLModel",
      "state": {
       "layout": "IPY_MODEL_863586469d884d77b579afbbef769bac",
       "style": "IPY_MODEL_6df92de3c85a463ba10385e98ba99406",
       "value": "<table><style>\ntable {\n    border-collapse: collapse;\n    width: auto;\n}\n\nth, td {\n    text-align: left;\n    padding: 8px;\n}\n\ntr:nth-child(even) {background-color: #f6f6f6;};\n</style><tr><th></th><th>Type</th><th>Gate error</th></tr><tr><td><font style='font-weight:bold'>cx2_1</font></td><td>cx</td><td>0.00904</td></tr><tr><td><font style='font-weight:bold'>cx1_2</font></td><td>cx</td><td>0.00904</td></tr></table>"
      }
     },
     "9b45b500618441f6880b1210d122f2d2": {
      "model_module": "@jupyter-widgets/base",
      "model_module_version": "2.0.0",
      "model_name": "LayoutModel",
      "state": {
       "grid_area": "bottom",
       "width": "auto"
      }
     },
     "9b5d9cf450ac4f25925119bda54b878f": {
      "model_module": "@jupyter-widgets/controls",
      "model_module_version": "2.0.0",
      "model_name": "HTMLMathModel",
      "state": {
       "layout": "IPY_MODEL_6f1c0066db0c4597b81f99609ee5549d",
       "style": "IPY_MODEL_5aa8c53c300d4e5fa036934b6f9c1203",
       "value": "<table><style>\ntable {\n    border-collapse: collapse;\n    width: auto;\n}\n\nth, td {\n    text-align: left;\n    padding: 8px;\n}\n\ntr:nth-child(even) {background-color: #f6f6f6;}\n</style><tr><th>Property</th><th>Value</th></tr><tr><td><font style='font-weight:bold'>n_qubits</font></td><td>5</td></tr><tr><td><font style='font-weight:bold'>quantum_volume</font></td><td>16</td></tr><tr><td><font style='font-weight:bold'>operational</font></td><td>True</td></tr><tr><td><font style='font-weight:bold'>status_msg</font></td><td>active</td></tr><tr><td><font style='font-weight:bold'>pending_jobs</font></td><td>14</td></tr><tr><td><font style='font-weight:bold'>backend_version</font></td><td>1.2.7</td></tr><tr><td><font style='font-weight:bold'>basis_gates</font></td><td>['id', 'rz', 'sx', 'x', 'cx', 'reset']</td></tr><tr><td><font style='font-weight:bold'>max_shots</font></td><td>20000</td></tr><tr><td><font style='font-weight:bold'>max_experiments</font></td><td>100</td></tr></table>"
      }
     },
     "9c31610eb9414e7a86dbeb7f8ea3ead0": {
      "model_module": "@jupyter-widgets/base",
      "model_module_version": "2.0.0",
      "model_name": "LayoutModel",
      "state": {
       "width": "190px"
      }
     },
     "9c4feff0e5aa4ee9abe959631286c7ff": {
      "model_module": "@jupyter-widgets/controls",
      "model_module_version": "2.0.0",
      "model_name": "HTMLStyleModel",
      "state": {
       "description_width": "",
       "font_size": null,
       "text_color": null
      }
     },
     "9cb8134181a14a3499e2c4ec69f1ad00": {
      "model_module": "@jupyter-widgets/controls",
      "model_module_version": "2.0.0",
      "model_name": "HTMLStyleModel",
      "state": {
       "description_width": "",
       "font_size": null,
       "text_color": null
      }
     },
     "9cedea64fd9249658fdcf4b5e3ca9396": {
      "model_module": "@jupyter-widgets/controls",
      "model_module_version": "2.0.0",
      "model_name": "HTMLModel",
      "state": {
       "layout": "IPY_MODEL_ef16d5786a5d49e4bf2a07f233f8f42b",
       "style": "IPY_MODEL_20132632c06c4a2fadab8911ae8fc256",
       "value": "<div><font style='font-weight:bold'>last_update_date</font>: Fri 21 April 2023 at 05:15 UTC</div>"
      }
     },
     "9da62b48a1d94524ac00de8210f594ca": {
      "model_module": "@jupyter-widgets/controls",
      "model_module_version": "2.0.0",
      "model_name": "HTMLStyleModel",
      "state": {
       "description_width": "",
       "font_size": null,
       "text_color": null
      }
     },
     "9e3f67b774dd43039e17323ec6f66541": {
      "model_module": "@jupyter-widgets/base",
      "model_module_version": "2.0.0",
      "model_name": "LayoutModel",
      "state": {
       "align_items": "center",
       "display": "flex-inline"
      }
     },
     "9ec0800c4678443b9218a7d6e70b8f52": {
      "model_module": "@jupyter-widgets/controls",
      "model_module_version": "2.0.0",
      "model_name": "GridBoxModel",
      "state": {
       "children": [
        "IPY_MODEL_6557c2a0de984e4b863c1deaa07a5d0a",
        "IPY_MODEL_e0eaee46c760420597bd433deb4eb960",
        "IPY_MODEL_f89b2141ef0e4c1dbaeaa2d86a86077d"
       ],
       "layout": "IPY_MODEL_d63d2d8e281a465fa7372fbcccf28d01"
      }
     },
     "9ec24fa89ccf431daae4780264fdccb3": {
      "model_module": "@jupyter-widgets/controls",
      "model_module_version": "2.0.0",
      "model_name": "HTMLModel",
      "state": {
       "layout": "IPY_MODEL_d8cd160c405a4a5e9b9ba01325dc7dc0",
       "style": "IPY_MODEL_8936eeabbd39421ba7fb195f31ef6f0f",
       "value": "<font style='color:#34BC6E'>DONE</font>"
      }
     },
     "a015a139ce484d73a5014196f5a5be7e": {
      "model_module": "@jupyter-widgets/base",
      "model_module_version": "2.0.0",
      "model_name": "LayoutModel",
      "state": {
       "margin": "0px 5px 0px 0px",
       "width": "32px"
      }
     },
     "a043d0afdd944377b253bcb8d14ac653": {
      "model_module": "@jupyter-widgets/controls",
      "model_module_version": "2.0.0",
      "model_name": "HTMLStyleModel",
      "state": {
       "description_width": "",
       "font_size": null,
       "text_color": null
      }
     },
     "a06aee8076b84e30969cdc2abe54f180": {
      "model_module": "@jupyter-widgets/base",
      "model_module_version": "2.0.0",
      "model_name": "LayoutModel",
      "state": {
       "margin": "0px 0px 0px 0px"
      }
     },
     "a10ae58d46ed4deeb360d8fda50386df": {
      "model_module": "@jupyter-widgets/base",
      "model_module_version": "2.0.0",
      "model_name": "LayoutModel",
      "state": {
       "width": "95px"
      }
     },
     "a12b6456e57a4ab496eb7124f09d3022": {
      "model_module": "@jupyter-widgets/controls",
      "model_module_version": "2.0.0",
      "model_name": "HTMLModel",
      "state": {
       "layout": "IPY_MODEL_67bc1ae3da204083b219b3334f233a4c",
       "style": "IPY_MODEL_70598319351547b9ab8254dcdeedbfa7",
       "value": "<div><font style='font-weight:bold'>last_update_date</font>: 2023-04-21 05:17:55+00:00</div>"
      }
     },
     "a12c1f6cd8514bbf888ec8cce02a0d08": {
      "model_module": "@jupyter-widgets/base",
      "model_module_version": "2.0.0",
      "model_name": "LayoutModel",
      "state": {
       "align_items": "center",
       "display": "flex-inline",
       "grid_area": "right",
       "max_height": "325px",
       "padding": "10px 10px 10px 10px",
       "width": "auto"
      }
     },
     "a14d089706304eccb1731468b03d914b": {
      "model_module": "@jupyter-widgets/controls",
      "model_module_version": "2.0.0",
      "model_name": "HTMLMathModel",
      "state": {
       "layout": "IPY_MODEL_c69d447188c846b59339cf44d13a1ff8",
       "style": "IPY_MODEL_f93c2133a24f4c268b0ddd8b512c047a",
       "value": "<table><style>\ntable {\n    border-collapse: collapse;\n    width: auto;\n}\n\nth, td {\n    text-align: left;\n    padding: 8px;\n}\n\ntr:nth-child(even) {background-color: #f6f6f6;}\n</style><tr><th>Property</th><th>Value</th></tr><tr><td><font style='font-weight:bold'>n_qubits</font></td><td>5</td></tr><tr><td><font style='font-weight:bold'>quantum_volume</font></td><td>8</td></tr><tr><td><font style='font-weight:bold'>operational</font></td><td>True</td></tr><tr><td><font style='font-weight:bold'>status_msg</font></td><td>active</td></tr><tr><td><font style='font-weight:bold'>pending_jobs</font></td><td>6</td></tr><tr><td><font style='font-weight:bold'>backend_version</font></td><td>1.0.47</td></tr><tr><td><font style='font-weight:bold'>basis_gates</font></td><td>['id', 'rz', 'sx', 'x', 'cx', 'reset']</td></tr><tr><td><font style='font-weight:bold'>max_shots</font></td><td>20000</td></tr><tr><td><font style='font-weight:bold'>max_experiments</font></td><td>100</td></tr></table>"
      }
     },
     "a2445594fa764347a7925ef401dc6e65": {
      "model_module": "@jupyter-widgets/controls",
      "model_module_version": "2.0.0",
      "model_name": "HTMLModel",
      "state": {
       "layout": "IPY_MODEL_4e7811e299484b518c68fa19fb3e36ba",
       "style": "IPY_MODEL_6e3eb3ae65584f859f1ff525276cd01f",
       "value": "job has successfully run"
      }
     },
     "a27f93fef1d34bd0bf048295ef5b5b24": {
      "model_module": "@jupyter-widgets/base",
      "model_module_version": "2.0.0",
      "model_name": "LayoutModel",
      "state": {}
     },
     "a29f8b4efb5544cda5f2b52206b6c931": {
      "model_module": "@jupyter-widgets/controls",
      "model_module_version": "2.0.0",
      "model_name": "TabModel",
      "state": {
       "layout": "IPY_MODEL_d1546f5d7f584f0aab3f5ddf6f7a7c94"
      }
     },
     "a2aca6b712354452a3bff30f40f7d846": {
      "model_module": "@jupyter-widgets/base",
      "model_module_version": "2.0.0",
      "model_name": "LayoutModel",
      "state": {
       "grid_area": "top"
      }
     },
     "a2b04d9dbc724fcd8fda41d1b3adb17b": {
      "model_module": "@jupyter-widgets/base",
      "model_module_version": "2.0.0",
      "model_name": "LayoutModel",
      "state": {
       "width": "95px"
      }
     },
     "a30b494a9cea469a81ebde2d1ea871b5": {
      "model_module": "@jupyter-widgets/controls",
      "model_module_version": "2.0.0",
      "model_name": "HTMLModel",
      "state": {
       "layout": "IPY_MODEL_1599f0589b0947b98007807bdb2d1db1",
       "style": "IPY_MODEL_38d63d50fbdc4da0b0603a7ee4a5bac1",
       "value": "<table><style>\ntable {\n    border-collapse: collapse;\n    width: auto;\n}\n\nth, td {\n    text-align: left;\n    padding: 8px;\n}\n\ntr:nth-child(even) {background-color: #f6f6f6;};\n</style><tr><th></th><th>Type</th><th>Gate error</th></tr><tr><td><font style='font-weight:bold'>cx4_3</font></td><td>cx</td><td>0.01241</td></tr><tr><td><font style='font-weight:bold'>cx3_4</font></td><td>cx</td><td>0.01241</td></tr><tr><td><font style='font-weight:bold'>cx3_1</font></td><td>cx</td><td>0.0072</td></tr></table>"
      }
     },
     "a31eca05c2e645509bd6faea63bac912": {
      "model_module": "@jupyter-widgets/output",
      "model_module_version": "1.0.0",
      "model_name": "OutputModel",
      "state": {
       "layout": "IPY_MODEL_29d7a55bc2664af5abc48c072907c49d",
       "outputs": [
        {
         "data": {
          "image/png": "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\n",
          "text/plain": "<Figure size 500x500 with 1 Axes>"
         },
         "metadata": {},
         "output_type": "display_data"
        }
       ]
      }
     },
     "a34e8034793c4b93a508098d5b90626f": {
      "model_module": "@jupyter-widgets/base",
      "model_module_version": "2.0.0",
      "model_name": "LayoutModel",
      "state": {
       "grid_gap": "0px 0px",
       "grid_template_areas": "\n                                                   \"top top top\"\n                                                   \"left middle right\"\n                                                   ",
       "grid_template_columns": "33% 33% 33%",
       "grid_template_rows": "auto auto"
      }
     },
     "a3ea548bc3c04e7abd1b3021231225ec": {
      "model_module": "@jupyter-widgets/base",
      "model_module_version": "2.0.0",
      "model_name": "LayoutModel",
      "state": {
       "grid_area": "middle"
      }
     },
     "a401f30c5ada41cfa7cf21585d6a3e21": {
      "model_module": "@jupyter-widgets/base",
      "model_module_version": "2.0.0",
      "model_name": "LayoutModel",
      "state": {
       "width": "70px"
      }
     },
     "a45789d84fd84a0392496bb125e95b26": {
      "model_module": "@jupyter-widgets/base",
      "model_module_version": "2.0.0",
      "model_name": "LayoutModel",
      "state": {
       "max_width": "700px",
       "min_width": "700px"
      }
     },
     "a468b95e04d047fbb676d64071b7876c": {
      "model_module": "@jupyter-widgets/base",
      "model_module_version": "2.0.0",
      "model_name": "LayoutModel",
      "state": {}
     },
     "a497b73eea044633a2d045ca379b09ae": {
      "model_module": "@jupyter-widgets/controls",
      "model_module_version": "2.0.0",
      "model_name": "HTMLMathStyleModel",
      "state": {
       "description_width": "",
       "font_size": null,
       "text_color": null
      }
     },
     "a4b247fed341490b82106024fd9fd14e": {
      "model_module": "@jupyter-widgets/controls",
      "model_module_version": "2.0.0",
      "model_name": "HTMLModel",
      "state": {
       "layout": "IPY_MODEL_26d5bb7cd0b14466a4d2d966aba1102d",
       "style": "IPY_MODEL_afb236fafbe141b185b24c2fc7493533",
       "value": "<h1 style='color:#ffffff;background-color:#000000;padding-top: 1%;padding-bottom: 1%;padding-left: 1%; margin-top: 0px'>ibmq_quito</h1>"
      }
     },
     "a4c146b383c84ba3a4677a5e60d4ea65": {
      "model_module": "@jupyter-widgets/controls",
      "model_module_version": "2.0.0",
      "model_name": "HTMLStyleModel",
      "state": {
       "description_width": "",
       "font_size": null,
       "text_color": null
      }
     },
     "a552aaf14fd04478836fe47f16b0f430": {
      "model_module": "@jupyter-widgets/output",
      "model_module_version": "1.0.0",
      "model_name": "OutputModel",
      "state": {
       "layout": "IPY_MODEL_151d6a1910304fa79ac98bcf558b70f3",
       "outputs": [
        {
         "data": {
          "image/png": "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\n",
          "text/plain": "<Figure size 500x500 with 1 Axes>"
         },
         "metadata": {},
         "output_type": "display_data"
        }
       ]
      }
     },
     "a5f180c967a04c428856993edd0bc23d": {
      "model_module": "@jupyter-widgets/base",
      "model_module_version": "2.0.0",
      "model_name": "LayoutModel",
      "state": {
       "grid_area": "left"
      }
     },
     "a70c8512dd5743a981d77ad95947cc10": {
      "model_module": "@jupyter-widgets/base",
      "model_module_version": "2.0.0",
      "model_name": "LayoutModel",
      "state": {
       "width": "95px"
      }
     },
     "a72441ce8e33488481815ee53bc1e3bc": {
      "model_module": "@jupyter-widgets/controls",
      "model_module_version": "2.0.0",
      "model_name": "GridBoxModel",
      "state": {
       "children": [
        "IPY_MODEL_6c0876d1e12145e7b4ad0d94e88a9c09",
        "IPY_MODEL_c97f79a4f1a944b18ee73eaedf79afc3",
        "IPY_MODEL_522f665bced24d3ab6c1c4495b39f901"
       ],
       "layout": "IPY_MODEL_93188084b9ce4b92804cf8ad16c93b05"
      }
     },
     "a7863740cd5d476ea036af9ee9d0e408": {
      "model_module": "@jupyter-widgets/base",
      "model_module_version": "2.0.0",
      "model_name": "LayoutModel",
      "state": {
       "grid_area": "right"
      }
     },
     "a7bbe99efdac41d8bedd90a2234ed9aa": {
      "model_module": "@jupyter-widgets/controls",
      "model_module_version": "2.0.0",
      "model_name": "HTMLModel",
      "state": {
       "layout": "IPY_MODEL_3774ea4cdedb4e2395c2fe9dfb9a1ee9",
       "style": "IPY_MODEL_c8c7cbc03e414886914d3e181636ed42",
       "value": "<table><style>\ntable {\n    border-collapse: collapse;\n    width: auto;\n}\n\nth, td {\n    text-align: left;\n    padding: 8px;\n}\n\ntr:nth-child(even) {background-color: #f6f6f6;}\n</style><tr><th></th><th>Frequency</th><th>T1</th><th>T2</th><th>RZ</th><th>SX</th><th>X</th><th>Readout error</th></tr><tr><td><font style='font-weight:bold'>Q0</font></td><td>5.02976 GHz</td><td>139.04158 us</td><td>256.38557 us</td><td>0</td><td>0.00043</td><td>0.00043</td><td>0.0167 </td><tr><td><font style='font-weight:bold'>Q1</font></td><td>5.12774 GHz</td><td>115.92117 us</td><td>75.83268 us</td><td>0</td><td>0.00057</td><td>0.00057</td><td>0.0207 </td><tr><td><font style='font-weight:bold'>Q2</font></td><td>5.24735 GHz</td><td>58.82784 us</td><td>85.32893 us</td><td>0</td><td>0.00037</td><td>0.00037</td><td>0.02 </td><tr><td><font style='font-weight:bold'>Q3</font></td><td>5.30256 GHz</td><td>79.53999 us</td><td>82.99205 us</td><td>0</td><td>0.00027</td><td>0.00027</td><td>0.0327 </td><tr><td><font style='font-weight:bold'>Q4</font></td><td>5.09208 GHz</td><td>14.92111 us</td><td>17.98448 us</td><td>0</td><td>0.00069</td><td>0.00069</td><td>0.0472 </td></table>"
      }
     },
     "a873e28d63b4420989d102c43653c4e3": {
      "model_module": "@jupyter-widgets/controls",
      "model_module_version": "2.0.0",
      "model_name": "HTMLStyleModel",
      "state": {
       "description_width": "",
       "font_size": null,
       "text_color": null
      }
     },
     "a8b1adaf8f304a669d9da29132075692": {
      "model_module": "@jupyter-widgets/base",
      "model_module_version": "2.0.0",
      "model_name": "LayoutModel",
      "state": {}
     },
     "a8bf9b26bb5c4d5986ec790d88f3fc8e": {
      "model_module": "@jupyter-widgets/controls",
      "model_module_version": "2.0.0",
      "model_name": "HTMLModel",
      "state": {
       "layout": "IPY_MODEL_a7863740cd5d476ea036af9ee9d0e408",
       "style": "IPY_MODEL_c40d53e9119040179958986faff2b844",
       "value": "<table><style>\ntable {\n    border-collapse: collapse;\n    width: auto;\n}\n\nth, td {\n    text-align: left;\n    padding: 8px;\n}\n\ntr:nth-child(even) {background-color: #f6f6f6;};\n</style><tr><th></th><th>Type</th><th>Gate error</th></tr><tr><td><font style='font-weight:bold'>cx1_0</font></td><td>cx</td><td>0.01081</td></tr><tr><td><font style='font-weight:bold'>cx0_1</font></td><td>cx</td><td>0.01081</td></tr></table>"
      }
     },
     "a8e0bfe6c07943f69deb5c017643fd3b": {
      "model_module": "@jupyter-widgets/controls",
      "model_module_version": "2.0.0",
      "model_name": "GridBoxModel",
      "state": {
       "children": [
        "IPY_MODEL_71e1c2ea5d304db09784f6e9fe45288d",
        "IPY_MODEL_697d84c12f724a91bef9b9e32d3e375e",
        "IPY_MODEL_e9fdcacbda5841459512fd11a6439e98"
       ],
       "layout": "IPY_MODEL_fbf1293e9c234739b47b2b83a5f77e8c"
      }
     },
     "a9acac2253a8476699eebf482cae4a4b": {
      "model_module": "@jupyter-widgets/controls",
      "model_module_version": "2.0.0",
      "model_name": "HTMLStyleModel",
      "state": {
       "description_width": "",
       "font_size": null,
       "text_color": null
      }
     },
     "a9b5928265884a2cba5554e7622bea12": {
      "model_module": "@jupyter-widgets/controls",
      "model_module_version": "2.0.0",
      "model_name": "HTMLModel",
      "state": {
       "layout": "IPY_MODEL_1015cf6f6302409a8c216f593f053154",
       "style": "IPY_MODEL_3090aead9a7f4900bf17782f75d38210",
       "value": "<table><style>\ntable {\n    border-collapse: collapse;\n    width: auto;\n}\n\nth, td {\n    text-align: left;\n    padding: 8px;\n}\n\ntr:nth-child(even) {background-color: #f6f6f6;};\n</style><tr><th></th><th>Type</th><th>Gate error</th></tr><tr><td><font style='font-weight:bold'>cx4_3</font></td><td>cx</td><td>0.0173</td></tr><tr><td><font style='font-weight:bold'>cx3_4</font></td><td>cx</td><td>0.0173</td></tr><tr><td><font style='font-weight:bold'>cx0_1</font></td><td>cx</td><td>0.00736</td></tr></table>"
      }
     },
     "aa627ad69ff64088a7395bd87624763c": {
      "model_module": "@jupyter-widgets/controls",
      "model_module_version": "2.0.0",
      "model_name": "HTMLModel",
      "state": {
       "layout": "IPY_MODEL_592dfdc1bebe451dbb3d1e145c621a36",
       "style": "IPY_MODEL_9da62b48a1d94524ac00de8210f594ca",
       "value": "<h1 style='color:#ffffff;background-color:#000000;padding-top: 1%;padding-bottom: 1%;padding-left: 1%; margin-top: 0px'>ibmq_lima</h1>"
      }
     },
     "aac2647f93874928b3ef4bbf9d194601": {
      "model_module": "@jupyter-widgets/base",
      "model_module_version": "2.0.0",
      "model_name": "LayoutModel",
      "state": {}
     },
     "ab72b72c10844d53930f3ede3f39cb74": {
      "model_module": "@jupyter-widgets/controls",
      "model_module_version": "2.0.0",
      "model_name": "HTMLStyleModel",
      "state": {
       "description_width": "",
       "font_size": null,
       "text_color": null
      }
     },
     "ab9d3e1a874f48e6a13526d5ce3af66f": {
      "model_module": "@jupyter-widgets/base",
      "model_module_version": "2.0.0",
      "model_name": "LayoutModel",
      "state": {
       "grid_area": "left"
      }
     },
     "abdc71be3d9d4430bb5fa2f49f91356e": {
      "model_module": "@jupyter-widgets/controls",
      "model_module_version": "2.0.0",
      "model_name": "VBoxModel",
      "state": {
       "children": [
        "IPY_MODEL_9cedea64fd9249658fdcf4b5e3ca9396",
        "IPY_MODEL_78a648367ee54e3e9f538048f9b9c4a3"
       ],
       "layout": "IPY_MODEL_f09ecb785e384f46a782022bf2ae6af1"
      }
     },
     "ac176e361dae4f909e3b8ff5f643c9f3": {
      "model_module": "@jupyter-widgets/controls",
      "model_module_version": "2.0.0",
      "model_name": "VBoxModel",
      "state": {
       "children": [
        "IPY_MODEL_8d7125b60b154f0c81ccbb5366b98dcb",
        "IPY_MODEL_2abfea9492bb45919b6842cff7d053ce"
       ],
       "layout": "IPY_MODEL_94ee285c90c54399ac951a4c279b40d2"
      }
     },
     "ac273f62364745238d34c4d2dbc54379": {
      "model_module": "@jupyter-widgets/base",
      "model_module_version": "2.0.0",
      "model_name": "LayoutModel",
      "state": {}
     },
     "ac76090263944dbcbe73d8e5eec9bdaa": {
      "model_module": "@jupyter-widgets/controls",
      "model_module_version": "2.0.0",
      "model_name": "HTMLModel",
      "state": {
       "layout": "IPY_MODEL_7fa72344dd2a45b08dcce2fa385e7da7",
       "style": "IPY_MODEL_e80662a151674894a03a1e26a54f48bf",
       "value": "<div><font style='font-weight:bold'>last_update_date</font>: Fri 21 April 2023 at 05:15 UTC</div>"
      }
     },
     "aca7b4c0a64a4ba1a75cb49b01a6be5a": {
      "model_module": "@jupyter-widgets/base",
      "model_module_version": "2.0.0",
      "model_name": "LayoutModel",
      "state": {
       "width": "145px"
      }
     },
     "afb236fafbe141b185b24c2fc7493533": {
      "model_module": "@jupyter-widgets/controls",
      "model_module_version": "2.0.0",
      "model_name": "HTMLStyleModel",
      "state": {
       "description_width": "",
       "font_size": null,
       "text_color": null
      }
     },
     "b022789c7bde473d99bdea16f2e9e411": {
      "model_module": "@jupyter-widgets/controls",
      "model_module_version": "2.0.0",
      "model_name": "HTMLStyleModel",
      "state": {
       "description_width": "",
       "font_size": null,
       "text_color": null
      }
     },
     "b0914c642bb64719b204864b4bd74f64": {
      "model_module": "@jupyter-widgets/controls",
      "model_module_version": "2.0.0",
      "model_name": "HTMLStyleModel",
      "state": {
       "description_width": "",
       "font_size": null,
       "text_color": null
      }
     },
     "b0fafe333dd941b0aed7e907388ee107": {
      "model_module": "@jupyter-widgets/base",
      "model_module_version": "2.0.0",
      "model_name": "LayoutModel",
      "state": {}
     },
     "b1000abc6cd7447388a58448c183f109": {
      "model_module": "@jupyter-widgets/base",
      "model_module_version": "2.0.0",
      "model_name": "LayoutModel",
      "state": {
       "grid_area": "left"
      }
     },
     "b2128144ff2f403b9ffa1fa47d1c2a54": {
      "model_module": "@jupyter-widgets/base",
      "model_module_version": "2.0.0",
      "model_name": "LayoutModel",
      "state": {
       "grid_area": "middle"
      }
     },
     "b21bdc66ba16439d9a9c0d12b795a181": {
      "model_module": "@jupyter-widgets/base",
      "model_module_version": "2.0.0",
      "model_name": "LayoutModel",
      "state": {
       "grid_area": "right"
      }
     },
     "b262904f31404701847d076545906309": {
      "model_module": "@jupyter-widgets/base",
      "model_module_version": "2.0.0",
      "model_name": "LayoutModel",
      "state": {
       "align_items": "center",
       "display": "flex-inline"
      }
     },
     "b2c11c01ac144ca69c0bd6a382ae55ac": {
      "model_module": "@jupyter-widgets/controls",
      "model_module_version": "2.0.0",
      "model_name": "HTMLStyleModel",
      "state": {
       "description_width": "",
       "font_size": null,
       "text_color": null
      }
     },
     "b47951ce115c48208b2e94de7e4512c8": {
      "model_module": "@jupyter-widgets/base",
      "model_module_version": "2.0.0",
      "model_name": "LayoutModel",
      "state": {
       "grid_area": "right"
      }
     },
     "b4a0bd779680463dba4e35a7690dedc1": {
      "model_module": "@jupyter-widgets/base",
      "model_module_version": "2.0.0",
      "model_name": "LayoutModel",
      "state": {
       "align_items": "center",
       "display": "flex-inline",
       "grid_area": "right",
       "max_height": "325px",
       "padding": "10px 10px 10px 10px",
       "width": "auto"
      }
     },
     "b52439240c4a45c09bd4b7a106152d9b": {
      "model_module": "@jupyter-widgets/controls",
      "model_module_version": "2.0.0",
      "model_name": "HTMLModel",
      "state": {
       "layout": "IPY_MODEL_63fe4c90148c4da2b6bf80b7d9dfba49",
       "style": "IPY_MODEL_d9392cf6bfc94732a447bd05f87011fc",
       "value": "ch1659ije75ehat2tk80"
      }
     },
     "b643aab803e94101aa8d5abd80169ed7": {
      "model_module": "@jupyter-widgets/controls",
      "model_module_version": "2.0.0",
      "model_name": "HTMLStyleModel",
      "state": {
       "description_width": "",
       "font_size": null,
       "text_color": null
      }
     },
     "b67af1d7831741fda6d7dc1678297449": {
      "model_module": "@jupyter-widgets/base",
      "model_module_version": "2.0.0",
      "model_name": "LayoutModel",
      "state": {
       "width": "190px"
      }
     },
     "b6d564d2579a48c7bdea4309dbcdb065": {
      "model_module": "@jupyter-widgets/base",
      "model_module_version": "2.0.0",
      "model_name": "LayoutModel",
      "state": {
       "margin": "0px 0px 10px 0px"
      }
     },
     "b6d8a37e5f584883a8b92763989f5d38": {
      "model_module": "@jupyter-widgets/base",
      "model_module_version": "2.0.0",
      "model_name": "LayoutModel",
      "state": {
       "grid_area": "top"
      }
     },
     "b70a0ce4bdd5452682f046b35aa99dff": {
      "model_module": "@jupyter-widgets/base",
      "model_module_version": "2.0.0",
      "model_name": "LayoutModel",
      "state": {
       "margin": "0px 0px 0px 0px"
      }
     },
     "b7ec308f95c540a8960bfcb5448c1ab7": {
      "model_module": "@jupyter-widgets/controls",
      "model_module_version": "2.0.0",
      "model_name": "VBoxModel",
      "state": {
       "children": [
        "IPY_MODEL_3cc89fb8edc54f959c45c4fa1a1858ee",
        "IPY_MODEL_9993e67fe9634babaece2ee58d7f0508"
       ],
       "layout": "IPY_MODEL_43d5b19472314153bd9a093d0302300b"
      }
     },
     "b81f61cac2924e2bb76a4481fea78826": {
      "model_module": "@jupyter-widgets/controls",
      "model_module_version": "2.0.0",
      "model_name": "HTMLModel",
      "state": {
       "layout": "IPY_MODEL_2acb848654994977a666b35348e0b521",
       "style": "IPY_MODEL_cfcf2681eb8f4399a9e8360c12211869",
       "value": "<div><font style='font-weight:bold'>last_update_date</font>: Fri 21 April 2023 at 05:15 UTC</div>"
      }
     },
     "b82c4d0261744da58eb681890a0028e0": {
      "model_module": "@jupyter-widgets/base",
      "model_module_version": "2.0.0",
      "model_name": "LayoutModel",
      "state": {}
     },
     "b896cf59d7124f999738a256753a944a": {
      "model_module": "@jupyter-widgets/controls",
      "model_module_version": "2.0.0",
      "model_name": "HTMLModel",
      "state": {
       "layout": "IPY_MODEL_34347da126b14dab833fc171289e83b5",
       "style": "IPY_MODEL_1d76714c43bc455897ec093602f3acbb",
       "value": "<div><font style='font-weight:bold'>last_update_date</font>: 2023-04-21 05:15:09+00:00</div>"
      }
     },
     "b982b5b4b4cf4699a6ffe080381a2c87": {
      "model_module": "@jupyter-widgets/controls",
      "model_module_version": "2.0.0",
      "model_name": "HTMLMathStyleModel",
      "state": {
       "description_width": "",
       "font_size": null,
       "text_color": null
      }
     },
     "b9e45e16ea9e4e22ac9f608a1445b26c": {
      "model_module": "@jupyter-widgets/base",
      "model_module_version": "2.0.0",
      "model_name": "LayoutModel",
      "state": {
       "margin": "0px 5px 0px 0px",
       "width": "32px"
      }
     },
     "b9f66426df684749b4d5c6420273f6ee": {
      "model_module": "@jupyter-widgets/base",
      "model_module_version": "2.0.0",
      "model_name": "LayoutModel",
      "state": {
       "grid_gap": "0px 0px",
       "grid_template_areas": "\n                               \"left right right right\"\n                               \"bottom bottom bottom bottom\"\n                               ",
       "grid_template_columns": "31% 23% 23% 23%",
       "grid_template_rows": "auto auto"
      }
     },
     "ba9059678cd24574b429671c85668e89": {
      "model_module": "@jupyter-widgets/controls",
      "model_module_version": "2.0.0",
      "model_name": "HTMLStyleModel",
      "state": {
       "description_width": "",
       "font_size": null,
       "text_color": null
      }
     },
     "bb7197dd1060462c9ca5fd28e3e2c6d5": {
      "model_module": "@jupyter-widgets/controls",
      "model_module_version": "2.0.0",
      "model_name": "TabModel",
      "state": {
       "children": [
        "IPY_MODEL_9ec0800c4678443b9218a7d6e70b8f52",
        "IPY_MODEL_abdc71be3d9d4430bb5fa2f49f91356e",
        "IPY_MODEL_da80eeca84b94cafbab9103b3cd2329c",
        "IPY_MODEL_99b52c9381454587bd029ba1c204bbce",
        "IPY_MODEL_64608918b0594a33878461e76d5e5f1a"
       ],
       "layout": "IPY_MODEL_edf1427dab324503ac903de639a14db4",
       "selected_index": 0,
       "titles": [
        "Configuration",
        "Qubit Properties",
        "Multi-Qubit Gates",
        "Error Map",
        "Job History"
       ]
      }
     },
     "bb88a8e5292545aba6e30aea74d02ef6": {
      "model_module": "@jupyter-widgets/controls",
      "model_module_version": "2.0.0",
      "model_name": "HTMLStyleModel",
      "state": {
       "description_width": "",
       "font_size": null,
       "text_color": null
      }
     },
     "bbddf5f962ef494c869af4f5205c8362": {
      "model_module": "@jupyter-widgets/base",
      "model_module_version": "2.0.0",
      "model_name": "LayoutModel",
      "state": {
       "grid_gap": "0px 0px",
       "grid_template_areas": "\n                                                   \"top top top\"\n                                                   \"left middle right\"\n                                                   ",
       "grid_template_columns": "33% 33% 33%",
       "grid_template_rows": "auto auto"
      }
     },
     "bc17304a684d4bfdb2032b559f49c6a8": {
      "model_module": "@jupyter-widgets/base",
      "model_module_version": "2.0.0",
      "model_name": "LayoutModel",
      "state": {
       "width": "145px"
      }
     },
     "bc76d48f48564a698f900021f3ac3a58": {
      "model_module": "@jupyter-widgets/controls",
      "model_module_version": "2.0.0",
      "model_name": "HTMLMathStyleModel",
      "state": {
       "description_width": "",
       "font_size": null,
       "text_color": null
      }
     },
     "bcbd8c15311349829bfb5f7b20385677": {
      "model_module": "@jupyter-widgets/base",
      "model_module_version": "2.0.0",
      "model_name": "LayoutModel",
      "state": {}
     },
     "bce5be07c78449b78733d4956287dd4c": {
      "model_module": "@jupyter-widgets/controls",
      "model_module_version": "2.0.0",
      "model_name": "HTMLStyleModel",
      "state": {
       "description_width": "",
       "font_size": null,
       "text_color": null
      }
     },
     "bdcbddc430874b4c92c17f81ba4bf415": {
      "model_module": "@jupyter-widgets/base",
      "model_module_version": "2.0.0",
      "model_name": "LayoutModel",
      "state": {
       "grid_gap": "0px 0px",
       "grid_template_areas": "\n                                                   \"top top top\"\n                                                   \"left middle right\"\n                                                   ",
       "grid_template_columns": "33% 33% 33%",
       "grid_template_rows": "auto auto"
      }
     },
     "bddb42ca84ce423ca2250090f5e1be1f": {
      "model_module": "@jupyter-widgets/controls",
      "model_module_version": "2.0.0",
      "model_name": "HTMLModel",
      "state": {
       "layout": "IPY_MODEL_53f50a89d7ec4507b58ac4ce43d39e9e",
       "style": "IPY_MODEL_880c819bac954366863aa2dbba488eeb",
       "value": "<h5>Backend</h5>"
      }
     },
     "be4f8253c1ef4dbaa460918c561e6784": {
      "model_module": "@jupyter-widgets/controls",
      "model_module_version": "2.0.0",
      "model_name": "HTMLModel",
      "state": {
       "layout": "IPY_MODEL_7cc60ff213394e11a700687bb6f17d84",
       "style": "IPY_MODEL_75b4ae58f95e42b09083e9857ab2dacf",
       "value": "<table><style>\ntable {\n    border-collapse: collapse;\n    width: auto;\n}\n\nth, td {\n    text-align: left;\n    padding: 8px;\n}\n\ntr:nth-child(even) {background-color: #f6f6f6;}\n</style><tr><th></th><th>Frequency</th><th>T1</th><th>T2</th><th>RZ</th><th>SX</th><th>X</th><th>Readout error</th></tr><tr><td><font style='font-weight:bold'>Q0</font></td><td>5.30069 GHz</td><td>103.87482 us</td><td>111.05864 us</td><td>0</td><td>0.00062</td><td>0.00062</td><td>0.0441 </td><tr><td><font style='font-weight:bold'>Q1</font></td><td>5.08058 GHz</td><td>131.47474 us</td><td>124.72989 us</td><td>0</td><td>0.00032</td><td>0.00032</td><td>0.0312 </td><tr><td><font style='font-weight:bold'>Q2</font></td><td>5.32219 GHz</td><td>99.43253 us</td><td>83.30093 us</td><td>0</td><td>0.00028</td><td>0.00028</td><td>0.0771 </td><tr><td><font style='font-weight:bold'>Q3</font></td><td>5.16362 GHz</td><td>86.04235 us</td><td>19.20968 us</td><td>0</td><td>0.00031</td><td>0.00031</td><td>0.0361 </td><tr><td><font style='font-weight:bold'>Q4</font></td><td>5.05233 GHz</td><td>88.79684 us</td><td>117.00068 us</td><td>0</td><td>0.00052</td><td>0.00052</td><td>0.0619 </td></table>"
      }
     },
     "be840810ece54a7b9f436e226ce9389c": {
      "model_module": "@jupyter-widgets/base",
      "model_module_version": "2.0.0",
      "model_name": "LayoutModel",
      "state": {
       "width": "190px"
      }
     },
     "bf02a7d818ed41698b1093d2ba86f7ad": {
      "model_module": "@jupyter-widgets/base",
      "model_module_version": "2.0.0",
      "model_name": "LayoutModel",
      "state": {
       "grid_area": "right"
      }
     },
     "bf740ae61791450bae2bfd0e74b11ed0": {
      "model_module": "@jupyter-widgets/base",
      "model_module_version": "2.0.0",
      "model_name": "LayoutModel",
      "state": {
       "width": "70px"
      }
     },
     "bfd927c3533e41c2ab4651f401f78e51": {
      "model_module": "@jupyter-widgets/controls",
      "model_module_version": "2.0.0",
      "model_name": "HTMLStyleModel",
      "state": {
       "description_width": "",
       "font_size": null,
       "text_color": null
      }
     },
     "c0548f63f5a8407bb2fcbe881e8a8ca2": {
      "model_module": "@jupyter-widgets/base",
      "model_module_version": "2.0.0",
      "model_name": "LayoutModel",
      "state": {
       "grid_area": "top"
      }
     },
     "c07ca431736c445eb523c08bc1bad1ba": {
      "model_module": "@jupyter-widgets/base",
      "model_module_version": "2.0.0",
      "model_name": "LayoutModel",
      "state": {
       "grid_area": "top"
      }
     },
     "c09d49edcca740888d2186ee99fc7453": {
      "model_module": "@jupyter-widgets/controls",
      "model_module_version": "2.0.0",
      "model_name": "VBoxModel",
      "state": {
       "children": [
        "IPY_MODEL_e43285e305934859ba547a51af67ea5f",
        "IPY_MODEL_0892df37b7dc433ea21d5413ed7089c6"
       ],
       "layout": "IPY_MODEL_6ae699dc8f67485b94d1f528e05bbdde"
      }
     },
     "c101ef65e111478e9abbb30f9ea5719b": {
      "model_module": "@jupyter-widgets/controls",
      "model_module_version": "2.0.0",
      "model_name": "HTMLModel",
      "state": {
       "layout": "IPY_MODEL_00cf8012eed94dadb49a2128efd39356",
       "style": "IPY_MODEL_99a1b3f78867489dab163acf4fcb64aa",
       "value": "ibmq_belem"
      }
     },
     "c253fae892214fd0b01a8d978898d794": {
      "model_module": "@jupyter-widgets/controls",
      "model_module_version": "2.0.0",
      "model_name": "ButtonStyleModel",
      "state": {
       "button_color": "white",
       "font_family": null,
       "font_size": null,
       "font_style": null,
       "font_variant": null,
       "font_weight": null,
       "text_color": null,
       "text_decoration": null
      }
     },
     "c32bae24631441a0970e916e75be499f": {
      "model_module": "@jupyter-widgets/controls",
      "model_module_version": "2.0.0",
      "model_name": "HTMLModel",
      "state": {
       "layout": "IPY_MODEL_9c31610eb9414e7a86dbeb7f8ea3ead0",
       "style": "IPY_MODEL_156e0f424df84344931c441e8209f518",
       "value": "ch168i0i9j4rob5sud0g"
      }
     },
     "c3c625d5dfc64a03b6875ce978f37ff5": {
      "model_module": "@jupyter-widgets/base",
      "model_module_version": "2.0.0",
      "model_name": "LayoutModel",
      "state": {
       "grid_area": "left",
       "width": "100%"
      }
     },
     "c40d53e9119040179958986faff2b844": {
      "model_module": "@jupyter-widgets/controls",
      "model_module_version": "2.0.0",
      "model_name": "HTMLStyleModel",
      "state": {
       "description_width": "",
       "font_size": null,
       "text_color": null
      }
     },
     "c410dff96ddd45e4b88a800d55b301d5": {
      "model_module": "@jupyter-widgets/controls",
      "model_module_version": "2.0.0",
      "model_name": "HTMLMathStyleModel",
      "state": {
       "description_width": "",
       "font_size": null,
       "text_color": null
      }
     },
     "c425562f14aa4b049c8ebe22b4970285": {
      "model_module": "@jupyter-widgets/controls",
      "model_module_version": "2.0.0",
      "model_name": "HTMLModel",
      "state": {
       "layout": "IPY_MODEL_508c68f4e8b14a0689d7aa80950a441d",
       "style": "IPY_MODEL_9653d9e42c8d495197e205f95917073f",
       "value": "<table><style>\ntable {\n    border-collapse: collapse;\n    width: auto;\n}\n\nth, td {\n    text-align: left;\n    padding: 8px;\n}\n\ntr:nth-child(even) {background-color: #f6f6f6;}\n</style><tr><th></th><th>Frequency</th><th>T1</th><th>T2</th><th>RZ</th><th>SX</th><th>X</th><th>Readout error</th></tr><tr><td><font style='font-weight:bold'>Q0</font></td><td>5.02976 GHz</td><td>139.04158 us</td><td>256.38557 us</td><td>0</td><td>0.00043</td><td>0.00043</td><td>0.0167 </td><tr><td><font style='font-weight:bold'>Q1</font></td><td>5.12774 GHz</td><td>115.92117 us</td><td>75.83268 us</td><td>0</td><td>0.00057</td><td>0.00057</td><td>0.0207 </td><tr><td><font style='font-weight:bold'>Q2</font></td><td>5.24735 GHz</td><td>58.82784 us</td><td>85.32893 us</td><td>0</td><td>0.00037</td><td>0.00037</td><td>0.02 </td><tr><td><font style='font-weight:bold'>Q3</font></td><td>5.30256 GHz</td><td>79.53999 us</td><td>82.99205 us</td><td>0</td><td>0.00027</td><td>0.00027</td><td>0.0327 </td><tr><td><font style='font-weight:bold'>Q4</font></td><td>5.09208 GHz</td><td>14.92111 us</td><td>17.98448 us</td><td>0</td><td>0.00069</td><td>0.00069</td><td>0.0472 </td></table>"
      }
     },
     "c4690350bdb64fb1ad3a28b141f3078a": {
      "model_module": "@jupyter-widgets/base",
      "model_module_version": "2.0.0",
      "model_name": "LayoutModel",
      "state": {
       "border_bottom": "4px solid #000000",
       "border_left": "4px solid #000000",
       "border_right": "4px solid #000000",
       "border_top": "4px solid #000000",
       "max_height": "650px",
       "min_height": "650px"
      }
     },
     "c5e8ba3364444988b2442e02d7e71f83": {
      "model_module": "@jupyter-widgets/controls",
      "model_module_version": "2.0.0",
      "model_name": "HTMLStyleModel",
      "state": {
       "description_width": "",
       "font_size": null,
       "text_color": null
      }
     },
     "c69d447188c846b59339cf44d13a1ff8": {
      "model_module": "@jupyter-widgets/base",
      "model_module_version": "2.0.0",
      "model_name": "LayoutModel",
      "state": {
       "grid_area": "left",
       "width": "100%"
      }
     },
     "c6c388cdef1d48b198a668ef2549d032": {
      "model_module": "@jupyter-widgets/controls",
      "model_module_version": "2.0.0",
      "model_name": "GridBoxModel",
      "state": {
       "children": [
        "IPY_MODEL_50ea334295db4c3592243320d24aac54",
        "IPY_MODEL_a552aaf14fd04478836fe47f16b0f430",
        "IPY_MODEL_1d73ee2ec70646cdb6074358f37efb45"
       ],
       "layout": "IPY_MODEL_4082f35a810149e18fb6681d0f04af56"
      }
     },
     "c6e03313c28d41908cdd91f20114dbb0": {
      "model_module": "@jupyter-widgets/base",
      "model_module_version": "2.0.0",
      "model_name": "LayoutModel",
      "state": {
       "width": "145px"
      }
     },
     "c6e3ed7f83db42ff8f7e5b1d371745d8": {
      "model_module": "@jupyter-widgets/controls",
      "model_module_version": "2.0.0",
      "model_name": "HTMLModel",
      "state": {
       "layout": "IPY_MODEL_55265add4ec244549fca47a138723e42",
       "style": "IPY_MODEL_2d319621805647f297bf024ff1112b86",
       "value": "<table><style>\ntable {\n    border-collapse: collapse;\n    width: auto;\n}\n\nth, td {\n    text-align: left;\n    padding: 8px;\n}\n\ntr:nth-child(even) {background-color: #f6f6f6;};\n</style><tr><th></th><th>Type</th><th>Gate error</th></tr><tr><td><font style='font-weight:bold'>cx1_3</font></td><td>cx</td><td>0.0072</td></tr><tr><td><font style='font-weight:bold'>cx2_1</font></td><td>cx</td><td>0.00611</td></tr><tr><td><font style='font-weight:bold'>cx1_2</font></td><td>cx</td><td>0.00611</td></tr></table>"
      }
     },
     "c71ae7d563d84644bcc5f98b03248cf6": {
      "model_module": "@jupyter-widgets/controls",
      "model_module_version": "2.0.0",
      "model_name": "TabModel",
      "state": {
       "children": [
        "IPY_MODEL_8ff0ac5d9481414e8e580e909c9699ac",
        "IPY_MODEL_1416fbbc44104d94bd9c092256a0e554",
        "IPY_MODEL_7870a1938c854e4ca5538d268b82e1fa",
        "IPY_MODEL_e723f58ae90844dd8d0c8e50e5915165",
        "IPY_MODEL_15a5bb0dc4974f2988f0d1c35cdf326b"
       ],
       "layout": "IPY_MODEL_20963d267bda4b8f8216b8265fa5961f",
       "selected_index": 0,
       "titles": [
        "Configuration",
        "Qubit Properties",
        "Multi-Qubit Gates",
        "Error Map",
        "Job History"
       ]
      }
     },
     "c83936dcbc024da0b8df49743be38438": {
      "model_module": "@jupyter-widgets/base",
      "model_module_version": "2.0.0",
      "model_name": "LayoutModel",
      "state": {}
     },
     "c8c7cbc03e414886914d3e181636ed42": {
      "model_module": "@jupyter-widgets/controls",
      "model_module_version": "2.0.0",
      "model_name": "HTMLStyleModel",
      "state": {
       "description_width": "",
       "font_size": null,
       "text_color": null
      }
     },
     "c97f79a4f1a944b18ee73eaedf79afc3": {
      "model_module": "@jupyter-widgets/output",
      "model_module_version": "1.0.0",
      "model_name": "OutputModel",
      "state": {
       "layout": "IPY_MODEL_8803ba6e7b634e6f98de5a2dc539dd91",
       "outputs": [
        {
         "data": {
          "image/png": "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\n",
          "text/plain": "<Figure size 500x500 with 1 Axes>"
         },
         "metadata": {},
         "output_type": "display_data"
        }
       ]
      }
     },
     "c9fd4d6784d04d7d97c41abb989c134d": {
      "model_module": "@jupyter-widgets/controls",
      "model_module_version": "2.0.0",
      "model_name": "HTMLModel",
      "state": {
       "layout": "IPY_MODEL_a3ea548bc3c04e7abd1b3021231225ec",
       "style": "IPY_MODEL_d9e518f147b1407ba1239cfc8b207367",
       "value": "<table><style>\ntable {\n    border-collapse: collapse;\n    width: auto;\n}\n\nth, td {\n    text-align: left;\n    padding: 8px;\n}\n\ntr:nth-child(even) {background-color: #f6f6f6;};\n</style><tr><th></th><th>Type</th><th>Gate error</th></tr><tr><td><font style='font-weight:bold'>cx3_1</font></td><td>cx</td><td>0.01455</td></tr><tr><td><font style='font-weight:bold'>cx2_1</font></td><td>cx</td><td>0.00651</td></tr><tr><td><font style='font-weight:bold'>cx1_2</font></td><td>cx</td><td>0.00651</td></tr></table>"
      }
     },
     "ca0556a8d09f4bc4ab787bb833e4d184": {
      "model_module": "@jupyter-widgets/controls",
      "model_module_version": "2.0.0",
      "model_name": "TabModel",
      "state": {
       "layout": "IPY_MODEL_1cdb2475599044b9825ac6008d9bc05c"
      }
     },
     "ca316fa57aee4803afefee8e1ddb3bcf": {
      "model_module": "@jupyter-widgets/base",
      "model_module_version": "2.0.0",
      "model_name": "LayoutModel",
      "state": {
       "grid_gap": "0px 0px",
       "grid_template_areas": "\n                                                   \"top top top\"\n                                                   \"left middle right\"\n                                                   ",
       "grid_template_columns": "33% 33% 33%",
       "grid_template_rows": "auto auto"
      }
     },
     "ca64476d27bc4747bbdce5460824ad59": {
      "model_module": "@jupyter-widgets/controls",
      "model_module_version": "2.0.0",
      "model_name": "HTMLModel",
      "state": {
       "layout": "IPY_MODEL_7ab84c2c697b46fa9ccab21e109831c2",
       "style": "IPY_MODEL_77080e28d5e84c94977da1454f920e67",
       "value": "-"
      }
     },
     "cb42952214c140a289513b6909e24b60": {
      "model_module": "@jupyter-widgets/controls",
      "model_module_version": "2.0.0",
      "model_name": "HTMLMathStyleModel",
      "state": {
       "description_width": "",
       "font_size": null,
       "text_color": null
      }
     },
     "cb4e93a2c97c44aa974723bea5aa4e36": {
      "model_module": "@jupyter-widgets/controls",
      "model_module_version": "2.0.0",
      "model_name": "HTMLStyleModel",
      "state": {
       "description_width": "",
       "font_size": null,
       "text_color": null
      }
     },
     "cce2e062a50e4a758e3ef996ab6e6aea": {
      "model_module": "@jupyter-widgets/controls",
      "model_module_version": "2.0.0",
      "model_name": "HTMLStyleModel",
      "state": {
       "description_width": "",
       "font_size": null,
       "text_color": null
      }
     },
     "cd825c1367754673b50a1be246c0ea92": {
      "model_module": "@jupyter-widgets/base",
      "model_module_version": "2.0.0",
      "model_name": "LayoutModel",
      "state": {
       "max_height": "620px"
      }
     },
     "cddeaed51f934b048a9a0e4b54ddd01a": {
      "model_module": "@jupyter-widgets/base",
      "model_module_version": "2.0.0",
      "model_name": "LayoutModel",
      "state": {
       "grid_area": "middle"
      }
     },
     "cdf636ae03e8423bb51eae41910d336b": {
      "model_module": "@jupyter-widgets/controls",
      "model_module_version": "2.0.0",
      "model_name": "HTMLModel",
      "state": {
       "layout": "IPY_MODEL_3fd8eb78a10a4ca58418e5d070a02086",
       "style": "IPY_MODEL_031eb1870bc445d7b233ae041bb9e3ff",
       "value": "<table><style>\ntable {\n    border-collapse: collapse;\n    width: auto;\n}\n\nth, td {\n    text-align: left;\n    padding: 8px;\n}\n\ntr:nth-child(even) {background-color: #f6f6f6;}\n</style><tr><th></th><th>Frequency</th><th>T1</th><th>T2</th><th>RZ</th><th>SX</th><th>X</th><th>Readout error</th></tr><tr><td><font style='font-weight:bold'>Q0</font></td><td>5.02976 GHz</td><td>139.04158 us</td><td>256.38557 us</td><td>0</td><td>0.00043</td><td>0.00043</td><td>0.0167 </td><tr><td><font style='font-weight:bold'>Q1</font></td><td>5.12774 GHz</td><td>115.92117 us</td><td>75.83268 us</td><td>0</td><td>0.00057</td><td>0.00057</td><td>0.0207 </td><tr><td><font style='font-weight:bold'>Q2</font></td><td>5.24735 GHz</td><td>58.82784 us</td><td>85.32893 us</td><td>0</td><td>0.00037</td><td>0.00037</td><td>0.02 </td><tr><td><font style='font-weight:bold'>Q3</font></td><td>5.30256 GHz</td><td>79.53999 us</td><td>82.99205 us</td><td>0</td><td>0.00027</td><td>0.00027</td><td>0.0327 </td><tr><td><font style='font-weight:bold'>Q4</font></td><td>5.09208 GHz</td><td>14.92111 us</td><td>17.98448 us</td><td>0</td><td>0.00069</td><td>0.00069</td><td>0.0472 </td></table>"
      }
     },
     "cf52dac784be45be8f80a6ef4a07c98f": {
      "model_module": "@jupyter-widgets/controls",
      "model_module_version": "2.0.0",
      "model_name": "TabModel",
      "state": {
       "children": [
        "IPY_MODEL_de965b5a8320452caefbd07d0b785a44",
        "IPY_MODEL_8f3d2ffc356c498aa44bf621d35b0db8",
        "IPY_MODEL_81cd7af23e5d4e93b647363d6b8db75a",
        "IPY_MODEL_524a73dd5dcc453596f789d1b656d68f",
        "IPY_MODEL_ffd5440ccfbf4d0e9323755856c42dd1"
       ],
       "layout": "IPY_MODEL_fa3f4061c5374671b6f71af5510c5d79",
       "selected_index": 0,
       "titles": [
        "Configuration",
        "Qubit Properties",
        "Multi-Qubit Gates",
        "Error Map",
        "Job History"
       ]
      }
     },
     "cfcf2681eb8f4399a9e8360c12211869": {
      "model_module": "@jupyter-widgets/controls",
      "model_module_version": "2.0.0",
      "model_name": "HTMLStyleModel",
      "state": {
       "description_width": "",
       "font_size": null,
       "text_color": null
      }
     },
     "d0ec1bd25e8e489b957318242e6bacf9": {
      "model_module": "@jupyter-widgets/controls",
      "model_module_version": "2.0.0",
      "model_name": "HTMLModel",
      "state": {
       "layout": "IPY_MODEL_a5f180c967a04c428856993edd0bc23d",
       "style": "IPY_MODEL_8ae274d656d94b24a83f768cf8b8e3ba",
       "value": "<table><style>\ntable {\n    border-collapse: collapse;\n    width: auto;\n}\n\nth, td {\n    text-align: left;\n    padding: 8px;\n}\n\ntr:nth-child(even) {background-color: #f6f6f6;};\n</style><tr><th></th><th>Type</th><th>Gate error</th></tr><tr><td><font style='font-weight:bold'>cx3_4</font></td><td>cx</td><td>0.01762</td></tr><tr><td><font style='font-weight:bold'>cx4_3</font></td><td>cx</td><td>0.01762</td></tr><tr><td><font style='font-weight:bold'>cx1_3</font></td><td>cx</td><td>0.01455</td></tr></table>"
      }
     },
     "d0f666e59677421b8e3849fb38704ddc": {
      "model_module": "@jupyter-widgets/controls",
      "model_module_version": "2.0.0",
      "model_name": "HTMLModel",
      "state": {
       "layout": "IPY_MODEL_b2128144ff2f403b9ffa1fa47d1c2a54",
       "style": "IPY_MODEL_6fd62dd5af07462390204eb2e890c358",
       "value": "<table><style>\ntable {\n    border-collapse: collapse;\n    width: auto;\n}\n\nth, td {\n    text-align: left;\n    padding: 8px;\n}\n\ntr:nth-child(even) {background-color: #f6f6f6;};\n</style><tr><th></th><th>Type</th><th>Gate error</th></tr><tr><td><font style='font-weight:bold'>cx1_3</font></td><td>cx</td><td>0.0072</td></tr><tr><td><font style='font-weight:bold'>cx2_1</font></td><td>cx</td><td>0.00611</td></tr><tr><td><font style='font-weight:bold'>cx1_2</font></td><td>cx</td><td>0.00611</td></tr></table>"
      }
     },
     "d1161ff6867149bc9cb53f1853c32a65": {
      "model_module": "@jupyter-widgets/controls",
      "model_module_version": "2.0.0",
      "model_name": "ButtonModel",
      "state": {
       "button_style": "primary",
       "description": "Clear",
       "layout": "IPY_MODEL_0b6a4219c18a4ab39977d32a8ff7329d",
       "style": "IPY_MODEL_1c91b4b061214ea89a5e6281b703b409",
       "tooltip": null
      }
     },
     "d1546f5d7f584f0aab3f5ddf6f7a7c94": {
      "model_module": "@jupyter-widgets/base",
      "model_module_version": "2.0.0",
      "model_name": "LayoutModel",
      "state": {
       "max_height": "620px"
      }
     },
     "d1afa28c563740f2ac271cd769af150b": {
      "model_module": "@jupyter-widgets/controls",
      "model_module_version": "2.0.0",
      "model_name": "HTMLStyleModel",
      "state": {
       "description_width": "",
       "font_size": null,
       "text_color": null
      }
     },
     "d1c4cd591ade477ebbfdd33f9dfdc431": {
      "model_module": "@jupyter-widgets/controls",
      "model_module_version": "2.0.0",
      "model_name": "HTMLModel",
      "state": {
       "layout": "IPY_MODEL_be840810ece54a7b9f436e226ce9389c",
       "style": "IPY_MODEL_a4c146b383c84ba3a4677a5e60d4ea65",
       "value": "ch162ioi9j4rob5soolg"
      }
     },
     "d2be8a22ed9f48478dce383e78896d9c": {
      "model_module": "@jupyter-widgets/controls",
      "model_module_version": "2.0.0",
      "model_name": "ButtonModel",
      "state": {
       "icon": "close",
       "layout": "IPY_MODEL_78e9b10805b84473b2339efce2abdbff",
       "style": "IPY_MODEL_2467c195f6e74780b435f5feaaa8ffe5",
       "tooltip": null
      }
     },
     "d2f8e4749f3e4d8fadd35cd55b44d207": {
      "model_module": "@jupyter-widgets/base",
      "model_module_version": "2.0.0",
      "model_name": "LayoutModel",
      "state": {
       "grid_area": "left"
      }
     },
     "d331619e338843ee8542021bbeaa0441": {
      "model_module": "@jupyter-widgets/controls",
      "model_module_version": "2.0.0",
      "model_name": "HTMLStyleModel",
      "state": {
       "description_width": "",
       "font_size": null,
       "text_color": null
      }
     },
     "d3bbbc657f834b03a44d94bb573bedcd": {
      "model_module": "@jupyter-widgets/base",
      "model_module_version": "2.0.0",
      "model_name": "LayoutModel",
      "state": {
       "grid_area": "bottom",
       "width": "auto"
      }
     },
     "d4460d5c412946e5b27da5f6931fed21": {
      "model_module": "@jupyter-widgets/base",
      "model_module_version": "2.0.0",
      "model_name": "LayoutModel",
      "state": {
       "grid_area": "bottom",
       "width": "auto"
      }
     },
     "d4486b9c8c764de1928f8c8d1ce5e789": {
      "model_module": "@jupyter-widgets/controls",
      "model_module_version": "2.0.0",
      "model_name": "HTMLModel",
      "state": {
       "layout": "IPY_MODEL_91475a3361ce49fa82214dbcc1ca07d7",
       "style": "IPY_MODEL_bfd927c3533e41c2ab4651f401f78e51",
       "value": "<table><style>\ntable {\n    border-collapse: collapse;\n    width: auto;\n}\n\nth, td {\n    text-align: left;\n    padding: 8px;\n}\n\ntr:nth-child(even) {background-color: #f6f6f6;};\n</style><tr><th></th><th>Type</th><th>Gate error</th></tr><tr><td><font style='font-weight:bold'>cx1_0</font></td><td>cx</td><td>0.01081</td></tr><tr><td><font style='font-weight:bold'>cx0_1</font></td><td>cx</td><td>0.01081</td></tr></table>"
      }
     },
     "d492fbfb9c794f1fb9b92b1dbc3e98ea": {
      "model_module": "@jupyter-widgets/controls",
      "model_module_version": "2.0.0",
      "model_name": "HBoxModel",
      "state": {
       "children": [
        "IPY_MODEL_40262d5d2897446a80659d5061473f0d",
        "IPY_MODEL_bddb42ca84ce423ca2250090f5e1be1f",
        "IPY_MODEL_5895e80107164ce8b9605e98af20c39d",
        "IPY_MODEL_d4ef592a98a24ba992d3cd663e21e774",
        "IPY_MODEL_879f8a134d6a4cd5ad17ee7436f1ec05"
       ],
       "layout": "IPY_MODEL_3711b24e332541ad9f28347f96389cd0"
      }
     },
     "d4accf00c29048cda58f1c801612dc08": {
      "model_module": "@jupyter-widgets/controls",
      "model_module_version": "2.0.0",
      "model_name": "HTMLModel",
      "state": {
       "layout": "IPY_MODEL_e1538d3988da4eb8b28d2f9a3ff3ab99",
       "style": "IPY_MODEL_7ed7db57fd5a4777ae576c27b56a89fd",
       "value": "<font style='color:#34BC6E'>DONE</font>"
      }
     },
     "d4b16195c20e4054881bf7bffad04ef6": {
      "model_module": "@jupyter-widgets/controls",
      "model_module_version": "2.0.0",
      "model_name": "HTMLMathStyleModel",
      "state": {
       "description_width": "",
       "font_size": null,
       "text_color": null
      }
     },
     "d4cdfd85b60d468fb243507c4930cab0": {
      "model_module": "@jupyter-widgets/base",
      "model_module_version": "2.0.0",
      "model_name": "LayoutModel",
      "state": {
       "grid_area": "left"
      }
     },
     "d4cfb6276de14336a94d2191345699c6": {
      "model_module": "@jupyter-widgets/base",
      "model_module_version": "2.0.0",
      "model_name": "LayoutModel",
      "state": {}
     },
     "d4d29689724b499a87292301b8311f32": {
      "model_module": "@jupyter-widgets/controls",
      "model_module_version": "2.0.0",
      "model_name": "TabModel",
      "state": {
       "layout": "IPY_MODEL_31f2194d7f5f46e8aecbdd83a673a4ce"
      }
     },
     "d4ef592a98a24ba992d3cd663e21e774": {
      "model_module": "@jupyter-widgets/controls",
      "model_module_version": "2.0.0",
      "model_name": "HTMLModel",
      "state": {
       "layout": "IPY_MODEL_3aa89002727e44a488b15eaf15e013a2",
       "style": "IPY_MODEL_e5607a65d8ce4444b87f8be7e9809207",
       "value": "<h5>Queue</h5>"
      }
     },
     "d5f3b87e8a034be39665f61cab2b3d67": {
      "model_module": "@jupyter-widgets/controls",
      "model_module_version": "2.0.0",
      "model_name": "HTMLModel",
      "state": {
       "layout": "IPY_MODEL_9154d8e35c8f4990b1f24537a0a0a713",
       "style": "IPY_MODEL_a043d0afdd944377b253bcb8d14ac653",
       "value": "<table><style>\ntable {\n    border-collapse: collapse;\n    width: auto;\n}\n\nth, td {\n    text-align: left;\n    padding: 8px;\n}\n\ntr:nth-child(even) {background-color: #f6f6f6;};\n</style><tr><th></th><th>Type</th><th>Gate error</th></tr><tr><td><font style='font-weight:bold'>cx4_3</font></td><td>cx</td><td>0.01241</td></tr><tr><td><font style='font-weight:bold'>cx3_4</font></td><td>cx</td><td>0.01241</td></tr><tr><td><font style='font-weight:bold'>cx3_1</font></td><td>cx</td><td>0.0072</td></tr></table>"
      }
     },
     "d5fe01ad1669409eac9d37ac6ed77d09": {
      "model_module": "@jupyter-widgets/controls",
      "model_module_version": "2.0.0",
      "model_name": "TabModel",
      "state": {
       "layout": "IPY_MODEL_7c42fc59c5f54201a112613a26bd830e"
      }
     },
     "d61db6fabfc84923b2b7915963e585bd": {
      "model_module": "@jupyter-widgets/controls",
      "model_module_version": "2.0.0",
      "model_name": "HTMLStyleModel",
      "state": {
       "description_width": "",
       "font_size": null,
       "text_color": null
      }
     },
     "d633651499fa4d0f944c7f7e351f7f05": {
      "model_module": "@jupyter-widgets/controls",
      "model_module_version": "2.0.0",
      "model_name": "HTMLMathStyleModel",
      "state": {
       "description_width": "",
       "font_size": null,
       "text_color": null
      }
     },
     "d63d2d8e281a465fa7372fbcccf28d01": {
      "model_module": "@jupyter-widgets/base",
      "model_module_version": "2.0.0",
      "model_name": "LayoutModel",
      "state": {
       "grid_gap": "0px 0px",
       "grid_template_areas": "\n                               \"left right right right\"\n                               \"bottom bottom bottom bottom\"\n                               ",
       "grid_template_columns": "31% 23% 23% 23%",
       "grid_template_rows": "auto auto"
      }
     },
     "d7622158ce5049ba84234b3a7dade793": {
      "model_module": "@jupyter-widgets/base",
      "model_module_version": "2.0.0",
      "model_name": "LayoutModel",
      "state": {
       "grid_area": "top"
      }
     },
     "d7d055baa50147e4b0dbf5607a662075": {
      "model_module": "@jupyter-widgets/base",
      "model_module_version": "2.0.0",
      "model_name": "LayoutModel",
      "state": {}
     },
     "d7d32fc9352941a28d2b50661890ca47": {
      "model_module": "@jupyter-widgets/controls",
      "model_module_version": "2.0.0",
      "model_name": "VBoxModel",
      "state": {
       "children": [
        "IPY_MODEL_484a39c6f75b4b709dae39f024a00c75",
        "IPY_MODEL_e75d3e9911744806ac4955b72194e522"
       ],
       "layout": "IPY_MODEL_3ec81425b4894375bb022938f4d2a3a4"
      }
     },
     "d8008e771aba4beb87bb2abbce142074": {
      "model_module": "@jupyter-widgets/controls",
      "model_module_version": "2.0.0",
      "model_name": "HTMLMathStyleModel",
      "state": {
       "description_width": "",
       "font_size": null,
       "text_color": null
      }
     },
     "d820261e65414b608e696788d560240f": {
      "model_module": "@jupyter-widgets/controls",
      "model_module_version": "2.0.0",
      "model_name": "ButtonModel",
      "state": {
       "icon": "close",
       "layout": "IPY_MODEL_b9e45e16ea9e4e22ac9f608a1445b26c",
       "style": "IPY_MODEL_e57848d09e5c4a4380788322c819b1da",
       "tooltip": null
      }
     },
     "d82c037f62a74a06960f1668bafbbb9e": {
      "model_module": "@jupyter-widgets/controls",
      "model_module_version": "2.0.0",
      "model_name": "VBoxModel",
      "state": {
       "children": [
        "IPY_MODEL_05475c05fc3a4250bb08cf000da286f9",
        "IPY_MODEL_be4f8253c1ef4dbaa460918c561e6784"
       ],
       "layout": "IPY_MODEL_64473bbaa8da4c3782d4f4230638a00c"
      }
     },
     "d8a1408009b14f1bab347fd9412dd768": {
      "model_module": "@jupyter-widgets/base",
      "model_module_version": "2.0.0",
      "model_name": "LayoutModel",
      "state": {
       "grid_area": "middle"
      }
     },
     "d8cd160c405a4a5e9b9ba01325dc7dc0": {
      "model_module": "@jupyter-widgets/base",
      "model_module_version": "2.0.0",
      "model_name": "LayoutModel",
      "state": {
       "width": "95px"
      }
     },
     "d9392cf6bfc94732a447bd05f87011fc": {
      "model_module": "@jupyter-widgets/controls",
      "model_module_version": "2.0.0",
      "model_name": "HTMLStyleModel",
      "state": {
       "description_width": "",
       "font_size": null,
       "text_color": null
      }
     },
     "d9e518f147b1407ba1239cfc8b207367": {
      "model_module": "@jupyter-widgets/controls",
      "model_module_version": "2.0.0",
      "model_name": "HTMLStyleModel",
      "state": {
       "description_width": "",
       "font_size": null,
       "text_color": null
      }
     },
     "da7cc1da349a46698ddcffd68e30e4c3": {
      "model_module": "@jupyter-widgets/base",
      "model_module_version": "2.0.0",
      "model_name": "LayoutModel",
      "state": {
       "width": "95px"
      }
     },
     "da80eeca84b94cafbab9103b3cd2329c": {
      "model_module": "@jupyter-widgets/controls",
      "model_module_version": "2.0.0",
      "model_name": "GridBoxModel",
      "state": {
       "children": [
        "IPY_MODEL_e60b8ca54a6345d6b79562b56a2046b0",
        "IPY_MODEL_eb6eea48dbc54ee98afec7c2cdf10b71",
        "IPY_MODEL_fbfb57e22b164c168afbef7dba752908",
        "IPY_MODEL_3bde0e510c6f4408b6e30b6e27f890b9"
       ],
       "layout": "IPY_MODEL_a34e8034793c4b93a508098d5b90626f"
      }
     },
     "dc54417f65864ba282bcfdb9c71af37c": {
      "model_module": "@jupyter-widgets/controls",
      "model_module_version": "2.0.0",
      "model_name": "HTMLStyleModel",
      "state": {
       "description_width": "",
       "font_size": null,
       "text_color": null
      }
     },
     "dc6305cd05ce4b4280f4dc44a932e26b": {
      "model_module": "@jupyter-widgets/controls",
      "model_module_version": "2.0.0",
      "model_name": "HTMLModel",
      "state": {
       "layout": "IPY_MODEL_a06aee8076b84e30969cdc2abe54f180",
       "style": "IPY_MODEL_d61db6fabfc84923b2b7915963e585bd",
       "value": "<h1 style='color:#ffffff;background-color:#000000;padding-top: 1%;padding-bottom: 1%;padding-left: 1%; margin-top: 0px'>ibmq_lima</h1>"
      }
     },
     "de1eb63050054452944e4f8028e50196": {
      "model_module": "@jupyter-widgets/base",
      "model_module_version": "2.0.0",
      "model_name": "LayoutModel",
      "state": {}
     },
     "de4e48571d164fbf9a88fd4f5fa7f6ca": {
      "model_module": "@jupyter-widgets/controls",
      "model_module_version": "2.0.0",
      "model_name": "HTMLStyleModel",
      "state": {
       "description_width": "",
       "font_size": null,
       "text_color": null
      }
     },
     "de5a74d260fd4a97ba1822e1cc2a9295": {
      "model_module": "@jupyter-widgets/base",
      "model_module_version": "2.0.0",
      "model_name": "LayoutModel",
      "state": {
       "border_bottom": "4px solid #000000",
       "border_left": "4px solid #000000",
       "border_right": "4px solid #000000",
       "border_top": "4px solid #000000",
       "max_height": "650px",
       "min_height": "650px"
      }
     },
     "de6934fa3dda46588ff1465d34f73794": {
      "model_module": "@jupyter-widgets/base",
      "model_module_version": "2.0.0",
      "model_name": "LayoutModel",
      "state": {
       "align_items": "center",
       "display": "flex-inline",
       "grid_area": "right",
       "max_height": "325px",
       "padding": "10px 10px 10px 10px",
       "width": "auto"
      }
     },
     "de965b5a8320452caefbd07d0b785a44": {
      "model_module": "@jupyter-widgets/controls",
      "model_module_version": "2.0.0",
      "model_name": "GridBoxModel",
      "state": {
       "children": [
        "IPY_MODEL_a14d089706304eccb1731468b03d914b",
        "IPY_MODEL_70cb2d13d28d46e09e995d4d190efba0",
        "IPY_MODEL_6b4366960e404c1a8c481ff2eaf0cf0b"
       ],
       "layout": "IPY_MODEL_650b8cd014d54e58bc4d21c2c450dd30"
      }
     },
     "dea0c38f8cef41ceb2145026e4f0697c": {
      "model_module": "@jupyter-widgets/controls",
      "model_module_version": "2.0.0",
      "model_name": "GridBoxModel",
      "state": {
       "children": [
        "IPY_MODEL_d1161ff6867149bc9cb53f1853c32a65"
       ],
       "layout": "IPY_MODEL_78b67cd2e93e4556abb13403320f6434"
      }
     },
     "deef97b6bb67466eb236171944b0cad1": {
      "model_module": "@jupyter-widgets/controls",
      "model_module_version": "2.0.0",
      "model_name": "HTMLStyleModel",
      "state": {
       "description_width": "",
       "font_size": null,
       "text_color": null
      }
     },
     "df8db77e85054f278d20dd43e8785c14": {
      "model_module": "@jupyter-widgets/base",
      "model_module_version": "2.0.0",
      "model_name": "LayoutModel",
      "state": {
       "border_bottom": "4px solid #000000",
       "border_left": "4px solid #000000",
       "border_right": "4px solid #000000",
       "border_top": "4px solid #000000",
       "max_height": "650px",
       "min_height": "650px"
      }
     },
     "e054a48dcc7942598fdb910d4f366994": {
      "model_module": "@jupyter-widgets/controls",
      "model_module_version": "2.0.0",
      "model_name": "GridBoxModel",
      "state": {
       "children": [
        "IPY_MODEL_f66c7ba9221a490b9b409aa9c8cb7d3d",
        "IPY_MODEL_d5f3b87e8a034be39665f61cab2b3d67",
        "IPY_MODEL_c6e3ed7f83db42ff8f7e5b1d371745d8",
        "IPY_MODEL_a8bf9b26bb5c4d5986ec790d88f3fc8e"
       ],
       "layout": "IPY_MODEL_bdcbddc430874b4c92c17f81ba4bf415"
      }
     },
     "e0acc2cdcf6b4f0f93742aef11736fdf": {
      "model_module": "@jupyter-widgets/controls",
      "model_module_version": "2.0.0",
      "model_name": "HTMLStyleModel",
      "state": {
       "description_width": "",
       "font_size": null,
       "text_color": null
      }
     },
     "e0ae69f8ea58437ea55c0af6ba2400c0": {
      "model_module": "@jupyter-widgets/controls",
      "model_module_version": "2.0.0",
      "model_name": "HTMLStyleModel",
      "state": {
       "description_width": "",
       "font_size": null,
       "text_color": null
      }
     },
     "e0eaee46c760420597bd433deb4eb960": {
      "model_module": "@jupyter-widgets/output",
      "model_module_version": "1.0.0",
      "model_name": "OutputModel",
      "state": {
       "layout": "IPY_MODEL_8d59e16bda2444bb88a85eae76dd204c",
       "outputs": [
        {
         "data": {
          "image/png": "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\n",
          "text/plain": "<Figure size 500x500 with 1 Axes>"
         },
         "metadata": {},
         "output_type": "display_data"
        }
       ]
      }
     },
     "e10d096557f84f6a887cd3ce8e2ff698": {
      "model_module": "@jupyter-widgets/base",
      "model_module_version": "2.0.0",
      "model_name": "LayoutModel",
      "state": {}
     },
     "e1538d3988da4eb8b28d2f9a3ff3ab99": {
      "model_module": "@jupyter-widgets/base",
      "model_module_version": "2.0.0",
      "model_name": "LayoutModel",
      "state": {
       "width": "95px"
      }
     },
     "e173f723ca1d4c0494dc5c9ad283d5e2": {
      "model_module": "@jupyter-widgets/controls",
      "model_module_version": "2.0.0",
      "model_name": "HTMLModel",
      "state": {
       "layout": "IPY_MODEL_b6d564d2579a48c7bdea4309dbcdb065",
       "style": "IPY_MODEL_06d211f10c1a4ba08060dcd2cce30c84",
       "value": "<p style='font-family: IBM Plex Sans, Arial, Helvetica, sans-serif; font-size: 20px; font-weight: medium;'>Circuit Properties</p>"
      }
     },
     "e19de4f56ef640d893832f5144042671": {
      "model_module": "@jupyter-widgets/controls",
      "model_module_version": "2.0.0",
      "model_name": "HTMLModel",
      "state": {
       "layout": "IPY_MODEL_7541640e42da451295a2aab5364078c6",
       "style": "IPY_MODEL_f2a69b86e307446eb9d43b4ebd651120",
       "value": "-"
      }
     },
     "e26e908baed2404ca90eade695a58579": {
      "model_module": "@jupyter-widgets/base",
      "model_module_version": "2.0.0",
      "model_name": "LayoutModel",
      "state": {}
     },
     "e2ddd1b068b94593813aebe22982bff7": {
      "model_module": "@jupyter-widgets/controls",
      "model_module_version": "2.0.0",
      "model_name": "VBoxModel",
      "state": {
       "children": [
        "IPY_MODEL_b81f61cac2924e2bb76a4481fea78826",
        "IPY_MODEL_cdf636ae03e8423bb51eae41910d336b"
       ],
       "layout": "IPY_MODEL_a468b95e04d047fbb676d64071b7876c"
      }
     },
     "e378dba903404b78b887cc3f34042475": {
      "model_module": "@jupyter-widgets/controls",
      "model_module_version": "2.0.0",
      "model_name": "GridBoxModel",
      "state": {
       "children": [
        "IPY_MODEL_1de95158e2444ba5a91aaadb65d8c20e",
        "IPY_MODEL_4cbd6cece32b4198bfedced1cc94f992",
        "IPY_MODEL_c9fd4d6784d04d7d97c41abb989c134d",
        "IPY_MODEL_8c9e741fa44c455f94d5e7b1fc7b7306"
       ],
       "layout": "IPY_MODEL_08de7f99b6ac4cc7a9787554205b450d"
      }
     },
     "e397380ba25a442d83d06476457d169d": {
      "model_module": "@jupyter-widgets/base",
      "model_module_version": "2.0.0",
      "model_name": "LayoutModel",
      "state": {}
     },
     "e43285e305934859ba547a51af67ea5f": {
      "model_module": "@jupyter-widgets/controls",
      "model_module_version": "2.0.0",
      "model_name": "HTMLModel",
      "state": {
       "layout": "IPY_MODEL_b70a0ce4bdd5452682f046b35aa99dff",
       "style": "IPY_MODEL_166a811d72b44be6bc0d0c253f44acbb",
       "value": "<h1 style='color:#ffffff;background-color:#000000;padding-top: 1%;padding-bottom: 1%;padding-left: 1%; margin-top: 0px'>ibmq_belem</h1>"
      }
     },
     "e50b165ac2c7463a97d880fac5932253": {
      "model_module": "@jupyter-widgets/controls",
      "model_module_version": "2.0.0",
      "model_name": "VBoxModel",
      "state": {
       "children": [
        "IPY_MODEL_f809ea586f77475699b50203e94c0e5e",
        "IPY_MODEL_04a63e500afe4c3c940e49926c234e11"
       ],
       "layout": "IPY_MODEL_114ce697ca284dda8f737b43148150ee"
      }
     },
     "e5607a65d8ce4444b87f8be7e9809207": {
      "model_module": "@jupyter-widgets/controls",
      "model_module_version": "2.0.0",
      "model_name": "HTMLStyleModel",
      "state": {
       "description_width": "",
       "font_size": null,
       "text_color": null
      }
     },
     "e57848d09e5c4a4380788322c819b1da": {
      "model_module": "@jupyter-widgets/controls",
      "model_module_version": "2.0.0",
      "model_name": "ButtonStyleModel",
      "state": {
       "button_color": "white",
       "font_family": null,
       "font_size": null,
       "font_style": null,
       "font_variant": null,
       "font_weight": null,
       "text_color": null,
       "text_decoration": null
      }
     },
     "e60b8ca54a6345d6b79562b56a2046b0": {
      "model_module": "@jupyter-widgets/controls",
      "model_module_version": "2.0.0",
      "model_name": "HTMLModel",
      "state": {
       "layout": "IPY_MODEL_c07ca431736c445eb523c08bc1bad1ba",
       "style": "IPY_MODEL_1cf5655a8aa6411cbd0639b1dc25e5e1",
       "value": "<div><font style='font-weight:bold'>last_update_date</font>: 2023-04-21 05:15:09+00:00</div>"
      }
     },
     "e6342db66b86482ba426c33826eda77e": {
      "model_module": "@jupyter-widgets/controls",
      "model_module_version": "2.0.0",
      "model_name": "HTMLModel",
      "state": {
       "layout": "IPY_MODEL_0f2930b9eeea4bd3b9e3a08b57c88381",
       "style": "IPY_MODEL_7e95ccc942e246a690fbb2d98c0fe942",
       "value": "<h1 style='color:#ffffff;background-color:#000000;padding-top: 1%;padding-bottom: 1%;padding-left: 1%; margin-top: 0px'>ibmq_belem</h1>"
      }
     },
     "e6f778a6e45640709f420f294f05ea99": {
      "model_module": "@jupyter-widgets/controls",
      "model_module_version": "2.0.0",
      "model_name": "HTMLStyleModel",
      "state": {
       "description_width": "",
       "font_size": null,
       "text_color": null
      }
     },
     "e723ac3ae0a7458ca7d210b74b1432cb": {
      "model_module": "@jupyter-widgets/base",
      "model_module_version": "2.0.0",
      "model_name": "LayoutModel",
      "state": {
       "max_width": "700px",
       "min_width": "700px"
      }
     },
     "e723f58ae90844dd8d0c8e50e5915165": {
      "model_module": "@jupyter-widgets/output",
      "model_module_version": "1.0.0",
      "model_name": "OutputModel",
      "state": {
       "layout": "IPY_MODEL_b262904f31404701847d076545906309",
       "outputs": [
        {
         "data": {
          "image/png": "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\n",
          "text/plain": "<Figure size 1100x900 with 5 Axes>"
         },
         "metadata": {},
         "output_type": "display_data"
        }
       ]
      }
     },
     "e72ab9456c544d7bb0bdef55b4d2c67f": {
      "model_module": "@jupyter-widgets/base",
      "model_module_version": "2.0.0",
      "model_name": "LayoutModel",
      "state": {
       "border_bottom": "4px solid #000000",
       "border_left": "4px solid #000000",
       "border_right": "4px solid #000000",
       "border_top": "4px solid #000000",
       "max_height": "650px",
       "min_height": "650px"
      }
     },
     "e75d3e9911744806ac4955b72194e522": {
      "model_module": "@jupyter-widgets/controls",
      "model_module_version": "2.0.0",
      "model_name": "HTMLModel",
      "state": {
       "layout": "IPY_MODEL_d7d055baa50147e4b0dbf5607a662075",
       "style": "IPY_MODEL_ba9059678cd24574b429671c85668e89",
       "value": "<table><style>\ntable {\n    border-collapse: collapse;\n    width: auto;\n}\n\nth, td {\n    text-align: left;\n    padding: 8px;\n}\n\ntr:nth-child(even) {background-color: #f6f6f6;}\n</style><tr><th></th><th>Frequency</th><th>T1</th><th>T2</th><th>RZ</th><th>SX</th><th>X</th><th>Readout error</th></tr><tr><td><font style='font-weight:bold'>Q0</font></td><td>5.09022 GHz</td><td>97.63736 us</td><td>124.68298 us</td><td>0</td><td>0.00019</td><td>0.00019</td><td>0.022 </td><tr><td><font style='font-weight:bold'>Q1</font></td><td>5.24553 GHz</td><td>102.36121 us</td><td>124.92609 us</td><td>0</td><td>0.00023</td><td>0.00023</td><td>0.0197 </td><tr><td><font style='font-weight:bold'>Q2</font></td><td>5.3615 GHz</td><td>95.69288 us</td><td>66.37103 us</td><td>0</td><td>0.00029</td><td>0.00029</td><td>0.0358 </td><tr><td><font style='font-weight:bold'>Q3</font></td><td>5.17032 GHz</td><td>106.46553 us</td><td>118.81208 us</td><td>0</td><td>0.00057</td><td>0.00057</td><td>0.0274 </td><tr><td><font style='font-weight:bold'>Q4</font></td><td>5.25846 GHz</td><td>87.87528 us</td><td>164.55961 us</td><td>0</td><td>0.00097</td><td>0.00097</td><td>0.026 </td></table>"
      }
     },
     "e7f99fd0869c427d8f3258ba59eb9a92": {
      "model_module": "@jupyter-widgets/base",
      "model_module_version": "2.0.0",
      "model_name": "LayoutModel",
      "state": {
       "max_width": "700px",
       "min_width": "700px"
      }
     },
     "e80662a151674894a03a1e26a54f48bf": {
      "model_module": "@jupyter-widgets/controls",
      "model_module_version": "2.0.0",
      "model_name": "HTMLStyleModel",
      "state": {
       "description_width": "",
       "font_size": null,
       "text_color": null
      }
     },
     "e8f319d549774809a8485383a4345448": {
      "model_module": "@jupyter-widgets/controls",
      "model_module_version": "2.0.0",
      "model_name": "HTMLMathStyleModel",
      "state": {
       "description_width": "",
       "font_size": null,
       "text_color": null
      }
     },
     "e9c593c6edbd47a1b1c36178ee05f8b4": {
      "model_module": "@jupyter-widgets/controls",
      "model_module_version": "2.0.0",
      "model_name": "HTMLStyleModel",
      "state": {
       "description_width": "",
       "font_size": null,
       "text_color": null
      }
     },
     "e9fdcacbda5841459512fd11a6439e98": {
      "model_module": "@jupyter-widgets/controls",
      "model_module_version": "2.0.0",
      "model_name": "HTMLMathModel",
      "state": {
       "layout": "IPY_MODEL_9b45b500618441f6880b1210d122f2d2",
       "style": "IPY_MODEL_cb42952214c140a289513b6909e24b60",
       "value": "<table><style>\ntable {\n    border-collapse: collapse;\n    width: auto;\n}\n\nth, td {\n    text-align: left;\n    padding: 8px;\n}\n\ntr:nth-child(even) {background-color: #f6f6f6;}\n</style><tr><th></th><th></th></tr><tr><td>qubit_channel_mapping</td><td>[['u0', 'd0', 'm0', 'u1'], ['u1', 'm1', 'u0', 'd1', 'u4', 'u2', 'u3', 'u5'], ['u2', 'u4', 'm2', 'd2'], ['m3', 'u7', 'd3', 'u6', 'u3', 'u5'], ['m4', 'd4', 'u7', 'u6']]</td></tr><tr><td>allow_q_object</td><td>True</td></tr><tr><td>dt</td><td>0.2222222222222222</td></tr><tr><td>description</td><td>5 qubit device Lima</td></tr><tr><td>open_pulse</td><td>False</td></tr><tr><td>rep_delay_range</td><td>[0.0, 500.0]</td></tr><tr><td>supported_instructions</td><td>['cx', 'id', 'delay', 'measure', 'reset', 'rz', 'sx', 'x']</td></tr><tr><td>meas_levels</td><td>[1, 2]</td></tr><tr><td>meas_lo_range</td><td>[[6.925143125000001, 7.925143125000001], [6.721646720000001, 7.721646720000001], [6.971842939, 7.971842939], [6.865317232000001, 7.865317232000001], [6.919067567000001, 7.919067567000001]]</td></tr><tr><td>rep_times</td><td>[1000.0]</td></tr><tr><td>memory</td><td>True</td></tr><tr><td>multi_meas_enabled</td><td>True</td></tr><tr><td>backend_name</td><td>ibmq_lima</td></tr><tr><td>n_registers</td><td>1</td></tr><tr><td>channels</td><td>{'acquire0': {'operates': {'qubits': [0]}, 'purpose': 'acquire', 'type': 'acquire'}, 'acquire1': {'operates': {'qubits': [1]}, 'purpose': 'acquire', 'type': 'acquire'}, 'acquire2': {'operates': {'qubits': [2]}, 'purpose': 'acquire', 'type': 'acquire'}, 'acquire3': {'operates': {'qubits': [3]}, 'purpose': 'acquire', 'type': 'acquire'}, 'acquire4': {'operates': {'qubits': [4]}, 'purpose': 'acquire', 'type': 'acquire'}, 'd0': {'operates': {'qubits': [0]}, 'purpose': 'drive', 'type': 'drive'}, 'd1': {'operates': {'qubits': [1]}, 'purpose': 'drive', 'type': 'drive'}, 'd2': {'operates': {'qubits': [2]}, 'purpose': 'drive', 'type': 'drive'}, 'd3': {'operates': {'qubits': [3]}, 'purpose': 'drive', 'type': 'drive'}, 'd4': {'operates': {'qubits': [4]}, 'purpose': 'drive', 'type': 'drive'}, 'm0': {'operates': {'qubits': [0]}, 'purpose': 'measure', 'type': 'measure'}, 'm1': {'operates': {'qubits': [1]}, 'purpose': 'measure', 'type': 'measure'}, 'm2': {'operates': {'qubits': [2]}, 'purpose': 'measure', 'type': 'measure'}, 'm3': {'operates': {'qubits': [3]}, 'purpose': 'measure', 'type': 'measure'}, 'm4': {'operates': {'qubits': [4]}, 'purpose': 'measure', 'type': 'measure'}, 'u0': {'operates': {'qubits': [0, 1]}, 'purpose': 'cross-resonance', 'type': 'control'}, 'u1': {'operates': {'qubits': [1, 0]}, 'purpose': 'cross-resonance', 'type': 'control'}, 'u2': {'operates': {'qubits': [1, 2]}, 'purpose': 'cross-resonance', 'type': 'control'}, 'u3': {'operates': {'qubits': [1, 3]}, 'purpose': 'cross-resonance', 'type': 'control'}, 'u4': {'operates': {'qubits': [2, 1]}, 'purpose': 'cross-resonance', 'type': 'control'}, 'u5': {'operates': {'qubits': [3, 1]}, 'purpose': 'cross-resonance', 'type': 'control'}, 'u6': {'operates': {'qubits': [3, 4]}, 'purpose': 'cross-resonance', 'type': 'control'}, 'u7': {'operates': {'qubits': [4, 3]}, 'purpose': 'cross-resonance', 'type': 'control'}}</td></tr><tr><td>conditional</td><td>False</td></tr><tr><td>hamiltonian</td><td>$$\\begin{align} \\mathcal{H}/\\hbar = & \\sum_{i=0}^{4}\\left(\\frac{\\omega_{q,i}}{2}(\\mathbb{I}-\\sigma_i^{z})+\\frac{\\Delta_{i}}{2}(O_i^2-O_i)+\\Omega_{d,i}D_i(t)\\sigma_i^{X}\\right) \\\\ & + J_{0,1}(\\sigma_{0}^{+}\\sigma_{1}^{-}+\\sigma_{0}^{-}\\sigma_{1}^{+}) + J_{1,2}(\\sigma_{1}^{+}\\sigma_{2}^{-}+\\sigma_{1}^{-}\\sigma_{2}^{+}) + J_{1,3}(\\sigma_{1}^{+}\\sigma_{3}^{-}+\\sigma_{1}^{-}\\sigma_{3}^{+}) + J_{3,4}(\\sigma_{3}^{+}\\sigma_{4}^{-}+\\sigma_{3}^{-}\\sigma_{4}^{+}) \\\\ & + \\Omega_{d,0}(U_{0}^{(0,1)}(t))\\sigma_{0}^{X} + \\Omega_{d,1}(U_{1}^{(1,0)}(t)+U_{3}^{(1,3)}(t)+U_{2}^{(1,2)}(t))\\sigma_{1}^{X} \\\\ & + \\Omega_{d,2}(U_{4}^{(2,1)}(t))\\sigma_{2}^{X} + \\Omega_{d,3}(U_{6}^{(3,4)}(t)+U_{5}^{(3,1)}(t))\\sigma_{3}^{X} \\\\ & + \\Omega_{d,4}(U_{7}^{(4,3)}(t))\\sigma_{4}^{X} \\\\ \\end{align}$$</td></tr><tr><td>clops</td><td>2673</td></tr><tr><td>discriminators</td><td>['hw_centroid', 'linear_discriminator', 'quadratic_discriminator']</td></tr><tr><td>dynamic_reprate_enabled</td><td>True</td></tr><tr><td>qubit_lo_range</td><td>[[4.529757407582503, 5.529757407582503], [4.627738582553157, 5.627738582553158], [4.747352102631919, 5.747352102631919], [4.80255503352921, 5.80255503352921], [4.592083651746325, 5.592083651746325]]</td></tr><tr><td>simulator</td><td>False</td></tr><tr><td>supported_features</td><td>['qobj']</td></tr><tr><td>pulse_num_qubits</td><td>3</td></tr><tr><td>conditional_latency</td><td>[]</td></tr><tr><td>n_uchannels</td><td>8</td></tr><tr><td>local</td><td>False</td></tr><tr><td>pulse_num_channels</td><td>9</td></tr><tr><td>parallel_compilation</td><td>False</td></tr><tr><td>coupling_map</td><td>[[0, 1], [1, 0], [1, 2], [1, 3], [2, 1], [3, 1], [3, 4], [4, 3]]</td></tr><tr><td>processor_type</td><td>{'family': 'Falcon', 'revision': 4, 'segment': 'T'}</td></tr><tr><td>parametric_pulses</td><td>['gaussian', 'gaussian_square', 'gaussian_square_drag', 'drag', 'constant']</td></tr><tr><td>uchannels_enabled</td><td>True</td></tr><tr><td>live_data</td><td>False</td></tr><tr><td>acquisition_latency</td><td>[]</td></tr><tr><td>dtm</td><td>0.2222222222222222</td></tr><tr><td>input_allowed</td><td>['job', 'runtime']</td></tr><tr><td>sample_name</td><td>family: Falcon, revision: 4, segment: T</td></tr><tr><td>timing_constraints</td><td>{'acquire_alignment': 16, 'granularity': 16, 'min_length': 64, 'pulse_alignment': 1}</td></tr><tr><td>url</td><td>None</td></tr><tr><td>online_date</td><td>2021-01-08 05:00:00+00:00</td></tr><tr><td>default_rep_delay</td><td>250.0</td></tr><tr><td>measure_esp_enabled</td><td>False</td></tr><tr><td>allow_object_storage</td><td>True</td></tr><tr><td>meas_kernels</td><td>['hw_boxcar']</td></tr><tr><td>credits_required</td><td>True</td></tr><tr><td>meas_map</td><td>[[0, 1, 2, 3, 4]]</td></tr><tr><td>u_channel_lo</td><td>[[{'q': 1, 'scale': (1+0j)}], [{'q': 0, 'scale': (1+0j)}], [{'q': 2, 'scale': (1+0j)}], [{'q': 3, 'scale': (1+0j)}], [{'q': 1, 'scale': (1+0j)}], [{'q': 1, 'scale': (1+0j)}], [{'q': 4, 'scale': (1+0j)}], [{'q': 3, 'scale': (1+0j)}]]</td></tr></table>"
      }
     },
     "ea970492995842e1a97d5032d1ad8d93": {
      "model_module": "@jupyter-widgets/controls",
      "model_module_version": "2.0.0",
      "model_name": "VBoxModel",
      "state": {
       "children": [
        "IPY_MODEL_aa627ad69ff64088a7395bd87624763c",
        "IPY_MODEL_bb7197dd1060462c9ca5fd28e3e2c6d5"
       ],
       "layout": "IPY_MODEL_df8db77e85054f278d20dd43e8785c14"
      }
     },
     "eaa0301261ba430ebe156e88126de4a3": {
      "model_module": "@jupyter-widgets/controls",
      "model_module_version": "2.0.0",
      "model_name": "HTMLStyleModel",
      "state": {
       "description_width": "",
       "font_size": null,
       "text_color": null
      }
     },
     "eb57a3fa9d894b4196047925a7ec457b": {
      "model_module": "@jupyter-widgets/base",
      "model_module_version": "2.0.0",
      "model_name": "LayoutModel",
      "state": {
       "width": "145px"
      }
     },
     "eb6eea48dbc54ee98afec7c2cdf10b71": {
      "model_module": "@jupyter-widgets/controls",
      "model_module_version": "2.0.0",
      "model_name": "HTMLModel",
      "state": {
       "layout": "IPY_MODEL_66236ac595154c3b93f136f5e85d819c",
       "style": "IPY_MODEL_4b9d6b7280094744afd55f67d460a6c3",
       "value": "<table><style>\ntable {\n    border-collapse: collapse;\n    width: auto;\n}\n\nth, td {\n    text-align: left;\n    padding: 8px;\n}\n\ntr:nth-child(even) {background-color: #f6f6f6;};\n</style><tr><th></th><th>Type</th><th>Gate error</th></tr><tr><td><font style='font-weight:bold'>cx4_3</font></td><td>cx</td><td>0.0173</td></tr><tr><td><font style='font-weight:bold'>cx3_4</font></td><td>cx</td><td>0.0173</td></tr><tr><td><font style='font-weight:bold'>cx0_1</font></td><td>cx</td><td>0.00736</td></tr></table>"
      }
     },
     "eb9e64de3a454558b5298d4dd7758448": {
      "model_module": "@jupyter-widgets/controls",
      "model_module_version": "2.0.0",
      "model_name": "HTMLModel",
      "state": {
       "layout": "IPY_MODEL_a27f93fef1d34bd0bf048295ef5b5b24",
       "style": "IPY_MODEL_04f8cb21ca7d495c866a0b7054f94a78",
       "value": "<table><style>\ntable {\n    border-collapse: collapse;\n    width: auto;\n}\n\nth, td {\n    text-align: left;\n    padding: 8px;\n}\n\ntr:nth-child(even) {background-color: #f6f6f6;}\n</style><tr><th></th><th>Frequency</th><th>T1</th><th>T2</th><th>RZ</th><th>SX</th><th>X</th><th>Readout error</th></tr><tr><td><font style='font-weight:bold'>Q0</font></td><td>5.30069 GHz</td><td>103.87482 us</td><td>111.05864 us</td><td>0</td><td>0.00062</td><td>0.00062</td><td>0.0441 </td><tr><td><font style='font-weight:bold'>Q1</font></td><td>5.08058 GHz</td><td>131.47474 us</td><td>124.72989 us</td><td>0</td><td>0.00032</td><td>0.00032</td><td>0.0312 </td><tr><td><font style='font-weight:bold'>Q2</font></td><td>5.32219 GHz</td><td>99.43253 us</td><td>83.30093 us</td><td>0</td><td>0.00028</td><td>0.00028</td><td>0.0771 </td><tr><td><font style='font-weight:bold'>Q3</font></td><td>5.16362 GHz</td><td>86.04235 us</td><td>19.20968 us</td><td>0</td><td>0.00031</td><td>0.00031</td><td>0.0361 </td><tr><td><font style='font-weight:bold'>Q4</font></td><td>5.05233 GHz</td><td>88.79684 us</td><td>117.00068 us</td><td>0</td><td>0.00052</td><td>0.00052</td><td>0.0619 </td></table>"
      }
     },
     "ec5df645cffe415784793b24c10ac7be": {
      "model_module": "@jupyter-widgets/controls",
      "model_module_version": "2.0.0",
      "model_name": "ButtonModel",
      "state": {
       "icon": "close",
       "layout": "IPY_MODEL_0739c0c589ba4e36a91f4b4ca8569662",
       "style": "IPY_MODEL_25cd6c15027b461b996d2bae39664891",
       "tooltip": null
      }
     },
     "ec6fdf662e574758a8f0425f11b5f62f": {
      "model_module": "@jupyter-widgets/output",
      "model_module_version": "1.0.0",
      "model_name": "OutputModel",
      "state": {
       "layout": "IPY_MODEL_685231ce855a4691b82a099558e05c37",
       "outputs": [
        {
         "data": {
          "image/png": "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\n",
          "text/plain": "<Figure size 1100x900 with 5 Axes>"
         },
         "metadata": {},
         "output_type": "display_data"
        }
       ]
      }
     },
     "edaa2aa3d6de449c94573e524dd867e4": {
      "model_module": "@jupyter-widgets/controls",
      "model_module_version": "2.0.0",
      "model_name": "HTMLModel",
      "state": {
       "layout": "IPY_MODEL_a2aca6b712354452a3bff30f40f7d846",
       "style": "IPY_MODEL_5323206959604f25be82dd2d47b8edca",
       "value": "<div><font style='font-weight:bold'>last_update_date</font>: 2023-04-21 05:15:09+00:00</div>"
      }
     },
     "ede2188fae4e4dffa1833ac9e7651168": {
      "model_module": "@jupyter-widgets/base",
      "model_module_version": "2.0.0",
      "model_name": "LayoutModel",
      "state": {}
     },
     "edf1427dab324503ac903de639a14db4": {
      "model_module": "@jupyter-widgets/base",
      "model_module_version": "2.0.0",
      "model_name": "LayoutModel",
      "state": {}
     },
     "ef16d5786a5d49e4bf2a07f233f8f42b": {
      "model_module": "@jupyter-widgets/base",
      "model_module_version": "2.0.0",
      "model_name": "LayoutModel",
      "state": {}
     },
     "ef4b33064c3943b4b2adcd699069c641": {
      "model_module": "@jupyter-widgets/controls",
      "model_module_version": "2.0.0",
      "model_name": "HTMLModel",
      "state": {
       "layout": "IPY_MODEL_0001f38387f74156a6071009ca59f0cf",
       "style": "IPY_MODEL_d1afa28c563740f2ac271cd769af150b",
       "value": "<table><style>\ntable {\n    border-collapse: collapse;\n    width: auto;\n}\n\nth, td {\n    text-align: left;\n    padding: 8px;\n}\n\ntr:nth-child(even) {background-color: #f6f6f6;};\n</style><tr><th></th><th>Type</th><th>Gate error</th></tr><tr><td><font style='font-weight:bold'>cx2_1</font></td><td>cx</td><td>0.00904</td></tr><tr><td><font style='font-weight:bold'>cx1_2</font></td><td>cx</td><td>0.00904</td></tr></table>"
      }
     },
     "f09ecb785e384f46a782022bf2ae6af1": {
      "model_module": "@jupyter-widgets/base",
      "model_module_version": "2.0.0",
      "model_name": "LayoutModel",
      "state": {}
     },
     "f1b7d0771eaf47a3ac22a0e1dc6f873c": {
      "model_module": "@jupyter-widgets/controls",
      "model_module_version": "2.0.0",
      "model_name": "ButtonStyleModel",
      "state": {
       "button_color": "white",
       "font_family": null,
       "font_size": null,
       "font_style": null,
       "font_variant": null,
       "font_weight": null,
       "text_color": null,
       "text_decoration": null
      }
     },
     "f2a69b86e307446eb9d43b4ebd651120": {
      "model_module": "@jupyter-widgets/controls",
      "model_module_version": "2.0.0",
      "model_name": "HTMLStyleModel",
      "state": {
       "description_width": "",
       "font_size": null,
       "text_color": null
      }
     },
     "f2b446be624e4e31b7567a1537e28201": {
      "model_module": "@jupyter-widgets/controls",
      "model_module_version": "2.0.0",
      "model_name": "HTMLModel",
      "state": {
       "layout": "IPY_MODEL_b6d8a37e5f584883a8b92763989f5d38",
       "style": "IPY_MODEL_2d6663bd4c054ebd94f15bce704fc1dd",
       "value": "<div><font style='font-weight:bold'>last_update_date</font>: 2023-04-21 05:15:09+00:00</div>"
      }
     },
     "f360ce559c09429e8b1c111117a684d0": {
      "model_module": "@jupyter-widgets/base",
      "model_module_version": "2.0.0",
      "model_name": "LayoutModel",
      "state": {
       "margin": "0px 0px 0px 0px"
      }
     },
     "f3a998bd14e245c0b81f089d8866cc34": {
      "model_module": "@jupyter-widgets/controls",
      "model_module_version": "2.0.0",
      "model_name": "TabModel",
      "state": {
       "children": [
        "IPY_MODEL_a8e0bfe6c07943f69deb5c017643fd3b",
        "IPY_MODEL_5d42c2bbe98844e5b7c4af02108ee722",
        "IPY_MODEL_8b6b171a33b54c54b91d01c409bef8bb",
        "IPY_MODEL_34f5e0fc7fea4bcb869e1d6f2cf6c08e",
        "IPY_MODEL_d5fe01ad1669409eac9d37ac6ed77d09"
       ],
       "layout": "IPY_MODEL_b82c4d0261744da58eb681890a0028e0",
       "selected_index": 0,
       "titles": [
        "Configuration",
        "Qubit Properties",
        "Multi-Qubit Gates",
        "Error Map",
        "Job History"
       ]
      }
     },
     "f44227ae80b14577a0cf19e5e8f15f94": {
      "model_module": "@jupyter-widgets/controls",
      "model_module_version": "2.0.0",
      "model_name": "GridBoxModel",
      "state": {
       "children": [
        "IPY_MODEL_9781892b503543c3bb76701005cc97b2",
        "IPY_MODEL_3ef944603f3e486389f4ea18b3bdf7e6",
        "IPY_MODEL_7184d6ba22df426690147bfee929d3fb",
        "IPY_MODEL_8fe174fd69a6474585494f7ee43a58dd"
       ],
       "layout": "IPY_MODEL_7561f6dd229647dd82bd4f7efa7b9e59"
      }
     },
     "f4499606985243809acf200e9dab916d": {
      "model_module": "@jupyter-widgets/controls",
      "model_module_version": "2.0.0",
      "model_name": "HBoxModel",
      "state": {
       "children": [
        "IPY_MODEL_62ce2afd9b08460790794288f21cbfe4",
        "IPY_MODEL_4434aa97a59a464fb891316ab7e8382a",
        "IPY_MODEL_91a3003e013a45718a08edfedcf55938",
        "IPY_MODEL_083cac9a662c4dc281804043e43fb05b",
        "IPY_MODEL_e19de4f56ef640d893832f5144042671",
        "IPY_MODEL_a2445594fa764347a7925ef401dc6e65"
       ],
       "layout": "IPY_MODEL_005a7d8704a34972882226ee39137f57"
      }
     },
     "f467cf7487b8411ab2fb02e06229b224": {
      "model_module": "@jupyter-widgets/base",
      "model_module_version": "2.0.0",
      "model_name": "LayoutModel",
      "state": {
       "grid_area": "middle"
      }
     },
     "f4c5fa9622024477a19bd1e1dcc507dc": {
      "model_module": "@jupyter-widgets/base",
      "model_module_version": "2.0.0",
      "model_name": "LayoutModel",
      "state": {
       "grid_area": "middle"
      }
     },
     "f4f9c419f150448e921b010f7b5a73b4": {
      "model_module": "@jupyter-widgets/base",
      "model_module_version": "2.0.0",
      "model_name": "LayoutModel",
      "state": {
       "grid_area": "top"
      }
     },
     "f5c9c7dbaaf74b94a50dac59d665440e": {
      "model_module": "@jupyter-widgets/controls",
      "model_module_version": "2.0.0",
      "model_name": "HTMLStyleModel",
      "state": {
       "description_width": "",
       "font_size": null,
       "text_color": null
      }
     },
     "f5cc486eb7874916b667e8829eb675cd": {
      "model_module": "@jupyter-widgets/controls",
      "model_module_version": "2.0.0",
      "model_name": "HBoxModel",
      "state": {
       "children": [
        "IPY_MODEL_ec5df645cffe415784793b24c10ac7be",
        "IPY_MODEL_c32bae24631441a0970e916e75be499f",
        "IPY_MODEL_36b0af1443e844fdb706f23ff7d2155a",
        "IPY_MODEL_1c52ec2da9e748a19c348b58f1a9e580",
        "IPY_MODEL_6e4c330a464d4d2783abf9e9721cf8a8",
        "IPY_MODEL_2e4c83956da846bd84c059a4dc4ad97e"
       ],
       "layout": "IPY_MODEL_334cd44b97d74a89b08f6e320dfabe89"
      }
     },
     "f609c46d908f4fc3ac253a308271b89b": {
      "model_module": "@jupyter-widgets/controls",
      "model_module_version": "2.0.0",
      "model_name": "HTMLStyleModel",
      "state": {
       "description_width": "",
       "font_size": null,
       "text_color": null
      }
     },
     "f66c7ba9221a490b9b409aa9c8cb7d3d": {
      "model_module": "@jupyter-widgets/controls",
      "model_module_version": "2.0.0",
      "model_name": "HTMLModel",
      "state": {
       "layout": "IPY_MODEL_29407ce4249c4ff991e8a7613d8cb395",
       "style": "IPY_MODEL_c5e8ba3364444988b2442e02d7e71f83",
       "value": "<div><font style='font-weight:bold'>last_update_date</font>: 2023-04-21 05:26:45+00:00</div>"
      }
     },
     "f728bffd7f1148a19bd3ce72163cdcbb": {
      "model_module": "@jupyter-widgets/base",
      "model_module_version": "2.0.0",
      "model_name": "LayoutModel",
      "state": {
       "grid_area": "left",
       "width": "100%"
      }
     },
     "f77da1a9730449928e3f19579e51963b": {
      "model_module": "@jupyter-widgets/controls",
      "model_module_version": "2.0.0",
      "model_name": "HTMLMathStyleModel",
      "state": {
       "description_width": "",
       "font_size": null,
       "text_color": null
      }
     },
     "f809ea586f77475699b50203e94c0e5e": {
      "model_module": "@jupyter-widgets/controls",
      "model_module_version": "2.0.0",
      "model_name": "HTMLModel",
      "state": {
       "layout": "IPY_MODEL_96671e286ed346b6ae3adc6b7fdc13f4",
       "style": "IPY_MODEL_cb4e93a2c97c44aa974723bea5aa4e36",
       "value": "<h1 style='color:#ffffff;background-color:#000000;padding-top: 1%;padding-bottom: 1%;padding-left: 1%; margin-top: 0px'>ibmq_quito</h1>"
      }
     },
     "f89074579b4a4f80a281db596f5c53ed": {
      "model_module": "@jupyter-widgets/base",
      "model_module_version": "2.0.0",
      "model_name": "LayoutModel",
      "state": {}
     },
     "f89b2141ef0e4c1dbaeaa2d86a86077d": {
      "model_module": "@jupyter-widgets/controls",
      "model_module_version": "2.0.0",
      "model_name": "HTMLMathModel",
      "state": {
       "layout": "IPY_MODEL_9aab50a1f34d4e499c75f2cbb62c03d4",
       "style": "IPY_MODEL_fdc186b09ac243d6a2c1adc8c751562d",
       "value": "<table><style>\ntable {\n    border-collapse: collapse;\n    width: auto;\n}\n\nth, td {\n    text-align: left;\n    padding: 8px;\n}\n\ntr:nth-child(even) {background-color: #f6f6f6;}\n</style><tr><th></th><th></th></tr><tr><td>qubit_channel_mapping</td><td>[['u0', 'd0', 'm0', 'u1'], ['u1', 'm1', 'u0', 'd1', 'u4', 'u2', 'u3', 'u5'], ['u2', 'u4', 'm2', 'd2'], ['m3', 'u7', 'd3', 'u6', 'u3', 'u5'], ['m4', 'd4', 'u7', 'u6']]</td></tr><tr><td>allow_q_object</td><td>True</td></tr><tr><td>dt</td><td>0.2222222222222222</td></tr><tr><td>description</td><td>5 qubit device Lima</td></tr><tr><td>open_pulse</td><td>False</td></tr><tr><td>rep_delay_range</td><td>[0.0, 500.0]</td></tr><tr><td>supported_instructions</td><td>['cx', 'id', 'delay', 'measure', 'reset', 'rz', 'sx', 'x']</td></tr><tr><td>meas_levels</td><td>[1, 2]</td></tr><tr><td>meas_lo_range</td><td>[[6.925143125000001, 7.925143125000001], [6.721646720000001, 7.721646720000001], [6.971842939, 7.971842939], [6.865317232000001, 7.865317232000001], [6.919067567000001, 7.919067567000001]]</td></tr><tr><td>rep_times</td><td>[1000.0]</td></tr><tr><td>memory</td><td>True</td></tr><tr><td>multi_meas_enabled</td><td>True</td></tr><tr><td>backend_name</td><td>ibmq_lima</td></tr><tr><td>n_registers</td><td>1</td></tr><tr><td>channels</td><td>{'acquire0': {'operates': {'qubits': [0]}, 'purpose': 'acquire', 'type': 'acquire'}, 'acquire1': {'operates': {'qubits': [1]}, 'purpose': 'acquire', 'type': 'acquire'}, 'acquire2': {'operates': {'qubits': [2]}, 'purpose': 'acquire', 'type': 'acquire'}, 'acquire3': {'operates': {'qubits': [3]}, 'purpose': 'acquire', 'type': 'acquire'}, 'acquire4': {'operates': {'qubits': [4]}, 'purpose': 'acquire', 'type': 'acquire'}, 'd0': {'operates': {'qubits': [0]}, 'purpose': 'drive', 'type': 'drive'}, 'd1': {'operates': {'qubits': [1]}, 'purpose': 'drive', 'type': 'drive'}, 'd2': {'operates': {'qubits': [2]}, 'purpose': 'drive', 'type': 'drive'}, 'd3': {'operates': {'qubits': [3]}, 'purpose': 'drive', 'type': 'drive'}, 'd4': {'operates': {'qubits': [4]}, 'purpose': 'drive', 'type': 'drive'}, 'm0': {'operates': {'qubits': [0]}, 'purpose': 'measure', 'type': 'measure'}, 'm1': {'operates': {'qubits': [1]}, 'purpose': 'measure', 'type': 'measure'}, 'm2': {'operates': {'qubits': [2]}, 'purpose': 'measure', 'type': 'measure'}, 'm3': {'operates': {'qubits': [3]}, 'purpose': 'measure', 'type': 'measure'}, 'm4': {'operates': {'qubits': [4]}, 'purpose': 'measure', 'type': 'measure'}, 'u0': {'operates': {'qubits': [0, 1]}, 'purpose': 'cross-resonance', 'type': 'control'}, 'u1': {'operates': {'qubits': [1, 0]}, 'purpose': 'cross-resonance', 'type': 'control'}, 'u2': {'operates': {'qubits': [1, 2]}, 'purpose': 'cross-resonance', 'type': 'control'}, 'u3': {'operates': {'qubits': [1, 3]}, 'purpose': 'cross-resonance', 'type': 'control'}, 'u4': {'operates': {'qubits': [2, 1]}, 'purpose': 'cross-resonance', 'type': 'control'}, 'u5': {'operates': {'qubits': [3, 1]}, 'purpose': 'cross-resonance', 'type': 'control'}, 'u6': {'operates': {'qubits': [3, 4]}, 'purpose': 'cross-resonance', 'type': 'control'}, 'u7': {'operates': {'qubits': [4, 3]}, 'purpose': 'cross-resonance', 'type': 'control'}}</td></tr><tr><td>conditional</td><td>False</td></tr><tr><td>hamiltonian</td><td>$$\\begin{align} \\mathcal{H}/\\hbar = & \\sum_{i=0}^{4}\\left(\\frac{\\omega_{q,i}}{2}(\\mathbb{I}-\\sigma_i^{z})+\\frac{\\Delta_{i}}{2}(O_i^2-O_i)+\\Omega_{d,i}D_i(t)\\sigma_i^{X}\\right) \\\\ & + J_{0,1}(\\sigma_{0}^{+}\\sigma_{1}^{-}+\\sigma_{0}^{-}\\sigma_{1}^{+}) + J_{1,2}(\\sigma_{1}^{+}\\sigma_{2}^{-}+\\sigma_{1}^{-}\\sigma_{2}^{+}) + J_{1,3}(\\sigma_{1}^{+}\\sigma_{3}^{-}+\\sigma_{1}^{-}\\sigma_{3}^{+}) + J_{3,4}(\\sigma_{3}^{+}\\sigma_{4}^{-}+\\sigma_{3}^{-}\\sigma_{4}^{+}) \\\\ & + \\Omega_{d,0}(U_{0}^{(0,1)}(t))\\sigma_{0}^{X} + \\Omega_{d,1}(U_{1}^{(1,0)}(t)+U_{3}^{(1,3)}(t)+U_{2}^{(1,2)}(t))\\sigma_{1}^{X} \\\\ & + \\Omega_{d,2}(U_{4}^{(2,1)}(t))\\sigma_{2}^{X} + \\Omega_{d,3}(U_{6}^{(3,4)}(t)+U_{5}^{(3,1)}(t))\\sigma_{3}^{X} \\\\ & + \\Omega_{d,4}(U_{7}^{(4,3)}(t))\\sigma_{4}^{X} \\\\ \\end{align}$$</td></tr><tr><td>clops</td><td>2673</td></tr><tr><td>discriminators</td><td>['hw_centroid', 'linear_discriminator', 'quadratic_discriminator']</td></tr><tr><td>dynamic_reprate_enabled</td><td>True</td></tr><tr><td>qubit_lo_range</td><td>[[4.529757407582503, 5.529757407582503], [4.627738582553157, 5.627738582553158], [4.747352102631919, 5.747352102631919], [4.80255503352921, 5.80255503352921], [4.592083651746325, 5.592083651746325]]</td></tr><tr><td>simulator</td><td>False</td></tr><tr><td>supported_features</td><td>['qobj']</td></tr><tr><td>pulse_num_qubits</td><td>3</td></tr><tr><td>conditional_latency</td><td>[]</td></tr><tr><td>n_uchannels</td><td>8</td></tr><tr><td>local</td><td>False</td></tr><tr><td>pulse_num_channels</td><td>9</td></tr><tr><td>parallel_compilation</td><td>False</td></tr><tr><td>coupling_map</td><td>[[0, 1], [1, 0], [1, 2], [1, 3], [2, 1], [3, 1], [3, 4], [4, 3]]</td></tr><tr><td>processor_type</td><td>{'family': 'Falcon', 'revision': 4, 'segment': 'T'}</td></tr><tr><td>parametric_pulses</td><td>['gaussian', 'gaussian_square', 'gaussian_square_drag', 'drag', 'constant']</td></tr><tr><td>uchannels_enabled</td><td>True</td></tr><tr><td>live_data</td><td>False</td></tr><tr><td>acquisition_latency</td><td>[]</td></tr><tr><td>dtm</td><td>0.2222222222222222</td></tr><tr><td>input_allowed</td><td>['job', 'runtime']</td></tr><tr><td>sample_name</td><td>family: Falcon, revision: 4, segment: T</td></tr><tr><td>timing_constraints</td><td>{'acquire_alignment': 16, 'granularity': 16, 'min_length': 64, 'pulse_alignment': 1}</td></tr><tr><td>url</td><td>None</td></tr><tr><td>online_date</td><td>2021-01-08 05:00:00+00:00</td></tr><tr><td>default_rep_delay</td><td>250.0</td></tr><tr><td>measure_esp_enabled</td><td>False</td></tr><tr><td>allow_object_storage</td><td>True</td></tr><tr><td>meas_kernels</td><td>['hw_boxcar']</td></tr><tr><td>credits_required</td><td>True</td></tr><tr><td>meas_map</td><td>[[0, 1, 2, 3, 4]]</td></tr><tr><td>u_channel_lo</td><td>[[{'q': 1, 'scale': (1+0j)}], [{'q': 0, 'scale': (1+0j)}], [{'q': 2, 'scale': (1+0j)}], [{'q': 3, 'scale': (1+0j)}], [{'q': 1, 'scale': (1+0j)}], [{'q': 1, 'scale': (1+0j)}], [{'q': 4, 'scale': (1+0j)}], [{'q': 3, 'scale': (1+0j)}]]</td></tr></table>"
      }
     },
     "f93c2133a24f4c268b0ddd8b512c047a": {
      "model_module": "@jupyter-widgets/controls",
      "model_module_version": "2.0.0",
      "model_name": "HTMLMathStyleModel",
      "state": {
       "description_width": "",
       "font_size": null,
       "text_color": null
      }
     },
     "f990f79251ea46999a522e5dda20b080": {
      "model_module": "@jupyter-widgets/output",
      "model_module_version": "1.0.0",
      "model_name": "OutputModel",
      "state": {
       "layout": "IPY_MODEL_6b98dda88b084b05b90a3b7a568de7b3",
       "outputs": [
        {
         "data": {
          "image/png": "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\n",
          "text/plain": "<Figure size 1100x900 with 5 Axes>"
         },
         "metadata": {},
         "output_type": "display_data"
        }
       ]
      }
     },
     "fa3f4061c5374671b6f71af5510c5d79": {
      "model_module": "@jupyter-widgets/base",
      "model_module_version": "2.0.0",
      "model_name": "LayoutModel",
      "state": {}
     },
     "fbc84dce1f024e10b064912d3640bbd5": {
      "model_module": "@jupyter-widgets/controls",
      "model_module_version": "2.0.0",
      "model_name": "GridBoxModel",
      "state": {
       "children": [
        "IPY_MODEL_68a2cde769324d808d52db2052cce24a",
        "IPY_MODEL_85f7b95d7c5147f59bf242ac952d1acd",
        "IPY_MODEL_4b7a8cd41c4643ea882c6be153652a4f"
       ],
       "layout": "IPY_MODEL_04813dea47e74ca38290e9094df19475"
      }
     },
     "fbf1293e9c234739b47b2b83a5f77e8c": {
      "model_module": "@jupyter-widgets/base",
      "model_module_version": "2.0.0",
      "model_name": "LayoutModel",
      "state": {
       "grid_gap": "0px 0px",
       "grid_template_areas": "\n                               \"left right right right\"\n                               \"bottom bottom bottom bottom\"\n                               ",
       "grid_template_columns": "31% 23% 23% 23%",
       "grid_template_rows": "auto auto"
      }
     },
     "fbfb57e22b164c168afbef7dba752908": {
      "model_module": "@jupyter-widgets/controls",
      "model_module_version": "2.0.0",
      "model_name": "HTMLModel",
      "state": {
       "layout": "IPY_MODEL_f467cf7487b8411ab2fb02e06229b224",
       "style": "IPY_MODEL_3876c705b5c449129e6390f0b49fb565",
       "value": "<table><style>\ntable {\n    border-collapse: collapse;\n    width: auto;\n}\n\nth, td {\n    text-align: left;\n    padding: 8px;\n}\n\ntr:nth-child(even) {background-color: #f6f6f6;};\n</style><tr><th></th><th>Type</th><th>Gate error</th></tr><tr><td><font style='font-weight:bold'>cx1_0</font></td><td>cx</td><td>0.00736</td></tr><tr><td><font style='font-weight:bold'>cx3_1</font></td><td>cx</td><td>0.01588</td></tr><tr><td><font style='font-weight:bold'>cx1_3</font></td><td>cx</td><td>0.01588</td></tr></table>"
      }
     },
     "fdc186b09ac243d6a2c1adc8c751562d": {
      "model_module": "@jupyter-widgets/controls",
      "model_module_version": "2.0.0",
      "model_name": "HTMLMathStyleModel",
      "state": {
       "description_width": "",
       "font_size": null,
       "text_color": null
      }
     },
     "fe36d8495ad34812957fe1c0867918d8": {
      "model_module": "@jupyter-widgets/base",
      "model_module_version": "2.0.0",
      "model_name": "LayoutModel",
      "state": {
       "grid_area": "left",
       "width": "100%"
      }
     },
     "feac185d6df84e04a91f982a3bc5d3c2": {
      "model_module": "@jupyter-widgets/controls",
      "model_module_version": "2.0.0",
      "model_name": "VBoxModel",
      "state": {
       "children": [
        "IPY_MODEL_4dbf5d069a944850820d51b47dff14e6",
        "IPY_MODEL_eb9e64de3a454558b5298d4dd7758448"
       ],
       "layout": "IPY_MODEL_4443bb0a127442f8986796d5d876f01b"
      }
     },
     "ffd5440ccfbf4d0e9323755856c42dd1": {
      "model_module": "@jupyter-widgets/controls",
      "model_module_version": "2.0.0",
      "model_name": "TabModel",
      "state": {
       "layout": "IPY_MODEL_cd825c1367754673b50a1be246c0ea92"
      }
     }
    },
    "version_major": 2,
    "version_minor": 0
   }
  }
 },
 "nbformat": 4,
 "nbformat_minor": 4
}
