{
 "cells": [
  {
   "cell_type": "markdown",
   "metadata": {
    "tags": [
     "remove_cell"
    ]
   },
   "source": [
    "<h1 style=\"font-size:35px;\n",
    "        color:black;\n",
    "        \">Tutorial 08: Hydrogen atom and energy measurements</h1>"
   ]
  },
  {
   "cell_type": "code",
   "execution_count": 1,
   "metadata": {
    "tags": []
   },
   "outputs": [],
   "source": [
    "from qiskit import *\n",
    "import numpy as np\n",
    "from qiskit_aer import QasmSimulator, AerSimulator"
   ]
  },
  {
   "cell_type": "markdown",
   "metadata": {},
   "source": [
    "The ground state of the Hydrogen atom is a superposition of four different states due to the spins of the electron and proton. Here the goal is to evaluate the energy difference among these four states (\"hyperfine splitting\") by computing the energy expectation value for the system of two spins with the Hamiltonian expressed in terms of Pauli operators. For more information about the hyperfine structure of Hydrogen, see e.g. [here](https://www.feynmanlectures.caltech.edu/III_12.html) .\n"
   ]
  },
  {
   "cell_type": "markdown",
   "metadata": {},
   "source": [
    "0,Both electron and proton have spin $1/2$, and thus, if we consider only spin degrees-of-freedom, the Hydrogen atom can be mapped into a two-qubit system, with for example\n",
    "$  \\uparrow \\rangle \\equiv | 0 \\rangle$ and $ | \\downarrow \\rangle \\equiv | 1 \\rangle$.\n",
    "\n",
    "\n",
    "The corresponding Hamiltonian is a spin-spin interaction \n",
    "\n",
    "\\begin{align}\n",
    "H &= \\vec{\\sigma}^{(1)}.\\vec{\\sigma}^{(0)} \\\\\n",
    "  &= a \\, (X^{(1)} \\otimes X^{(0)}+Y^{(1)} \\otimes Y^{(0)}+Z^{(1)}\\otimes Z^{(0)})\n",
    "\\end{align}\n",
    "\n",
    "\n",
    "where $a = 1.47e^{-6} eV$ and $X^{(i)}, Y^{(i)}, Z^{(i)}$ are Pauli gates acting on qubit $(i)$. \n",
    "\n",
    "\n",
    "The energy expectation value of the system in some state $|\\Xi \\rangle$ can be evaluated by combining the expectation value of each term in the Hamiltonian.\n",
    "In this case: $$E = \\langle \\Xi | H | \\Xi \\rangle = a\\, ( \\langle \\Xi | X^{(1)} X^{(0)} | \\Xi \\rangle + \\langle \\Xi | Y^{(1)}Y^{(0)} | \\Xi \\rangle + \\langle \\Xi |Z^{(1)}Z^{(0)} |\\Xi \\rangle ) \\; .$$  \n"
   ]
  },
  {
   "cell_type": "markdown",
   "metadata": {},
   "source": [
    "The spins of the electron and proton can couple to a total spin $S=0$ (singlet state) or $S=1$ (triplet state). \n",
    "The Bell state $$ |\\Psi^- \\rangle = \\frac{1}{\\sqrt2} (|10\\rangle - |01\\rangle) $$\n",
    "corresponds to the singlet spin state, while  \n",
    "$$\n",
    "\\begin{align}\n",
    "|\\Phi^+ \\rangle &= \\frac{1}{\\sqrt2} (|00\\rangle + |11\\rangle)\\\\\n",
    "|\\Phi^- \\rangle &= \\frac{1}{\\sqrt2} (|00\\rangle - |11\\rangle)\\\\\n",
    "|\\Psi^+ \\rangle &= \\frac{1}{\\sqrt2} (|10\\rangle + |01\\rangle)\n",
    "\\end{align}\n",
    "$$\n",
    "\n",
    "are (linear combinations) of the triplet spin state.\n",
    "\n",
    "\n",
    "\n",
    "\n",
    "\n",
    "<br>\n",
    "<div style=\"background:rgb(66, 26, 188); border-radius: 5px;\n",
    "-moz-border-radius: 5px;\">\n",
    "  <p style=\"background:rgb(40, 31, 40);\n",
    "            border-radius: 5px 5px 0px 0px;\n",
    "            padding: 10px 0px 10px 10px;\n",
    "            font-size:18px;\n",
    "            color:white;\n",
    "            \"><b>Goal</b></p>\n",
    "    <p style=\" padding: 0px 0px 10px 10px;\n",
    "              font-size:16px;\">The goal is to compute the energy of the system for each of the four Bell states $ | \\Xi \\rangle = |\\Phi^+ \\rangle, \\, |\\Phi^- \\rangle, \\, |\\Psi^+ \\rangle, |\\Psi^- \\rangle $ using the derivations of the previous questions in Problem 1.</p>\n",
    "</div>"
   ]
  },
  {
   "cell_type": "markdown",
   "metadata": {},
   "source": [
    "<h4 style=\"font-size: 17px\">&#128211;Step A. Create the circuits to prepare the four Bell states: </h4>"
   ]
  },
  {
   "cell_type": "code",
   "execution_count": 4,
   "metadata": {
    "tags": []
   },
   "outputs": [
    {
     "data": {
      "image/png": "[encoded data removed]",
      "text/plain": [
       "<Figure size 287.294x200.667 with 1 Axes>"
      ]
     },
     "metadata": {},
     "output_type": "display_data"
    },
    {
     "data": {
      "image/png": "[encoded data removed]",
      "text/plain": [
       "<Figure size 370.906x200.667 with 1 Axes>"
      ]
     },
     "metadata": {},
     "output_type": "display_data"
    },
    {
     "data": {
      "image/png": "[encoded data removed]",
      "text/plain": [
       "<Figure size 370.906x200.667 with 1 Axes>"
      ]
     },
     "metadata": {},
     "output_type": "display_data"
    },
    {
     "data": {
      "image/png": "[encoded data removed]",
      "text/plain": [
       "<Figure size 454.517x200.667 with 1 Axes>"
      ]
     },
     "metadata": {},
     "output_type": "display_data"
    }
   ],
   "source": [
    "# circuit for the state |Phi^+>\n",
    "# your code goes here\n",
    "Phi_p = QuantumCircuit(2)\n",
    "Phi_p.h(0)\n",
    "Phi_p.cx(0,1)\n",
    "#\n",
    "\n",
    "\n",
    "\n",
    "\n",
    "\n",
    "# circuit for the state |Phi^->\n",
    "# your code goes here\n",
    "Phi_m = QuantumCircuit(2)\n",
    "Phi_m.h(0)\n",
    "Phi_m.cx(0,1)\n",
    "Phi_m.cz(0,1)\n",
    "#\n",
    "\n",
    "\n",
    "\n",
    "\n",
    "# circuit for the state |Psi_p>\n",
    "# your code goes here\n",
    "Psi_p = QuantumCircuit(2)\n",
    "Psi_p.h(0)\n",
    "Psi_p.cx(0,1)\n",
    "Psi_p.x(1)\n",
    "#\n",
    "\n",
    "\n",
    "\n",
    "\n",
    "\n",
    "# circuit for the state |Psi_m>\n",
    "# your code goes here\n",
    "Psi_m = QuantumCircuit(2)\n",
    "Psi_m.h(0)\n",
    "Psi_m.cx(0,1)\n",
    "Psi_m.x(1)\n",
    "Psi_m.cz(0,1)\n",
    "#\n",
    "\n",
    "\n",
    "display(Phi_p.draw('mpl'))\n",
    "display(Phi_m.draw('mpl'))\n",
    "display(Psi_p.draw('mpl'))\n",
    "display(Psi_m.draw('mpl'))"
   ]
  },
  {
   "cell_type": "markdown",
   "metadata": {},
   "source": [
    "<h4 style=\"font-size: 17px\">&#128211;Step B. Construct circuits that measure the expectation values of $X^{(1)} X^{(0)} $, $Y^{(1)} Y^{(0)} $ and $Z^{(1)} Z^{(0)} $ on the four Bell states, and run them on a simulator (for example the AerSimulator)</h4>\n",
    "\n",
    "Remember to use your previous answer to question 4) and 5) of the problem: you first need to transform the state, before measuring in the computational basis."
   ]
  },
  {
   "cell_type": "code",
   "execution_count": null,
   "metadata": {
    "tags": []
   },
   "outputs": [],
   "source": [
    "######## your code goes here\n",
    "\n",
    "#########       "
   ]
  },
  {
   "cell_type": "code",
   "execution_count": null,
   "metadata": {
    "tags": []
   },
   "outputs": [],
   "source": [
    "########## Print here the energy of each Bell state\n",
    "\n",
    "\n",
    "##########"
   ]
  },
  {
   "cell_type": "markdown",
   "metadata": {},
   "source": [
    " <h4 style=\"font-size: 17px\">Step C. Understanding the result. </h4>\n",
    "\n",
    "If you found the energy expectation values successfully, you would have obtained exactly the same value, $a = 1.47e^{-6}$ eV, for the triplet states, $|\\Phi^+\\rangle, |\\Psi^-\\rangle, |\\Psi^+\\rangle$ and one lower energy level, $-3a =  -4.41e^{-6}$ eV for the singlet state $|\\Psi^-\\rangle$.   \n",
    "\n",
    "What we have done here is measuring the energies of the four different spin states of the Hydrogen and observed the \"hyperfine structure\" in the energy levels caused by spin-spin coupling.  This tiny energy difference between the singlet and triplet states is the reason for the famous $\\simeq$ 21-cm wavelength radiation used to map the structure of the galaxy.  "
   ]
  },
  {
   "cell_type": "markdown",
   "metadata": {},
   "source": [
    "In the cell below, we verify the wavelength of the emission from the transition between the triplet states and singlet state. "
   ]
  },
  {
   "cell_type": "code",
   "execution_count": 5,
   "metadata": {
    "tags": []
   },
   "outputs": [
    {
     "name": "stdout",
     "output_type": "stream",
     "text": [
      "The wavelength of the radiation from the transition in the hyperfine structure is : 21.1 cm\n"
     ]
    }
   ],
   "source": [
    "# reduced plank constant in (eV) and the speed of light(cgs units)\n",
    "hbar, c = 4.1357e-15, 3e10\n",
    "a = 1.47e-6\n",
    "# Print here the energy difference between the triplets and singlet\n",
    "########## your code goes here\n",
    "E_del = a - (-3*a)\n",
    "##########\n",
    "\n",
    "# frequency associated with the energy difference\n",
    "f = E_del/hbar\n",
    "\n",
    "# convert frequency to wavelength in (cm) \n",
    "wavelength = c/f\n",
    "\n",
    "print('The wavelength of the radiation from the transition\\\n",
    " in the hyperfine structure is : {:.1f} cm'.format(wavelength))"
   ]
  },
  {
   "cell_type": "code",
   "execution_count": null,
   "metadata": {},
   "outputs": [],
   "source": []
  }
 ],
 "metadata": {
  "kernelspec": {
   "display_name": "Python 3",
   "language": "python",
   "name": "python3"
  },
  "language_info": {
   "codemirror_mode": {
    "name": "ipython",
    "version": 3
   },
   "file_extension": ".py",
   "mimetype": "text/x-python",
   "name": "python",
   "nbconvert_exporter": "python",
   "pygments_lexer": "ipython3",
   "version": "3.12.10"
  },
  "widgets": {
   "application/vnd.jupyter.widget-state+json": {
    "state": {},
    "version_major": 2,
    "version_minor": 0
   }
  }
 },
 "nbformat": 4,
 "nbformat_minor": 4
}
