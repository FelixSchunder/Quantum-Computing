{
 "cells": [
  {
   "cell_type": "code",
   "execution_count": 41,
   "id": "7983b5cf",
   "metadata": {},
   "outputs": [],
   "source": [
    "from qiskit import *\n",
    "from qiskit.circuit.library import RYGate\n",
    "import numpy as np\n",
    "from qiskit_aer import Aer\n",
    "pi = np.pi"
   ]
  },
  {
   "cell_type": "code",
   "execution_count": 42,
   "id": "b8a88189",
   "metadata": {},
   "outputs": [],
   "source": [
    "def CRY(theta):\n",
    "    return RYGate(theta).control(1)\n",
    "\n",
    "def antiCRY(theta):\n",
    "    return RYGate(theta).control(1, ctrl_state=0)\n",
    "\n",
    "def prep_state(theta):\n",
    "    qc = QuantumCircuit(2,2)\n",
    "\n",
    "    qc.append(RYGate(theta[0]), [0])\n",
    "    qc.append(antiCRY(theta[1]), [0,1])\n",
    "    qc.append(CRY(theta[2]), [0,1])\n",
    "\n",
    "    return qc"
   ]
  },
  {
   "cell_type": "code",
   "execution_count": 43,
   "id": "70239830",
   "metadata": {},
   "outputs": [
    {
     "data": {
      "image/png": "[encoded data removed]",
      "text/plain": [
       "<Figure size 370.906x284.278 with 1 Axes>"
      ]
     },
     "execution_count": 43,
     "metadata": {},
     "output_type": "execute_result"
    }
   ],
   "source": [
    "QC = prep_state([0, 0, 0])\n",
    "QC.draw('mpl')"
   ]
  },
  {
   "cell_type": "markdown",
   "id": "682e5f9e",
   "metadata": {},
   "source": [
    "$\\ket{\\Psi} = cos(\\theta_0/2) cos(\\theta_1/2) \\ket{00} + cos(\\theta_0/2) sin(\\theta_1/2) \\ket{10} + sind(\\theta_0/2) cos(\\theta_2/2) \\ket{01} + sin(\\theta_0/2) sin(\\theta_2/2) \\ket{11} $ \n",
    "\n",
    "$\\frac{d<H>}{d\\theta_0} = cos(\\theta_0/2 + \\pi/2) cos(\\theta_1/2) \\ket{00} + cos(\\theta_0/2 + \\pi/2) sin(\\theta_1/2) \\ket{10} + sind(\\theta_0/2 + \\pi/2) cos(\\theta_2/2) \\ket{01} + sin(\\theta_0/2 +\\pi/2) sin(\\theta_2/2) \\ket{11} $ \n",
    "\n",
    "##Trick?!\n",
    "\n",
    "$\\frac{dE}{d\\theta_i} = \\frac{1}{2}(E_{theta_i+1/2} - E_{theta_i-1/2})$"
   ]
  },
  {
   "cell_type": "code",
   "execution_count": 44,
   "id": "9406b832",
   "metadata": {},
   "outputs": [],
   "source": [
    "def Hamilton(qc = QuantumCircuit(2)):\n",
    "    qc.x([0,1])\n",
    "    qc.y([0,1])\n",
    "    qc.z([0,1])\n",
    "    return qc"
   ]
  },
  {
   "cell_type": "code",
   "execution_count": 56,
   "id": "6c10bf71",
   "metadata": {},
   "outputs": [],
   "source": [
    "sim = Aer.get_backend('aer_simulator')\n",
    "def Energy(state, shots):\n",
    "    U = QuantumCircuit(2)\n",
    "    U.cx(0,1)\n",
    "    U.h(0)\n",
    "    U.measure_all()\n",
    "\n",
    "    trans = transpile(state.compose(U), sim)\n",
    "    counts = sim.run(trans, shots=shots).result().get_counts()\n",
    "\n",
    "    probs = {}\n",
    "    for output in ['00','10','01','11']:\n",
    "        if output in counts:\n",
    "            probs[output] = counts[output]/shots\n",
    "        else:\n",
    "            probs[output] = 0\n",
    "\n",
    "    expect_val = probs['00'] - probs['01'] + probs['10'] - probs['11']\n",
    "\n",
    "    return expect_val"
   ]
  },
  {
   "cell_type": "code",
   "execution_count": 35,
   "id": "21481ba1",
   "metadata": {},
   "outputs": [],
   "source": [
    "def theta_new(theta, eta):\n",
    "    theta[0] = theta[0] - eta/2* (Energy([theta[0]+pi/2, theta[1], theta[2]]) - Energy([theta[0]-pi/2, theta[1], theta[2]]))\n",
    "    theta[1] = theta[1] - eta/2* (Energy([theta[0], theta[1]+pi/2, theta[2]]) - Energy([theta[0], theta[1]-pi/2, theta[2]]))\n",
    "    theta[2] = theta[2] - eta/2* (Energy([theta[0], theta[1], theta[2]+pi/2]) - Energy([theta[0], theta[1], theta[2]-pi/2]))\n",
    "    return theta"
   ]
  },
  {
   "cell_type": "code",
   "execution_count": 57,
   "id": "99457a67",
   "metadata": {},
   "outputs": [
    {
     "name": "stdout",
     "output_type": "stream",
     "text": [
      "0.39999999999999997\n"
     ]
    }
   ],
   "source": [
    "print(Energy(prep_state([0,0,0]),10))"
   ]
  },
  {
   "cell_type": "code",
   "execution_count": null,
   "id": "cc5163da",
   "metadata": {},
   "outputs": [
    {
     "ename": "TypeError",
     "evalue": "unsupported operand type(s) for -: 'QuantumCircuit' and 'QuantumCircuit'",
     "output_type": "error",
     "traceback": [
      "\u001b[1;31m---------------------------------------------------------------------------\u001b[0m",
      "\u001b[1;31mTypeError\u001b[0m                                 Traceback (most recent call last)",
      "Cell \u001b[1;32mIn[39], line 10\u001b[0m\n\u001b[0;32m      7\u001b[0m         theta \u001b[38;5;241m=\u001b[39m theta_new(theta, eta)\n\u001b[0;32m      8\u001b[0m     \u001b[38;5;28;01mreturn\u001b[39;00m theta\n\u001b[1;32m---> 10\u001b[0m result \u001b[38;5;241m=\u001b[39m \u001b[43mVQE_algo\u001b[49m\u001b[43m(\u001b[49m\u001b[43m[\u001b[49m\u001b[38;5;241;43m0\u001b[39;49m\u001b[43m,\u001b[49m\u001b[38;5;241;43m0\u001b[39;49m\u001b[43m,\u001b[49m\u001b[38;5;241;43m0\u001b[39;49m\u001b[43m]\u001b[49m\u001b[43m,\u001b[49m\u001b[43m \u001b[49m\u001b[38;5;241;43m0.1\u001b[39;49m\u001b[43m,\u001b[49m\u001b[43m \u001b[49m\u001b[38;5;241;43m10\u001b[39;49m\u001b[43m)\u001b[49m\n\u001b[0;32m     11\u001b[0m \u001b[38;5;28mprint\u001b[39m(result)\n",
      "Cell \u001b[1;32mIn[39], line 7\u001b[0m, in \u001b[0;36mVQE_algo\u001b[1;34m(theta, eta, rounds)\u001b[0m\n\u001b[0;32m      5\u001b[0m     trans \u001b[38;5;241m=\u001b[39m transpile(Energy([\u001b[38;5;241m0\u001b[39m,\u001b[38;5;241m0\u001b[39m,\u001b[38;5;241m0\u001b[39m]), backend\u001b[38;5;241m=\u001b[39msim)\n\u001b[0;32m      6\u001b[0m     counts \u001b[38;5;241m=\u001b[39m sim\u001b[38;5;241m.\u001b[39mrun(trans, shots\u001b[38;5;241m=\u001b[39m\u001b[38;5;241m1\u001b[39m)\u001b[38;5;241m.\u001b[39mresult()\n\u001b[1;32m----> 7\u001b[0m     theta \u001b[38;5;241m=\u001b[39m \u001b[43mtheta_new\u001b[49m\u001b[43m(\u001b[49m\u001b[43mtheta\u001b[49m\u001b[43m,\u001b[49m\u001b[43m \u001b[49m\u001b[43meta\u001b[49m\u001b[43m)\u001b[49m\n\u001b[0;32m      8\u001b[0m \u001b[38;5;28;01mreturn\u001b[39;00m theta\n",
      "Cell \u001b[1;32mIn[35], line 2\u001b[0m, in \u001b[0;36mtheta_new\u001b[1;34m(theta, eta)\u001b[0m\n\u001b[0;32m      1\u001b[0m \u001b[38;5;28;01mdef\u001b[39;00m \u001b[38;5;21mtheta_new\u001b[39m(theta, eta):\n\u001b[1;32m----> 2\u001b[0m     theta[\u001b[38;5;241m0\u001b[39m] \u001b[38;5;241m=\u001b[39m theta[\u001b[38;5;241m0\u001b[39m] \u001b[38;5;241m-\u001b[39m eta\u001b[38;5;241m/\u001b[39m\u001b[38;5;241m2\u001b[39m\u001b[38;5;241m*\u001b[39m (\u001b[43mEnergy\u001b[49m\u001b[43m(\u001b[49m\u001b[43m[\u001b[49m\u001b[43mtheta\u001b[49m\u001b[43m[\u001b[49m\u001b[38;5;241;43m0\u001b[39;49m\u001b[43m]\u001b[49m\u001b[38;5;241;43m+\u001b[39;49m\u001b[43mpi\u001b[49m\u001b[38;5;241;43m/\u001b[39;49m\u001b[38;5;241;43m2\u001b[39;49m\u001b[43m,\u001b[49m\u001b[43m \u001b[49m\u001b[43mtheta\u001b[49m\u001b[43m[\u001b[49m\u001b[38;5;241;43m1\u001b[39;49m\u001b[43m]\u001b[49m\u001b[43m,\u001b[49m\u001b[43m \u001b[49m\u001b[43mtheta\u001b[49m\u001b[43m[\u001b[49m\u001b[38;5;241;43m2\u001b[39;49m\u001b[43m]\u001b[49m\u001b[43m]\u001b[49m\u001b[43m)\u001b[49m\u001b[43m \u001b[49m\u001b[38;5;241;43m-\u001b[39;49m\u001b[43m \u001b[49m\u001b[43mEnergy\u001b[49m\u001b[43m(\u001b[49m\u001b[43m[\u001b[49m\u001b[43mtheta\u001b[49m\u001b[43m[\u001b[49m\u001b[38;5;241;43m0\u001b[39;49m\u001b[43m]\u001b[49m\u001b[38;5;241;43m-\u001b[39;49m\u001b[43mpi\u001b[49m\u001b[38;5;241;43m/\u001b[39;49m\u001b[38;5;241;43m2\u001b[39;49m\u001b[43m,\u001b[49m\u001b[43m \u001b[49m\u001b[43mtheta\u001b[49m\u001b[43m[\u001b[49m\u001b[38;5;241;43m1\u001b[39;49m\u001b[43m]\u001b[49m\u001b[43m,\u001b[49m\u001b[43m \u001b[49m\u001b[43mtheta\u001b[49m\u001b[43m[\u001b[49m\u001b[38;5;241;43m2\u001b[39;49m\u001b[43m]\u001b[49m\u001b[43m]\u001b[49m\u001b[43m)\u001b[49m)\n\u001b[0;32m      3\u001b[0m     theta[\u001b[38;5;241m1\u001b[39m] \u001b[38;5;241m=\u001b[39m theta[\u001b[38;5;241m1\u001b[39m] \u001b[38;5;241m-\u001b[39m eta\u001b[38;5;241m/\u001b[39m\u001b[38;5;241m2\u001b[39m\u001b[38;5;241m*\u001b[39m (Energy([theta[\u001b[38;5;241m0\u001b[39m], theta[\u001b[38;5;241m1\u001b[39m]\u001b[38;5;241m+\u001b[39mpi\u001b[38;5;241m/\u001b[39m\u001b[38;5;241m2\u001b[39m, theta[\u001b[38;5;241m2\u001b[39m]]) \u001b[38;5;241m-\u001b[39m Energy([theta[\u001b[38;5;241m0\u001b[39m], theta[\u001b[38;5;241m1\u001b[39m]\u001b[38;5;241m-\u001b[39mpi\u001b[38;5;241m/\u001b[39m\u001b[38;5;241m2\u001b[39m, theta[\u001b[38;5;241m2\u001b[39m]]))\n\u001b[0;32m      4\u001b[0m     theta[\u001b[38;5;241m2\u001b[39m] \u001b[38;5;241m=\u001b[39m theta[\u001b[38;5;241m2\u001b[39m] \u001b[38;5;241m-\u001b[39m eta\u001b[38;5;241m/\u001b[39m\u001b[38;5;241m2\u001b[39m\u001b[38;5;241m*\u001b[39m (Energy([theta[\u001b[38;5;241m0\u001b[39m], theta[\u001b[38;5;241m1\u001b[39m], theta[\u001b[38;5;241m2\u001b[39m]\u001b[38;5;241m+\u001b[39mpi\u001b[38;5;241m/\u001b[39m\u001b[38;5;241m2\u001b[39m]) \u001b[38;5;241m-\u001b[39m Energy([theta[\u001b[38;5;241m0\u001b[39m], theta[\u001b[38;5;241m1\u001b[39m], theta[\u001b[38;5;241m2\u001b[39m]\u001b[38;5;241m-\u001b[39mpi\u001b[38;5;241m/\u001b[39m\u001b[38;5;241m2\u001b[39m]))\n",
      "\u001b[1;31mTypeError\u001b[0m: unsupported operand type(s) for -: 'QuantumCircuit' and 'QuantumCircuit'"
     ]
    }
   ],
   "source": [
    "def VQE_algo(theta, eta, rounds):\n",
    "    for i in range(rounds):\n",
    "        trans = transpile(Energy([0,0,0]), backend=sim)\n",
    "        counts = sim.run(trans, shots=1).result()\n",
    "        theta = theta_new(theta, eta)\n",
    "    return theta\n",
    "\n",
    "result = VQE_algo([0,0,0], 0.1, 10)\n",
    "print(result)"
   ]
  }
 ],
 "metadata": {
  "kernelspec": {
   "display_name": "Python 3",
   "language": "python",
   "name": "python3"
  },
  "language_info": {
   "codemirror_mode": {
    "name": "ipython",
    "version": 3
   },
   "file_extension": ".py",
   "mimetype": "text/x-python",
   "name": "python",
   "nbconvert_exporter": "python",
   "pygments_lexer": "ipython3",
   "version": "3.12.10"
  }
 },
 "nbformat": 4,
 "nbformat_minor": 5
}
