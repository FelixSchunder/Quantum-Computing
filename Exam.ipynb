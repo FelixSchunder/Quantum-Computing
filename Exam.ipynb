{
 "cells": [
  {
   "cell_type": "markdown",
   "id": "19f6aa8f",
   "metadata": {},
   "source": [
    "1. How can we characterize the state of Bobs qubit alone\n",
    "\n",
    "We can characterize the state of Bobs qubit if we entangle it with a CX(target=0, control=1) and a CCZ(target=0, control=0, control=0) gate\n",
    "\n",
    "2. What entanglement measure can quantify how entangled is Bobs qubit with Alices qubits? Calculate this measure.\n"
   ]
  },
  {
   "cell_type": "code",
   "execution_count": null,
   "id": "45767f68",
   "metadata": {},
   "outputs": [],
   "source": []
  }
 ],
 "metadata": {
  "language_info": {
   "name": "python"
  }
 },
 "nbformat": 4,
 "nbformat_minor": 5
}
