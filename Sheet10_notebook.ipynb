{
 "cells": [
  {
   "cell_type": "markdown",
   "metadata": {},
   "source": [
    "# Tutorial 10 - Time evolution of the Transverse Field Ising Model\n"
   ]
  },
  {
   "cell_type": "markdown",
   "metadata": {},
   "source": [
    "The Ising model is spin model composed of a lattice of spin-1/2 particles interacting via nearest-neighbour interaction. In this tutorial we consider the quantum transverse field Ising model, which adds a (uniform) magnetic field in the x direction.\n",
    "The full Hamiltonian describing this system is:\n",
    "\n",
    "\\begin{align}\n",
    "\\hat{H} &= - J \\sum_{i=0}^{N_{spins}-1} Z_{i+1} \\otimes Z_i - \\Gamma  \\sum_{i=0}^{N_{spins}-1} X_i \\\\\n",
    "&\\equiv - J \\sum_{i=0}^{N_{spins}-1} Z_{i+1} Z_i - \\Gamma  \\sum_{i=0}^{N_{spins}-1} X_i\n",
    "\\end{align}\n",
    "\n",
    "where each spin has been mapped to one qubit.\n",
    "\n",
    "The goal of the tutorial is to implement a quantum circuit describing the time evolution of this system using Trotterization of the evolution operator (at leading order), and to compare the results to the exact time evolution. \n",
    "\n",
    "##### We will assume periodic boundary conditions, meaning that $Z_{N_{spins}} \\equiv Z_{0}$."
   ]
  },
  {
   "cell_type": "code",
   "execution_count": 1,
   "metadata": {},
   "outputs": [],
   "source": [
    "from qiskit import *\n",
    "import numpy as np\n",
    "from qiskit_aer import Aer\n",
    "import matplotlib.pyplot as plt\n",
    "from qiskit.quantum_info.operators import Operator\n",
    "pi = np.pi"
   ]
  },
  {
   "cell_type": "markdown",
   "metadata": {},
   "source": [
    "<h4 style=\"font-size: 17px\">&#128211; 1) Create a function that implements the operator \n",
    "\n",
    "\\begin{align} \n",
    "e^{-i \\alpha Z_j Z_i} \n",
    "\\end{align}\n",
    "\n",
    "</h4>"
   ]
  },
  {
   "cell_type": "code",
   "execution_count": null,
   "metadata": {},
   "outputs": [],
   "source": [
    "###### your code:\n",
    "def op(qc, alpha, Z_j, Z_i):\n",
    "    return qc.u(alpha*Z_j*Z_i)\n",
    "#################"
   ]
  },
  {
   "cell_type": "markdown",
   "metadata": {},
   "source": [
    "<h4 style=\"font-size: 17px\">&#128211; 2) Use your function defined above to build another function taking as input an initial-state circuit and returning a circuit for the time-evolved state $|\\Psi(t)\\rangle$ (at leading-order in Trotterization) for a given value of time $t$ </h4>"
   ]
  },
  {
   "cell_type": "code",
   "execution_count": null,
   "metadata": {},
   "outputs": [],
   "source": [
    "###### your code:\n",
    "\n",
    "#################"
   ]
  },
  {
   "cell_type": "markdown",
   "metadata": {},
   "source": [
    "<h4 style=\"font-size: 17px\">&#128211; 3) Create now a function that takes as input the state $| \\Psi(t) \\rangle$ evolved to a given time $t$, measures and returns the magnetization: </h4>\n",
    "\n",
    "$$\n",
    "M =  \\langle \\Psi(t) |  \\sum_{i=0}^{N_{spins}-1} Z_i | \\Psi(t) \\rangle\n",
    "$$\n",
    "\n",
    "where \n",
    "$$ \n",
    "Z_i \\equiv I_{N_{spins}-1} \\otimes ... \\otimes I_{i+1} \\otimes Z_i \\otimes I_{i-1} ... \\otimes I_{0}\n",
    "$$"
   ]
  },
  {
   "cell_type": "code",
   "execution_count": null,
   "metadata": {},
   "outputs": [],
   "source": [
    "###### your code:\n",
    "\n",
    "#################"
   ]
  },
  {
   "cell_type": "markdown",
   "metadata": {},
   "source": [
    "<h4 style=\"font-size: 17px\">&#128211; 4) Consider a system of $N_{spins}=6$ spins,\n",
    "in an initial state where all spins are aligned in the $z$ direction: $$| \\Psi(0)\\rangle = |000000\\rangle \\equiv |\\uparrow\\uparrow\\uparrow\\uparrow\\uparrow\\uparrow\\rangle$$ and use your previsously-defined functions to compute and plot the time evolution of the magnetization for $t \\in [0,3]$.\n",
    "\n",
    "\n",
    "Compare and discuss the results for two sets of parameters: \n",
    "- a) $J=1$, $\\Gamma =0$\n",
    "- b) $J=1$, $\\Gamma =3$\n",
    "\n",
    "Vary the number of Trotter steps $N_s$ (for example, from $N_s = 1$ to $N_s = 20$).\n",
    "\n",
    "</h4>"
   ]
  },
  {
   "cell_type": "code",
   "execution_count": null,
   "metadata": {},
   "outputs": [],
   "source": [
    "###### your code:\n",
    "\n",
    "#################"
   ]
  },
  {
   "cell_type": "markdown",
   "metadata": {},
   "source": [
    "<h4 style=\"font-size: 20px\"> We now want to compare the results above to the exact time-evolution. </h4>\n",
    "In principle this can be done using the software of your choice (Mathematica, Python etc...).\n",
    "In Python, this can be done by diagonalizing  and exponentiating the Hamiltonian matrix, which is what we will do below."
   ]
  },
  {
   "cell_type": "markdown",
   "metadata": {},
   "source": [
    "<h4 style=\"font-size: 17px\">&#128211; 5) First, create the exact Hamiltonian matrix</h4>\n",
    "You can use the numpy \"kron\" fucntion which compute the Kronecker (tensor) product of matrices, as shown below. Note that this function only takes two arguments.\n"
   ]
  },
  {
   "cell_type": "code",
   "execution_count": null,
   "metadata": {},
   "outputs": [],
   "source": [
    "## examples\n",
    "X_mat = np.array( [ [0,1], [1,0] ] )\n",
    "I_mat = np.array( [ [1,0], [0,1] ] )\n",
    "Z_mat = np.array( [ [1,0], [0,-1] ] )\n",
    "ZZ = np.kron(Z_mat, Z_mat)\n",
    "IZZ = np.kron(I_mat, ZZ)\n",
    "\n",
    "##### your code:\n",
    "\n",
    "\n",
    "#################"
   ]
  },
  {
   "cell_type": "markdown",
   "metadata": {},
   "source": [
    "Below we provide a function that takes as input the Hamiltonian matrix, computes its eigenvalues, exponentiate it to obtain the exact evolution operator and converts it the corresponding quantum circuit. The function returns the exact evolved state $| \\Psi(t) \\rangle$ for a given value of $t$:"
   ]
  },
  {
   "cell_type": "code",
   "execution_count": null,
   "metadata": {},
   "outputs": [],
   "source": [
    "def exact_evol(ini_state, Hami, Nspins, t):\n",
    "    \n",
    "    eigenvalue, P = np.linalg.eigh(np.array(Hami))\n",
    "    e_iHt = np.diag(np.exp(-1.0j*eigenvalue*t))\n",
    "    e_iHt = np.dot(P, np.dot(e_iHt, P.T))\n",
    "    \n",
    "    op = Operator(e_iHt)\n",
    "    \n",
    "    circuit_exact = QuantumCircuit(Nspins)\n",
    "    circuit_exact.unitary(op, range(Nspins))\n",
    "\n",
    "    evolved_state = ini_state.compose(circuit_exact)\n",
    "\n",
    "    return evolved_state"
   ]
  },
  {
   "cell_type": "markdown",
   "metadata": {},
   "source": [
    "<h4 style=\"font-size: 17px\">&#128211; 6) Compute the exact time evolution of the magnetization, and compare to your previous results with leading-order Trotterization for different numbers of Trotter steps."
   ]
  },
  {
   "cell_type": "code",
   "execution_count": null,
   "metadata": {},
   "outputs": [],
   "source": []
  },
  {
   "cell_type": "code",
   "execution_count": null,
   "metadata": {},
   "outputs": [],
   "source": []
  },
  {
   "cell_type": "code",
   "execution_count": null,
   "metadata": {},
   "outputs": [],
   "source": []
  }
 ],
 "metadata": {
  "kernelspec": {
   "display_name": "Python 3",
   "language": "python",
   "name": "python3"
  },
  "language_info": {
   "codemirror_mode": {
    "name": "ipython",
    "version": 3
   },
   "file_extension": ".py",
   "mimetype": "text/x-python",
   "name": "python",
   "nbconvert_exporter": "python",
   "pygments_lexer": "ipython3",
   "version": "3.12.10"
  },
  "widgets": {
   "application/vnd.jupyter.widget-state+json": {
    "state": {
     "008f7e44bd4e427a9b8f6c21527c9b92": {
      "model_module": "@jupyter-widgets/base",
      "model_module_version": "2.0.0",
      "model_name": "LayoutModel",
      "state": {
       "width": "145px"
      }
     },
     "0374da30288a44adbaff44fa429d6b4e": {
      "model_module": "@jupyter-widgets/controls",
      "model_module_version": "2.0.0",
      "model_name": "HTMLModel",
      "state": {
       "layout": "IPY_MODEL_f7f3fc06e6b34151817e410180f27d68",
       "style": "IPY_MODEL_85c631db8f674b93a5752ba1110afa59",
       "value": "job has successfully run"
      }
     },
     "0521f1a1a20349609bf5e958eae44cd1": {
      "model_module": "@jupyter-widgets/base",
      "model_module_version": "2.0.0",
      "model_name": "LayoutModel",
      "state": {
       "width": "190px"
      }
     },
     "056b35de017645c4895a7b8115ce7f91": {
      "model_module": "@jupyter-widgets/base",
      "model_module_version": "2.0.0",
      "model_name": "LayoutModel",
      "state": {
       "width": "95px"
      }
     },
     "07fb48ad249d480da4d3f156e77c9904": {
      "model_module": "@jupyter-widgets/base",
      "model_module_version": "2.0.0",
      "model_name": "LayoutModel",
      "state": {
       "max_width": "700px",
       "min_width": "700px"
      }
     },
     "0aae6b0050854dac897e06fc73cc4c74": {
      "model_module": "@jupyter-widgets/controls",
      "model_module_version": "2.0.0",
      "model_name": "HTMLStyleModel",
      "state": {
       "description_width": "",
       "font_size": null,
       "text_color": null
      }
     },
     "0ac7b7e566914bf6872cf5be91f9e73d": {
      "model_module": "@jupyter-widgets/controls",
      "model_module_version": "2.0.0",
      "model_name": "HTMLStyleModel",
      "state": {
       "description_width": "",
       "font_size": null,
       "text_color": null
      }
     },
     "1964501a1a844930ae66fd4cabe882c3": {
      "model_module": "@jupyter-widgets/controls",
      "model_module_version": "2.0.0",
      "model_name": "HTMLModel",
      "state": {
       "layout": "IPY_MODEL_cc768fa2fa374d03ae00ae79490c8df5",
       "style": "IPY_MODEL_7e2b02598fb6447e825df88d4d10d4e1",
       "value": "<p style='font-family: IBM Plex Sans, Arial, Helvetica, sans-serif; font-size: 20px; font-weight: medium;'>Circuit Properties</p>"
      }
     },
     "1befdf302702476281efb4a5987c11cb": {
      "model_module": "@jupyter-widgets/base",
      "model_module_version": "2.0.0",
      "model_name": "LayoutModel",
      "state": {
       "width": "145px"
      }
     },
     "1c528e75d3b245bc9b58a72c986c709f": {
      "model_module": "@jupyter-widgets/controls",
      "model_module_version": "2.0.0",
      "model_name": "HTMLStyleModel",
      "state": {
       "description_width": "",
       "font_size": null,
       "text_color": null
      }
     },
     "1cacd0c194db4a8eb887e8f42d2efaef": {
      "model_module": "@jupyter-widgets/controls",
      "model_module_version": "2.0.0",
      "model_name": "HTMLStyleModel",
      "state": {
       "description_width": "",
       "font_size": null,
       "text_color": null
      }
     },
     "23ee13b432be4f8aaf4c8baaedfc947b": {
      "model_module": "@jupyter-widgets/base",
      "model_module_version": "2.0.0",
      "model_name": "LayoutModel",
      "state": {
       "width": "70px"
      }
     },
     "2654a5e75762450bacb6e7abdb8fb792": {
      "model_module": "@jupyter-widgets/controls",
      "model_module_version": "2.0.0",
      "model_name": "HTMLModel",
      "state": {
       "layout": "IPY_MODEL_a2d4e8aaeee64ee1b12c0f717f52713b",
       "style": "IPY_MODEL_480ceb56cd88484f9da31287e9dfbe11",
       "value": "<h5>Message</h5>"
      }
     },
     "37eb0793855f4e9294fe19ff3bdf7086": {
      "model_module": "@jupyter-widgets/controls",
      "model_module_version": "2.0.0",
      "model_name": "HTMLModel",
      "state": {
       "layout": "IPY_MODEL_9e85175cb7fb471bb86dbd431cc68794",
       "style": "IPY_MODEL_7dbd3a0a11664553aa4bfbc9ca0b9ab0",
       "value": "ibmq_lima"
      }
     },
     "3886d330703c4379a93051c14ac8db63": {
      "model_module": "@jupyter-widgets/base",
      "model_module_version": "2.0.0",
      "model_name": "LayoutModel",
      "state": {
       "width": "190px"
      }
     },
     "4494e2a0665a444d8494001fade8dd83": {
      "model_module": "@jupyter-widgets/controls",
      "model_module_version": "2.0.0",
      "model_name": "HTMLStyleModel",
      "state": {
       "description_width": "",
       "font_size": null,
       "text_color": null
      }
     },
     "480ceb56cd88484f9da31287e9dfbe11": {
      "model_module": "@jupyter-widgets/controls",
      "model_module_version": "2.0.0",
      "model_name": "HTMLStyleModel",
      "state": {
       "description_width": "",
       "font_size": null,
       "text_color": null
      }
     },
     "49c589c7ca5f480b9261a2bf82d038be": {
      "model_module": "@jupyter-widgets/controls",
      "model_module_version": "2.0.0",
      "model_name": "HBoxModel",
      "state": {
       "children": [
        "IPY_MODEL_820a4b4877b14ebabeebe651ab1d1ac9",
        "IPY_MODEL_4ecd661f3d924c5cb0b40d960f7a519c",
        "IPY_MODEL_37eb0793855f4e9294fe19ff3bdf7086",
        "IPY_MODEL_96ceb2b1ca234ffd8a8d3f0efa2b3274",
        "IPY_MODEL_607f7a0e7c474fd1bbe82335a4eb9112",
        "IPY_MODEL_0374da30288a44adbaff44fa429d6b4e"
       ],
       "layout": "IPY_MODEL_07fb48ad249d480da4d3f156e77c9904"
      }
     },
     "4ecd661f3d924c5cb0b40d960f7a519c": {
      "model_module": "@jupyter-widgets/controls",
      "model_module_version": "2.0.0",
      "model_name": "HTMLModel",
      "state": {
       "layout": "IPY_MODEL_3886d330703c4379a93051c14ac8db63",
       "style": "IPY_MODEL_b89453ca5fa44de3b4237233089f78c4",
       "value": "cho728v8rmtc64qc8e1g"
      }
     },
     "5a6b8ee79eb944d0b340811140a2a5a9": {
      "model_module": "@jupyter-widgets/controls",
      "model_module_version": "2.0.0",
      "model_name": "ButtonStyleModel",
      "state": {
       "font_family": null,
       "font_size": null,
       "font_style": null,
       "font_variant": null,
       "font_weight": null,
       "text_color": null,
       "text_decoration": null
      }
     },
     "5c00842f1b1b435aa9aef81dd4467715": {
      "model_module": "@jupyter-widgets/controls",
      "model_module_version": "2.0.0",
      "model_name": "HTMLModel",
      "state": {
       "layout": "IPY_MODEL_23ee13b432be4f8aaf4c8baaedfc947b",
       "style": "IPY_MODEL_4494e2a0665a444d8494001fade8dd83",
       "value": "<h5>Queue</h5>"
      }
     },
     "5d2c820c23ac40889ce96287904461d4": {
      "model_module": "@jupyter-widgets/base",
      "model_module_version": "2.0.0",
      "model_name": "LayoutModel",
      "state": {
       "width": "190px"
      }
     },
     "607f7a0e7c474fd1bbe82335a4eb9112": {
      "model_module": "@jupyter-widgets/controls",
      "model_module_version": "2.0.0",
      "model_name": "HTMLModel",
      "state": {
       "layout": "IPY_MODEL_a55b5803cc6d4881ae5b92f4d93164f9",
       "style": "IPY_MODEL_af1e0b2a698d4fbdb925356287bb64ee",
       "value": "-"
      }
     },
     "7134a1ce931042a689bf162f515a982f": {
      "model_module": "@jupyter-widgets/controls",
      "model_module_version": "2.0.0",
      "model_name": "HTMLModel",
      "state": {
       "layout": "IPY_MODEL_c8ff31bea9bd4bacb83a45a81918341d",
       "style": "IPY_MODEL_0ac7b7e566914bf6872cf5be91f9e73d",
       "value": "job has successfully run"
      }
     },
     "71fe86e5c0044db9893b6012c57f3a44": {
      "model_module": "@jupyter-widgets/controls",
      "model_module_version": "2.0.0",
      "model_name": "HTMLStyleModel",
      "state": {
       "description_width": "",
       "font_size": null,
       "text_color": null
      }
     },
     "7dbd3a0a11664553aa4bfbc9ca0b9ab0": {
      "model_module": "@jupyter-widgets/controls",
      "model_module_version": "2.0.0",
      "model_name": "HTMLStyleModel",
      "state": {
       "description_width": "",
       "font_size": null,
       "text_color": null
      }
     },
     "7e2b02598fb6447e825df88d4d10d4e1": {
      "model_module": "@jupyter-widgets/controls",
      "model_module_version": "2.0.0",
      "model_name": "HTMLStyleModel",
      "state": {
       "description_width": "",
       "font_size": null,
       "text_color": null
      }
     },
     "820a4b4877b14ebabeebe651ab1d1ac9": {
      "model_module": "@jupyter-widgets/controls",
      "model_module_version": "2.0.0",
      "model_name": "ButtonModel",
      "state": {
       "icon": "close",
       "layout": "IPY_MODEL_970ba6c577c64d48bf60f7ff185f9b6f",
       "style": "IPY_MODEL_8d19059096dc4f72baa2a33bb731ebf5",
       "tooltip": null
      }
     },
     "85c631db8f674b93a5752ba1110afa59": {
      "model_module": "@jupyter-widgets/controls",
      "model_module_version": "2.0.0",
      "model_name": "HTMLStyleModel",
      "state": {
       "description_width": "",
       "font_size": null,
       "text_color": null
      }
     },
     "8be997c0f242422a85f3b32c47b3d7c4": {
      "model_module": "@jupyter-widgets/controls",
      "model_module_version": "2.0.0",
      "model_name": "HTMLStyleModel",
      "state": {
       "description_width": "",
       "font_size": null,
       "text_color": null
      }
     },
     "8d19059096dc4f72baa2a33bb731ebf5": {
      "model_module": "@jupyter-widgets/controls",
      "model_module_version": "2.0.0",
      "model_name": "ButtonStyleModel",
      "state": {
       "button_color": "white",
       "font_family": null,
       "font_size": null,
       "font_style": null,
       "font_variant": null,
       "font_weight": null,
       "text_color": null,
       "text_decoration": null
      }
     },
     "8de78de8e8cb4be08f577c97a97d05cb": {
      "model_module": "@jupyter-widgets/controls",
      "model_module_version": "2.0.0",
      "model_name": "HTMLModel",
      "state": {
       "layout": "IPY_MODEL_ae1079af900d4ab58c4aa386c8869ee7",
       "style": "IPY_MODEL_0aae6b0050854dac897e06fc73cc4c74",
       "value": "<h5>Status</h5>"
      }
     },
     "958b331375ed46e5921a4e6f4166a38d": {
      "model_module": "@jupyter-widgets/controls",
      "model_module_version": "2.0.0",
      "model_name": "HTMLModel",
      "state": {
       "layout": "IPY_MODEL_008f7e44bd4e427a9b8f6c21527c9b92",
       "style": "IPY_MODEL_9c564b14be694b4baa6580cfb4787e8a",
       "value": "<h5>Backend</h5>"
      }
     },
     "96ceb2b1ca234ffd8a8d3f0efa2b3274": {
      "model_module": "@jupyter-widgets/controls",
      "model_module_version": "2.0.0",
      "model_name": "HTMLModel",
      "state": {
       "layout": "IPY_MODEL_056b35de017645c4895a7b8115ce7f91",
       "style": "IPY_MODEL_f8b4f927f32147169b44e6b4fd237a96",
       "value": "<font style='color:#34BC6E'>DONE</font>"
      }
     },
     "970ba6c577c64d48bf60f7ff185f9b6f": {
      "model_module": "@jupyter-widgets/base",
      "model_module_version": "2.0.0",
      "model_name": "LayoutModel",
      "state": {
       "margin": "0px 5px 0px 0px",
       "width": "32px"
      }
     },
     "9c564b14be694b4baa6580cfb4787e8a": {
      "model_module": "@jupyter-widgets/controls",
      "model_module_version": "2.0.0",
      "model_name": "HTMLStyleModel",
      "state": {
       "description_width": "",
       "font_size": null,
       "text_color": null
      }
     },
     "9ca98f0e0712408fbb60bcc0f68f65b3": {
      "model_module": "@jupyter-widgets/controls",
      "model_module_version": "2.0.0",
      "model_name": "HTMLModel",
      "state": {
       "layout": "IPY_MODEL_b03a220aea1c404eb696a31849e1cadb",
       "style": "IPY_MODEL_8be997c0f242422a85f3b32c47b3d7c4",
       "value": "-"
      }
     },
     "9e85175cb7fb471bb86dbd431cc68794": {
      "model_module": "@jupyter-widgets/base",
      "model_module_version": "2.0.0",
      "model_name": "LayoutModel",
      "state": {
       "width": "145px"
      }
     },
     "9ec981ebe32d47688077709b8b6bc9ef": {
      "model_module": "@jupyter-widgets/controls",
      "model_module_version": "2.0.0",
      "model_name": "HTMLStyleModel",
      "state": {
       "description_width": "",
       "font_size": null,
       "text_color": null
      }
     },
     "a2497399dbdb4091825134cde6cb0def": {
      "model_module": "@jupyter-widgets/base",
      "model_module_version": "2.0.0",
      "model_name": "LayoutModel",
      "state": {
       "width": "95px"
      }
     },
     "a28aa77355794a4aa3a892d32764ccca": {
      "model_module": "@jupyter-widgets/base",
      "model_module_version": "2.0.0",
      "model_name": "LayoutModel",
      "state": {
       "margin": "0px 5px 0px 0px",
       "width": "32px"
      }
     },
     "a2d4e8aaeee64ee1b12c0f717f52713b": {
      "model_module": "@jupyter-widgets/base",
      "model_module_version": "2.0.0",
      "model_name": "LayoutModel",
      "state": {}
     },
     "a55b5803cc6d4881ae5b92f4d93164f9": {
      "model_module": "@jupyter-widgets/base",
      "model_module_version": "2.0.0",
      "model_name": "LayoutModel",
      "state": {
       "width": "70px"
      }
     },
     "a70e6df2b76e44a18f5671a9def8d34d": {
      "model_module": "@jupyter-widgets/controls",
      "model_module_version": "2.0.0",
      "model_name": "HTMLModel",
      "state": {
       "layout": "IPY_MODEL_1befdf302702476281efb4a5987c11cb",
       "style": "IPY_MODEL_9ec981ebe32d47688077709b8b6bc9ef",
       "value": "ibmq_lima"
      }
     },
     "a7df36338d7846cf8bc871b0d331c694": {
      "model_module": "@jupyter-widgets/controls",
      "model_module_version": "2.0.0",
      "model_name": "HTMLModel",
      "state": {
       "layout": "IPY_MODEL_5d2c820c23ac40889ce96287904461d4",
       "style": "IPY_MODEL_71fe86e5c0044db9893b6012c57f3a44",
       "value": "cho74lspd6rr9jibo7mg"
      }
     },
     "ae1079af900d4ab58c4aa386c8869ee7": {
      "model_module": "@jupyter-widgets/base",
      "model_module_version": "2.0.0",
      "model_name": "LayoutModel",
      "state": {
       "width": "95px"
      }
     },
     "af1e0b2a698d4fbdb925356287bb64ee": {
      "model_module": "@jupyter-widgets/controls",
      "model_module_version": "2.0.0",
      "model_name": "HTMLStyleModel",
      "state": {
       "description_width": "",
       "font_size": null,
       "text_color": null
      }
     },
     "afee8dd3160448f497b5858838205f88": {
      "model_module": "@jupyter-widgets/controls",
      "model_module_version": "2.0.0",
      "model_name": "HTMLModel",
      "state": {
       "layout": "IPY_MODEL_0521f1a1a20349609bf5e958eae44cd1",
       "style": "IPY_MODEL_1c528e75d3b245bc9b58a72c986c709f",
       "value": "<h5>Job ID</h5>"
      }
     },
     "b03a220aea1c404eb696a31849e1cadb": {
      "model_module": "@jupyter-widgets/base",
      "model_module_version": "2.0.0",
      "model_name": "LayoutModel",
      "state": {
       "width": "70px"
      }
     },
     "b2275ce5e6f04f8cb723ec57814977f6": {
      "model_module": "@jupyter-widgets/controls",
      "model_module_version": "2.0.0",
      "model_name": "ButtonModel",
      "state": {
       "icon": "close",
       "layout": "IPY_MODEL_a28aa77355794a4aa3a892d32764ccca",
       "style": "IPY_MODEL_e50220f596f04677b442da44ded4eee1",
       "tooltip": null
      }
     },
     "b232d436d0b046d7b736fbbeda68e40c": {
      "model_module": "@jupyter-widgets/base",
      "model_module_version": "2.0.0",
      "model_name": "LayoutModel",
      "state": {
       "margin": "0px 0px 0px 37px",
       "width": "600px"
      }
     },
     "b380d0ff49f54846b474b6393c7b73ca": {
      "model_module": "@jupyter-widgets/controls",
      "model_module_version": "2.0.0",
      "model_name": "HTMLModel",
      "state": {
       "layout": "IPY_MODEL_a2497399dbdb4091825134cde6cb0def",
       "style": "IPY_MODEL_1cacd0c194db4a8eb887e8f42d2efaef",
       "value": "<font style='color:#34BC6E'>DONE</font>"
      }
     },
     "b89453ca5fa44de3b4237233089f78c4": {
      "model_module": "@jupyter-widgets/controls",
      "model_module_version": "2.0.0",
      "model_name": "HTMLStyleModel",
      "state": {
       "description_width": "",
       "font_size": null,
       "text_color": null
      }
     },
     "b95479312e804001b90a58eae5c82504": {
      "model_module": "@jupyter-widgets/controls",
      "model_module_version": "2.0.0",
      "model_name": "HBoxModel",
      "state": {
       "children": [
        "IPY_MODEL_b2275ce5e6f04f8cb723ec57814977f6",
        "IPY_MODEL_a7df36338d7846cf8bc871b0d331c694",
        "IPY_MODEL_a70e6df2b76e44a18f5671a9def8d34d",
        "IPY_MODEL_b380d0ff49f54846b474b6393c7b73ca",
        "IPY_MODEL_9ca98f0e0712408fbb60bcc0f68f65b3",
        "IPY_MODEL_7134a1ce931042a689bf162f515a982f"
       ],
       "layout": "IPY_MODEL_cae76d99b82f4acd890a3de10a8527a3"
      }
     },
     "c7ae9888402640feab87b1679e4628d5": {
      "model_module": "@jupyter-widgets/base",
      "model_module_version": "2.0.0",
      "model_name": "LayoutModel",
      "state": {
       "grid_template_areas": "\n                                       \". . . . right \"\n                                        ",
       "grid_template_columns": "20% 20% 20% 20% 20%",
       "width": "100%"
      }
     },
     "c8ff31bea9bd4bacb83a45a81918341d": {
      "model_module": "@jupyter-widgets/base",
      "model_module_version": "2.0.0",
      "model_name": "LayoutModel",
      "state": {}
     },
     "cabbab6e886d4e7ea11fbce310490a49": {
      "model_module": "@jupyter-widgets/controls",
      "model_module_version": "2.0.0",
      "model_name": "ButtonModel",
      "state": {
       "button_style": "primary",
       "description": "Clear",
       "layout": "IPY_MODEL_f73676d5fcc14ee3a4598379be5766fb",
       "style": "IPY_MODEL_5a6b8ee79eb944d0b340811140a2a5a9",
       "tooltip": null
      }
     },
     "cae76d99b82f4acd890a3de10a8527a3": {
      "model_module": "@jupyter-widgets/base",
      "model_module_version": "2.0.0",
      "model_name": "LayoutModel",
      "state": {
       "max_width": "700px",
       "min_width": "700px"
      }
     },
     "cc768fa2fa374d03ae00ae79490c8df5": {
      "model_module": "@jupyter-widgets/base",
      "model_module_version": "2.0.0",
      "model_name": "LayoutModel",
      "state": {
       "margin": "0px 0px 10px 0px"
      }
     },
     "e50220f596f04677b442da44ded4eee1": {
      "model_module": "@jupyter-widgets/controls",
      "model_module_version": "2.0.0",
      "model_name": "ButtonStyleModel",
      "state": {
       "button_color": "white",
       "font_family": null,
       "font_size": null,
       "font_style": null,
       "font_variant": null,
       "font_weight": null,
       "text_color": null,
       "text_decoration": null
      }
     },
     "f2713fd5f7ee41c29b9c4703c8fef6ad": {
      "model_module": "@jupyter-widgets/controls",
      "model_module_version": "2.0.0",
      "model_name": "GridBoxModel",
      "state": {
       "children": [
        "IPY_MODEL_cabbab6e886d4e7ea11fbce310490a49"
       ],
       "layout": "IPY_MODEL_c7ae9888402640feab87b1679e4628d5"
      }
     },
     "f272c62d44904bfaa8cf114c1b6dde9a": {
      "model_module": "@jupyter-widgets/controls",
      "model_module_version": "2.0.0",
      "model_name": "HBoxModel",
      "state": {
       "children": [
        "IPY_MODEL_afee8dd3160448f497b5858838205f88",
        "IPY_MODEL_958b331375ed46e5921a4e6f4166a38d",
        "IPY_MODEL_8de78de8e8cb4be08f577c97a97d05cb",
        "IPY_MODEL_5c00842f1b1b435aa9aef81dd4467715",
        "IPY_MODEL_2654a5e75762450bacb6e7abdb8fb792"
       ],
       "layout": "IPY_MODEL_b232d436d0b046d7b736fbbeda68e40c"
      }
     },
     "f73676d5fcc14ee3a4598379be5766fb": {
      "model_module": "@jupyter-widgets/base",
      "model_module_version": "2.0.0",
      "model_name": "LayoutModel",
      "state": {
       "grid_area": "right",
       "padding": "0px 0px 0px 0px",
       "width": "70px"
      }
     },
     "f7f3fc06e6b34151817e410180f27d68": {
      "model_module": "@jupyter-widgets/base",
      "model_module_version": "2.0.0",
      "model_name": "LayoutModel",
      "state": {}
     },
     "f8b4f927f32147169b44e6b4fd237a96": {
      "model_module": "@jupyter-widgets/controls",
      "model_module_version": "2.0.0",
      "model_name": "HTMLStyleModel",
      "state": {
       "description_width": "",
       "font_size": null,
       "text_color": null
      }
     }
    },
    "version_major": 2,
    "version_minor": 0
   }
  }
 },
 "nbformat": 4,
 "nbformat_minor": 4
}
