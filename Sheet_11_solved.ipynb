{
 "cells": [
  {
   "cell_type": "markdown",
   "id": "17719706",
   "metadata": {},
   "source": [
    "<h1 style=\"font-size:35px;\n",
    "        color:black;\n",
    "        \">Sheet 11</h1>"
   ]
  },
  {
   "cell_type": "markdown",
   "id": "dce8eb85",
   "metadata": {},
   "source": [
    "<h4 style=\"font-size: 17px\">&#128211;Part 1. Variational Quantum Eigensolver </h4>"
   ]
  },
  {
   "cell_type": "markdown",
   "id": "21b30752",
   "metadata": {},
   "source": [
    "To parametrize a real two-qubit state we need 3 angles. To prepare the ansatz we can use the circuit shown in class."
   ]
  },
  {
   "cell_type": "code",
   "execution_count": 34,
   "id": "390e1ec2",
   "metadata": {},
   "outputs": [],
   "source": [
    "from qiskit import *\n",
    "from qiskit_aer import Aer\n",
    "from qiskit.circuit import ParameterVector\n",
    "from qiskit.circuit.library import RYGate\n",
    "from qiskit.quantum_info.operators import Operator\n",
    "from IPython.display import display, Math, Latex\n",
    "import numpy as np\n",
    "import matplotlib.pyplot as plt"
   ]
  },
  {
   "cell_type": "code",
   "execution_count": 35,
   "id": "d70ed93a",
   "metadata": {},
   "outputs": [],
   "source": [
    "def prepare_ansatz():\n",
    "    \n",
    "    ansatz = QuantumCircuit(2)\n",
    "    theta = ParameterVector('theta', length=3)\n",
    "    \n",
    "    ansatz.ry(theta[0], 0)\n",
    "    antiCRY = RYGate(theta[1]).control(num_ctrl_qubits=1, ctrl_state='0')\n",
    "    ansatz.append(antiCRY, [0,1])\n",
    "    CRY = RYGate(theta[2]).control(num_ctrl_qubits=1, ctrl_state='1')\n",
    "    ansatz.append(CRY, [0,1])\n",
    "    \n",
    "    return ansatz"
   ]
  },
  {
   "cell_type": "code",
   "execution_count": 36,
   "id": "583a71aa",
   "metadata": {},
   "outputs": [
    {
     "data": {
      "image/png": "[encoded data removed]",
      "text/plain": [
       "<Figure size 370.906x200.667 with 1 Axes>"
      ]
     },
     "metadata": {},
     "output_type": "display_data"
    }
   ],
   "source": [
    "ansatz = prepare_ansatz()\n",
    "display(ansatz.draw('mpl'))"
   ]
  },
  {
   "cell_type": "markdown",
   "id": "a5d628a6",
   "metadata": {},
   "source": [
    "The decomposition of such state in terms of the angles is\n",
    "$$|\\Psi\\rangle = \\cos\\left(\\frac{\\theta_0}{2}\\right) \\cos\\left(\\frac{\\theta_1}{2}\\right) |00\\rangle + \\cos\\left(\\frac{\\theta_0}{2}\\right) \\sin\\left(\\frac{\\theta_1}{2}\\right) |10\\rangle + \\sin\\left(\\frac{\\theta_0}{2}\\right) \\cos\\left(\\frac{\\theta_2}{2}\\right) |01\\rangle + \\sin\\left(\\frac{\\theta_0}{2}\\right) \\sin\\left(\\frac{\\theta_2}{2}\\right) |11\\rangle \n",
    "$$"
   ]
  },
  {
   "cell_type": "code",
   "execution_count": 37,
   "id": "8b7f49ba",
   "metadata": {},
   "outputs": [],
   "source": [
    "def measure_energy(angles=None, state=None):\n",
    "    \"\"\"Inputs| state: QuantumCircuit, angles: array of floats\n",
    "    Computes The expectation value of the Hydrogen Hamiltonian w.r.t. state psi(angles)\n",
    "    \"\"\"\n",
    "    if state is None:\n",
    "        psi = prepare_ansatz()\n",
    "        \n",
    "        if angles is not None:\n",
    "            state = psi.assign_parameters(angles, inplace=False)\n",
    "        else:\n",
    "            state = psi.copy()\n",
    "     \n",
    "    U = QuantumCircuit(2)\n",
    "    U.cx(0,1)\n",
    "    U.h(0)\n",
    "    U.measure_all()\n",
    "    \n",
    "    shots = 10000 # number of samples used for statistics\n",
    "    simulator = Aer.get_backend('aer_simulator')\n",
    "    \n",
    "    # run the circuit and get the number of samples that output each bit value\n",
    "    circ_trans = transpile(state.compose(U), simulator)\n",
    "    counts = simulator.run(circ_trans, shots=shots).result().get_counts()\n",
    "    # calculate the probabilities for each bit value\n",
    "    probs = {}\n",
    "    for output in ['00','01','10','11']:\n",
    "        if output in counts:\n",
    "            probs[output] = counts[output]/shots\n",
    "        else:\n",
    "            probs[output] = 0\n",
    "            \n",
    "    expect_val = []\n",
    "    #compute <XX>, <YY> and <ZZ> in diagonal form\n",
    "    #<XX_diag>\n",
    "    expect_val.append(probs['00'] - probs['01'] + probs['10'] - probs['11']) \n",
    "    #<YY_diag>\n",
    "    expect_val.append(-probs['00'] + probs['01'] + probs['10'] - probs['11']) \n",
    "    #<ZZ_diag>\n",
    "    expect_val.append(probs['00'] + probs['01'] - probs['10'] - probs['11']) \n",
    "\n",
    "    return np.sum(expect_val)"
   ]
  },
  {
   "cell_type": "markdown",
   "id": "586616c6",
   "metadata": {},
   "source": [
    "Let's start by rewriting the expectation values of the individual terms in the Hamiltonian in terms of the angles in the parametrical wavefunction:\n",
    "$$\\langle\\hat{X}\\hat{X}\\rangle_{\\overrightarrow{\\theta}} = \\sin(\\theta_0)\\sin\\left(\\frac{\\theta_1+\\theta_2}{2}\\right)$$\n",
    "$$\\langle\\hat{Y}\\hat{Y}\\rangle_{\\overrightarrow{\\theta}} = \\cos(\\theta_0)\\sin\\left(\\frac{\\theta_1-\\theta_2}{2}\\right)$$\n",
    "$$\\langle\\hat{Z}\\hat{Z}\\rangle_{\\overrightarrow{\\theta}} = \\frac{\\cos\\theta_0+1}{2}\\cos(\\theta_1) - \\frac{\\cos\\theta_0-1}{2}\\cos(\\theta_2)$$\n",
    "\n",
    "To show that the gradients can be determined via a finite-difference method, we can then derivate w.r.t. one of the angles, such as\n",
    "$$\\frac{\\partial\\langle\\hat{X}\\hat{X}\\rangle}{\\partial\\theta_0} = \\cos(\\theta_0)\\sin\\left(\\frac{\\theta_1+\\theta_2}{2}\\right) = \\frac{1}{2}\\left[\\sin\\left(\\theta_0+\\frac{\\pi}{2}\\right)-\\sin\\left(\\theta_0-\\frac{\\pi}{2}\\right)\\right]\\sin\\left(\\frac{\\theta_1+\\theta_2}{2}\\right) = \\frac{1}{2}\\left(\\langle\\hat{X}\\hat{X}\\rangle_{\\theta_0+\\frac{\\pi}{2}} - \\langle\\hat{X}\\hat{X}\\rangle_{\\theta_0-\\frac{\\pi}{2}}\\right)$$\n",
    "Notice that the necessary shift is not always going to be $\\frac{\\pi}{2}$, for example\n",
    "$$\\frac{\\partial\\langle\\hat{X}\\hat{X}\\rangle}{\\partial\\theta_1} = \\frac{1}{2}\\sin(\\theta_0)\\cos\\left(\\frac{\\theta_1+\\theta_2}{2}\\right) = \\frac{1}{4}\\sin\\theta_0\\left[\\sin\\left(\\frac{\\theta_1+\\theta_2}{2}+\\frac{\\pi}{2}\\right)-\\sin\\left(\\frac{\\theta_1+\\theta_2}{2}-\\frac{\\pi}{2}\\right)\\right] = \\frac{1}{4}\\left(\\langle\\hat{X}\\hat{X}\\rangle_{\\theta_1+\\pi} - \\langle\\hat{X}\\hat{X}\\rangle_{\\theta_1-\\pi}\\right)$$\n",
    "The other 7 equations can be similarly derived to find\n",
    "$$\\frac{\\partial\\langle\\hat{X}\\hat{X}\\rangle}{\\partial\\theta_0} = \\frac{1}{2}\\left(\\langle\\hat{X}\\hat{X}\\rangle_{\\theta_0+\\frac{\\pi}{2}} - \\langle\\hat{X}\\hat{X}\\rangle_{\\theta_0-\\frac{\\pi}{2}}\\right), \\qquad\n",
    "\\frac{\\partial\\langle\\hat{X}\\hat{X}\\rangle}{\\partial\\theta_{1,2}} = \\frac{1}{4}\\left(\\langle\\hat{X}\\hat{X}\\rangle_{\\theta_{1,2}+\\pi} - \\langle\\hat{X}\\hat{X}\\rangle_{\\theta_{1,2}-\\pi}\\right)\\\\ \\frac{\\partial\\langle\\hat{Y}\\hat{Y}\\rangle}{\\partial\\theta_0} = \\frac{1}{2}\\left(\\langle\\hat{Y}\\hat{Y}\\rangle_{\\theta_0+\\frac{\\pi}{2}} - \\langle\\hat{Y}\\hat{Y}\\rangle_{\\theta_0-\\frac{\\pi}{2}}\\right), \\qquad\n",
    "\\frac{\\partial\\langle\\hat{Y}\\hat{Y}\\rangle}{\\partial\\theta_{1,2}} = \\frac{1}{4}\\left(\\langle\\hat{Y}\\hat{Y}\\rangle_{\\theta_{1,2}+\\pi} - \\langle\\hat{Y}\\hat{Y}\\rangle_{\\theta_{1,2}-\\pi}\\right) \\\\\n",
    "\\frac{\\partial\\langle\\hat{Z}\\hat{Z}\\rangle}{\\partial\\theta_{0,1,2}} = \\frac{1}{2}\\left(\\langle\\hat{Z}\\hat{Z}\\rangle_{\\theta_{0,1,2}+\\frac{\\pi}{2}} - \\langle\\hat{Z}\\hat{Z}\\rangle_{\\theta_{0,1,2}-\\frac{\\pi}{2}}\\right)$$\n",
    "To estimate different increments in the parameter, we need to redefine out energy measurement so that we can evaluate $\\langle\\hat{X}\\hat{X}\\rangle$, $\\langle\\hat{Y}\\hat{Y}\\rangle$ and $\\langle\\hat{Z}\\hat{Z}\\rangle$ separately."
   ]
  },
  {
   "cell_type": "code",
   "execution_count": 38,
   "id": "e460adf1",
   "metadata": {},
   "outputs": [],
   "source": [
    "def measure_XX(angles=None, state=None):\n",
    "    \"\"\"Inputs| state: QuantumCircuit, angles: array of floats\n",
    "    Computes The expectation value of the Hydrogen Hamiltonian w.r.t. state psi(angles)\n",
    "    \"\"\"\n",
    "    if state is None:\n",
    "        psi = prepare_ansatz()\n",
    "        \n",
    "        if angles is not None:\n",
    "            state = psi.assign_parameters(angles, inplace=False)\n",
    "        else:\n",
    "            state = psi.copy()\n",
    "     \n",
    "    U = QuantumCircuit(2)\n",
    "    U.cx(0,1)\n",
    "    U.h(0)\n",
    "    U.measure_all()\n",
    "    \n",
    "    shots = 10000 # number of samples used for statistics\n",
    "    simulator = Aer.get_backend('aer_simulator')\n",
    "    \n",
    "    # run the circuit and get the number of samples that output each bit value\n",
    "    circ_trans = transpile(state.compose(U), simulator)\n",
    "    counts = simulator.run(circ_trans, shots=shots).result().get_counts()\n",
    "    # calculate the probabilities for each bit value\n",
    "    probs = {}\n",
    "    for output in ['00','01','10','11']:\n",
    "        if output in counts:\n",
    "            probs[output] = counts[output]/shots\n",
    "        else:\n",
    "            probs[output] = 0\n",
    "\n",
    "    #compute <XX> in diagonal form\n",
    "    #<XX_diag>\n",
    "    expect_val = probs['00'] - probs['01'] + probs['10'] - probs['11']\n",
    "\n",
    "    return expect_val"
   ]
  },
  {
   "cell_type": "code",
   "execution_count": 39,
   "id": "dafcbfc9",
   "metadata": {},
   "outputs": [],
   "source": [
    "def measure_YY(angles=None, state=None):\n",
    "    \"\"\"Inputs| state: QuantumCircuit, angles: array of floats\n",
    "    Computes The expectation value of the Hydrogen Hamiltonian w.r.t. state psi(angles)\n",
    "    \"\"\"\n",
    "    if state is None:\n",
    "        psi = prepare_ansatz()\n",
    "        \n",
    "        if angles is not None:\n",
    "            state = psi.assign_parameters(angles, inplace=False)\n",
    "        else:\n",
    "            state = psi.copy()\n",
    "     \n",
    "    U = QuantumCircuit(2)\n",
    "    U.cx(0,1)\n",
    "    U.h(0)\n",
    "    U.measure_all()\n",
    "    \n",
    "    shots = 10000 # number of samples used for statistics\n",
    "    simulator = Aer.get_backend('aer_simulator')\n",
    "    \n",
    "    # run the circuit and get the number of samples that output each bit value\n",
    "    circ_trans = transpile(state.compose(U), simulator)\n",
    "    counts = simulator.run(circ_trans, shots=shots).result().get_counts()\n",
    "    # calculate the probabilities for each bit value\n",
    "    probs = {}\n",
    "    for output in ['00','01','10','11']:\n",
    "        if output in counts:\n",
    "            probs[output] = counts[output]/shots\n",
    "        else:\n",
    "            probs[output] = 0\n",
    "\n",
    "    #compute <YY> \n",
    "    #<YY_diag>\n",
    "    expect_val = -probs['00'] + probs['01'] + probs['10'] - probs['11']\n",
    "\n",
    "    return expect_val"
   ]
  },
  {
   "cell_type": "code",
   "execution_count": 40,
   "id": "4d0ec577",
   "metadata": {},
   "outputs": [],
   "source": [
    "def measure_ZZ(angles=None, state=None):\n",
    "    \"\"\"Inputs| state: QuantumCircuit, angles: array of floats\n",
    "    Computes The expectation value of the Hydrogen Hamiltonian w.r.t. state psi(angles)\n",
    "    \"\"\"\n",
    "    if state is None:\n",
    "        psi = prepare_ansatz()\n",
    "        \n",
    "        if angles is not None:\n",
    "            state = psi.assign_parameters(angles, inplace=False)\n",
    "        else:\n",
    "            state = psi.copy()\n",
    "     \n",
    "    U = QuantumCircuit(2)\n",
    "    U.cx(0,1)\n",
    "    U.h(0)\n",
    "    U.measure_all()\n",
    "    \n",
    "    shots = 10000 # number of samples used for statistics\n",
    "    simulator = Aer.get_backend('aer_simulator')\n",
    "    \n",
    "    # run the circuit and get the number of samples that output each bit value\n",
    "    circ_trans = transpile(state.compose(U), simulator)\n",
    "    counts = simulator.run(circ_trans, shots=shots).result().get_counts()\n",
    "    # calculate the probabilities for each bit value\n",
    "    probs = {}\n",
    "    for output in ['00','01','10','11']:\n",
    "        if output in counts:\n",
    "            probs[output] = counts[output]/shots\n",
    "        else:\n",
    "            probs[output] = 0\n",
    "\n",
    "    #compute <ZZ> in diagonal form\n",
    "    #<ZZ_diag>\n",
    "    expect_val = probs['00'] + probs['01'] - probs['10'] - probs['11']\n",
    "\n",
    "    return expect_val"
   ]
  },
  {
   "cell_type": "code",
   "execution_count": 41,
   "id": "826139c1",
   "metadata": {},
   "outputs": [],
   "source": [
    "def gradient(theta):\n",
    "        \n",
    "        dH_0 = 1/2*(measure_energy(angles=[theta[0]+np.pi/2, theta[1], theta[2]]) - measure_energy(angles=[theta[0]-np.pi/2, theta[1], theta[2]]))\n",
    "        dH_1 = 1/4*(measure_XX(angles=[theta[0], theta[1]+np.pi, theta[2]]) - measure_XX(angles=[theta[0], theta[1]-np.pi, theta[2]])) \\\n",
    "                +1/4*(measure_YY(angles=[theta[0], theta[1]+np.pi, theta[2]]) - measure_YY(angles=[theta[0], theta[1]-np.pi, theta[2]]))\\\n",
    "                +1/2*(measure_ZZ(angles=[theta[0], theta[1]+np.pi/2, theta[2]]) - measure_ZZ(angles=[theta[0], theta[1]-np.pi/2, theta[2]]))\n",
    "        dH_2 = 1/4*(measure_XX(angles=[theta[0], theta[1], theta[2]+np.pi]) - measure_XX(angles=[theta[0], theta[1], theta[2]-np.pi])) \\\n",
    "                +1/4*(measure_YY(angles=[theta[0], theta[1], theta[2]+np.pi]) - measure_YY(angles=[theta[0], theta[1], theta[2]-np.pi]))\\\n",
    "                +1/2*(measure_ZZ(angles=[theta[0], theta[1], theta[2]+np.pi/2]) - measure_ZZ(angles=[theta[0], theta[1], theta[2]-np.pi/2]))\n",
    "        \n",
    "        return np.array([dH_0, dH_1, dH_2])\n",
    "    \n",
    "    \n",
    "    \n",
    "    \n",
    "def gradient_descent(initial_point):\n",
    "    \n",
    "    \n",
    "    theta = initial_point\n",
    "    iterations = 50 #number of iterations after which check for convergence\n",
    "    eta = 1e-1\n",
    "    initial_value = measure_energy(angles=initial_point)\n",
    "    old_value = initial_value   \n",
    "    converged = False\n",
    "    i = 0\n",
    "    \n",
    "    while not converged:\n",
    "        grad = gradient(theta)\n",
    "        theta = theta - eta * grad\n",
    "        new_value = measure_energy(angles=theta)\n",
    "        \n",
    "        if i>iterations and abs(new_value-old_value) < 1e-7:\n",
    "            converged = True\n",
    "            \n",
    "        old_value = new_value\n",
    "        i += 1\n",
    "        \n",
    "            \n",
    "    return theta, old_value"
   ]
  },
  {
   "cell_type": "code",
   "execution_count": 42,
   "id": "d51119e5",
   "metadata": {},
   "outputs": [
    {
     "name": "stdout",
     "output_type": "stream",
     "text": [
      "The minimal energy reached by the VQE algorithm is -2.9992 with angles [-1.574700e+00  3.106695e+00  2.295000e-03]\n"
     ]
    }
   ],
   "source": [
    "initial_point = np.zeros(3)\n",
    "optimized_angles, optimized_energy = gradient_descent(initial_point)\n",
    "print('The minimal energy reached by the VQE algorithm is {} with angles {}'.format(optimized_energy, optimized_angles))"
   ]
  },
  {
   "cell_type": "code",
   "execution_count": 43,
   "id": "1937fc14",
   "metadata": {},
   "outputs": [
    {
     "name": "stdout",
     "output_type": "stream",
     "text": [
      "The ground state found with the VQE is \n"
     ]
    },
    {
     "data": {
      "text/latex": [
       "$\\displaystyle 0.0123134533 |00\\rangle-0.7084851238 |01\\rangle+0.7056178479 |10\\rangle-0.000812987 |11\\rangle$"
      ],
      "text/plain": [
       "<IPython.core.display.Math object>"
      ]
     },
     "metadata": {},
     "output_type": "display_data"
    }
   ],
   "source": [
    "ground_state = ansatz.assign_parameters(optimized_angles, inplace=False)\n",
    "\n",
    "simulator = Aer.get_backend('statevector_simulator')\n",
    "\n",
    "circ_trans = transpile(ground_state, simulator)\n",
    "result = simulator.run(circ_trans, shots=1e4).result()\n",
    "statevector = result.get_statevector()\n",
    "\n",
    "print('The ground state found with the VQE is ')\n",
    "display(Math(statevector.draw(output='latex_source')))"
   ]
  },
  {
   "cell_type": "markdown",
   "id": "77c6fe9b",
   "metadata": {},
   "source": [
    "<h4 style=\"font-size: 17px\">&#128211;Comparison with scipy minimizer </h4>"
   ]
  },
  {
   "cell_type": "code",
   "execution_count": 44,
   "id": "8c4de5f7",
   "metadata": {},
   "outputs": [
    {
     "name": "stdout",
     "output_type": "stream",
     "text": [
      "The minimal energy reached with scipy is -3.0 with angles [ 1.55985588 -3.11499498 -0.00532666]\n"
     ]
    }
   ],
   "source": [
    "from scipy.optimize import minimize\n",
    "\n",
    "initial_point = np.zeros(3)\n",
    "solution_scipy = minimize(measure_energy, initial_point, method='COBYLA', tol=1e-6)\n",
    "optimized_angles_scipy = solution_scipy.x\n",
    "optimized_energy_scipy = solution_scipy.fun\n",
    "print('The minimal energy reached with scipy is {} with angles {}'.format(optimized_energy_scipy, optimized_angles_scipy))"
   ]
  },
  {
   "cell_type": "code",
   "execution_count": 45,
   "id": "7c683a68",
   "metadata": {},
   "outputs": [
    {
     "name": "stdout",
     "output_type": "stream",
     "text": [
      "The ground state found with scipy is \n"
     ]
    },
    {
     "data": {
      "text/latex": [
       "$\\displaystyle 0.0094547183 |00\\rangle+0.7032256939 |01\\rangle-0.7109013461 |10\\rangle-0.0018729255 |11\\rangle$"
      ],
      "text/plain": [
       "<IPython.core.display.Math object>"
      ]
     },
     "metadata": {},
     "output_type": "display_data"
    }
   ],
   "source": [
    "ground_state_scipy = ansatz.assign_parameters(optimized_angles_scipy, inplace=False)\n",
    "\n",
    "simulator = Aer.get_backend('statevector_simulator')\n",
    "\n",
    "circ_trans = transpile(ground_state_scipy, simulator)\n",
    "result = simulator.run(circ_trans, shots=1e4).result()\n",
    "statevector = result.get_statevector()\n",
    "\n",
    "print('The ground state found with scipy is ')\n",
    "display(Math(statevector.draw(output='latex_source')))"
   ]
  },
  {
   "cell_type": "code",
   "execution_count": null,
   "id": "44c57402",
   "metadata": {},
   "outputs": [],
   "source": []
  }
 ],
 "metadata": {
  "kernelspec": {
   "display_name": ".venv_tut",
   "language": "python",
   "name": "python3"
  },
  "language_info": {
   "codemirror_mode": {
    "name": "ipython",
    "version": 3
   },
   "file_extension": ".py",
   "mimetype": "text/x-python",
   "name": "python",
   "nbconvert_exporter": "python",
   "pygments_lexer": "ipython3",
   "version": "3.13.0"
  }
 },
 "nbformat": 4,
 "nbformat_minor": 5
}
